{
 "cells": [
  {
   "cell_type": "code",
   "execution_count": 1,
   "metadata": {},
   "outputs": [],
   "source": [
    "%matplotlib inline"
   ]
  },
  {
   "cell_type": "code",
   "execution_count": 2,
   "metadata": {},
   "outputs": [],
   "source": [
    "import numpy as np\n",
    "import astropy.units as u\n",
    "from astropy.coordinates import SkyCoord\n",
    "from gammapy.irf import load_cta_irfs\n",
    "from gammapy.maps import WcsGeom, MapAxis\n",
    "from gammapy.modeling.models import PowerLawSpectralModel\n",
    "from gammapy.modeling.models import GaussianSpatialModel\n",
    "from gammapy.modeling.models import SkyModel\n",
    "from gammapy.cube import MapDataset, MapDatasetMaker, SafeMaskMaker\n",
    "from gammapy.modeling import Fit\n",
    "from gammapy.data import Observation\n",
    "import os"
   ]
  },
  {
   "cell_type": "code",
   "execution_count": 3,
   "metadata": {},
   "outputs": [
    {
     "name": "stdout",
     "output_type": "stream",
     "text": [
      "\r\n",
      "Gammapy package:\r\n",
      "\r\n",
      "\tversion                : 0.15       \r\n",
      "\tpath                   : /home/rishank/anaconda2/envs/gammapy-0.12/lib/python3.6/site-packages/gammapy \r\n",
      "\r\n"
     ]
    }
   ],
   "source": [
    "!gammapy info --no-envvar --no-dependencies --no-system"
   ]
  },
  {
   "cell_type": "code",
   "execution_count": 4,
   "metadata": {},
   "outputs": [
    {
     "name": "stdout",
     "output_type": "stream",
     "text": [
      "/home/rishank/anaconda2/envs/cta/share/caldb/\n",
      "data\n"
     ]
    }
   ],
   "source": [
    "os.environ['CALDB'] = '/home/rishank/anaconda2/envs/cta/share/caldb/'\n",
    "!echo $CALDB\n",
    "!ls $CALDB"
   ]
  },
  {
   "cell_type": "code",
   "execution_count": 5,
   "metadata": {},
   "outputs": [],
   "source": [
    "# Load the IRFs\n",
    "# In this simulation, we use the CTA-1DC irfs shipped with gammapy.\n",
    "irfs = load_cta_irfs(\n",
    "    \"$CALDB/data/cta/prod3b-v2/bcf/South_z20_50h/irf_file.fits\"\n",
    ")"
   ]
  },
  {
   "cell_type": "code",
   "execution_count": 6,
   "metadata": {},
   "outputs": [],
   "source": [
    "# Define the observation parameters (typically the observation duration and the pointing position):\n",
    "livetime = 24 * u.hr\n",
    "pointing = SkyCoord(0, 0, unit=\"deg\", frame=\"galactic\")"
   ]
  },
  {
   "cell_type": "code",
   "execution_count": 7,
   "metadata": {},
   "outputs": [],
   "source": [
    "energy_reco = MapAxis.from_edges(\n",
    "    np.logspace(-1.0, 1.0, 10), unit=\"TeV\", name=\"energy\", interp=\"log\"\n",
    ")\n",
    "geom = WcsGeom.create(\n",
    "    skydir=(0, 0), binsz=0.02, width=(6, 6), coordsys=\"GAL\", axes=[energy_reco]\n",
    ")\n",
    "# It is usually useful to have a separate binning for the true energy axis\n",
    "energy_true = MapAxis.from_edges(\n",
    "    np.logspace(-1.5, 1.5, 30), unit=\"TeV\", name=\"energy\", interp=\"log\"\n",
    ")"
   ]
  },
  {
   "cell_type": "code",
   "execution_count": 8,
   "metadata": {},
   "outputs": [
    {
     "name": "stdout",
     "output_type": "stream",
     "text": [
      "SkyModel\n",
      "\n",
      "   name     value   error      unit         min        max    frozen\n",
      "--------- --------- ----- -------------- ---------- --------- ------\n",
      "    lon_0 2.000e-01   nan            deg        nan       nan  False\n",
      "    lat_0 1.000e-01   nan            deg -9.000e+01 9.000e+01  False\n",
      "    sigma 3.000e-01   nan            deg  0.000e+00       nan  False\n",
      "        e 0.000e+00   nan                 0.000e+00 1.000e+00   True\n",
      "      phi 0.000e+00   nan            deg        nan       nan   True\n",
      "    index 2.200e+00   nan                       nan       nan  False\n",
      "amplitude 1.289e-12   nan cm-2 s-1 TeV-1        nan       nan  False\n",
      "reference 1.000e+00   nan            TeV        nan       nan   True\n"
     ]
    }
   ],
   "source": [
    "# Define sky model to used simulate the data.\n",
    "# Here we use a Gaussian spatial model and a Power Law spectral model.\n",
    "spatial_model = GaussianSpatialModel(\n",
    "    lon_0=\"0.2 deg\", lat_0=\"0.1 deg\", sigma=\"0.3 deg\", frame=\"galactic\"\n",
    ")\n",
    "spectral_model = PowerLawSpectralModel(\n",
    "    index=2.2, amplitude=\"1.289e-12 cm-2 s-1 TeV-1\", reference=\"1 TeV\"\n",
    ")\n",
    "model_simu = SkyModel(\n",
    "    spatial_model=spatial_model,\n",
    "    spectral_model=spectral_model,\n",
    "    name=\"model_simu\",\n",
    ")\n",
    "print(model_simu)"
   ]
  },
  {
   "cell_type": "code",
   "execution_count": 9,
   "metadata": {},
   "outputs": [
    {
     "name": "stdout",
     "output_type": "stream",
     "text": [
      "Info for OBS_ID = 1\n",
      "- Pointing pos: RA 266.40 deg / Dec -28.94 deg\n",
      "- Livetime duration: 86400.0 s\n",
      "\n"
     ]
    },
    {
     "name": "stderr",
     "output_type": "stream",
     "text": [
      "WARNING: AstropyDeprecationWarning: The truth value of a Quantity is ambiguous. In the future this will raise a ValueError. [astropy.units.quantity]\n"
     ]
    },
    {
     "name": "stdout",
     "output_type": "stream",
     "text": [
      "MapDataset\n",
      "\n",
      "    Name                            : obs_1 \n",
      "\n",
      "    Total counts                    : nan \n",
      "    Total predicted counts          : 1969861.29\n",
      "    Total background counts         : 1969861.29\n",
      "\n",
      "    Exposure min                    : 7.88e+08 m2 s\n",
      "    Exposure max                    : 3.13e+11 m2 s\n",
      "\n",
      "    Number of total bins            : 0 \n",
      "    Number of fit bins              : 804492 \n",
      "\n",
      "    Fit statistic type              : cash\n",
      "    Fit statistic value (-2 log(L)) : nan\n",
      "\n",
      "    Number of models                : 1 \n",
      "    Number of parameters            : 3\n",
      "    Number of free parameters       : 1\n",
      "\n",
      "    Component 0: \n",
      "        Name                        : background\n",
      "        Type                        : BackgroundModel\n",
      "        Parameters:\n",
      "            norm                    : 1.000  \n",
      "            tilt         (frozen)   : 0.000  \n",
      "            reference    (frozen)   : 1.000  TeV\n",
      "\n",
      "\n"
     ]
    }
   ],
   "source": [
    "# Create an in-memory observation\n",
    "obs = Observation.create(pointing=pointing, livetime=livetime, irfs=irfs)\n",
    "print(obs)\n",
    "# Make the MapDataset\n",
    "empty = MapDataset.create(geom)\n",
    "maker = MapDatasetMaker(selection=[\"exposure\", \"background\", \"psf\", \"edisp\"])\n",
    "maker_safe_mask = SafeMaskMaker(methods=[\"offset-max\"], offset_max=4.0 * u.deg)\n",
    "dataset = maker.run(empty, obs)\n",
    "dataset = maker_safe_mask.run(dataset, obs)\n",
    "print(dataset)"
   ]
  },
  {
   "cell_type": "code",
   "execution_count": 10,
   "metadata": {},
   "outputs": [
    {
     "name": "stdout",
     "output_type": "stream",
     "text": [
      "MapDataset\n",
      "\n",
      "    Name                            : obs_1 \n",
      "\n",
      "    Total counts                    : 1974800 \n",
      "    Total predicted counts          : 1975232.43\n",
      "    Total background counts         : 1969861.29\n",
      "\n",
      "    Exposure min                    : 7.88e+08 m2 s\n",
      "    Exposure max                    : 3.13e+11 m2 s\n",
      "\n",
      "    Number of total bins            : 810000 \n",
      "    Number of fit bins              : 804492 \n",
      "\n",
      "    Fit statistic type              : cash\n",
      "    Fit statistic value (-2 log(L)) : -3092127.55\n",
      "\n",
      "    Number of models                : 2 \n",
      "    Number of parameters            : 11\n",
      "    Number of free parameters       : 6\n",
      "\n",
      "    Component 0: \n",
      "        Name                        : model_simu\n",
      "        Type                        : SkyModel\n",
      "        Spatial  model type         : GaussianSpatialModel\n",
      "        Spectral model type         : PowerLawSpectralModel\n",
      "        Parameters:\n",
      "            lon_0                   : 0.200  deg\n",
      "            lat_0                   : 0.100  deg\n",
      "            sigma                   : 0.300  deg\n",
      "            e            (frozen)   : 0.000  \n",
      "            phi          (frozen)   : 0.000  deg\n",
      "            index                   : 2.200  \n",
      "            amplitude               : 1.29e-12  1 / (cm2 s TeV)\n",
      "            reference    (frozen)   : 1.000  TeV\n",
      "\n",
      "    Component 1: \n",
      "        Name                        : background\n",
      "        Type                        : BackgroundModel\n",
      "        Parameters:\n",
      "            norm                    : 1.000  \n",
      "            tilt         (frozen)   : 0.000  \n",
      "            reference    (frozen)   : 1.000  TeV\n",
      "\n",
      "\n"
     ]
    }
   ],
   "source": [
    "# Add the model on the dataset and Poission fluctuate\n",
    "dataset.models = model_simu\n",
    "dataset.fake()\n",
    "# Do a print on the dataset - there is now a counts maps\n",
    "print(dataset)"
   ]
  },
  {
   "cell_type": "code",
   "execution_count": 11,
   "metadata": {},
   "outputs": [
    {
     "data": {
      "application/vnd.jupyter.widget-view+json": {
       "model_id": "4cb3003941af4ce9bac9281301cc9291",
       "version_major": 2,
       "version_minor": 0
      },
      "text/plain": [
       "interactive(children=(SelectionSlider(continuous_update=False, description='Select energy:', layout=Layout(wid…"
      ]
     },
     "metadata": {},
     "output_type": "display_data"
    }
   ],
   "source": [
    "# To plot, eg, counts:\n",
    "dataset.counts.smooth(0.05 * u.deg).plot_interactive(\n",
    "    add_cbar=True, stretch=\"linear\"\n",
    ")"
   ]
  },
  {
   "cell_type": "code",
   "execution_count": 12,
   "metadata": {},
   "outputs": [],
   "source": [
    "# Make a copy of the dataset\n",
    "dataset1 = dataset.copy()"
   ]
  },
  {
   "cell_type": "code",
   "execution_count": 19,
   "metadata": {},
   "outputs": [
    {
     "name": "stdout",
     "output_type": "stream",
     "text": [
      "SkyModel\n",
      "\n",
      "   name     value   error      unit         min        max    frozen\n",
      "--------- --------- ----- -------------- ---------- --------- ------\n",
      "    lon_0 1.000e-01   nan            deg        nan       nan  False\n",
      "    lat_0 1.000e-01   nan            deg -9.000e+01 9.000e+01  False\n",
      "    sigma 5.000e-01   nan            deg  0.000e+00       nan  False\n",
      "        e 0.000e+00   nan                 0.000e+00 1.000e+00   True\n",
      "      phi 0.000e+00   nan            deg        nan       nan   True\n",
      "    index 2.000e+00   nan                       nan       nan  False\n",
      "amplitude 1.000e-12   nan cm-2 s-1 TeV-1        nan       nan  False\n",
      "reference 1.000e+00   nan            TeV        nan       nan   True\n"
     ]
    }
   ],
   "source": [
    "\n",
    "# Define sky model to fit the data\n",
    "spatial_model1 = GaussianSpatialModel(\n",
    "    lon_0=\"0.1 deg\", lat_0=\"0.1 deg\", sigma=\"0.5 deg\", frame=\"galactic\"\n",
    ")\n",
    "spectral_model1 = PowerLawSpectralModel(\n",
    "    index=2, amplitude=\"1e-12 cm-2 s-1 TeV-1\", reference=\"1 TeV\"\n",
    ")\n",
    "model_fit = SkyModel(\n",
    "    spatial_model=spatial_model1,\n",
    "    spectral_model=spectral_model1,\n",
    "    name=\"model_fit\",\n",
    ")\n",
    "\n",
    "dataset1.models = model_fit\n",
    "print(model_fit)"
   ]
  },
  {
   "cell_type": "code",
   "execution_count": 20,
   "metadata": {},
   "outputs": [
    {
     "name": "stdout",
     "output_type": "stream",
     "text": [
      "BackgroundModel\n",
      "\n",
      "   name     value   error unit    min    max frozen\n",
      "--------- --------- ----- ---- --------- --- ------\n",
      "     norm 1.000e+00   nan      0.000e+00 nan   True\n",
      "     tilt 0.000e+00   nan            nan nan   True\n",
      "reference 1.000e+00   nan  TeV       nan nan   True\n"
     ]
    }
   ],
   "source": [
    "# We do not want to fit the background in this case, so we will freeze the parameters\n",
    "background_model = dataset1.background_model\n",
    "background_model.parameters[\"norm\"].value = 1.0\n",
    "background_model.parameters[\"norm\"].frozen = True\n",
    "background_model.parameters[\"tilt\"].frozen = True\n",
    "\n",
    "print(background_model)"
   ]
  },
  {
   "cell_type": "code",
   "execution_count": 21,
   "metadata": {},
   "outputs": [
    {
     "name": "stdout",
     "output_type": "stream",
     "text": [
      "------------------------------------------------------------------\n",
      "| FCN = -3.092E+06              |     Ncalls=159 (159 total)     |\n",
      "| EDM = 0.000613 (Goal: 1E-05)  |            up = 1.0            |\n",
      "------------------------------------------------------------------\n",
      "|  Valid Min.   | Valid Param.  | Above EDM | Reached call limit |\n",
      "------------------------------------------------------------------\n",
      "|     True      |     True      |   False   |       False        |\n",
      "------------------------------------------------------------------\n",
      "| Hesse failed  |   Has cov.    | Accurate  | Pos. def. | Forced |\n",
      "------------------------------------------------------------------\n",
      "|     False     |     True      |   True    |   True    | False  |\n",
      "------------------------------------------------------------------\n",
      "CPU times: user 22 s, sys: 27.5 ms, total: 22.1 s\n",
      "Wall time: 22.1 s\n"
     ]
    }
   ],
   "source": [
    "%%time\n",
    "fit = Fit([dataset1])\n",
    "result = fit.run(optimize_opts={\"print_level\": 1})"
   ]
  },
  {
   "cell_type": "code",
   "execution_count": 22,
   "metadata": {},
   "outputs": [
    {
     "data": {
      "text/plain": [
       "(<matplotlib.axes._subplots.WCSAxesSubplot at 0x7f7068495128>, None)"
      ]
     },
     "execution_count": 22,
     "metadata": {},
     "output_type": "execute_result"
    },
    {
     "data": {
      "image/png": "[encoded data removed]",
      "text/plain": [
       "<Figure size 864x288 with 2 Axes>"
      ]
     },
     "metadata": {
      "needs_background": "light"
     },
     "output_type": "display_data"
    }
   ],
   "source": [
    "dataset1.plot_residuals(method=\"diff/sqrt(model)\", vmin=-0.5, vmax=0.5)"
   ]
  },
  {
   "cell_type": "code",
   "execution_count": 23,
   "metadata": {},
   "outputs": [
    {
     "name": "stdout",
     "output_type": "stream",
     "text": [
      "True model: \n",
      " SkyModel\n",
      "\n",
      "   name     value   error      unit         min        max    frozen\n",
      "--------- --------- ----- -------------- ---------- --------- ------\n",
      "    lon_0 2.000e-01   nan            deg        nan       nan  False\n",
      "    lat_0 1.000e-01   nan            deg -9.000e+01 9.000e+01  False\n",
      "    sigma 3.000e-01   nan            deg  0.000e+00       nan  False\n",
      "        e 0.000e+00   nan                 0.000e+00 1.000e+00   True\n",
      "      phi 0.000e+00   nan            deg        nan       nan   True\n",
      "    index 2.200e+00   nan                       nan       nan  False\n",
      "amplitude 1.289e-12   nan cm-2 s-1 TeV-1        nan       nan  False\n",
      "reference 1.000e+00   nan            TeV        nan       nan   True \n",
      "\n",
      " Fitted model: \n",
      " SkyModel\n",
      "\n",
      "   name     value   error      unit         min        max    frozen\n",
      "--------- --------- ----- -------------- ---------- --------- ------\n",
      "    lon_0 2.284e-01   nan            deg        nan       nan  False\n",
      "    lat_0 8.312e-02   nan            deg -9.000e+01 9.000e+01  False\n",
      "    sigma 3.026e-01   nan            deg  0.000e+00       nan  False\n",
      "        e 0.000e+00   nan                 0.000e+00 1.000e+00   True\n",
      "      phi 0.000e+00   nan            deg        nan       nan   True\n",
      "    index 2.185e+00   nan                       nan       nan  False\n",
      "amplitude 1.255e-12   nan cm-2 s-1 TeV-1        nan       nan  False\n",
      "reference 1.000e+00   nan            TeV        nan       nan   True\n"
     ]
    }
   ],
   "source": [
    "print(\"True model: \\n\", model_simu, \"\\n\\n Fitted model: \\n\", model_fit)"
   ]
  },
  {
   "cell_type": "code",
   "execution_count": 24,
   "metadata": {},
   "outputs": [
    {
     "data": {
      "text/html": [
       "<i>Table length=11</i>\n",
       "<table id=\"table140120762433320\" class=\"table-striped table-bordered table-condensed\">\n",
       "<thead><tr><th>name</th><th>value</th><th>error</th><th>unit</th><th>min</th><th>max</th><th>frozen</th></tr></thead>\n",
       "<thead><tr><th>str9</th><th>float64</th><th>float64</th><th>str14</th><th>float64</th><th>float64</th><th>bool</th></tr></thead>\n",
       "<tr><td>lon_0</td><td>2.284e-01</td><td>1.537e-02</td><td>deg</td><td>nan</td><td>nan</td><td>False</td></tr>\n",
       "<tr><td>lat_0</td><td>8.312e-02</td><td>1.514e-02</td><td>deg</td><td>-9.000e+01</td><td>9.000e+01</td><td>False</td></tr>\n",
       "<tr><td>sigma</td><td>3.026e-01</td><td>1.062e-02</td><td>deg</td><td>0.000e+00</td><td>nan</td><td>False</td></tr>\n",
       "<tr><td>e</td><td>0.000e+00</td><td>0.000e+00</td><td></td><td>0.000e+00</td><td>1.000e+00</td><td>True</td></tr>\n",
       "<tr><td>phi</td><td>0.000e+00</td><td>0.000e+00</td><td>deg</td><td>nan</td><td>nan</td><td>True</td></tr>\n",
       "<tr><td>index</td><td>2.185e+00</td><td>3.372e-02</td><td></td><td>nan</td><td>nan</td><td>False</td></tr>\n",
       "<tr><td>amplitude</td><td>1.255e-12</td><td>6.200e-14</td><td>cm-2 s-1 TeV-1</td><td>nan</td><td>nan</td><td>False</td></tr>\n",
       "<tr><td>reference</td><td>1.000e+00</td><td>0.000e+00</td><td>TeV</td><td>nan</td><td>nan</td><td>True</td></tr>\n",
       "<tr><td>norm</td><td>1.000e+00</td><td>0.000e+00</td><td></td><td>0.000e+00</td><td>nan</td><td>True</td></tr>\n",
       "<tr><td>tilt</td><td>0.000e+00</td><td>0.000e+00</td><td></td><td>nan</td><td>nan</td><td>True</td></tr>\n",
       "<tr><td>reference</td><td>1.000e+00</td><td>0.000e+00</td><td>TeV</td><td>nan</td><td>nan</td><td>True</td></tr>\n",
       "</table>"
      ],
      "text/plain": [
       "<Table length=11>\n",
       "   name     value     error        unit         min        max    frozen\n",
       "   str9    float64   float64      str14       float64    float64   bool \n",
       "--------- --------- --------- -------------- ---------- --------- ------\n",
       "    lon_0 2.284e-01 1.537e-02            deg        nan       nan  False\n",
       "    lat_0 8.312e-02 1.514e-02            deg -9.000e+01 9.000e+01  False\n",
       "    sigma 3.026e-01 1.062e-02            deg  0.000e+00       nan  False\n",
       "        e 0.000e+00 0.000e+00                 0.000e+00 1.000e+00   True\n",
       "      phi 0.000e+00 0.000e+00            deg        nan       nan   True\n",
       "    index 2.185e+00 3.372e-02                       nan       nan  False\n",
       "amplitude 1.255e-12 6.200e-14 cm-2 s-1 TeV-1        nan       nan  False\n",
       "reference 1.000e+00 0.000e+00            TeV        nan       nan   True\n",
       "     norm 1.000e+00 0.000e+00                 0.000e+00       nan   True\n",
       "     tilt 0.000e+00 0.000e+00                       nan       nan   True\n",
       "reference 1.000e+00 0.000e+00            TeV        nan       nan   True"
      ]
     },
     "execution_count": 24,
     "metadata": {},
     "output_type": "execute_result"
    }
   ],
   "source": [
    "result.parameters.to_table()"
   ]
  },
  {
   "cell_type": "code",
   "execution_count": null,
   "metadata": {},
   "outputs": [],
   "source": []
  }
 ],
 "metadata": {
  "kernelspec": {
   "display_name": "Python 3",
   "language": "python",
   "name": "python3"
  },
  "language_info": {
   "codemirror_mode": {
    "name": "ipython",
    "version": 3
   },
   "file_extension": ".py",
   "mimetype": "text/x-python",
   "name": "python",
   "nbconvert_exporter": "python",
   "pygments_lexer": "ipython3",
   "version": "3.6.7"
  }
 },
 "nbformat": 4,
 "nbformat_minor": 2
}
