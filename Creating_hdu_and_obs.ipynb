{
 "cells": [
  {
   "cell_type": "code",
   "execution_count": 1,
   "metadata": {},
   "outputs": [],
   "source": [
    "from astropy.io import fits\n",
    "import numpy as np\n",
    "from astropy.io.fits import getval, printdiff, getdata"
   ]
  },
  {
   "cell_type": "code",
   "execution_count": 2,
   "metadata": {},
   "outputs": [],
   "source": [
    "a1 = np.array(['110000', '110000', '110000', '110000', '110000', '110000', '110001', '110001', '110001', '110001', '110001', '110001'])\n",
    "a2 = np.array(['events', 'gti', 'aeff', 'edisp', 'psf', 'bkg', 'events', 'gti', 'aeff', 'edisp', 'psf', 'bkg'])\n",
    "a3 = np.array(['events', 'gti', 'aeff_2d', 'edisp_2d', 'psf_3gauss', 'bkg_3d', 'events', 'gti', 'aeff_2d', 'edisp_2d', 'psf_3gauss', 'bkg_3d'])\n",
    "a4 = np.array(['/home/rishank', '/home/rishank', '/home/rishank', '/home/rishank', '/home/rishank', '/home/rishank', '/home/rishank', '/home/rishank', '/home/rishank', '/home/rishank', '/home/rishank', '/home/rishank'])\n",
    "a5 = np.array(['gps_baseline_110000.fits', 'gps_baseline_110000.fits', 'irf_file.fits', 'irf_file.fits', 'irf_file.fits', 'irf_file.fits', 'gps_baseline_110001.fits', 'gps_baseline_110001.fits', 'irf_file.fits', 'irf_file.fits', 'irf_file.fits', 'irf_file.fits'])\n",
    "a6 = np.array(['EVENTS', 'GTI', 'EFFECTIVE AREA', 'ENERGY DISPERSION', 'POINT SPREAD FUNCTION', 'BACKGROUND', 'EVENTS', 'GTI', 'EFFECTIVE AREA', 'ENERGY DISPERSION', 'POINT SPREAD FUNCTION', 'BACKGROUND'])\n",
    "col1 = fits.Column(name='OBS_ID', format='K', array=a1)\n",
    "col2 = fits.Column(name='HDU_TYPE', format='6A', array=a2)\n",
    "col3 = fits.Column(name='HDU_CLASS', format='10A', array=a3)\n",
    "col4 = fits.Column(name='FILE_DIR', format='42A', array=a4)\n",
    "col5 = fits.Column(name='FILE_NAME', format='24A', array=a5)\n",
    "col6 = fits.Column(name='HDU_NAME', format='21A', array=a6)"
   ]
  },
  {
   "cell_type": "code",
   "execution_count": 3,
   "metadata": {},
   "outputs": [],
   "source": [
    "cols = fits.ColDefs([col1, col2, col3, col4, col5, col6])"
   ]
  },
  {
   "cell_type": "code",
   "execution_count": 4,
   "metadata": {},
   "outputs": [],
   "source": [
    "hdu = fits.BinTableHDU.from_columns(cols)"
   ]
  },
  {
   "cell_type": "code",
   "execution_count": 5,
   "metadata": {},
   "outputs": [],
   "source": [
    "hdu.writeto('hdu-index.fits')"
   ]
  },
  {
   "cell_type": "code",
   "execution_count": 9,
   "metadata": {},
   "outputs": [
    {
     "data": {
      "text/plain": [
       "<SkyCoord (Galactic): (l, b) in deg\n",
       "    (300.00001584, -1.29999832)>"
      ]
     },
     "execution_count": 9,
     "metadata": {},
     "output_type": "execute_result"
    }
   ],
   "source": [
    "from astropy import units as u\n",
    "from astropy.coordinates import SkyCoord\n",
    "c = SkyCoord(ra=1.8615609741E+02*u.degree, dec=-6.4019000000E+01*u.degree, frame='icrs')\n",
    "c.galactic"
   ]
  },
  {
   "cell_type": "code",
   "execution_count": 10,
   "metadata": {},
   "outputs": [],
   "source": [
    "c1 = fits.Column(name='OBS_ID', array=np.array(['110000', '110001']), format='K')\n",
    "c2 = fits.Column(name='RA_PNT', array=np.array([1.8615609741E+02, 1.8615609741E+02]), format='D', unit='deg')\n",
    "c3 = fits.Column(name='DEC_PNT', array=np.array([-6.4019000000E+01,-6.4019000000E+01]), format='D', unit='deg')\n",
    "c4 = fits.Column(name='GLON_PNT', array=np.array([300.00001584, 300.00001584]), format='D', unit='deg')\n",
    "c5 = fits.Column(name='GLAT_PNT', array=np.array([-1.29999832, -1.29999832]), format='D', unit='deg')\n",
    "c6 = fits.Column(name='ZEN_PNT', array=np.array([0, 0]), format='D', unit='deg')\n",
    "c7 = fits.Column(name='ALT_PNT', array=np.array([90, 90]), format='D', unit='deg')\n",
    "c8 = fits.Column(name='AZ_PNT', array=np.array(['0', '0']), format='K', unit='deg')\n",
    "c9 = fits.Column(name='ONTIME', array=np.array([1.8000000000E+03, 1.8000000000E+03]), format='D', unit='s')\n",
    "c10 = fits.Column(name='LIVETIME', array=np.array([1.7640000000E+03, 1.7640000000E+03]), format='D', unit='s')\n",
    "c11 = fits.Column(name='DEADC', array=np.array([9.8000001907E-01, 9.8000001907E-01]), format='D')\n",
    "c12 = fits.Column(name='TSTART', array=np.array([6.6277440000E+08, 6.6277632000E+08]), format='D', unit='s')\n",
    "c13 = fits.Column(name='TSTOP', array=np.array([6.6277619200E+08, 6.6277811200E+08]), format='D', unit='s')\n",
    "c14 = fits.Column(name='DATE_OBS', array=np.array(['2021-01-01', '2021-01-01']), format='10A')\n",
    "c15 = fits.Column(name='TIME_OBS', array=np.array(['11:58:51', '12:30:51']), format='8A')\n",
    "c16 = fits.Column(name='DATE_END', array=np.array(['2021-01-01', '2021-01-01']), format='10A')\n",
    "c17 = fits.Column(name='TIME_END', array=np.array(['12:28:51', '13:00:51']), format='8A')\n",
    "c18 = fits.Column(name='N_TELS', array=np.array(['0', '0']), format='K')\n",
    "c19 = fits.Column(name='OBJECT', array=np.array(['Galactic Plane Survey', 'Galactic Plane Survey']), format='21A')\n",
    "c20 = fits.Column(name='CALDB', array=np.array(['1dc', '1dc']), format='3A')\n",
    "c21 = fits.Column(name='IRF', array=np.array(['South_z40_50h', 'South_z40_50h']), format='13A')\n",
    "c22 = fits.Column(name='EVENTS_FILENAME', array=np.array(['/home/rishank/gps_baseline_110000.fits', '/home/rishank/gps_baseline_110001.fits']), format='40A')\n",
    "c23= fits.Column(name='EVENT_COUNT', array=np.array(['107301', '107374']), format='K')\n",
    "t = fits.BinTableHDU.from_columns([c1, c2, c3, c4, c5, c6, c7, c8, c9, c10, c11, c12, c13, c14, c15, c16, c17, c18, c19, c20, c21, c22, c23])\n",
    "t.writeto('obs-index.fits')"
   ]
  },
  {
   "cell_type": "code",
   "execution_count": 6,
   "metadata": {},
   "outputs": [],
   "source": [
    "with fits.open('hdu-index.fits', mode='update') as hdul:\n",
    "    hdr = hdul[1].header\n",
    "    hdr['EXTNAME'] = 'HDU_INDEX'\n",
    "    hdr['HDUDOC'] = 'https://github.com/open-gamma-ray-astro/gamma-astro-data-formats'\n",
    "    hdr['HDUVERS'] = '0.2'\n",
    "    hdr['HDUCLASS'] = 'GADF'\n",
    "    hdr['HDUCLAS1'] = 'INDEX'\n",
    "    hdr['HDUCLAS2'] = 'HDU'\n",
    "    hdul.flush()"
   ]
  },
  {
   "cell_type": "code",
   "execution_count": 7,
   "metadata": {},
   "outputs": [
    {
     "data": {
      "text/plain": [
       "XTENSION= 'BINTABLE'           / binary table extension                         \n",
       "BITPIX  =                    8 / array data type                                \n",
       "NAXIS   =                    2 / number of array dimensions                     \n",
       "NAXIS1  =                  111 / length of dimension 1                          \n",
       "NAXIS2  =                   12 / length of dimension 2                          \n",
       "PCOUNT  =                    0 / number of group parameters                     \n",
       "GCOUNT  =                    1 / number of groups                               \n",
       "TFIELDS =                    6 / number of table fields                         \n",
       "TTYPE1  = 'OBS_ID  '                                                            \n",
       "TFORM1  = 'K       '                                                            \n",
       "TTYPE2  = 'HDU_TYPE'                                                            \n",
       "TFORM2  = '6A      '                                                            \n",
       "TTYPE3  = 'HDU_CLASS'                                                           \n",
       "TFORM3  = '10A     '                                                            \n",
       "TTYPE4  = 'FILE_DIR'                                                            \n",
       "TFORM4  = '42A     '                                                            \n",
       "TTYPE5  = 'FILE_NAME'                                                           \n",
       "TFORM5  = '24A     '                                                            \n",
       "TTYPE6  = 'HDU_NAME'                                                            \n",
       "TFORM6  = '21A     '                                                            \n",
       "EXTNAME = 'HDU_INDEX'                                                           \n",
       "HDUDOC  = 'https://github.com/open-gamma-ray-astro/gamma-astro-data-formats'    \n",
       "HDUVERS = '0.2     '                                                            \n",
       "HDUCLASS= 'GADF    '                                                            \n",
       "HDUCLAS1= 'INDEX   '                                                            \n",
       "HDUCLAS2= 'HDU     '                                                            "
      ]
     },
     "execution_count": 7,
     "metadata": {},
     "output_type": "execute_result"
    }
   ],
   "source": [
    "hdr"
   ]
  },
  {
   "cell_type": "code",
   "execution_count": 8,
   "metadata": {},
   "outputs": [],
   "source": [
    "hdul.close()"
   ]
  },
  {
   "cell_type": "code",
   "execution_count": 11,
   "metadata": {},
   "outputs": [],
   "source": [
    "with fits.open('obs-index.fits', mode='update') as hdul:\n",
    "    hdr = hdul[1].header\n",
    "    hdr['EXTNAME'] = 'OBS_INDEX'\n",
    "    hdr['HDUDOC'] = 'https://github.com/open-gamma-ray-astro/gamma-astro-data-formats'\n",
    "    hdr['HDUVERS'] = '0.2'\n",
    "    hdr['HDUCLASS'] = 'GADF'\n",
    "    hdr['HDUCLAS1'] = 'INDEX'\n",
    "    hdr['HDUCLAS2'] = 'OBS'\n",
    "    hdr['MJDREFI'] = 51544\n",
    "    hdr['MJDREFF'] = 0.5\n",
    "    hdr['TIMEUNIT'] = 's'\n",
    "    hdr['TIMESYS'] = 'TT'\n",
    "    hdr['TIMEREF'] = 'LOCAL'\n",
    "    hdul.flush()"
   ]
  },
  {
   "cell_type": "code",
   "execution_count": 12,
   "metadata": {},
   "outputs": [
    {
     "data": {
      "text/plain": [
       "XTENSION= 'BINTABLE'           / binary table extension                         \n",
       "BITPIX  =                    8 / array data type                                \n",
       "NAXIS   =                    2 / number of array dimensions                     \n",
       "NAXIS1  =                  233 / length of dimension 1                          \n",
       "NAXIS2  =                    2 / length of dimension 2                          \n",
       "PCOUNT  =                    0 / number of group parameters                     \n",
       "GCOUNT  =                    1 / number of groups                               \n",
       "TFIELDS =                   23 / number of table fields                         \n",
       "TTYPE1  = 'OBS_ID  '                                                            \n",
       "TFORM1  = 'K       '                                                            \n",
       "TTYPE2  = 'RA_PNT  '                                                            \n",
       "TFORM2  = 'D       '                                                            \n",
       "TUNIT2  = 'deg     '                                                            \n",
       "TTYPE3  = 'DEC_PNT '                                                            \n",
       "TFORM3  = 'D       '                                                            \n",
       "TUNIT3  = 'deg     '                                                            \n",
       "TTYPE4  = 'GLON_PNT'                                                            \n",
       "TFORM4  = 'D       '                                                            \n",
       "TUNIT4  = 'deg     '                                                            \n",
       "TTYPE5  = 'GLAT_PNT'                                                            \n",
       "TFORM5  = 'D       '                                                            \n",
       "TUNIT5  = 'deg     '                                                            \n",
       "TTYPE6  = 'ZEN_PNT '                                                            \n",
       "TFORM6  = 'D       '                                                            \n",
       "TUNIT6  = 'deg     '                                                            \n",
       "TTYPE7  = 'ALT_PNT '                                                            \n",
       "TFORM7  = 'D       '                                                            \n",
       "TUNIT7  = 'deg     '                                                            \n",
       "TTYPE8  = 'AZ_PNT  '                                                            \n",
       "TFORM8  = 'K       '                                                            \n",
       "TUNIT8  = 'deg     '                                                            \n",
       "TTYPE9  = 'ONTIME  '                                                            \n",
       "TFORM9  = 'D       '                                                            \n",
       "TUNIT9  = 's       '                                                            \n",
       "TTYPE10 = 'LIVETIME'                                                            \n",
       "TFORM10 = 'D       '                                                            \n",
       "TUNIT10 = 's       '                                                            \n",
       "TTYPE11 = 'DEADC   '                                                            \n",
       "TFORM11 = 'D       '                                                            \n",
       "TTYPE12 = 'TSTART  '                                                            \n",
       "TFORM12 = 'D       '                                                            \n",
       "TUNIT12 = 's       '                                                            \n",
       "TTYPE13 = 'TSTOP   '                                                            \n",
       "TFORM13 = 'D       '                                                            \n",
       "TUNIT13 = 's       '                                                            \n",
       "TTYPE14 = 'DATE_OBS'                                                            \n",
       "TFORM14 = '10A     '                                                            \n",
       "TTYPE15 = 'TIME_OBS'                                                            \n",
       "TFORM15 = '8A      '                                                            \n",
       "TTYPE16 = 'DATE_END'                                                            \n",
       "TFORM16 = '10A     '                                                            \n",
       "TTYPE17 = 'TIME_END'                                                            \n",
       "TFORM17 = '8A      '                                                            \n",
       "TTYPE18 = 'N_TELS  '                                                            \n",
       "TFORM18 = 'K       '                                                            \n",
       "TTYPE19 = 'OBJECT  '                                                            \n",
       "TFORM19 = '21A     '                                                            \n",
       "TTYPE20 = 'CALDB   '                                                            \n",
       "TFORM20 = '3A      '                                                            \n",
       "TTYPE21 = 'IRF     '                                                            \n",
       "TFORM21 = '13A     '                                                            \n",
       "TTYPE22 = 'EVENTS_FILENAME'                                                     \n",
       "TFORM22 = '40A     '                                                            \n",
       "TTYPE23 = 'EVENT_COUNT'                                                         \n",
       "TFORM23 = 'K       '                                                            \n",
       "EXTNAME = 'OBS_INDEX'                                                           \n",
       "HDUDOC  = 'https://github.com/open-gamma-ray-astro/gamma-astro-data-formats'    \n",
       "HDUVERS = '0.2     '                                                            \n",
       "HDUCLASS= 'GADF    '                                                            \n",
       "HDUCLAS1= 'INDEX   '                                                            \n",
       "HDUCLAS2= 'OBS     '                                                            \n",
       "MJDREFI =                51544                                                  \n",
       "MJDREFF =                  0.5                                                  \n",
       "TIMEUNIT= 's       '                                                            \n",
       "TIMESYS = 'TT      '                                                            \n",
       "TIMEREF = 'LOCAL   '                                                            "
      ]
     },
     "execution_count": 12,
     "metadata": {},
     "output_type": "execute_result"
    }
   ],
   "source": [
    "hdr"
   ]
  },
  {
   "cell_type": "code",
   "execution_count": 13,
   "metadata": {},
   "outputs": [],
   "source": [
    "hdul.close()"
   ]
  },
  {
   "cell_type": "code",
   "execution_count": null,
   "metadata": {},
   "outputs": [],
   "source": []
  }
 ],
 "metadata": {
  "kernelspec": {
   "display_name": "Python 3",
   "language": "python",
   "name": "python3"
  },
  "language_info": {
   "codemirror_mode": {
    "name": "ipython",
    "version": 3
   },
   "file_extension": ".py",
   "mimetype": "text/x-python",
   "name": "python",
   "nbconvert_exporter": "python",
   "pygments_lexer": "ipython3",
   "version": "3.6.7"
  }
 },
 "nbformat": 4,
 "nbformat_minor": 2
}
