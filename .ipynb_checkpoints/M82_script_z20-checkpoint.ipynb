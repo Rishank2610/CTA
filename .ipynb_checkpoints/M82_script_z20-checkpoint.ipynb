{
 "cells": [
  {
   "cell_type": "code",
   "execution_count": 1,
   "metadata": {},
   "outputs": [],
   "source": [
    "%matplotlib inline\n",
    "import matplotlib.pyplot as plt"
   ]
  },
  {
   "cell_type": "code",
   "execution_count": 2,
   "metadata": {},
   "outputs": [
    {
     "name": "stdout",
     "output_type": "stream",
     "text": [
      "numpy: 1.16.4\n",
      "astropy: 3.2.1\n",
      "gammapy: 0.13\n"
     ]
    }
   ],
   "source": [
    "import numpy as np\n",
    "import astropy\n",
    "import gammapy\n",
    "import logging\n",
    "import os\n",
    "import numpy as np\n",
    "import astropy.units as u\n",
    "from matplotlib.colors import LogNorm\n",
    "from gammapy.extern import xmltodict\n",
    "from astropy.coordinates import SkyCoord\n",
    "from astropy.convolution import Gaussian2DKernel\n",
    "from regions import CircleSkyRegion, PixCoord\n",
    "from gammapy.utils.fitting import Fit\n",
    "from gammapy.data import DataStore\n",
    "from gammapy.spectrum import (\n",
    "    SpectrumExtraction,\n",
    "    models,\n",
    "    FluxPointsEstimator,\n",
    "    FluxPointsDataset,\n",
    ")\n",
    "from gammapy.maps import MapAxis, WcsNDMap, WcsGeom\n",
    "from gammapy.cube import MapMaker\n",
    "from gammapy.background import ReflectedRegionsBackgroundEstimator, RingBackgroundEstimator\n",
    "from gammapy.detect import TSMapEstimator, find_peaks\n",
    "from gammapy.spectrum.models import PowerLaw\n",
    "print(\"numpy:\", np.__version__)\n",
    "print(\"astropy:\", astropy.__version__)\n",
    "print(\"gammapy:\", gammapy.__version__)"
   ]
  },
  {
   "cell_type": "code",
   "execution_count": 3,
   "metadata": {},
   "outputs": [
    {
     "data": {
      "text/plain": [
       "<SkyCoord (ICRS): (ra, dec) in deg\n",
       "    (148.96845833, 69.67970278)>"
      ]
     },
     "execution_count": 3,
     "metadata": {},
     "output_type": "execute_result"
    }
   ],
   "source": [
    "SkyCoord.from_name(\"M82\")"
   ]
  },
  {
   "cell_type": "code",
   "execution_count": 4,
   "metadata": {},
   "outputs": [
    {
     "data": {
      "text/plain": [
       "<SkyCoord (ICRS): (ra, dec) in deg\n",
       "    (83.63308333, 22.0145)>"
      ]
     },
     "execution_count": 4,
     "metadata": {},
     "output_type": "execute_result"
    }
   ],
   "source": [
    "SkyCoord.from_name(\"Crab\")"
   ]
  },
  {
   "cell_type": "code",
   "execution_count": 5,
   "metadata": {},
   "outputs": [],
   "source": [
    "from gammapy.data import EventList\n",
    "path = \"/home/rishank/Downloads/M82_events_01.fits\"\n",
    "events = EventList.read(path)"
   ]
  },
  {
   "cell_type": "code",
   "execution_count": 6,
   "metadata": {},
   "outputs": [
    {
     "data": {
      "text/html": [
       "<i>Table length=14419015</i>\n",
       "<table id=\"table140007389713632\" class=\"table-striped table-bordered table-condensed\">\n",
       "<thead><tr><th>EVENT_ID</th><th>TIME</th><th>RA</th><th>DEC</th><th>ENERGY</th><th>DETX</th><th>DETY</th><th>MC_ID</th></tr></thead>\n",
       "<thead><tr><th></th><th>s</th><th>deg</th><th>deg</th><th>TeV</th><th>deg</th><th>deg</th><th></th></tr></thead>\n",
       "<thead><tr><th>uint32</th><th>float64</th><th>float32</th><th>float32</th><th>float32</th><th>float32</th><th>float32</th><th>int32</th></tr></thead>\n",
       "<tr><td>1</td><td>631108955.3643527</td><td>148.45724</td><td>69.64744</td><td>0.032929417</td><td>-0.35171917</td><td>-0.1887679</td><td>1</td></tr>\n",
       "<tr><td>2</td><td>631109033.2576919</td><td>149.19899</td><td>69.706726</td><td>0.0527536</td><td>-0.2931601</td><td>0.06901303</td><td>1</td></tr>\n",
       "<tr><td>3</td><td>631109062.1204705</td><td>148.79913</td><td>69.74869</td><td>0.06445376</td><td>-0.25120053</td><td>-0.06952946</td><td>1</td></tr>\n",
       "<tr><td>4</td><td>631109151.7394588</td><td>149.25462</td><td>69.7971</td><td>0.061269183</td><td>-0.20271806</td><td>0.08793352</td><td>1</td></tr>\n",
       "<tr><td>5</td><td>631109156.0391253</td><td>149.1191</td><td>69.42273</td><td>0.038419627</td><td>-0.5772287</td><td>0.04185693</td><td>1</td></tr>\n",
       "<tr><td>6</td><td>631109162.7382271</td><td>148.11101</td><td>69.78529</td><td>0.030604636</td><td>-0.21246533</td><td>-0.3071697</td><td>1</td></tr>\n",
       "<tr><td>7</td><td>631109173.4496552</td><td>148.79012</td><td>69.52848</td><td>0.045801606</td><td>-0.4713916</td><td>-0.07340737</td><td>1</td></tr>\n",
       "<tr><td>8</td><td>631109245.4330432</td><td>148.62584</td><td>69.42306</td><td>0.055262532</td><td>-0.5765425</td><td>-0.13150749</td><td>1</td></tr>\n",
       "<tr><td>9</td><td>631109270.9590971</td><td>148.93968</td><td>69.700806</td><td>0.065461196</td><td>-0.29918692</td><td>-0.020924767</td><td>1</td></tr>\n",
       "<tr><td>...</td><td>...</td><td>...</td><td>...</td><td>...</td><td>...</td><td>...</td><td>...</td></tr>\n",
       "<tr><td>14419006</td><td>631368069.0286922</td><td>158.09598</td><td>70.09367</td><td>0.090545505</td><td>0.32435277</td><td>3.085544</td><td>2</td></tr>\n",
       "<tr><td>14419007</td><td>631368069.0416803</td><td>143.61249</td><td>69.97341</td><td>0.51283354</td><td>0.054871663</td><td>-1.8425881</td><td>2</td></tr>\n",
       "<tr><td>14419008</td><td>631368069.0670035</td><td>144.93877</td><td>67.75013</td><td>0.35932004</td><td>-2.1989052</td><td>-1.5370437</td><td>2</td></tr>\n",
       "<tr><td>14419009</td><td>631368069.0913572</td><td>149.1892</td><td>69.5095</td><td>0.07462397</td><td>-0.49040198</td><td>0.06622708</td><td>2</td></tr>\n",
       "<tr><td>14419010</td><td>631368069.0919629</td><td>146.3816</td><td>68.65056</td><td>0.052546024</td><td>-1.3290302</td><td>-0.9530358</td><td>2</td></tr>\n",
       "<tr><td>14419011</td><td>631368069.1165762</td><td>152.37152</td><td>71.6376</td><td>0.06260196</td><td>1.66707</td><td>1.0617162</td><td>2</td></tr>\n",
       "<tr><td>14419012</td><td>631368069.1352264</td><td>151.11366</td><td>68.99446</td><td>0.0337073</td><td>-0.992437</td><td>0.7575504</td><td>2</td></tr>\n",
       "<tr><td>14419013</td><td>631368069.1508536</td><td>141.17674</td><td>69.578285</td><td>0.15775394</td><td>-0.2469573</td><td>-2.7223048</td><td>2</td></tr>\n",
       "<tr><td>14419014</td><td>631368069.153944</td><td>151.47618</td><td>68.51928</td><td>0.043934774</td><td>-1.462366</td><td>0.90660477</td><td>2</td></tr>\n",
       "<tr><td>14419015</td><td>631368069.1713257</td><td>158.23326</td><td>67.3601</td><td>0.2472968</td><td>-2.372627</td><td>3.5421402</td><td>2</td></tr>\n",
       "</table>"
      ],
      "text/plain": [
       "<Table length=14419015>\n",
       "EVENT_ID        TIME           RA    ...     DETX        DETY     MC_ID\n",
       "                 s            deg    ...     deg         deg           \n",
       " uint32       float64       float32  ...   float32     float32    int32\n",
       "-------- ----------------- --------- ... ----------- ------------ -----\n",
       "       1 631108955.3643527 148.45724 ... -0.35171917   -0.1887679     1\n",
       "       2 631109033.2576919 149.19899 ...  -0.2931601   0.06901303     1\n",
       "       3 631109062.1204705 148.79913 ... -0.25120053  -0.06952946     1\n",
       "       4 631109151.7394588 149.25462 ... -0.20271806   0.08793352     1\n",
       "       5 631109156.0391253  149.1191 ...  -0.5772287   0.04185693     1\n",
       "       6 631109162.7382271 148.11101 ... -0.21246533   -0.3071697     1\n",
       "       7 631109173.4496552 148.79012 ...  -0.4713916  -0.07340737     1\n",
       "       8 631109245.4330432 148.62584 ...  -0.5765425  -0.13150749     1\n",
       "       9 631109270.9590971 148.93968 ... -0.29918692 -0.020924767     1\n",
       "     ...               ...       ... ...         ...          ...   ...\n",
       "14419006 631368069.0286922 158.09598 ...  0.32435277     3.085544     2\n",
       "14419007 631368069.0416803 143.61249 ... 0.054871663   -1.8425881     2\n",
       "14419008 631368069.0670035 144.93877 ...  -2.1989052   -1.5370437     2\n",
       "14419009 631368069.0913572  149.1892 ... -0.49040198   0.06622708     2\n",
       "14419010 631368069.0919629  146.3816 ...  -1.3290302   -0.9530358     2\n",
       "14419011 631368069.1165762 152.37152 ...     1.66707    1.0617162     2\n",
       "14419012 631368069.1352264 151.11366 ...   -0.992437    0.7575504     2\n",
       "14419013 631368069.1508536 141.17674 ...  -0.2469573   -2.7223048     2\n",
       "14419014  631368069.153944 151.47618 ...   -1.462366   0.90660477     2\n",
       "14419015 631368069.1713257 158.23326 ...   -2.372627    3.5421402     2"
      ]
     },
     "execution_count": 6,
     "metadata": {},
     "output_type": "execute_result"
    }
   ],
   "source": [
    "events.table"
   ]
  },
  {
   "cell_type": "code",
   "execution_count": 7,
   "metadata": {},
   "outputs": [],
   "source": [
    "# Configure the logger, so that the spectral analysis\n",
    "# isn't so chatty about what it's doing.\n",
    "\n",
    "logging.basicConfig()\n",
    "log = logging.getLogger(\"gammapy.spectrum\")\n",
    "log.setLevel(logging.ERROR)\n"
   ]
  },
  {
   "cell_type": "code",
   "execution_count": 8,
   "metadata": {},
   "outputs": [
    {
     "name": "stdout",
     "output_type": "stream",
     "text": [
      "/home/rishank/anaconda2/envs/cta/share/caldb/\n",
      "data\n"
     ]
    }
   ],
   "source": [
    "os.environ['CALDB'] = '/home/rishank/anaconda2/envs/cta/share/caldb/'\n",
    "!echo $CALDB\n",
    "!ls $CALDB"
   ]
  },
  {
   "cell_type": "code",
   "execution_count": 9,
   "metadata": {},
   "outputs": [],
   "source": [
    "from pathlib import Path\n",
    "path = Path(\"/home/rishank/Downloads/\")\n",
    "paths = list(path.rglob(\"M82*.fits\"))\n",
    "data_store = DataStore.from_events_files(paths)\n",
    "observations = data_store.get_observations()\n",
    "#from gammapy.data import DataStore\n",
    "#path = \"/home/rishank/M82_events.fits\"\n",
    "#data_store = DataStore.from_events_files([path])\n",
    "#observations = data_store.get_observations()"
   ]
  },
  {
   "cell_type": "code",
   "execution_count": 10,
   "metadata": {},
   "outputs": [
    {
     "data": {
      "text/html": [
       "<i>ObservationTable length=1</i>\n",
       "<table id=\"table140007389634632\" class=\"table-striped table-bordered table-condensed\">\n",
       "<thead><tr><th>OBS_ID</th><th>RA_PNT</th><th>DEC_PNT</th><th>GLON_PNT</th><th>GLAT_PNT</th><th>ZEN_PNT</th><th>ALT_PNT</th><th>AZ_PNT</th><th>ONTIME</th><th>LIVETIME</th><th>DEADC</th><th>TSTART</th><th>TSTOP</th><th>DATE-OBS</th><th>TIME-OBS</th><th>DATE-END</th><th>TIME-END</th><th>N_TELS</th><th>OBJECT</th><th>TELESCOP</th><th>CALDB</th><th>IRF</th><th>EVENTS_FILENAME</th><th>EVENT_COUNT</th></tr></thead>\n",
       "<thead><tr><th></th><th>deg</th><th>deg</th><th>deg</th><th>deg</th><th>deg</th><th>deg</th><th>deg</th><th>s</th><th>s</th><th></th><th>s</th><th>s</th><th></th><th></th><th></th><th></th><th></th><th></th><th></th><th></th><th></th><th></th><th></th></tr></thead>\n",
       "<thead><tr><th>int64</th><th>float64</th><th>float64</th><th>float64</th><th>float64</th><th>float64</th><th>float64</th><th>float64</th><th>float64</th><th>float64</th><th>float64</th><th>float64</th><th>float64</th><th>str13</th><th>str13</th><th>str13</th><th>str13</th><th>int64</th><th>str1</th><th>str3</th><th>str9</th><th>str13</th><th>str42</th><th>int64</th></tr></thead>\n",
       "<tr><td>1</td><td>149.0</td><td>70.0</td><td>141.0596369493065</td><td>40.38835957653765</td><td>0.0</td><td>90.0</td><td>0.0</td><td>259200.0</td><td>254016.0</td><td>0.98</td><td>631108869.18</td><td>631368069.18</td><td>NOT AVAILABLE</td><td>NOT AVAILABLE</td><td>NOT AVAILABLE</td><td>NOT AVAILABLE</td><td>0</td><td></td><td>CTA</td><td>prod3b-v2</td><td>South_z20_50h</td><td>/home/rishank/Downloads/M82_events_01.fits</td><td>14419015</td></tr>\n",
       "</table>"
      ],
      "text/plain": [
       "<ObservationTable length=1>\n",
       "OBS_ID  RA_PNT ...              EVENTS_FILENAME               EVENT_COUNT\n",
       "         deg   ...                                                       \n",
       "int64  float64 ...                   str42                       int64   \n",
       "------ ------- ... ------------------------------------------ -----------\n",
       "     1   149.0 ... /home/rishank/Downloads/M82_events_01.fits    14419015"
      ]
     },
     "execution_count": 10,
     "metadata": {},
     "output_type": "execute_result"
    }
   ],
   "source": [
    "data_store.obs_table"
   ]
  },
  {
   "cell_type": "code",
   "execution_count": 11,
   "metadata": {},
   "outputs": [
    {
     "name": "stdout",
     "output_type": "stream",
     "text": [
      "Number of events:  14419015\n",
      "Number of gammas:  24628\n",
      "Number of hadrons:  14394387\n"
     ]
    }
   ],
   "source": [
    "is_gamma = events.table[\"MC_ID\"] == 1\n",
    "print(\"Number of events: \", len(events.table))\n",
    "print(\"Number of gammas: \", is_gamma.sum())\n",
    "print(\"Number of hadrons: \", len(events.table) - is_gamma.sum())"
   ]
  },
  {
   "cell_type": "code",
   "execution_count": 12,
   "metadata": {},
   "outputs": [
    {
     "name": "stdout",
     "output_type": "stream",
     "text": [
      "148.99908\n",
      "69.943016\n",
      "148.96933\n",
      "69.679535\n"
     ]
    },
    {
     "data": {
      "text/plain": [
       "<SkyCoord (Galactic): (l, b) in deg\n",
       "    (141.40941411, 40.56730561)>"
      ]
     },
     "execution_count": 12,
     "metadata": {},
     "output_type": "execute_result"
    }
   ],
   "source": [
    "ra = events.table[\"RA\"].data\n",
    "dec = events.table[\"DEC\"].data\n",
    "print(ra.mean())\n",
    "print(dec.mean())\n",
    "gamma_ra = ra[is_gamma].mean()\n",
    "print(gamma_ra)\n",
    "gamma_dec = dec[is_gamma].mean()\n",
    "print(gamma_dec)\n",
    "d = SkyCoord(ra=gamma_ra*u.degree, dec=gamma_dec*u.degree, frame='icrs')\n",
    "d.galactic"
   ]
  },
  {
   "cell_type": "code",
   "execution_count": 13,
   "metadata": {},
   "outputs": [
    {
     "data": {
      "text/plain": [
       "<SkyCoord (Galactic): (l, b) in deg\n",
       "    [(141.05963695, 40.38835958)]>"
      ]
     },
     "execution_count": 13,
     "metadata": {},
     "output_type": "execute_result"
    }
   ],
   "source": [
    "table = data_store.obs_table\n",
    "c = SkyCoord(ra=table['RA_PNT'], dec=table['DEC_PNT'], frame='icrs')\n",
    "c.galactic"
   ]
  },
  {
   "cell_type": "code",
   "execution_count": 14,
   "metadata": {},
   "outputs": [
    {
     "data": {
      "text/plain": [
       "<SkyCoord (Galactic): (l, b) in deg\n",
       "    (141.05963695, 40.38835958)>"
      ]
     },
     "execution_count": 14,
     "metadata": {},
     "output_type": "execute_result"
    },
    {
     "data": {
      "image/png": "[encoded data removed]",
      "text/plain": [
       "<Figure size 432x288 with 1 Axes>"
      ]
     },
     "metadata": {
      "needs_background": "light"
     },
     "output_type": "display_data"
    }
   ],
   "source": [
    "# Event positions\n",
    "pos = events.galactic[::1000]  # sub-sample every 100th event\n",
    "plt.scatter(pos.l.wrap_at(\"180 deg\").deg, pos.b.deg, s=10)\n",
    "# Pointing position\n",
    "pos_pnt = events.pointing_radec.galactic\n",
    "plt.scatter(\n",
    "    pos_pnt.l.wrap_at(\"180 deg\").deg, pos_pnt.b.deg, marker=\"*\", s=400, c=\"red\"\n",
    ")\n",
    "plt.xlabel(\"Galactic longitude (deg)\")\n",
    "plt.ylabel(\"Galactic latitude (deg)\")\n",
    "pos_pnt"
   ]
  },
  {
   "cell_type": "code",
   "execution_count": 15,
   "metadata": {},
   "outputs": [
    {
     "data": {
      "text/plain": [
       "<SkyCoord (Galactic): (l, b) in deg\n",
       "    (141.05963695, 40.38835958)>"
      ]
     },
     "execution_count": 15,
     "metadata": {},
     "output_type": "execute_result"
    },
    {
     "data": {
      "image/png": "[encoded data removed]",
      "text/plain": [
       "<Figure size 432x288 with 1 Axes>"
      ]
     },
     "metadata": {
      "needs_background": "light"
     },
     "output_type": "display_data"
    }
   ],
   "source": [
    "# Event positions\n",
    "pos = events.galactic[~is_gamma][::1000]  # sub-sample every 100th event\n",
    "plt.scatter(pos.l.wrap_at(\"180 deg\").deg, pos.b.deg, s=10)\n",
    "# Pointing position\n",
    "pos_pnt = events.pointing_radec.galactic\n",
    "plt.scatter(\n",
    "    pos_pnt.l.wrap_at(\"180 deg\").deg, pos_pnt.b.deg, marker=\"*\", s=400, c=\"red\"\n",
    ")\n",
    "plt.xlabel(\"Galactic longitude (deg)\")\n",
    "plt.ylabel(\"Galactic latitude (deg)\")\n",
    "pos_pnt\n",
    "\n",
    "\n",
    "#Event positions\n",
    "pos = events.galactic[is_gamma][::1]  # sub-sample every 100th event\n",
    "plt.scatter(pos.l.wrap_at(\"180 deg\").deg, pos.b.deg, s=10)\n",
    "# Pointing position\n",
    "pos_pnt = events.pointing_radec.galactic\n",
    "plt.scatter(\n",
    "    pos_pnt.l.wrap_at(\"180 deg\").deg, pos_pnt.b.deg, marker=\"*\", s=400, c=\"red\"\n",
    ")\n",
    "plt.xlabel(\"Galactic longitude (deg)\")\n",
    "plt.ylabel(\"Galactic latitude (deg)\")\n",
    "pos_pnt"
   ]
  },
  {
   "cell_type": "code",
   "execution_count": 16,
   "metadata": {},
   "outputs": [
    {
     "data": {
      "image/png": "[encoded data removed]",
      "text/plain": [
       "<Figure size 432x288 with 1 Axes>"
      ]
     },
     "metadata": {
      "needs_background": "light"
     },
     "output_type": "display_data"
    }
   ],
   "source": [
    "energy = events.table[\"ENERGY\"].data\n",
    "energy_bins = np.logspace(-2, 2, num=100)\n",
    "plt.hist(energy, bins=energy_bins)\n",
    "plt.semilogx()\n",
    "plt.xlabel(\"Event energy (TeV)\")\n",
    "plt.ylabel(\"Number of events\");"
   ]
  },
  {
   "cell_type": "code",
   "execution_count": 17,
   "metadata": {},
   "outputs": [
    {
     "data": {
      "image/png": "[encoded data removed]",
      "text/plain": [
       "<Figure size 432x288 with 1 Axes>"
      ]
     },
     "metadata": {
      "needs_background": "light"
     },
     "output_type": "display_data"
    }
   ],
   "source": [
    "energy = events.table[\"ENERGY\"].data\n",
    "energy_bins = np.logspace(-2, 2, num=100)\n",
    "opts = dict(bins=energy_bins, density=True, histtype=\"step\")\n",
    "plt.hist(energy[~is_gamma], label=\"hadron\", **opts)\n",
    "plt.hist(energy[is_gamma], label=\"gamma\", **opts)\n",
    "plt.loglog()\n",
    "plt.xlabel(\"Event energy (TeV)\")\n",
    "plt.ylabel(\"Number of events\")\n",
    "plt.legend();"
   ]
  },
  {
   "cell_type": "code",
   "execution_count": 18,
   "metadata": {},
   "outputs": [
    {
     "data": {
      "text/plain": [
       "Text(0, 0.5, 'Offset (deg)')"
      ]
     },
     "execution_count": 18,
     "metadata": {},
     "output_type": "execute_result"
    },
    {
     "data": {
      "image/png": "[encoded data removed]",
      "text/plain": [
       "<Figure size 432x288 with 2 Axes>"
      ]
     },
     "metadata": {
      "needs_background": "light"
     },
     "output_type": "display_data"
    }
   ],
   "source": [
    "\n",
    "energy_bins = 10 ** np.linspace(-2, 2, 100)\n",
    "offset_bins = np.arange(0, 0.6, 0.1)\n",
    "\n",
    "t = events.table\n",
    "offset = np.sqrt(t[\"DETX\"] ** 2 + t[\"DETY\"] ** 2)\n",
    "hist = np.histogram2d(\n",
    "    x=t[\"ENERGY\"], y=offset, bins=(energy_bins, offset_bins)\n",
    ")[0].T\n",
    "\n",
    "plt.pcolormesh(energy_bins, offset_bins, hist, norm=LogNorm())\n",
    "plt.semilogx()\n",
    "plt.colorbar()\n",
    "plt.xlabel(\"Energy (TeV)\")\n",
    "plt.ylabel(\"Offset (deg)\")"
   ]
  },
  {
   "cell_type": "code",
   "execution_count": null,
   "metadata": {},
   "outputs": [],
   "source": [
    "events.peek()"
   ]
  },
  {
   "cell_type": "code",
   "execution_count": null,
   "metadata": {},
   "outputs": [],
   "source": [
    "axis = MapAxis.from_edges(\n",
    "    np.logspace(-1.0, 1.0, 10), unit=\"TeV\", name=\"energy\", interp=\"log\"\n",
    ")\n",
    "geom = WcsGeom.create(\n",
    "    skydir=(d.galactic.l.deg, d.galactic.b.deg), npix=(250, 200), binsz=0.02, coordsys=\"GAL\", axes=[axis]\n",
    ")\n",
    "geom"
   ]
  },
  {
   "cell_type": "code",
   "execution_count": null,
   "metadata": {},
   "outputs": [],
   "source": [
    "target_position = SkyCoord(d.galactic.l.deg, d.galactic.b.deg, unit=\"deg\", frame=\"galactic\")\n",
    "on_radius = 0.2 * u.deg\n",
    "on_region = CircleSkyRegion(center=target_position, radius=on_radius)"
   ]
  },
  {
   "cell_type": "code",
   "execution_count": null,
   "metadata": {},
   "outputs": [],
   "source": [
    "exclusion_mask = geom.to_image().region_mask([on_region], inside=False)\n",
    "exclusion_mask = WcsNDMap(geom.to_image(), exclusion_mask)\n",
    "print(exclusion_mask)\n",
    "exclusion_mask.plot();"
   ]
  },
  {
   "cell_type": "code",
   "execution_count": null,
   "metadata": {},
   "outputs": [],
   "source": [
    "%%time\n",
    "bkg_estimator = ReflectedRegionsBackgroundEstimator(\n",
    "    observations=observations,\n",
    "    on_region=on_region,\n",
    "    exclusion_mask=exclusion_mask,\n",
    ")\n",
    "bkg_estimator.run()\n",
    "bkg_estimate = bkg_estimator.result\n",
    "bkg_estimator.plot();"
   ]
  },
  {
   "cell_type": "code",
   "execution_count": null,
   "metadata": {},
   "outputs": [],
   "source": [
    "%%time\n",
    "maker = MapMaker(geom, offset_max=\"2 deg\")\n",
    "maps = maker.run(observations)\n",
    "print(maps.keys())"
   ]
  },
  {
   "cell_type": "code",
   "execution_count": null,
   "metadata": {},
   "outputs": [],
   "source": [
    "# The maps are cubes, with an energy axis.\n",
    "# Let's also make some images:\n",
    "images = maker.run_images()\n",
    "\n",
    "excess = images[\"counts\"].copy()\n",
    "excess.data -= images[\"background\"].data\n",
    "images[\"excess\"] = excess"
   ]
  },
  {
   "cell_type": "code",
   "execution_count": null,
   "metadata": {},
   "outputs": [],
   "source": [
    "print(np.max(images[\"counts\"].data))"
   ]
  },
  {
   "cell_type": "code",
   "execution_count": null,
   "metadata": {},
   "outputs": [],
   "source": [
    "images[\"counts\"].plot();"
   ]
  },
  {
   "cell_type": "code",
   "execution_count": null,
   "metadata": {},
   "outputs": [],
   "source": [
    "images[\"background\"].plot();"
   ]
  },
  {
   "cell_type": "code",
   "execution_count": null,
   "metadata": {},
   "outputs": [],
   "source": [
    "images[\"excess\"].plot();"
   ]
  },
  {
   "cell_type": "code",
   "execution_count": null,
   "metadata": {},
   "outputs": [],
   "source": [
    "kernel = Gaussian2DKernel(1, mode=\"oversample\").array\n",
    "plt.imshow(kernel);"
   ]
  },
  {
   "cell_type": "code",
   "execution_count": null,
   "metadata": {},
   "outputs": [],
   "source": [
    "%%time\n",
    "ts_image_estimator = TSMapEstimator()\n",
    "images_ts = ts_image_estimator.run(images, kernel)\n",
    "print(images_ts.keys())"
   ]
  },
  {
   "cell_type": "code",
   "execution_count": null,
   "metadata": {},
   "outputs": [],
   "source": [
    "sources = find_peaks(images_ts[\"sqrt_ts\"], threshold=8)\n",
    "sources"
   ]
  },
  {
   "cell_type": "code",
   "execution_count": null,
   "metadata": {},
   "outputs": [],
   "source": [
    "source_pos = SkyCoord(sources[\"ra\"], sources[\"dec\"])\n",
    "source_pos"
   ]
  },
  {
   "cell_type": "code",
   "execution_count": null,
   "metadata": {},
   "outputs": [],
   "source": [
    "# Plot sources on top of significance sky image\n",
    "images_ts[\"sqrt_ts\"].plot(add_cbar=True)\n",
    "\n",
    "plt.gca().scatter(\n",
    "    source_pos.ra.deg,\n",
    "    source_pos.dec.deg,\n",
    "    transform=plt.gca().get_transform(\"icrs\"),\n",
    "    color=\"none\",\n",
    "    edgecolor=\"white\",\n",
    "    marker=\"o\",\n",
    "    s=200,\n",
    "    lw=1.5,\n",
    ");"
   ]
  },
  {
   "cell_type": "code",
   "execution_count": null,
   "metadata": {},
   "outputs": [],
   "source": [
    "%%time\n",
    "extract = SpectrumExtraction(\n",
    "    observations=observations, bkg_estimate=bkg_estimate\n",
    ")\n",
    "extract.run()\n",
    "extract.compute_energy_threshold()"
   ]
  },
  {
   "cell_type": "code",
   "execution_count": null,
   "metadata": {},
   "outputs": [],
   "source": [
    "%%time\n",
    "model = models.PowerLaw(\n",
    "    index=2, amplitude=1e-11 * u.Unit(\"cm-2 s-1 TeV-1\"), reference=1 * u.TeV\n",
    ")\n",
    "\n",
    "for dataset in extract.spectrum_observations:\n",
    "    dataset.model = model\n",
    "\n",
    "fit = Fit(extract.spectrum_observations)\n",
    "result = fit.run()\n",
    "print(result)"
   ]
  },
  {
   "cell_type": "code",
   "execution_count": null,
   "metadata": {},
   "outputs": [],
   "source": [
    "# Flux points are computed on stacked observation\n",
    "from gammapy.spectrum import SpectrumDatasetOnOffStacker\n",
    "\n",
    "stacker = SpectrumDatasetOnOffStacker(extract.spectrum_observations)\n",
    "stacked_obs = stacker.run()\n",
    "\n",
    "print(stacked_obs)"
   ]
  },
  {
   "cell_type": "code",
   "execution_count": null,
   "metadata": {},
   "outputs": [],
   "source": [
    "e_edges = np.logspace(0, 1.5, 5) * u.TeV\n",
    "\n",
    "stacked_obs.model = model\n",
    "\n",
    "fpe = FluxPointsEstimator(datasets=[dataset], e_edges=e_edges)\n",
    "flux_points = fpe.run()\n",
    "flux_points.table_formatted\n"
   ]
  },
  {
   "cell_type": "code",
   "execution_count": null,
   "metadata": {},
   "outputs": [],
   "source": [
    "model.parameters.covariance = result.parameters.covariance\n",
    "flux_points_dataset = FluxPointsDataset(data=flux_points, model=model)"
   ]
  },
  {
   "cell_type": "code",
   "execution_count": null,
   "metadata": {},
   "outputs": [],
   "source": [
    "plt.figure(figsize=(8, 6))\n",
    "flux_points_dataset.peek();"
   ]
  },
  {
   "cell_type": "code",
   "execution_count": null,
   "metadata": {},
   "outputs": [],
   "source": []
  }
 ],
 "metadata": {
  "kernelspec": {
   "display_name": "Python 3",
   "language": "python",
   "name": "python3"
  },
  "language_info": {
   "codemirror_mode": {
    "name": "ipython",
    "version": 3
   },
   "file_extension": ".py",
   "mimetype": "text/x-python",
   "name": "python",
   "nbconvert_exporter": "python",
   "pygments_lexer": "ipython3",
   "version": "3.6.7"
  }
 },
 "nbformat": 4,
 "nbformat_minor": 2
}
