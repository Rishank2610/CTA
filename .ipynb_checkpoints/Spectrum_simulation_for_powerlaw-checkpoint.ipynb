{
 "cells": [
  {
   "cell_type": "code",
   "execution_count": 1,
   "metadata": {},
   "outputs": [],
   "source": [
    "%matplotlib inline\n",
    "import matplotlib.pyplot as plt"
   ]
  },
  {
   "cell_type": "code",
   "execution_count": 2,
   "metadata": {},
   "outputs": [],
   "source": [
    "import os\n",
    "import numpy as np\n",
    "import astropy.units as u\n",
    "from astropy.coordinates import SkyCoord, Angle\n",
    "from regions import CircleSkyRegion\n",
    "from gammapy.spectrum import (\n",
    "    SpectrumDatasetOnOff,\n",
    "    SpectrumDataset,\n",
    "    SpectrumDatasetMaker,\n",
    ")\n",
    "from gammapy.modeling import Fit, Parameter\n",
    "from gammapy.modeling.models import (\n",
    "    PowerLawSpectralModel,\n",
    "    SpectralModel,\n",
    "    SkyModel,\n",
    "    ExpCutoffPowerLawSpectralModel,\n",
    ")\n",
    "from gammapy.irf import load_cta_irfs\n",
    "from gammapy.data import Observation\n",
    "from gammapy.maps import MapAxis"
   ]
  },
  {
   "cell_type": "code",
   "execution_count": 3,
   "metadata": {},
   "outputs": [],
   "source": [
    "livetime = 24 * u.h\n",
    "pointing = SkyCoord(0, 0, unit=\"deg\", frame=\"galactic\")\n",
    "offset = 0.5 * u.deg\n",
    "# Reconstructed and true energy axis\n",
    "energy_axis = MapAxis.from_edges(\n",
    "    np.logspace(-0.5, 1.0, 10), unit=\"TeV\", name=\"energy\", interp=\"log\"\n",
    ")\n",
    "energy_axis_true = MapAxis.from_edges(\n",
    "    np.logspace(-1.2, 2.0, 31), unit=\"TeV\", name=\"energy\", interp=\"log\"\n",
    ")\n",
    "\n",
    "on_region_radius = Angle(\"0.11 deg\")\n",
    "on_region = CircleSkyRegion(center=pointing, radius=on_region_radius)"
   ]
  },
  {
   "cell_type": "code",
   "execution_count": 4,
   "metadata": {},
   "outputs": [
    {
     "name": "stdout",
     "output_type": "stream",
     "text": [
      "ExpCutoffPowerLawSpectralModel\n",
      "\n",
      "   name     value   error      unit      min max frozen\n",
      "--------- --------- ----- -------------- --- --- ------\n",
      "    index 2.220e+00   nan                nan nan  False\n",
      "amplitude 1.289e-12   nan cm-2 s-1 TeV-1 nan nan  False\n",
      "reference 1.000e+00   nan            TeV nan nan   True\n",
      "  lambda_ 1.000e-01   nan          TeV-1 nan nan  False\n",
      "    alpha 1.000e+00   nan                nan nan   True\n"
     ]
    }
   ],
   "source": [
    "# Define spectral model - a simple Power Law in this case\n",
    "model_simu = ExpCutoffPowerLawSpectralModel(\n",
    "    index=2.22,\n",
    "    amplitude=1.289e-12 * u.Unit(\"cm-2 s-1 TeV-1\"),\n",
    "    reference=1 * u.TeV,\n",
    "    lambda_=0.1 * u.Unit(\"TeV-1\"),\n",
    "    alpha = 1,\n",
    "    \n",
    ")\n",
    "print(model_simu)\n",
    "# we set the sky model used in the dataset\n",
    "model = SkyModel(spectral_model=model_simu)"
   ]
  },
  {
   "cell_type": "code",
   "execution_count": 5,
   "metadata": {},
   "outputs": [
    {
     "name": "stdout",
     "output_type": "stream",
     "text": [
      "/home/rishank/anaconda2/envs/cta/share/caldb/\n",
      "data\n"
     ]
    }
   ],
   "source": [
    "os.environ['CALDB'] = '/home/rishank/anaconda2/envs/cta/share/caldb/'\n",
    "!echo $CALDB\n",
    "!ls $CALDB"
   ]
  },
  {
   "cell_type": "code",
   "execution_count": 6,
   "metadata": {},
   "outputs": [],
   "source": [
    "# Load the IRFs\n",
    "# In this simulation, we use the CTA-1DC irfs shipped with gammapy.\n",
    "irfs = load_cta_irfs(\n",
    "    \"$CALDB/data/cta/prod3b-v2/bcf/South_z20_50h/irf_file.fits\"\n",
    ")"
   ]
  },
  {
   "cell_type": "code",
   "execution_count": 7,
   "metadata": {},
   "outputs": [
    {
     "name": "stdout",
     "output_type": "stream",
     "text": [
      "Info for OBS_ID = 1\n",
      "- Pointing pos: RA 266.40 deg / Dec -28.94 deg\n",
      "- Livetime duration: 86400.0 s\n",
      "\n"
     ]
    },
    {
     "name": "stderr",
     "output_type": "stream",
     "text": [
      "WARNING: AstropyDeprecationWarning: The truth value of a Quantity is ambiguous. In the future this will raise a ValueError. [astropy.units.quantity]\n"
     ]
    }
   ],
   "source": [
    "obs = Observation.create(pointing=pointing, livetime=livetime, irfs=irfs)\n",
    "print(obs)"
   ]
  },
  {
   "cell_type": "code",
   "execution_count": 8,
   "metadata": {},
   "outputs": [],
   "source": [
    "# Make the SpectrumDataset\n",
    "dataset_empty = SpectrumDataset.create(\n",
    "    e_reco=energy_axis.edges, e_true=energy_axis_true.edges, region=on_region\n",
    ")\n",
    "maker = SpectrumDatasetMaker(selection=[\"aeff\", \"edisp\", \"background\"])\n",
    "dataset = maker.run(dataset_empty, obs)"
   ]
  },
  {
   "cell_type": "code",
   "execution_count": 9,
   "metadata": {},
   "outputs": [
    {
     "name": "stdout",
     "output_type": "stream",
     "text": [
      "SpectrumDataset\n",
      "\n",
      "    Name                            : 1 \n",
      "\n",
      "    Total counts                    : 537 \n",
      "    Total predicted counts          : nan\n",
      "    Total background counts         : 545.07\n",
      "\n",
      "    Effective area min              : 8.47e+04 m2\n",
      "    Effective area max              : 5.61e+06 m2\n",
      "\n",
      "    Livetime                        : 8.64e+04 s\n",
      "\n",
      "    Number of total bins            : 9 \n",
      "    Number of fit bins              : 9 \n",
      "\n",
      "    Fit statistic type              : cash\n",
      "    Fit statistic value (-2 log(L)) : nan\n",
      "\n",
      "    Number of parameters            : 0\n",
      "    Number of free parameters       : 0\n",
      "\n",
      "\n"
     ]
    }
   ],
   "source": [
    "# Set the model on the dataset, and fake\n",
    "dataset.model = model\n",
    "dataset.fake(random_state=42)\n",
    "print(dataset)"
   ]
  },
  {
   "cell_type": "code",
   "execution_count": 10,
   "metadata": {},
   "outputs": [
    {
     "name": "stdout",
     "output_type": "stream",
     "text": [
      "SpectrumDatasetOnOff\n",
      "\n",
      "    Name                            :  \n",
      "\n",
      "    Total counts                    : 3243 \n",
      "    Total predicted counts          : 3178.29\n",
      "    Total off counts                : 2734.00\n",
      "\n",
      "    Total background counts         : 546.80\n",
      "\n",
      "    Effective area min              : 8.47e+04 m2\n",
      "    Effective area max              : 5.61e+06 m2\n",
      "\n",
      "    Livetime                        : 2.40e+01 h\n",
      "\n",
      "    Number of total bins            : 9 \n",
      "    Number of fit bins              : 9 \n",
      "\n",
      "    Fit statistic type              : wstat\n",
      "    Fit statistic value (-2 log(L)) : 15.12\n",
      "\n",
      "    Number of parameters            : 5\n",
      "    Number of free parameters       : 3\n",
      "\n",
      "    Model type                      : SkyModels\n",
      "    Acceptance mean:                : 1.0\n",
      "\n"
     ]
    }
   ],
   "source": [
    "dataset_onoff = SpectrumDatasetOnOff(\n",
    "    aeff=dataset.aeff,\n",
    "    edisp=dataset.edisp,\n",
    "    models=model,\n",
    "    livetime=livetime,\n",
    "    acceptance=1,\n",
    "    acceptance_off=5,\n",
    ")\n",
    "dataset_onoff.fake(background_model=dataset.background)\n",
    "print(dataset_onoff)"
   ]
  },
  {
   "cell_type": "code",
   "execution_count": 11,
   "metadata": {},
   "outputs": [
    {
     "name": "stdout",
     "output_type": "stream",
     "text": [
      "CPU times: user 377 ms, sys: 0 ns, total: 377 ms\n",
      "Wall time: 377 ms\n"
     ]
    }
   ],
   "source": [
    "\n",
    "%%time\n",
    "\n",
    "n_obs = 100\n",
    "datasets = []\n",
    "\n",
    "for idx in range(n_obs):\n",
    "    dataset_onoff.fake(random_state=idx, background_model=dataset.background)\n",
    "    dataset_onoff.name = f\"obs_{idx}\"\n",
    "    datasets.append(dataset_onoff.copy())"
   ]
  },
  {
   "cell_type": "code",
   "execution_count": 12,
   "metadata": {},
   "outputs": [
    {
     "data": {
      "image/png": "[encoded data removed]",
      "text/plain": [
       "<Figure size 864x288 with 3 Axes>"
      ]
     },
     "metadata": {
      "needs_background": "light"
     },
     "output_type": "display_data"
    }
   ],
   "source": [
    "\n",
    "n_on = [dataset.counts.data.sum() for dataset in datasets]\n",
    "n_off = [dataset.counts_off.data.sum() for dataset in datasets]\n",
    "excess = [dataset.excess.data.sum() for dataset in datasets]\n",
    "\n",
    "fix, axes = plt.subplots(1, 3, figsize=(12, 4))\n",
    "axes[0].hist(n_on)\n",
    "axes[0].set_xlabel(\"n_on\")\n",
    "axes[1].hist(n_off)\n",
    "axes[1].set_xlabel(\"n_off\")\n",
    "axes[2].hist(excess)\n",
    "axes[2].set_xlabel(\"excess\");"
   ]
  },
  {
   "cell_type": "code",
   "execution_count": 13,
   "metadata": {},
   "outputs": [
    {
     "name": "stdout",
     "output_type": "stream",
     "text": [
      "CPU times: user 12.7 s, sys: 101 ms, total: 12.8 s\n",
      "Wall time: 12.8 s\n"
     ]
    }
   ],
   "source": [
    "\n",
    "%%time\n",
    "results = []\n",
    "for dataset in datasets:\n",
    "    dataset.models = model.copy()\n",
    "    fit = Fit([dataset])\n",
    "    result = fit.optimize()\n",
    "    results.append(\n",
    "        {\n",
    "            \"index\": result.parameters[\"index\"].value,\n",
    "            \"amplitude\": result.parameters[\"amplitude\"].value,\n",
    "        }\n",
    "    )"
   ]
  },
  {
   "cell_type": "code",
   "execution_count": 14,
   "metadata": {},
   "outputs": [
    {
     "data": {
      "text/plain": [
       "[{'index': 2.0921107020635428, 'amplitude': 1.4441804122908892e-12},\n",
       " {'index': 2.227186743374504, 'amplitude': 1.2771330649488042e-12},\n",
       " {'index': 2.3294029285005515, 'amplitude': 1.1756401237796278e-12},\n",
       " {'index': 2.250015240125947, 'amplitude': 1.263425757419259e-12},\n",
       " {'index': 2.2987414429232524, 'amplitude': 1.2713041337245092e-12},\n",
       " {'index': 2.2331907916096734, 'amplitude': 1.2514318099631032e-12},\n",
       " {'index': 2.2719434208514655, 'amplitude': 1.2926487950770504e-12},\n",
       " {'index': 2.230829430377664, 'amplitude': 1.2262037616005381e-12},\n",
       " {'index': 2.1446922214643838, 'amplitude': 1.3749652444990137e-12},\n",
       " {'index': 2.231000991358919, 'amplitude': 1.2530109942827307e-12},\n",
       " {'index': 2.2751867488694253, 'amplitude': 1.2469207818374002e-12},\n",
       " {'index': 2.158676001244019, 'amplitude': 1.3093370170200506e-12},\n",
       " {'index': 2.0967676850093615, 'amplitude': 1.402615253096173e-12},\n",
       " {'index': 2.219458693572124, 'amplitude': 1.365492142442625e-12},\n",
       " {'index': 2.273132588290468, 'amplitude': 1.2684577603988653e-12},\n",
       " {'index': 2.1891842370637478, 'amplitude': 1.2560261219285217e-12},\n",
       " {'index': 2.1552683918576814, 'amplitude': 1.3347025555850443e-12},\n",
       " {'index': 2.181474979342447, 'amplitude': 1.296424874307625e-12},\n",
       " {'index': 2.2428976225354176, 'amplitude': 1.3323978448669517e-12},\n",
       " {'index': 2.1613044506349524, 'amplitude': 1.3108364399675804e-12},\n",
       " {'index': 2.1855144209486816, 'amplitude': 1.3708556852742939e-12},\n",
       " {'index': 2.221487017991369, 'amplitude': 1.216324783782807e-12},\n",
       " {'index': 2.206986988451887, 'amplitude': 1.2485981674578915e-12},\n",
       " {'index': 2.238235210999457, 'amplitude': 1.2642889830654228e-12},\n",
       " {'index': 2.2043628578483747, 'amplitude': 1.2966217872755166e-12},\n",
       " {'index': 2.2012054950883235, 'amplitude': 1.3343614071965258e-12},\n",
       " {'index': 2.222801346000137, 'amplitude': 1.318978106453503e-12},\n",
       " {'index': 2.086065050693331, 'amplitude': 1.4224040681328084e-12},\n",
       " {'index': 2.2864820236858727, 'amplitude': 1.188085331778445e-12},\n",
       " {'index': 2.2508210053359687, 'amplitude': 1.2905413870343658e-12},\n",
       " {'index': 2.2336356955741272, 'amplitude': 1.3409654379226892e-12},\n",
       " {'index': 2.2587731061189644, 'amplitude': 1.2260216596814925e-12},\n",
       " {'index': 2.333134054948433, 'amplitude': 1.234299782614003e-12},\n",
       " {'index': 2.1400818663070633, 'amplitude': 1.3882900444010222e-12},\n",
       " {'index': 2.190868403988343, 'amplitude': 1.3280473432567942e-12},\n",
       " {'index': 2.1146343003455423, 'amplitude': 1.3798459738305699e-12},\n",
       " {'index': 2.2700363047404504, 'amplitude': 1.308251789842233e-12},\n",
       " {'index': 2.2984359835961303, 'amplitude': 1.201585957083067e-12},\n",
       " {'index': 2.2597969196554533, 'amplitude': 1.275721385586225e-12},\n",
       " {'index': 2.2038722044751355, 'amplitude': 1.323967145753677e-12},\n",
       " {'index': 2.1854783379600318, 'amplitude': 1.3492018238902158e-12},\n",
       " {'index': 2.2702844828876625, 'amplitude': 1.215152321148481e-12},\n",
       " {'index': 2.2047234904125736, 'amplitude': 1.281219686725831e-12},\n",
       " {'index': 2.105276752583236, 'amplitude': 1.3390567696856603e-12},\n",
       " {'index': 2.2100818841739454, 'amplitude': 1.3220478629576043e-12},\n",
       " {'index': 2.1614072099289796, 'amplitude': 1.3111934827737832e-12},\n",
       " {'index': 2.2209149343970593, 'amplitude': 1.2048243604147637e-12},\n",
       " {'index': 2.356414180820158, 'amplitude': 1.209903636633173e-12},\n",
       " {'index': 2.1886642704394763, 'amplitude': 1.310226513649229e-12},\n",
       " {'index': 2.206916559417802, 'amplitude': 1.3444274701364427e-12},\n",
       " {'index': 2.2108410265938923, 'amplitude': 1.3287506577710403e-12},\n",
       " {'index': 2.2540965891358096, 'amplitude': 1.2713417897198308e-12},\n",
       " {'index': 2.1780507918694685, 'amplitude': 1.3358624946519911e-12},\n",
       " {'index': 2.3007874333129656, 'amplitude': 1.2398218675276738e-12},\n",
       " {'index': 2.173976168641741, 'amplitude': 1.3093568291924855e-12},\n",
       " {'index': 2.1550724237372663, 'amplitude': 1.364253582874335e-12},\n",
       " {'index': 2.1864704452061337, 'amplitude': 1.3161247450412642e-12},\n",
       " {'index': 2.222676608921544, 'amplitude': 1.1844822405094342e-12},\n",
       " {'index': 2.2010621043829905, 'amplitude': 1.2718627471072938e-12},\n",
       " {'index': 2.2660129350906915, 'amplitude': 1.282061529385849e-12},\n",
       " {'index': 2.218884319487371, 'amplitude': 1.2797644074189966e-12},\n",
       " {'index': 2.2407487356508513, 'amplitude': 1.365938712729256e-12},\n",
       " {'index': 2.255890838410897, 'amplitude': 1.3217430579335483e-12},\n",
       " {'index': 2.287734413913846, 'amplitude': 1.1701900052707142e-12},\n",
       " {'index': 2.201070911279905, 'amplitude': 1.2813275667347588e-12},\n",
       " {'index': 2.203139273398791, 'amplitude': 1.260973049524386e-12},\n",
       " {'index': 2.2195142035859226, 'amplitude': 1.2257070185781219e-12},\n",
       " {'index': 2.162218734621068, 'amplitude': 1.3400636016486028e-12},\n",
       " {'index': 2.1291116015486167, 'amplitude': 1.403179884166852e-12},\n",
       " {'index': 2.2329975663609405, 'amplitude': 1.2550920403000133e-12},\n",
       " {'index': 2.247685294214426, 'amplitude': 1.3083483818417733e-12},\n",
       " {'index': 2.185350583633904, 'amplitude': 1.3298069127329988e-12},\n",
       " {'index': 2.2362901088005422, 'amplitude': 1.2495190147317688e-12},\n",
       " {'index': 2.2575260095230143, 'amplitude': 1.335616556175003e-12},\n",
       " {'index': 2.1630712324767196, 'amplitude': 1.3522308443673858e-12},\n",
       " {'index': 2.135290884553634, 'amplitude': 1.3896308326761558e-12},\n",
       " {'index': 2.2363620504046122, 'amplitude': 1.291518959714507e-12},\n",
       " {'index': 2.273960748924773, 'amplitude': 1.1926257505291057e-12},\n",
       " {'index': 2.231190505215959, 'amplitude': 1.2978822536647221e-12},\n",
       " {'index': 2.1221773170055336, 'amplitude': 1.4101554660516653e-12},\n",
       " {'index': 2.291419806554011, 'amplitude': 1.189188704388405e-12},\n",
       " {'index': 2.258524638845907, 'amplitude': 1.2964360878861183e-12},\n",
       " {'index': 2.194253459195188, 'amplitude': 1.2831228915186948e-12},\n",
       " {'index': 2.20082477179955, 'amplitude': 1.2775545897872374e-12},\n",
       " {'index': 2.184745830488786, 'amplitude': 1.229687976200853e-12},\n",
       " {'index': 2.15152958982992, 'amplitude': 1.3500279629461176e-12},\n",
       " {'index': 2.1518455285291553, 'amplitude': 1.2900808648423594e-12},\n",
       " {'index': 2.2448909043505907, 'amplitude': 1.371086101372089e-12},\n",
       " {'index': 2.2000127678257497, 'amplitude': 1.3656915336979745e-12},\n",
       " {'index': 2.2579228092630665, 'amplitude': 1.262205360804749e-12},\n",
       " {'index': 2.2294311252203607, 'amplitude': 1.2215002505414545e-12},\n",
       " {'index': 2.1290870960173205, 'amplitude': 1.3838120537844366e-12},\n",
       " {'index': 2.250881668361072, 'amplitude': 1.2518356655641704e-12},\n",
       " {'index': 2.2604362547998345, 'amplitude': 1.2577118270124944e-12},\n",
       " {'index': 2.126710724513587, 'amplitude': 1.4256054107714038e-12},\n",
       " {'index': 2.195084517442265, 'amplitude': 1.3064288463024621e-12},\n",
       " {'index': 2.2701512897313156, 'amplitude': 1.2415058618262905e-12},\n",
       " {'index': 2.2683527078353865, 'amplitude': 1.2421452310410593e-12},\n",
       " {'index': 2.2645463986325662, 'amplitude': 1.2124886940563338e-12},\n",
       " {'index': 2.168570585282205, 'amplitude': 1.3811891019277533e-12}]"
      ]
     },
     "execution_count": 14,
     "metadata": {},
     "output_type": "execute_result"
    }
   ],
   "source": [
    "results"
   ]
  },
  {
   "cell_type": "code",
   "execution_count": 15,
   "metadata": {},
   "outputs": [
    {
     "name": "stdout",
     "output_type": "stream",
     "text": [
      "index: 2.214683420053052 += 0.054927767265401044\n"
     ]
    },
    {
     "data": {
      "image/png": "[encoded data removed]",
      "text/plain": [
       "<Figure size 432x288 with 1 Axes>"
      ]
     },
     "metadata": {
      "needs_background": "light"
     },
     "output_type": "display_data"
    }
   ],
   "source": [
    "index = np.array([_[\"index\"] for _ in results])\n",
    "plt.hist(index, bins=10, alpha=0.5)\n",
    "plt.axvline(x=model_simu.parameters[\"index\"].value, color=\"red\")\n",
    "print(f\"index: {index.mean()} += {index.std()}\")"
   ]
  },
  {
   "cell_type": "code",
   "execution_count": 16,
   "metadata": {},
   "outputs": [
    {
     "name": "stdout",
     "output_type": "stream",
     "text": [
      "amplitude: 1.296030028613189e-12 += 6.196277598493037e-14\n"
     ]
    },
    {
     "data": {
      "image/png": "[encoded data removed]",
      "text/plain": [
       "<Figure size 432x288 with 1 Axes>"
      ]
     },
     "metadata": {
      "needs_background": "light"
     },
     "output_type": "display_data"
    }
   ],
   "source": [
    "amplitude = np.array([_[\"amplitude\"] for _ in results])\n",
    "plt.hist(amplitude, bins=10, alpha=0.5)\n",
    "plt.axvline(x=model_simu.parameters[\"amplitude\"].value, color=\"red\")\n",
    "print(f\"amplitude: {amplitude.mean()} += {amplitude.std()}\")"
   ]
  },
  {
   "cell_type": "code",
   "execution_count": null,
   "metadata": {},
   "outputs": [],
   "source": []
  }
 ],
 "metadata": {
  "kernelspec": {
   "display_name": "Python 3",
   "language": "python",
   "name": "python3"
  },
  "language_info": {
   "codemirror_mode": {
    "name": "ipython",
    "version": 3
   },
   "file_extension": ".py",
   "mimetype": "text/x-python",
   "name": "python",
   "nbconvert_exporter": "python",
   "pygments_lexer": "ipython3",
   "version": "3.6.7"
  }
 },
 "nbformat": 4,
 "nbformat_minor": 2
}
