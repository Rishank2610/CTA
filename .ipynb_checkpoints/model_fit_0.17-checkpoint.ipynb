{
 "cells": [
  {
   "cell_type": "code",
   "execution_count": 1,
   "metadata": {},
   "outputs": [],
   "source": [
    "%matplotlib inline\n",
    "import matplotlib.pyplot as plt"
   ]
  },
  {
   "cell_type": "code",
   "execution_count": 2,
   "metadata": {},
   "outputs": [],
   "source": [
    "import os\n",
    "import numpy as np\n",
    "from astropy import units as u\n",
    "import matplotlib.pyplot as plt\n",
    "from gammapy.modeling import Fit\n",
    "from gammapy.datasets import Datasets, SpectrumDatasetOnOff\n",
    "from gammapy.modeling.models import LogParabolaSpectralModel, SkyModel, PowerLawSpectralModel\n",
    "from gammapy.visualization.utils import plot_contour_line\n",
    "from itertools import combinations"
   ]
  },
  {
   "cell_type": "code",
   "execution_count": 3,
   "metadata": {},
   "outputs": [],
   "source": [
    "crab_spectrum = PowerLawSpectralModel(\n",
    "    amplitude=1e-11 / u.cm ** 2 / u.s / u.TeV,\n",
    "    reference=1 * u.TeV,\n",
    "    index=2.3,\n",
    ")\n",
    "\n",
    "crab_model = SkyModel(spectral_model=crab_spectrum, name=\"crab\")"
   ]
  },
  {
   "cell_type": "code",
   "execution_count": 4,
   "metadata": {},
   "outputs": [
    {
     "name": "stdout",
     "output_type": "stream",
     "text": [
      "/home/rishank/gammapy-datasets/\n",
      "catalogs\t     ebl\t    figures\t  images\n",
      "cta-1dc\t\t     fermi_3fhl     gamma-cat\t  joint-crab\n",
      "dark_matter_spectra  fermi-3fhl-gc  hess-dl3-dr1  tests\n"
     ]
    }
   ],
   "source": [
    "os.environ['GAMMAPY_DATA'] = '/home/rishank/gammapy-datasets/'\n",
    "!echo $GAMMAPY_DATA\n",
    "!ls $GAMMAPY_DATA"
   ]
  },
  {
   "cell_type": "code",
   "execution_count": 5,
   "metadata": {},
   "outputs": [],
   "source": [
    "datasets = []\n",
    "for obs_id in [23523, 23526]:\n",
    "    dataset = SpectrumDatasetOnOff.from_ogip_files(\n",
    "        f\"$GAMMAPY_DATA/joint-crab/spectra/hess/pha_obs{obs_id}.fits\"\n",
    "    )\n",
    "    datasets.append(dataset)\n",
    "\n",
    "dataset_hess = Datasets(datasets).stack_reduce(name=\"HESS\")\n",
    "\n",
    "# Set model and fit range\n",
    "dataset_hess.models = crab_model\n",
    "e_min = 0.66 * u.TeV\n",
    "e_max = 30 * u.TeV\n",
    "dataset_hess.mask_fit = dataset_hess.counts.geom.energy_mask(e_min, e_max)"
   ]
  },
  {
   "cell_type": "code",
   "execution_count": 6,
   "metadata": {},
   "outputs": [],
   "source": [
    "fit = Fit([dataset_hess])"
   ]
  },
  {
   "cell_type": "code",
   "execution_count": 7,
   "metadata": {},
   "outputs": [
    {
     "name": "stdout",
     "output_type": "stream",
     "text": [
      "OptimizeResult\n",
      "\n",
      "\tbackend    : minuit\n",
      "\tmethod     : minuit\n",
      "\tsuccess    : True\n",
      "\tmessage    : Optimization terminated successfully.\n",
      "\tnfev       : 79\n",
      "\ttotal stat : 33.54\n",
      "\n"
     ]
    },
    {
     "data": {
      "text/html": [
       "<i>Table length=3</i>\n",
       "<table id=\"table140502884824904\" class=\"table-striped table-bordered table-condensed\">\n",
       "<thead><tr><th>name</th><th>value</th><th>unit</th><th>min</th><th>max</th><th>frozen</th><th>error</th></tr></thead>\n",
       "<thead><tr><th>str9</th><th>float64</th><th>str14</th><th>float64</th><th>float64</th><th>bool</th><th>float64</th></tr></thead>\n",
       "<tr><td>index</td><td>2.603e+00</td><td></td><td>nan</td><td>nan</td><td>False</td><td>9.954e-02</td></tr>\n",
       "<tr><td>amplitude</td><td>3.942e-11</td><td>cm-2 s-1 TeV-1</td><td>nan</td><td>nan</td><td>False</td><td>3.293e-12</td></tr>\n",
       "<tr><td>reference</td><td>1.000e+00</td><td>TeV</td><td>nan</td><td>nan</td><td>True</td><td>0.000e+00</td></tr>\n",
       "</table>"
      ],
      "text/plain": [
       "<Table length=3>\n",
       "   name     value        unit        min     max   frozen   error  \n",
       "   str9    float64      str14      float64 float64  bool   float64 \n",
       "--------- --------- -------------- ------- ------- ------ ---------\n",
       "    index 2.603e+00                    nan     nan  False 9.954e-02\n",
       "amplitude 3.942e-11 cm-2 s-1 TeV-1     nan     nan  False 3.293e-12\n",
       "reference 1.000e+00            TeV     nan     nan   True 0.000e+00"
      ]
     },
     "execution_count": 7,
     "metadata": {},
     "output_type": "execute_result"
    }
   ],
   "source": [
    "minuit_opts = {\"tol\": 0.001, \"strategy\": 1}\n",
    "result_minuit = fit.run(backend=\"minuit\", optimize_opts=minuit_opts)\n",
    "print(result_minuit)\n",
    "result_minuit.parameters.to_table()"
   ]
  },
  {
   "cell_type": "code",
   "execution_count": 8,
   "metadata": {},
   "outputs": [
    {
     "data": {
      "text/plain": [
       "0.09953663026895242"
      ]
     },
     "execution_count": 8,
     "metadata": {},
     "output_type": "execute_result"
    }
   ],
   "source": [
    "crab_model.spectral_model.index.error"
   ]
  },
  {
   "cell_type": "code",
   "execution_count": 9,
   "metadata": {},
   "outputs": [
    {
     "data": {
      "image/png": "[encoded data removed]",
      "text/plain": [
       "<Figure size 432x288 with 1 Axes>"
      ]
     },
     "metadata": {
      "needs_background": "light"
     },
     "output_type": "display_data"
    }
   ],
   "source": [
    "energy_range = [1, 10] * u.TeV\n",
    "crab_spectrum.plot(energy_range=energy_range, energy_power=2)\n",
    "ax = crab_spectrum.plot_error(energy_range=energy_range, energy_power=2)"
   ]
  },
  {
   "cell_type": "code",
   "execution_count": 10,
   "metadata": {},
   "outputs": [],
   "source": [
    "profile = fit.stat_profile(parameter=\"index\")"
   ]
  },
  {
   "cell_type": "code",
   "execution_count": 11,
   "metadata": {},
   "outputs": [
    {
     "data": {
      "image/png": "[encoded data removed]",
      "text/plain": [
       "<Figure size 432x288 with 1 Axes>"
      ]
     },
     "metadata": {
      "needs_background": "light"
     },
     "output_type": "display_data"
    }
   ],
   "source": [
    "total_stat = result_minuit.total_stat\n",
    "plt.plot(profile[\"values\"], profile[\"stat\"] - total_stat)\n",
    "plt.xlabel(r\"$\\Gamma$\")\n",
    "plt.ylabel(\"Delta TS\");"
   ]
  },
  {
   "cell_type": "code",
   "execution_count": 12,
   "metadata": {},
   "outputs": [],
   "source": [
    "def make_contours(fit, result, npoints, sigmas):\n",
    "    cts_sigma = []\n",
    "    for sigma in sigmas:\n",
    "        contours = dict()\n",
    "        for par_1, par_2 in combinations([\"index\", \"amplitude\"], r=2):\n",
    "            contour = fit.minos_contour(\n",
    "                result.parameters[par_1],\n",
    "                result.parameters[par_2],\n",
    "                numpoints=npoints,\n",
    "                sigma=sigma,\n",
    "            )\n",
    "            contours[f\"contour_{par_1}_{par_2}\"] = {\n",
    "                par_1: contour[\"x\"].tolist(),\n",
    "                par_2: contour[\"y\"].tolist(),\n",
    "            }\n",
    "        cts_sigma.append(contours)\n",
    "    return cts_sigma"
   ]
  },
  {
   "cell_type": "code",
   "execution_count": 13,
   "metadata": {},
   "outputs": [],
   "source": [
    "sigma = [1, 2]\n",
    "cts_sigma = make_contours(fit, result_minuit, 10, sigma)"
   ]
  },
  {
   "cell_type": "code",
   "execution_count": 14,
   "metadata": {},
   "outputs": [],
   "source": [
    "pars = {\n",
    "    \"phi\": r\"$phi_0 / (10^{-11} {TeV}^{-1} {cm}^{-2} {s}^{-1})$\",\n",
    "    #\"phi\": r\"$\\phi_0 \\,/\\,(10^{-11}\\,{\\rm TeV}^{-1} \\, {\\rm cm}^{-2} {\\rm s}^{-1})$\",\n",
    "    \"index\": r\"$index$\",\n",
    "}\n",
    "\n",
    "panels = [\n",
    "    {\n",
    "        \"x\": \"index\",\n",
    "        \"y\": \"phi\",\n",
    "        \"cx\": (lambda ct: ct[\"contour_index_amplitude\"][\"index\"]),\n",
    "        \"cy\": (\n",
    "            lambda ct: np.array(1e11)\n",
    "            * ct[\"contour_index_amplitude\"][\"amplitude\"]\n",
    "        ),\n",
    "    }\n",
    "]"
   ]
  },
  {
   "cell_type": "code",
   "execution_count": 15,
   "metadata": {},
   "outputs": [
    {
     "data": {
      "text/plain": [
       "<matplotlib.legend.Legend at 0x7fc960422ba8>"
      ]
     },
     "execution_count": 15,
     "metadata": {},
     "output_type": "execute_result"
    },
    {
     "data": {
      "image/png": "[encoded data removed]",
      "text/plain": [
       "<Figure size 432x288 with 1 Axes>"
      ]
     },
     "metadata": {
      "needs_background": "light"
     },
     "output_type": "display_data"
    }
   ],
   "source": [
    "axes = plt.axes()\n",
    "colors = [\"m\",\"b\"]\n",
    "xlabel = pars[panels[0][\"x\"]]\n",
    "ylabel = pars[panels[0][\"y\"]]\n",
    "for ks in range(len(cts_sigma)):\n",
    "    plot_contour_line(\n",
    "        axes,\n",
    "        panels[0][\"cx\"](cts_sigma[ks]),\n",
    "        panels[0][\"cy\"](cts_sigma[ks]),\n",
    "        lw=2.5,\n",
    "        color=colors[ks],\n",
    "        label=f\"{sigma[ks]}\" + r\"$\\sigma$\",\n",
    "    )\n",
    "axes.set_xlabel(xlabel)\n",
    "axes.set_ylabel(ylabel)\n",
    "plt.legend()\n"
   ]
  },
  {
   "cell_type": "code",
   "execution_count": null,
   "metadata": {},
   "outputs": [],
   "source": []
  }
 ],
 "metadata": {
  "kernelspec": {
   "display_name": "Python 3",
   "language": "python",
   "name": "python3"
  },
  "language_info": {
   "codemirror_mode": {
    "name": "ipython",
    "version": 3
   },
   "file_extension": ".py",
   "mimetype": "text/x-python",
   "name": "python",
   "nbconvert_exporter": "python",
   "pygments_lexer": "ipython3",
   "version": "3.7.0"
  }
 },
 "nbformat": 4,
 "nbformat_minor": 4
}
