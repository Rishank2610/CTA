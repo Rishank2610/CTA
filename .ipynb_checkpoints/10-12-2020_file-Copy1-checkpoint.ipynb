{
 "cells": [
  {
   "cell_type": "code",
   "execution_count": 1,
   "metadata": {},
   "outputs": [],
   "source": [
    "%matplotlib inline\n",
    "import matplotlib.pyplot as plt"
   ]
  },
  {
   "cell_type": "code",
   "execution_count": 2,
   "metadata": {},
   "outputs": [],
   "source": [
    "import os\n",
    "import numpy as np\n",
    "import astropy.units as u\n",
    "from astropy.coordinates import SkyCoord, Angle\n",
    "from regions import CircleSkyRegion\n",
    "from gammapy.spectrum import (\n",
    "    SpectrumDatasetOnOff,\n",
    "    SpectrumDataset,\n",
    "    SpectrumDatasetMaker,\n",
    "    FluxPointsEstimator,\n",
    "    FluxPointsDataset,\n",
    "    ReflectedRegionsBackgroundMaker,\n",
    "    plot_spectrum_datasets_off_regions,\n",
    ")\n",
    "from gammapy.modeling import Fit, Parameter, Datasets\n",
    "from gammapy.modeling.models import (\n",
    "    PowerLawSpectralModel,\n",
    "    SpectralModel,\n",
    "    SkyModel,\n",
    "    ExpCutoffPowerLawSpectralModel,\n",
    ")\n",
    "from gammapy.irf import load_cta_irfs\n",
    "from gammapy.data import Observation\n",
    "from gammapy.maps import MapAxis\n",
    "from itertools import combinations"
   ]
  },
  {
   "cell_type": "code",
   "execution_count": 3,
   "metadata": {},
   "outputs": [],
   "source": [
    "import scipy.stats as stats\n",
    "import math\n",
    "import statistics"
   ]
  },
  {
   "cell_type": "code",
   "execution_count": 4,
   "metadata": {},
   "outputs": [
    {
     "name": "stdout",
     "output_type": "stream",
     "text": [
      "/home/rishank/anaconda2/envs/cta/share/caldb/\n",
      "data\n"
     ]
    }
   ],
   "source": [
    "os.environ['CALDB'] = '/home/rishank/anaconda2/envs/cta/share/caldb/'\n",
    "!echo $CALDB\n",
    "!ls $CALDB"
   ]
  },
  {
   "cell_type": "code",
   "execution_count": 5,
   "metadata": {},
   "outputs": [],
   "source": [
    "irfs = load_cta_irfs(\n",
    "    \"$CALDB/data/cta/prod3b-v2/bcf/South_z20_50h/irf_file.fits\"\n",
    ")"
   ]
  },
  {
   "cell_type": "code",
   "execution_count": 6,
   "metadata": {},
   "outputs": [],
   "source": [
    "livetime = 8 * u.h\n",
    "n_obs = 125\n",
    "l = 0.1\n",
    "pointing = SkyCoord(0, 0, unit=\"deg\", frame=\"galactic\")\n",
    "offset = 0.5 * u.deg\n",
    "# Reconstructed and true energy axis\n",
    "energy_axis = MapAxis.from_edges(\n",
    "    np.logspace(-1.5, 2.0, 40), unit=\"TeV\", name=\"energy\", interp=\"log\"\n",
    ")\n",
    "energy_axis_true = MapAxis.from_edges(\n",
    "    np.logspace(-1.5, 2.0, 200), unit=\"TeV\", name=\"energy\", interp=\"log\"\n",
    ")\n",
    "\n",
    "on_region_radius = Angle(\"0.11 deg\")\n",
    "on_region = CircleSkyRegion(center=pointing, radius=on_region_radius)"
   ]
  },
  {
   "cell_type": "code",
   "execution_count": 7,
   "metadata": {},
   "outputs": [
    {
     "name": "stdout",
     "output_type": "stream",
     "text": [
      "ExpCutoffPowerLawSpectralModel\n",
      "\n",
      "   name     value   error      unit      min max frozen\n",
      "--------- --------- ----- -------------- --- --- ------\n",
      "    index 2.220e+00   nan                nan nan  False\n",
      "amplitude 1.289e-12   nan cm-2 s-1 TeV-1 nan nan  False\n",
      "reference 1.000e+00   nan            TeV nan nan   True\n",
      "  lambda_ 1.000e-01   nan          TeV-1 nan nan  False\n",
      "    alpha 1.000e+00   nan                nan nan   True\n"
     ]
    }
   ],
   "source": [
    "# Define spectral model - a simple Power Law in this case\n",
    "model_simu = ExpCutoffPowerLawSpectralModel(\n",
    "    index=2.22,\n",
    "    amplitude=1.289e-12 * u.Unit(\"cm-2 s-1 TeV-1\"),\n",
    "    reference=1 * u.TeV,\n",
    "    lambda_=l * u.Unit(\"TeV-1\"),\n",
    "    alpha = 1,\n",
    ")\n",
    "print(model_simu)\n",
    "# we set the sky model used in the dataset\n",
    "model = SkyModel(spectral_model=model_simu)"
   ]
  },
  {
   "cell_type": "code",
   "execution_count": 8,
   "metadata": {},
   "outputs": [
    {
     "name": "stdout",
     "output_type": "stream",
     "text": [
      "Info for OBS_ID = 1\n",
      "- Pointing pos: RA 266.40 deg / Dec -28.94 deg\n",
      "- Livetime duration: 28800.0 s\n",
      "\n"
     ]
    },
    {
     "name": "stderr",
     "output_type": "stream",
     "text": [
      "WARNING: AstropyDeprecationWarning: The truth value of a Quantity is ambiguous. In the future this will raise a ValueError. [astropy.units.quantity]\n"
     ]
    }
   ],
   "source": [
    "obs = Observation.create(pointing=pointing, livetime=livetime, irfs=irfs)\n",
    "print(obs)"
   ]
  },
  {
   "cell_type": "code",
   "execution_count": 9,
   "metadata": {},
   "outputs": [],
   "source": [
    "# Make the SpectrumDataset\n",
    "dataset_empty = SpectrumDataset.create(\n",
    "    e_reco=energy_axis.edges, e_true=energy_axis_true.edges, region=on_region\n",
    ")\n",
    "maker = SpectrumDatasetMaker(selection=[\"aeff\", \"edisp\", \"background\"])\n",
    "dataset = maker.run(dataset_empty, obs)"
   ]
  },
  {
   "cell_type": "code",
   "execution_count": 10,
   "metadata": {},
   "outputs": [
    {
     "name": "stdout",
     "output_type": "stream",
     "text": [
      "SpectrumDataset\n",
      "\n",
      "    Name                            : 1 \n",
      "\n",
      "    Total counts                    : 3498 \n",
      "    Total predicted counts          : nan\n",
      "    Total background counts         : 3534.26\n",
      "\n",
      "    Effective area min              : 2.80e+04 m2\n",
      "    Effective area max              : 5.73e+06 m2\n",
      "\n",
      "    Livetime                        : 2.88e+04 s\n",
      "\n",
      "    Number of total bins            : 39 \n",
      "    Number of fit bins              : 39 \n",
      "\n",
      "    Fit statistic type              : cash\n",
      "    Fit statistic value (-2 log(L)) : nan\n",
      "\n",
      "    Number of parameters            : 0\n",
      "    Number of free parameters       : 0\n",
      "\n",
      "\n"
     ]
    }
   ],
   "source": [
    "# Set the model on the dataset, and fake\n",
    "dataset.model = model\n",
    "dataset.fake(random_state=42)\n",
    "print(dataset)"
   ]
  },
  {
   "cell_type": "code",
   "execution_count": 11,
   "metadata": {},
   "outputs": [
    {
     "name": "stdout",
     "output_type": "stream",
     "text": [
      "SpectrumDatasetOnOff\n",
      "\n",
      "    Name                            :  \n",
      "\n",
      "    Total counts                    : 6162 \n",
      "    Total predicted counts          : 6076.60\n",
      "    Total off counts                : 17635.00\n",
      "\n",
      "    Total background counts         : 3527.00\n",
      "\n",
      "    Effective area min              : 2.80e+04 m2\n",
      "    Effective area max              : 5.73e+06 m2\n",
      "\n",
      "    Livetime                        : 8.00e+00 h\n",
      "\n",
      "    Number of total bins            : 39 \n",
      "    Number of fit bins              : 39 \n",
      "\n",
      "    Fit statistic type              : wstat\n",
      "    Fit statistic value (-2 log(L)) : 49.33\n",
      "\n",
      "    Number of parameters            : 5\n",
      "    Number of free parameters       : 3\n",
      "\n",
      "    Model type                      : SkyModels\n",
      "    Acceptance mean:                : 1.0\n",
      "\n"
     ]
    }
   ],
   "source": [
    "dataset_onoff = SpectrumDatasetOnOff(\n",
    "    aeff=dataset.aeff,\n",
    "    edisp=dataset.edisp,\n",
    "    models=model,\n",
    "    livetime=livetime,\n",
    "    acceptance=1,\n",
    "    acceptance_off=5,\n",
    ")\n",
    "dataset_onoff.fake(background_model=dataset.background)\n",
    "print(dataset_onoff)"
   ]
  },
  {
   "cell_type": "code",
   "execution_count": 12,
   "metadata": {},
   "outputs": [
    {
     "name": "stdout",
     "output_type": "stream",
     "text": [
      "CPU times: user 399 ms, sys: 8.27 ms, total: 407 ms\n",
      "Wall time: 406 ms\n"
     ]
    }
   ],
   "source": [
    "%%time\n",
    "\n",
    "datasets = []\n",
    "\n",
    "for idx in range(n_obs):\n",
    "    dataset_onoff.fake(random_state=idx, background_model=dataset.background)\n",
    "    dataset_onoff.name = f\"obs_{idx}\"\n",
    "    datasets.append(dataset_onoff.copy())"
   ]
  },
  {
   "cell_type": "code",
   "execution_count": 13,
   "metadata": {},
   "outputs": [
    {
     "data": {
      "text/plain": [
       "Text(0, 0.5, 'No. of observations')"
      ]
     },
     "execution_count": 13,
     "metadata": {},
     "output_type": "execute_result"
    },
    {
     "data": {
      "image/png": "[encoded data removed]",
      "text/plain": [
       "<Figure size 864x288 with 3 Axes>"
      ]
     },
     "metadata": {
      "needs_background": "light"
     },
     "output_type": "display_data"
    }
   ],
   "source": [
    "n_on = [dataset.counts.data.sum() for dataset in datasets]\n",
    "n_off = [dataset.counts_off.data.sum() for dataset in datasets]\n",
    "excess = [dataset.excess.data.sum() for dataset in datasets]\n",
    "\n",
    "fix, axes = plt.subplots(1, 3, figsize=(12, 4))\n",
    "axes[0].hist(n_on)\n",
    "axes[0].set_xlabel(\"no. of counts\\nn_on\")\n",
    "axes[0].set_ylabel(\"No. of observations\")\n",
    "axes[1].hist(n_off)\n",
    "axes[1].set_xlabel(\"no. of counts\\nn_off\")\n",
    "axes[1].set_ylabel(\"No. of observations\")\n",
    "axes[2].hist(excess)\n",
    "axes[2].set_xlabel(\"no. of counts\\nexcess\");\n",
    "axes[2].set_ylabel(\"No. of observations\")"
   ]
  },
  {
   "cell_type": "code",
   "execution_count": 14,
   "metadata": {},
   "outputs": [],
   "source": [
    "dataset_stacked = Datasets(datasets).stack_reduce()"
   ]
  },
  {
   "cell_type": "code",
   "execution_count": 15,
   "metadata": {},
   "outputs": [
    {
     "name": "stdout",
     "output_type": "stream",
     "text": [
      "1000.0 h\n",
      "CPU times: user 150 ms, sys: 3.89 ms, total: 154 ms\n",
      "Wall time: 153 ms\n"
     ]
    }
   ],
   "source": [
    "%%time\n",
    "\n",
    "e_edges = np.logspace(-1.5, 2.0, 10) * u.TeV\n",
    "\n",
    "dataset_stacked.model = model\n",
    "print(dataset_stacked.livetime)\n",
    "\n",
    "stacked_fit = Fit([dataset_stacked])\n",
    "result_stacked = stacked_fit.run()\n",
    "\n",
    "# make a copy to compare later\n",
    "model_best_stacked = model.copy()\n",
    "model_best_stacked.spectral_model.parameters.covariance = (\n",
    "    result_stacked.parameters.covariance\n",
    ")"
   ]
  },
  {
   "cell_type": "code",
   "execution_count": 16,
   "metadata": {},
   "outputs": [
    {
     "name": "stdout",
     "output_type": "stream",
     "text": [
      "OptimizeResult\n",
      "\n",
      "\tbackend    : minuit\n",
      "\tmethod     : minuit\n",
      "\tsuccess    : True\n",
      "\tmessage    : Optimization terminated successfully.\n",
      "\tnfev       : 62\n",
      "\ttotal stat : 37.60\n",
      "\n"
     ]
    }
   ],
   "source": [
    "print(result_stacked)"
   ]
  },
  {
   "cell_type": "code",
   "execution_count": 17,
   "metadata": {},
   "outputs": [
    {
     "name": "stdout",
     "output_type": "stream",
     "text": [
      "e_ref  e_min   e_max  ...     dnde_err       dnde_errp       dnde_errn   \n",
      " TeV    TeV     TeV   ... 1 / (cm2 s TeV) 1 / (cm2 s TeV) 1 / (cm2 s TeV)\n",
      "------ ------ ------- ... --------------- --------------- ---------------\n",
      " 0.048  0.032   0.072 ...       9.805e-12       9.773e-12       9.838e-12\n",
      " 0.121  0.072   0.203 ...       6.548e-13       6.537e-13       6.558e-13\n",
      " 0.307  0.203   0.464 ...       8.821e-14       8.826e-14       8.816e-14\n",
      " 0.702  0.464   1.061 ...       1.533e-14       1.535e-14       1.531e-14\n",
      " 1.778  1.061   2.981 ...       1.801e-15       1.805e-15       1.796e-15\n",
      " 4.507  2.981   6.813 ...       2.675e-16       2.682e-16       2.667e-16\n",
      "10.300  6.813  15.571 ...       4.861e-17       4.916e-17       4.807e-17\n",
      "26.102 15.571  43.755 ...       3.224e-18       3.273e-18       3.175e-18\n",
      "66.147 43.755 100.000 ...       5.081e-20       6.103e-20       4.154e-20\n"
     ]
    }
   ],
   "source": [
    "fpes = FluxPointsEstimator(datasets=[dataset_stacked], e_edges=e_edges)\n",
    "flu_points = fpes.run()\n",
    "print(flu_points.table_formatted)"
   ]
  },
  {
   "cell_type": "code",
   "execution_count": 18,
   "metadata": {},
   "outputs": [
    {
     "data": {
      "text/plain": [
       "<matplotlib.axes._subplots.AxesSubplot at 0x7f63b6b78160>"
      ]
     },
     "execution_count": 18,
     "metadata": {},
     "output_type": "execute_result"
    },
    {
     "data": {
      "image/png": "[encoded data removed]",
      "text/plain": [
       "<Figure size 1152x576 with 2 Axes>"
      ]
     },
     "metadata": {
      "needs_background": "light"
     },
     "output_type": "display_data"
    }
   ],
   "source": [
    "plt.figure(figsize=(16, 8))\n",
    "flu_points.table[\"is_ul\"] = flu_points.table[\"ts\"] < 4\n",
    "ax = flu_points.plot(\n",
    "    energy_power=2, flux_unit=\"erg-1 cm-2 s-1\", color=\"darkorange\"\n",
    ")\n",
    "flu_points.to_sed_type(\"e2dnde\").plot_ts_profiles(ax=ax)"
   ]
  },
  {
   "cell_type": "code",
   "execution_count": 19,
   "metadata": {},
   "outputs": [],
   "source": [
    "flu_points_dataset = FluxPointsDataset(\n",
    "    data=flu_points, models=model_best_stacked\n",
    ")"
   ]
  },
  {
   "cell_type": "code",
   "execution_count": 20,
   "metadata": {},
   "outputs": [
    {
     "data": {
      "image/png": "[encoded data removed]",
      "text/plain": [
       "<Figure size 1152x576 with 2 Axes>"
      ]
     },
     "metadata": {
      "needs_background": "light"
     },
     "output_type": "display_data"
    }
   ],
   "source": [
    "plt.figure(figsize=(16, 8))\n",
    "flu_points_dataset.peek();"
   ]
  },
  {
   "cell_type": "code",
   "execution_count": 21,
   "metadata": {},
   "outputs": [
    {
     "name": "stdout",
     "output_type": "stream",
     "text": [
      "ExpCutoffPowerLawSpectralModel\n",
      "\n",
      "   name     value   error      unit      min max frozen\n",
      "--------- --------- ----- -------------- --- --- ------\n",
      "    index 2.219e+00   nan                nan nan  False\n",
      "amplitude 1.288e-12   nan cm-2 s-1 TeV-1 nan nan  False\n",
      "reference 1.000e+00   nan            TeV nan nan   True\n",
      "  lambda_ 1.005e-01   nan          TeV-1 nan nan  False\n",
      "    alpha 1.000e+00   nan                nan nan   True\n"
     ]
    }
   ],
   "source": [
    "simuu = ExpCutoffPowerLawSpectralModel(\n",
    "    index=result_stacked.parameters[\"index\"].value,\n",
    "    amplitude=result_stacked.parameters[\"amplitude\"].value * u.Unit(\"cm-2 s-1 TeV-1\"),\n",
    "    reference=1 * u.TeV,\n",
    "    lambda_=result_stacked.parameters[\"lambda_\"].value * u.Unit(\"TeV-1\"),\n",
    "    alpha = 1,\n",
    ")\n",
    "\n",
    "print(simuu)"
   ]
  },
  {
   "cell_type": "code",
   "execution_count": 22,
   "metadata": {},
   "outputs": [
    {
     "data": {
      "text/plain": [
       "<function matplotlib.pyplot.show(*args, **kw)>"
      ]
     },
     "execution_count": 22,
     "metadata": {},
     "output_type": "execute_result"
    },
    {
     "data": {
      "image/png": "[encoded data removed]",
      "text/plain": [
       "<Figure size 1152x576 with 1 Axes>"
      ]
     },
     "metadata": {
      "needs_background": "light"
     },
     "output_type": "display_data"
    }
   ],
   "source": [
    "energy_range = [0.03, 100] * u.TeV\n",
    "plt.figure(figsize=[16,8])\n",
    "flu_points.plot(energy_power=2)\n",
    "simuu.plot(energy_range=energy_range, energy_power=2)\n",
    "plt.show"
   ]
  },
  {
   "cell_type": "code",
   "execution_count": 23,
   "metadata": {},
   "outputs": [],
   "source": [
    "def evaluate_err(self, covar, energy, epsilon=1e-4):\n",
    "\n",
    "        p_cov = covar\n",
    "        eps = np.sqrt(np.diag(covar)) * epsilon\n",
    "\n",
    "        df_dp = self._evaluate_gradient(energy, eps)\n",
    "        f_cov = df_dp.T @ p_cov @ df_dp\n",
    "        f_err = np.sqrt(np.diagonal(f_cov))\n",
    "\n",
    "        q = self(energy)\n",
    "        return u.Quantity([q.value, f_err], unit=q.unit)"
   ]
  },
  {
   "cell_type": "code",
   "execution_count": 24,
   "metadata": {},
   "outputs": [],
   "source": [
    "def plot_error(\n",
    "        self,\n",
    "        covar,\n",
    "        energy_range,\n",
    "        ax=None,\n",
    "        energy_unit=\"TeV\",\n",
    "        flux_unit=\"cm-2 s-1 TeV-1\",\n",
    "        energy_power=0,\n",
    "        n_points=100,\n",
    "        **kwargs,\n",
    "    ):\n",
    "        \n",
    "        ax = plt.gca() if ax is None else ax\n",
    "\n",
    "        kwargs.setdefault(\"facecolor\", \"black\")\n",
    "        kwargs.setdefault(\"alpha\", 0.2)\n",
    "        kwargs.setdefault(\"linewidth\", 0)\n",
    "\n",
    "        emin, emax = energy_range\n",
    "        energy = MapAxis.from_energy_bounds(emin, emax, n_points, energy_unit).edges\n",
    "\n",
    "        flux, flux_err = evaluate_err(self,covar,energy).to(flux_unit)\n",
    "\n",
    "        y_lo = self._plot_scale_flux(energy, flux - flux_err, energy_power)\n",
    "        y_hi = self._plot_scale_flux(energy, flux + flux_err, energy_power)\n",
    "\n",
    "        where = (energy >= energy_range[0]) & (energy <= energy_range[1])\n",
    "        ax.fill_between(energy.value, y_lo.value, y_hi.value, where=where, **kwargs)\n",
    "\n",
    "        self._plot_format_ax(ax, energy, y_lo, energy_power)\n",
    "        return ax"
   ]
  },
  {
   "cell_type": "code",
   "execution_count": 25,
   "metadata": {},
   "outputs": [
    {
     "data": {
      "text/plain": [
       "Text(0, 0.5, 'E2 * Flux [Tev / (cm2 s)]')"
      ]
     },
     "execution_count": 25,
     "metadata": {},
     "output_type": "execute_result"
    },
    {
     "data": {
      "image/png": "[encoded data removed]",
      "text/plain": [
       "<Figure size 1152x576 with 1 Axes>"
      ]
     },
     "metadata": {
      "needs_background": "light"
     },
     "output_type": "display_data"
    }
   ],
   "source": [
    "plt.figure(figsize=[16,8])\n",
    "simuu.plot(energy_range=energy_range, energy_power=2)\n",
    "model_simu.plot(energy_range=energy_range, energy_power=2)\n",
    "flu_points.plot(energy_power=2)\n",
    "plot_error(self=simuu, covar=result_stacked.parameters.covariance, energy_range=energy_range, energy_power=2)\n",
    "plt.xlabel('Energy [TeV]')\n",
    "plt.ylabel('E2 * Flux [Tev / (cm2 s)]')"
   ]
  },
  {
   "cell_type": "code",
   "execution_count": null,
   "metadata": {},
   "outputs": [],
   "source": []
  }
 ],
 "metadata": {
  "kernelspec": {
   "display_name": "Python 3",
   "language": "python",
   "name": "python3"
  },
  "language_info": {
   "codemirror_mode": {
    "name": "ipython",
    "version": 3
   },
   "file_extension": ".py",
   "mimetype": "text/x-python",
   "name": "python",
   "nbconvert_exporter": "python",
   "pygments_lexer": "ipython3",
   "version": "3.6.7"
  }
 },
 "nbformat": 4,
 "nbformat_minor": 4
}
