{
 "cells": [
  {
   "cell_type": "code",
   "execution_count": 1,
   "metadata": {},
   "outputs": [],
   "source": [
    "%matplotlib inline\n",
    "import matplotlib.pyplot as plt"
   ]
  },
  {
   "cell_type": "code",
   "execution_count": 2,
   "metadata": {},
   "outputs": [],
   "source": [
    "import os\n",
    "import numpy as np\n",
    "import astropy.units as u\n",
    "from astropy.coordinates import SkyCoord, Angle\n",
    "from regions import CircleSkyRegion\n",
    "from gammapy.spectrum import (\n",
    "    SpectrumDatasetOnOff,\n",
    "    SpectrumDataset,\n",
    "    SpectrumDatasetMaker,\n",
    "    FluxPointsEstimator,\n",
    "    FluxPointsDataset,\n",
    "    ReflectedRegionsBackgroundMaker,\n",
    "    plot_spectrum_datasets_off_regions,\n",
    ")\n",
    "from gammapy.modeling import Fit, Parameter, Datasets\n",
    "from gammapy.modeling.models import (\n",
    "    PowerLawSpectralModel,\n",
    "    SpectralModel,\n",
    "    SkyModel,\n",
    "    ExpCutoffPowerLawSpectralModel,\n",
    ")\n",
    "from gammapy.irf import load_cta_irfs\n",
    "from gammapy.data import Observation\n",
    "from gammapy.maps import MapAxis\n",
    "from itertools import combinations"
   ]
  },
  {
   "cell_type": "code",
   "execution_count": 3,
   "metadata": {},
   "outputs": [],
   "source": [
    "import scipy.stats as stats\n",
    "import math\n",
    "import statistics"
   ]
  },
  {
   "cell_type": "code",
   "execution_count": 4,
   "metadata": {},
   "outputs": [
    {
     "name": "stdout",
     "output_type": "stream",
     "text": [
      "/home/rishank/anaconda2/envs/cta/share/caldb/\n",
      "data\n"
     ]
    }
   ],
   "source": [
    "os.environ['CALDB'] = '/home/rishank/anaconda2/envs/cta/share/caldb/'\n",
    "!echo $CALDB\n",
    "!ls $CALDB"
   ]
  },
  {
   "cell_type": "code",
   "execution_count": 5,
   "metadata": {},
   "outputs": [],
   "source": [
    "irfs = load_cta_irfs(\n",
    "    \"$CALDB/data/cta/prod3b-v2/bcf/South_z20_50h/irf_file.fits\"\n",
    ")"
   ]
  },
  {
   "cell_type": "code",
   "execution_count": 6,
   "metadata": {},
   "outputs": [],
   "source": [
    "livetime = 10 * u.h\n",
    "n_obs = 100\n",
    "l = 0\n",
    "pointing = SkyCoord(0, 0, unit=\"deg\", frame=\"galactic\")\n",
    "offset = 0.5 * u.deg\n",
    "# Reconstructed and true energy axis\n",
    "energy_axis = MapAxis.from_edges(\n",
    "    np.logspace(-1.5, 2.0, 40), unit=\"TeV\", name=\"energy\", interp=\"log\"\n",
    ")\n",
    "energy_axis_true = MapAxis.from_edges(\n",
    "    np.logspace(-1.5, 2.0, 200), unit=\"TeV\", name=\"energy\", interp=\"log\"\n",
    ")\n",
    "\n",
    "on_region_radius = Angle(\"0.11 deg\")\n",
    "on_region = CircleSkyRegion(center=pointing, radius=on_region_radius)"
   ]
  },
  {
   "cell_type": "code",
   "execution_count": 7,
   "metadata": {},
   "outputs": [
    {
     "name": "stdout",
     "output_type": "stream",
     "text": [
      "ExpCutoffPowerLawSpectralModel\n",
      "\n",
      "   name     value   error      unit      min max frozen\n",
      "--------- --------- ----- -------------- --- --- ------\n",
      "    index 2.220e+00   nan                nan nan  False\n",
      "amplitude 1.289e-12   nan cm-2 s-1 TeV-1 nan nan  False\n",
      "reference 1.000e+00   nan            TeV nan nan   True\n",
      "  lambda_ 0.000e+00   nan          TeV-1 nan nan  False\n",
      "    alpha 1.000e+00   nan                nan nan   True\n"
     ]
    }
   ],
   "source": [
    "# Define spectral model - a simple Power Law in this case\n",
    "model_simu = ExpCutoffPowerLawSpectralModel(index=2.22, amplitude=1.289e-12 * u.Unit(\"cm-2 s-1 TeV-1\"), reference=1 * u.TeV, lambda_=l * u.Unit(\"TeV-1\"), alpha = 1)\n",
    "#model_simu = PowerLawSpectralModel(index=2.22, amplitude=1.289e-12 * u.Unit(\"cm-2 s-1 TeV-1\"), reference=1 * u.TeV)\n",
    "\n",
    "print(model_simu)\n",
    "# we set the sky model used in the dataset\n",
    "model = SkyModel(spectral_model=model_simu)"
   ]
  },
  {
   "cell_type": "code",
   "execution_count": 8,
   "metadata": {},
   "outputs": [
    {
     "name": "stdout",
     "output_type": "stream",
     "text": [
      "Info for OBS_ID = 1\n",
      "- Pointing pos: RA 266.40 deg / Dec -28.94 deg\n",
      "- Livetime duration: 36000.0 s\n",
      "\n"
     ]
    },
    {
     "name": "stderr",
     "output_type": "stream",
     "text": [
      "WARNING: AstropyDeprecationWarning: The truth value of a Quantity is ambiguous. In the future this will raise a ValueError. [astropy.units.quantity]\n"
     ]
    }
   ],
   "source": [
    "obs = Observation.create(pointing=pointing, livetime=livetime, irfs=irfs)\n",
    "print(obs)"
   ]
  },
  {
   "cell_type": "code",
   "execution_count": 9,
   "metadata": {},
   "outputs": [],
   "source": [
    "# Make the SpectrumDataset\n",
    "dataset_empty = SpectrumDataset.create(\n",
    "    e_reco=energy_axis.edges, e_true=energy_axis_true.edges, region=on_region\n",
    ")\n",
    "maker = SpectrumDatasetMaker(selection=[\"aeff\", \"edisp\", \"background\"])\n",
    "dataset = maker.run(dataset_empty, obs)"
   ]
  },
  {
   "cell_type": "code",
   "execution_count": 10,
   "metadata": {},
   "outputs": [
    {
     "name": "stdout",
     "output_type": "stream",
     "text": [
      "SpectrumDataset\n",
      "\n",
      "    Name                            : 1 \n",
      "\n",
      "    Total counts                    : 4378 \n",
      "    Total predicted counts          : nan\n",
      "    Total background counts         : 4417.82\n",
      "\n",
      "    Effective area min              : 2.80e+04 m2\n",
      "    Effective area max              : 5.73e+06 m2\n",
      "\n",
      "    Livetime                        : 3.60e+04 s\n",
      "\n",
      "    Number of total bins            : 39 \n",
      "    Number of fit bins              : 39 \n",
      "\n",
      "    Fit statistic type              : cash\n",
      "    Fit statistic value (-2 log(L)) : nan\n",
      "\n",
      "    Number of parameters            : 0\n",
      "    Number of free parameters       : 0\n",
      "\n",
      "\n"
     ]
    }
   ],
   "source": [
    "# Set the model on the dataset, and fake\n",
    "dataset.model = model\n",
    "dataset.fake(random_state=42)\n",
    "print(dataset)"
   ]
  },
  {
   "cell_type": "code",
   "execution_count": 11,
   "metadata": {},
   "outputs": [
    {
     "name": "stdout",
     "output_type": "stream",
     "text": [
      "SpectrumDatasetOnOff\n",
      "\n",
      "    Name                            :  \n",
      "\n",
      "    Total counts                    : 7825 \n",
      "    Total predicted counts          : 7930.49\n",
      "    Total off counts                : 22211.00\n",
      "\n",
      "    Total background counts         : 4442.20\n",
      "\n",
      "    Effective area min              : 2.80e+04 m2\n",
      "    Effective area max              : 5.73e+06 m2\n",
      "\n",
      "    Livetime                        : 1.00e+01 h\n",
      "\n",
      "    Number of total bins            : 39 \n",
      "    Number of fit bins              : 39 \n",
      "\n",
      "    Fit statistic type              : wstat\n",
      "    Fit statistic value (-2 log(L)) : 32.26\n",
      "\n",
      "    Number of parameters            : 5\n",
      "    Number of free parameters       : 3\n",
      "\n",
      "    Model type                      : SkyModels\n",
      "    Acceptance mean:                : 1.0\n",
      "\n"
     ]
    }
   ],
   "source": [
    "dataset_onoff = SpectrumDatasetOnOff(\n",
    "    aeff=dataset.aeff,\n",
    "    edisp=dataset.edisp,\n",
    "    models=model,\n",
    "    livetime=livetime,\n",
    "    acceptance=1,\n",
    "    acceptance_off=5,\n",
    ")\n",
    "dataset_onoff.fake(background_model=dataset.background)\n",
    "print(dataset_onoff)"
   ]
  },
  {
   "cell_type": "code",
   "execution_count": 12,
   "metadata": {},
   "outputs": [
    {
     "name": "stdout",
     "output_type": "stream",
     "text": [
      "CPU times: user 1min 3s, sys: 1.12 s, total: 1min 4s\n",
      "Wall time: 1min 4s\n"
     ]
    }
   ],
   "source": [
    "%%time\n",
    "\n",
    "datasets = []\n",
    "\n",
    "for idx in range(n_obs):\n",
    "    dataset_onoff.fake(random_state=idx, background_model=dataset.background)\n",
    "    dataset_onoff.name = f\"obs_{idx}\"\n",
    "    datasets.append(dataset_onoff.copy())"
   ]
  },
  {
   "cell_type": "code",
   "execution_count": 13,
   "metadata": {},
   "outputs": [
    {
     "data": {
      "text/plain": [
       "Text(0, 0.5, 'No. of observations')"
      ]
     },
     "execution_count": 13,
     "metadata": {},
     "output_type": "execute_result"
    },
    {
     "data": {
      "image/png": "[encoded data removed]",
      "text/plain": [
       "<Figure size 864x288 with 3 Axes>"
      ]
     },
     "metadata": {
      "needs_background": "light"
     },
     "output_type": "display_data"
    }
   ],
   "source": [
    "n_on = [dataset.counts.data.sum() for dataset in datasets]\n",
    "n_off = [dataset.counts_off.data.sum() for dataset in datasets]\n",
    "excess = [dataset.excess.data.sum() for dataset in datasets]\n",
    "\n",
    "fix, axes = plt.subplots(1, 3, figsize=(12, 4))\n",
    "axes[0].hist(n_on)\n",
    "axes[0].set_xlabel(\"no. of counts\\nn_on\")\n",
    "axes[0].set_ylabel(\"No. of observations\")\n",
    "axes[1].hist(n_off)\n",
    "axes[1].set_xlabel(\"no. of counts\\nn_off\")\n",
    "axes[1].set_ylabel(\"No. of observations\")\n",
    "axes[2].hist(excess)\n",
    "axes[2].set_xlabel(\"no. of counts\\nexcess\");\n",
    "axes[2].set_ylabel(\"No. of observations\")"
   ]
  },
  {
   "cell_type": "code",
   "execution_count": 14,
   "metadata": {},
   "outputs": [],
   "source": [
    "dataset_stacked = Datasets(datasets).stack_reduce()"
   ]
  },
  {
   "cell_type": "code",
   "execution_count": 15,
   "metadata": {
    "scrolled": true
   },
   "outputs": [
    {
     "name": "stdout",
     "output_type": "stream",
     "text": [
      "100000.0 h\n"
     ]
    }
   ],
   "source": [
    "e_edges = np.logspace(-1.5, 2.0, 10) * u.TeV\n",
    "\n",
    "spectral_model = ExpCutoffPowerLawSpectralModel(index=2, amplitude=2e-11 * u.Unit(\"cm-2 s-1 TeV-1\"), reference=1 * u.TeV, lambda_=0.1 * u.Unit(\"TeV-1\"), alpha = 1)\n",
    "#spectral_model = PowerLawSpectralModel(index=2, amplitude=2e-11 * u.Unit(\"cm-2 s-1 TeV-1\"), reference=1 * u.TeV)\n",
    "\n",
    "model_0 = SkyModel(spectral_model=spectral_model)\n",
    "\n",
    "dataset_stacked.model = model_0\n",
    "print(dataset_stacked.livetime)\n"
   ]
  },
  {
   "cell_type": "code",
   "execution_count": 16,
   "metadata": {},
   "outputs": [],
   "source": [
    "dataset_stacked.parameters[\"lambda_\"].frozen = True\n",
    "stacked_fit = Fit([dataset_stacked])\n",
    "result_stacked = stacked_fit.run()"
   ]
  },
  {
   "cell_type": "code",
   "execution_count": 17,
   "metadata": {},
   "outputs": [
    {
     "name": "stdout",
     "output_type": "stream",
     "text": [
      "   name     value     error        unit      min max frozen\n",
      "--------- --------- --------- -------------- --- --- ------\n",
      "    index 2.220e+00 1.446e-04                nan nan  False\n",
      "amplitude 1.289e-12 3.070e-16 cm-2 s-1 TeV-1 nan nan  False\n",
      "reference 1.000e+00 0.000e+00            TeV nan nan   True\n",
      "  lambda_ 0.000e+00 0.000e+00          TeV-1 nan nan   True\n",
      "    alpha 1.000e+00 0.000e+00                nan nan   True\n",
      "OptimizeResult\n",
      "\n",
      "\tbackend    : minuit\n",
      "\tmethod     : minuit\n",
      "\tsuccess    : True\n",
      "\tmessage    : Optimization terminated successfully.\n",
      "\tnfev       : 47\n",
      "\ttotal stat : 54.23\n",
      "\n"
     ]
    }
   ],
   "source": [
    "print(result_stacked.parameters.to_table())\n",
    "print(result_stacked)\n",
    "TS0 = result_stacked.total_stat"
   ]
  },
  {
   "cell_type": "code",
   "execution_count": 18,
   "metadata": {},
   "outputs": [],
   "source": [
    "dataset_stacked.parameters[\"lambda_\"].frozen = False\n",
    "stacked_fit = Fit([dataset_stacked])\n",
    "result_stacked = stacked_fit.run()"
   ]
  },
  {
   "cell_type": "code",
   "execution_count": 19,
   "metadata": {},
   "outputs": [
    {
     "name": "stdout",
     "output_type": "stream",
     "text": [
      "   name     value      error        unit      min max frozen\n",
      "--------- ---------- --------- -------------- --- --- ------\n",
      "    index  2.220e+00 1.800e-04                nan nan  False\n",
      "amplitude  1.289e-12 3.728e-16 cm-2 s-1 TeV-1 nan nan  False\n",
      "reference  1.000e+00 0.000e+00            TeV nan nan   True\n",
      "  lambda_ -1.494e-05 4.463e-05          TeV-1 nan nan  False\n",
      "    alpha  1.000e+00 0.000e+00                nan nan   True\n",
      "OptimizeResult\n",
      "\n",
      "\tbackend    : minuit\n",
      "\tmethod     : minuit\n",
      "\tsuccess    : True\n",
      "\tmessage    : Optimization terminated successfully.\n",
      "\tnfev       : 66\n",
      "\ttotal stat : 54.12\n",
      "\n"
     ]
    }
   ],
   "source": [
    "print(result_stacked.parameters.to_table())\n",
    "print(result_stacked)\n",
    "TS1 = result_stacked.total_stat"
   ]
  },
  {
   "cell_type": "code",
   "execution_count": 21,
   "metadata": {},
   "outputs": [
    {
     "data": {
      "text/plain": [
       "0.10633475723443553"
      ]
     },
     "execution_count": 21,
     "metadata": {},
     "output_type": "execute_result"
    }
   ],
   "source": [
    "TS0 - TS1"
   ]
  },
  {
   "cell_type": "code",
   "execution_count": 22,
   "metadata": {},
   "outputs": [
    {
     "data": {
      "text/plain": [
       "0.3260901060051279"
      ]
     },
     "execution_count": 22,
     "metadata": {},
     "output_type": "execute_result"
    }
   ],
   "source": [
    "np.sqrt(TS0 - TS1)"
   ]
  },
  {
   "cell_type": "code",
   "execution_count": null,
   "metadata": {},
   "outputs": [],
   "source": []
  }
 ],
 "metadata": {
  "kernelspec": {
   "display_name": "Python 3",
   "language": "python",
   "name": "python3"
  },
  "language_info": {
   "codemirror_mode": {
    "name": "ipython",
    "version": 3
   },
   "file_extension": ".py",
   "mimetype": "text/x-python",
   "name": "python",
   "nbconvert_exporter": "python",
   "pygments_lexer": "ipython3",
   "version": "3.6.7"
  }
 },
 "nbformat": 4,
 "nbformat_minor": 4
}
