{
 "cells": [
  {
   "cell_type": "code",
   "execution_count": null,
   "metadata": {},
   "outputs": [],
   "source": [
    "%matplotlib inline\n",
    "import matplotlib.pyplot as plt"
   ]
  },
  {
   "cell_type": "code",
   "execution_count": null,
   "metadata": {},
   "outputs": [],
   "source": [
    "import os\n",
    "import numpy as np\n",
    "import astropy.units as u\n",
    "from astropy.coordinates import SkyCoord, Angle\n",
    "from regions import CircleSkyRegion\n",
    "from gammapy.spectrum import (\n",
    "    SpectrumDatasetOnOff,\n",
    "    SpectrumDataset,\n",
    "    SpectrumDatasetMaker,\n",
    "    FluxPointsEstimator,\n",
    "    FluxPointsDataset,\n",
    "    ReflectedRegionsBackgroundMaker,\n",
    "    plot_spectrum_datasets_off_regions,\n",
    ")\n",
    "from gammapy.modeling import Fit, Parameter\n",
    "from gammapy.modeling.models import (\n",
    "    PowerLawSpectralModel,\n",
    "    SpectralModel,\n",
    "    SkyModel,\n",
    "    ExpCutoffPowerLawSpectralModel,\n",
    ")\n",
    "from gammapy.irf import load_cta_irfs\n",
    "from gammapy.data import Observation\n",
    "from gammapy.maps import MapAxis\n",
    "from itertools import combinations"
   ]
  },
  {
   "cell_type": "code",
   "execution_count": null,
   "metadata": {},
   "outputs": [],
   "source": [
    "import scipy.stats as stats\n",
    "import math\n",
    "import statistics"
   ]
  },
  {
   "cell_type": "code",
   "execution_count": null,
   "metadata": {},
   "outputs": [],
   "source": [
    "os.environ['CALDB'] = '/home/rishank/anaconda2/envs/cta/share/caldb/'\n",
    "!echo $CALDB\n",
    "!ls $CALDB"
   ]
  },
  {
   "cell_type": "code",
   "execution_count": null,
   "metadata": {},
   "outputs": [],
   "source": [
    "irfs = load_cta_irfs(\n",
    "    \"$CALDB/data/cta/prod3b-v2/bcf/South_z20_50h/irf_file.fits\"\n",
    ")"
   ]
  },
  {
   "cell_type": "code",
   "execution_count": null,
   "metadata": {},
   "outputs": [],
   "source": [
    "livetime = 8 * u.h\n",
    "n_obs = 125\n",
    "l = 0.1\n",
    "pointing = SkyCoord(0, 0, unit=\"deg\", frame=\"galactic\")\n",
    "offset = 0.5 * u.deg\n",
    "# Reconstructed and true energy axis\n",
    "energy_axis = MapAxis.from_edges(\n",
    "    np.logspace(-1.5, 2.0, 10), unit=\"TeV\", name=\"energy\", interp=\"log\"\n",
    ")\n",
    "energy_axis_true = MapAxis.from_edges(\n",
    "    np.logspace(-1.5, 2.0, 10), unit=\"TeV\", name=\"energy\", interp=\"log\"\n",
    ")\n",
    "\n",
    "on_region_radius = Angle(\"0.11 deg\")\n",
    "on_region = CircleSkyRegion(center=pointing, radius=on_region_radius)"
   ]
  },
  {
   "cell_type": "code",
   "execution_count": null,
   "metadata": {},
   "outputs": [],
   "source": [
    "# Define spectral model - a simple Power Law in this case\n",
    "model_simu = ExpCutoffPowerLawSpectralModel(\n",
    "    index=2.22,\n",
    "    amplitude=1.289e-12 * u.Unit(\"cm-2 s-1 TeV-1\"),\n",
    "    reference=1 * u.TeV,\n",
    "    lambda_=0.1 * u.Unit(\"TeV-1\"),\n",
    "    alpha = 1,\n",
    ")\n",
    "print(model_simu)\n",
    "# we set the sky model used in the dataset\n",
    "model = SkyModel(spectral_model=model_simu)"
   ]
  },
  {
   "cell_type": "code",
   "execution_count": null,
   "metadata": {},
   "outputs": [],
   "source": [
    "obs = Observation.create(pointing=pointing, livetime=livetime, irfs=irfs)\n",
    "print(obs)"
   ]
  },
  {
   "cell_type": "code",
   "execution_count": null,
   "metadata": {},
   "outputs": [],
   "source": [
    "# Make the SpectrumDataset\n",
    "dataset_empty = SpectrumDataset.create(\n",
    "    e_reco=energy_axis.edges, e_true=energy_axis_true.edges, region=on_region\n",
    ")\n",
    "maker = SpectrumDatasetMaker(selection=[\"aeff\", \"edisp\", \"background\"])\n",
    "dataset = maker.run(dataset_empty, obs)"
   ]
  },
  {
   "cell_type": "code",
   "execution_count": null,
   "metadata": {
    "scrolled": true
   },
   "outputs": [],
   "source": [
    "# Set the model on the dataset, and fake\n",
    "dataset.model = model\n",
    "dataset.fake(random_state=42)\n",
    "print(dataset)"
   ]
  },
  {
   "cell_type": "code",
   "execution_count": null,
   "metadata": {
    "scrolled": true
   },
   "outputs": [],
   "source": [
    "dataset_onoff = SpectrumDatasetOnOff(\n",
    "    aeff=dataset.aeff,\n",
    "    edisp=dataset.edisp,\n",
    "    models=model,\n",
    "    livetime=livetime,\n",
    "    acceptance=1,\n",
    "    acceptance_off=5,\n",
    ")\n",
    "dataset_onoff.fake(background_model=dataset.background)\n",
    "print(dataset_onoff)"
   ]
  },
  {
   "cell_type": "code",
   "execution_count": null,
   "metadata": {},
   "outputs": [],
   "source": [
    "%%time\n",
    "\n",
    "datasets = []\n",
    "\n",
    "for idx in range(n_obs):\n",
    "    dataset_onoff.fake(random_state=idx, background_model=dataset.background)\n",
    "    dataset_onoff.name = f\"obs_{idx}\"\n",
    "    datasets.append(dataset_onoff.copy())"
   ]
  },
  {
   "cell_type": "code",
   "execution_count": null,
   "metadata": {},
   "outputs": [],
   "source": [
    "n_on = [dataset.counts.data.sum() for dataset in datasets]\n",
    "n_off = [dataset.counts_off.data.sum() for dataset in datasets]\n",
    "excess = [dataset.excess.data.sum() for dataset in datasets]\n",
    "\n",
    "fix, axes = plt.subplots(1, 3, figsize=(12, 4))\n",
    "axes[0].hist(n_on)\n",
    "axes[0].set_xlabel(\"no. of counts\\nn_on\")\n",
    "axes[0].set_ylabel(\"No. of observations\")\n",
    "axes[1].hist(n_off)\n",
    "axes[1].set_xlabel(\"no. of counts\\nn_off\")\n",
    "axes[1].set_ylabel(\"No. of observations\")\n",
    "axes[2].hist(excess)\n",
    "axes[2].set_xlabel(\"no. of counts\\nexcess\");\n",
    "axes[2].set_ylabel(\"No. of observations\")"
   ]
  },
  {
   "cell_type": "code",
   "execution_count": null,
   "metadata": {
    "scrolled": true
   },
   "outputs": [],
   "source": [
    "%%time\n",
    "results = []\n",
    "fpes = []\n",
    "e_edges = np.logspace(-1.5, 2.0, 10) * u.TeV\n",
    "model_best_joints = []\n",
    "for dataset in datasets:\n",
    "    dataset.models = model.copy()\n",
    "    fit = Fit([dataset])\n",
    "    result = fit.run()\n",
    "    results.append(\n",
    "        {\n",
    "            \"index\": result.parameters[\"index\"].value,\n",
    "            \"amplitude\": result.parameters[\"amplitude\"].value,\n",
    "            \"reference\":result.parameters[\"reference\"].value,\n",
    "            \"lambda_\": result.parameters[\"lambda_\"].value,\n",
    "            \"alpha\":result.parameters[\"alpha\"].value,\n",
    "        }\n",
    "    )\n",
    "    print(result.parameters.to_table())\n",
    "    fpe = FluxPointsEstimator(datasets=[dataset], e_edges=e_edges)\n",
    "    flux_points = fpe.run()\n",
    "    print(flux_points.table_formatted)\n",
    "    fpes.append(flux_points)\n",
    "    model_best_joint = model.copy()\n",
    "    model_best_joint.spectral_model.parameters.covariance = (result.parameters.covariance)\n",
    "    model_best_joints.append(model_best_joint)"
   ]
  },
  {
   "cell_type": "code",
   "execution_count": null,
   "metadata": {
    "scrolled": true
   },
   "outputs": [],
   "source": [
    "index = np.array([_[\"index\"] for _ in results])\n",
    "plt.hist(index, bins=10, alpha=0.5)\n",
    "plt.axvline(x=model_simu.parameters[\"index\"].value, color=\"red\")\n",
    "plt.xlabel('Index')\n",
    "plt.ylabel('Number of observations')\n",
    "print(f\"index: {index.mean()} += {index.std()}\")"
   ]
  },
  {
   "cell_type": "code",
   "execution_count": null,
   "metadata": {},
   "outputs": [],
   "source": [
    "amplitude = np.array([_[\"amplitude\"] for _ in results])\n",
    "plt.hist(amplitude, bins=10, alpha=0.5)\n",
    "plt.axvline(x=model_simu.parameters[\"amplitude\"].value, color=\"red\")\n",
    "plt.xlabel('Amplitude')\n",
    "plt.ylabel('Number of observations')\n",
    "print(f\"amplitude: {amplitude.mean()} += {amplitude.std()}\")"
   ]
  },
  {
   "cell_type": "code",
   "execution_count": null,
   "metadata": {},
   "outputs": [],
   "source": [
    "reference = np.array([_[\"reference\"] for _ in results])\n",
    "lambda_ = np.array([_[\"lambda_\"] for _ in results])\n",
    "alpha = np.array([_[\"alpha\"] for _ in results])\n",
    "x = np.array([index, amplitude, reference, lambda_, alpha])\n",
    "covar=np.cov(x)\n",
    "print(covar)"
   ]
  },
  {
   "cell_type": "code",
   "execution_count": null,
   "metadata": {},
   "outputs": [],
   "source": [
    "simu = ExpCutoffPowerLawSpectralModel(\n",
    "    index=2.22,\n",
    "    amplitude=1.289e-12 * u.Unit(\"cm-2 s-1 TeV-1\"),\n",
    "    reference=1 * u.TeV,\n",
    "    lambda_=0.1 * u.Unit(\"TeV-1\"),\n",
    "    alpha = 1,\n",
    ")\n",
    "print(simu)"
   ]
  },
  {
   "cell_type": "code",
   "execution_count": null,
   "metadata": {
    "scrolled": true
   },
   "outputs": [],
   "source": [
    "i = 0\n",
    "fpes[i].table_formatted"
   ]
  },
  {
   "cell_type": "code",
   "execution_count": null,
   "metadata": {
    "scrolled": false
   },
   "outputs": [],
   "source": [
    "plt.figure(figsize=(16, 8))\n",
    "fpes[i].table[\"is_ul\"] = fpes[i].table[\"ts\"] < 4\n",
    "ax = fpes[i].plot(\n",
    "    energy_power=2, flux_unit=\"erg-1 cm-2 s-1\", color=\"darkorange\"\n",
    ")\n",
    "fpes[i].to_sed_type(\"e2dnde\").plot_ts_profiles(ax=ax)"
   ]
  },
  {
   "cell_type": "code",
   "execution_count": null,
   "metadata": {},
   "outputs": [],
   "source": [
    "flux_points_dataset = FluxPointsDataset(\n",
    "    data=fpes[i], models=model_best_joints[i]\n",
    ")"
   ]
  },
  {
   "cell_type": "code",
   "execution_count": null,
   "metadata": {
    "scrolled": false
   },
   "outputs": [],
   "source": [
    "plt.figure(figsize=(16, 8))\n",
    "flux_points_dataset.peek();"
   ]
  },
  {
   "cell_type": "code",
   "execution_count": null,
   "metadata": {},
   "outputs": [],
   "source": [
    "energy_range = [0.03, 100] * u.TeV\n",
    "plt.figure(figsize=[16,8])\n",
    "fpes[i].plot(energy_power=2)\n",
    "simu.plot(energy_range=energy_range, energy_power=2)\n",
    "plt.show"
   ]
  },
  {
   "cell_type": "code",
   "execution_count": null,
   "metadata": {
    "scrolled": true
   },
   "outputs": [],
   "source": [
    "fig = plt.figure(figsize=[20,16],constrained_layout=True)\n",
    "\n",
    "import matplotlib.gridspec as gridspec\n",
    "\n",
    "gs0 = gridspec.GridSpec(1, 3, figure=fig)\n",
    "\n",
    "gs1 = gridspec.GridSpecFromSubplotSpec(3, 1, subplot_spec=gs0[0])\n",
    "for n in range(3):\n",
    "    ax = fig.add_subplot(gs1[n])\n",
    "    e_ref_first = np.array([_.table['ref_e2dnde'][n] for _ in fpes])\n",
    "    plt.hist(e_ref_first, bins=10, alpha=0.5)\n",
    "    plt.xlabel(f'ref_e2dnde\\nbin no:{n+1}')\n",
    "    plt.ylabel('Number of observations')\n",
    "    \n",
    "gs2 = gridspec.GridSpecFromSubplotSpec(3, 1, subplot_spec=gs0[1])\n",
    "for n in range(3):\n",
    "    ax = fig.add_subplot(gs2[n])\n",
    "    e_ref_first = np.array([_.table['ref_e2dnde'][n+3] for _ in fpes])\n",
    "    plt.hist(e_ref_first, bins=10, alpha=0.5)\n",
    "    plt.xlabel(f'ref_e2dnde\\nbin no:{n+4}')\n",
    "    plt.ylabel('Number of observations')\n",
    "\n",
    "gs3 = gridspec.GridSpecFromSubplotSpec(3, 1, subplot_spec=gs0[2])\n",
    "for n in range(3):\n",
    "    ax = fig.add_subplot(gs3[n])\n",
    "    e_ref_first = np.array([_.table['ref_e2dnde'][n+6] for _ in fpes])\n",
    "    plt.hist(e_ref_first, bins=10, alpha=0.5)\n",
    "    plt.xlabel(f'ref_e2dnde\\nbin no:{n+7}')\n",
    "    plt.ylabel('Number of observations')\n",
    "\n",
    "plt.show()"
   ]
  },
  {
   "cell_type": "code",
   "execution_count": null,
   "metadata": {
    "scrolled": true
   },
   "outputs": [],
   "source": [
    "fig = plt.figure(figsize=[20,16],constrained_layout=True)\n",
    "\n",
    "import matplotlib.gridspec as gridspec\n",
    "\n",
    "gs0 = gridspec.GridSpec(1, 3, figure=fig)\n",
    "\n",
    "gs1 = gridspec.GridSpecFromSubplotSpec(3, 1, subplot_spec=gs0[0])\n",
    "for n in range(3):\n",
    "    ax = fig.add_subplot(gs1[n])\n",
    "    e_ref_first = np.array([_.table['dnde'][n] for _ in fpes])\n",
    "    plt.hist(e_ref_first, bins=10, alpha=0.5)\n",
    "    plt.xlabel(f'dnde\\nbin no:{n+1}')\n",
    "    plt.ylabel('Number of observations')\n",
    "    \n",
    "gs2 = gridspec.GridSpecFromSubplotSpec(3, 1, subplot_spec=gs0[1])\n",
    "for n in range(3):\n",
    "    ax = fig.add_subplot(gs2[n])\n",
    "    e_ref_first = np.array([_.table['dnde'][n+3] for _ in fpes])\n",
    "    plt.hist(e_ref_first, bins=10, alpha=0.5)\n",
    "    plt.xlabel(f'dnde\\nbin no:{n+4}')\n",
    "    plt.ylabel('Number of observations')\n",
    "\n",
    "gs3 = gridspec.GridSpecFromSubplotSpec(3, 1, subplot_spec=gs0[2])\n",
    "for n in range(3):\n",
    "    ax = fig.add_subplot(gs3[n])\n",
    "    e_ref_first = np.array([_.table['dnde'][n+6] for _ in fpes])\n",
    "    plt.hist(e_ref_first, bins=10, alpha=0.5)\n",
    "    plt.xlabel(f'dnde\\nbin no:{n+7}')\n",
    "    plt.ylabel('Number of observations')\n",
    "\n",
    "plt.show()"
   ]
  },
  {
   "cell_type": "code",
   "execution_count": null,
   "metadata": {
    "scrolled": true
   },
   "outputs": [],
   "source": [
    "fig = plt.figure(figsize=[20,16],constrained_layout=True)\n",
    "\n",
    "import matplotlib.gridspec as gridspec\n",
    "\n",
    "gs0 = gridspec.GridSpec(1, 3, figure=fig)\n",
    "\n",
    "gs1 = gridspec.GridSpecFromSubplotSpec(3, 1, subplot_spec=gs0[0])\n",
    "for n in range(3):\n",
    "    ax = fig.add_subplot(gs1[n])\n",
    "    e_ref_first = np.array([_.table['counts'][n] for _ in fpes])\n",
    "    plt.hist(e_ref_first, bins=10, alpha=0.5)\n",
    "    plt.xlabel(f'counts\\nbin no:{n+1}')\n",
    "    plt.ylabel('Number of observations')\n",
    "    \n",
    "gs2 = gridspec.GridSpecFromSubplotSpec(3, 1, subplot_spec=gs0[1])\n",
    "for n in range(3):\n",
    "    ax = fig.add_subplot(gs2[n])\n",
    "    e_ref_first = np.array([_.table['counts'][n+3] for _ in fpes])\n",
    "    plt.hist(e_ref_first, bins=10, alpha=0.5)\n",
    "    plt.xlabel(f'counts\\nbin no:{n+4}')\n",
    "    plt.ylabel('Number of observations')\n",
    "\n",
    "gs3 = gridspec.GridSpecFromSubplotSpec(3, 1, subplot_spec=gs0[2])\n",
    "for n in range(3):\n",
    "    ax = fig.add_subplot(gs3[n])\n",
    "    e_ref_first = np.array([_.table['counts'][n+6] for _ in fpes])\n",
    "    plt.hist(e_ref_first, bins=10, alpha=0.5)\n",
    "    plt.xlabel(f'counts\\nbin no:{n+7}')\n",
    "    plt.ylabel('Number of observations')\n",
    "\n",
    "plt.show()"
   ]
  },
  {
   "cell_type": "code",
   "execution_count": null,
   "metadata": {},
   "outputs": [],
   "source": [
    "x = ['e_ref','e_min','e_max','ref_dnde','ref_flux','ref_eflux','ref_e2dnde','norm','stat','norm_err','norm_errp','norm_errn','norm_ul','sqrt_ts','ts','norm_scan','stat_scan','dnde','dnde_ul','dnde_err','dnde_errp','dnde_errn']"
   ]
  },
  {
   "cell_type": "code",
   "execution_count": null,
   "metadata": {
    "scrolled": true
   },
   "outputs": [],
   "source": [
    "flux_points_mean = fpe.run()\n",
    "flux_points_mean.table_formatted"
   ]
  },
  {
   "cell_type": "code",
   "execution_count": null,
   "metadata": {},
   "outputs": [],
   "source": [
    "for _ in x:\n",
    "    y = 0\n",
    "    for bin in fpes:\n",
    "        y = y + bin.table[_]\n",
    "    y = y/len(fpes)\n",
    "    flux_points_mean.table[_] = y\n",
    "    \n",
    "y = 0\n",
    "for bin in fpes:\n",
    "    y = y + bin.table['counts']\n",
    "y = y/len(fpes)\n",
    "flux_points_mean.table['counts'] = y.astype(int)"
   ]
  },
  {
   "cell_type": "code",
   "execution_count": null,
   "metadata": {
    "scrolled": true
   },
   "outputs": [],
   "source": [
    "flux_points_mean.table_formatted"
   ]
  },
  {
   "cell_type": "code",
   "execution_count": null,
   "metadata": {},
   "outputs": [],
   "source": [
    "plt.figure(figsize=(16, 8))\n",
    "flux_points_mean.table[\"is_ul\"] = flux_points_mean.table[\"ts\"] < 4\n",
    "ax = flux_points_mean.plot(\n",
    "    energy_power=2, flux_unit=\"erg-1 cm-2 s-1\", color=\"darkorange\"\n",
    ")\n",
    "flux_points_mean.to_sed_type(\"e2dnde\").plot_ts_profiles(ax=ax)"
   ]
  },
  {
   "cell_type": "code",
   "execution_count": null,
   "metadata": {},
   "outputs": [],
   "source": [
    "flux_points_dataset = FluxPointsDataset(\n",
    "    data=flux_points_mean, models=model_best_joints[124]\n",
    ")"
   ]
  },
  {
   "cell_type": "code",
   "execution_count": null,
   "metadata": {},
   "outputs": [],
   "source": [
    "plt.figure(figsize=(16, 8))\n",
    "flux_points_dataset.peek();"
   ]
  },
  {
   "cell_type": "code",
   "execution_count": null,
   "metadata": {},
   "outputs": [],
   "source": [
    "plt.figure(figsize=[16,8])\n",
    "flux_points_mean.plot(energy_power=2)\n",
    "simu.plot(energy_range=energy_range, energy_power=2)\n",
    "plt.show"
   ]
  },
  {
   "cell_type": "code",
   "execution_count": null,
   "metadata": {},
   "outputs": [],
   "source": []
  }
 ],
 "metadata": {
  "kernelspec": {
   "display_name": "Python 3",
   "language": "python",
   "name": "python3"
  },
  "language_info": {
   "codemirror_mode": {
    "name": "ipython",
    "version": 3
   },
   "file_extension": ".py",
   "mimetype": "text/x-python",
   "name": "python",
   "nbconvert_exporter": "python",
   "pygments_lexer": "ipython3",
   "version": "3.6.7"
  }
 },
 "nbformat": 4,
 "nbformat_minor": 4
}
