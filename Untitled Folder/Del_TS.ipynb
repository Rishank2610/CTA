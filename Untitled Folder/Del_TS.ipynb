{
 "cells": [
  {
   "cell_type": "code",
   "execution_count": 1,
   "id": "representative-measurement",
   "metadata": {},
   "outputs": [],
   "source": [
    "%matplotlib inline\n",
    "import matplotlib.pyplot as plt"
   ]
  },
  {
   "cell_type": "code",
   "execution_count": 2,
   "id": "functional-deputy",
   "metadata": {},
   "outputs": [],
   "source": [
    "import numpy as np\n",
    "import astropy.units as u\n",
    "from astropy.coordinates import SkyCoord\n",
    "from gammapy.irf import load_cta_irfs\n",
    "from gammapy.maps import WcsGeom, MapAxis\n",
    "from regions import CircleSkyRegion\n",
    "from gammapy.modeling.models import (\n",
    "    PowerLawSpectralModel,\n",
    "    GaussianSpatialModel,\n",
    "    SkyModel,\n",
    "    Models,\n",
    "    PointSpatialModel,\n",
    "    FoVBackgroundModel,\n",
    "    ExpCutoffPowerLawSpectralModel,\n",
    ")\n",
    "from gammapy.makers import MapDatasetMaker, SafeMaskMaker, RingBackgroundMaker, FoVBackgroundMaker\n",
    "from gammapy.modeling import Fit\n",
    "from gammapy.maps import Map\n",
    "from scipy.stats import norm\n",
    "from gammapy.data import Observation\n",
    "from gammapy.datasets import MapDataset, MapDatasetOnOff\n",
    "from gammapy.estimators import ExcessMapEstimator"
   ]
  },
  {
   "cell_type": "code",
   "execution_count": 3,
   "id": "willing-population",
   "metadata": {},
   "outputs": [],
   "source": [
    "import scipy.stats as stats\n",
    "import math\n",
    "import statistics\n",
    "import os"
   ]
  },
  {
   "cell_type": "code",
   "execution_count": 4,
   "id": "junior-pocket",
   "metadata": {},
   "outputs": [
    {
     "name": "stdout",
     "output_type": "stream",
     "text": [
      "/home/rishank/anaconda2/envs/cta/share/caldb/\n",
      "data\n"
     ]
    }
   ],
   "source": [
    "os.environ['CALDB'] = '/home/rishank/anaconda2/envs/cta/share/caldb/'\n",
    "!echo $CALDB\n",
    "!ls $CALDB"
   ]
  },
  {
   "cell_type": "code",
   "execution_count": 5,
   "id": "lightweight-interim",
   "metadata": {},
   "outputs": [
    {
     "name": "stderr",
     "output_type": "stream",
     "text": [
      "Invalid unit found in background table! Assuming (s-1 MeV-1 sr-1)\n"
     ]
    }
   ],
   "source": [
    "irfs = load_cta_irfs(\n",
    "    \"$CALDB/data/cta/prod3b-v2/bcf/South_z20_50h/irf_file.fits\"\n",
    ")"
   ]
  },
  {
   "cell_type": "code",
   "execution_count": 6,
   "id": "coupled-friendship",
   "metadata": {},
   "outputs": [],
   "source": [
    "# Define the observation parameters (typically the observation duration and the pointing position):\n",
    "livetime = 1.0 * u.hr\n",
    "l = 0.05\n",
    "pointing = SkyCoord(141.409467, 40.566962, unit=\"deg\", frame=\"galactic\")"
   ]
  },
  {
   "cell_type": "code",
   "execution_count": 7,
   "id": "infinite-professor",
   "metadata": {},
   "outputs": [],
   "source": [
    "# Define map geometry for binned simulation\n",
    "energy_reco = MapAxis.from_edges(\n",
    "    np.logspace(-1.0, 1.0, 10), unit=\"TeV\", name=\"energy\", interp=\"log\"\n",
    ")\n",
    "geom = WcsGeom.create(\n",
    "    skydir=(141.409467, 40.566962),\n",
    "    binsz=0.02,\n",
    "    width=(3, 3),\n",
    "    frame=\"galactic\",\n",
    "    axes=[energy_reco],\n",
    ")\n",
    "# It is usually useful to have a separate binning for the true energy axis\n",
    "energy_true = MapAxis.from_edges(\n",
    "    np.logspace(-1.5, 1.5, 30), unit=\"TeV\", name=\"energy_true\", interp=\"log\"\n",
    ")\n",
    "\n",
    "empty = MapDataset.create(geom, name=\"dataset-simu\")"
   ]
  },
  {
   "cell_type": "code",
   "execution_count": 8,
   "id": "annual-requirement",
   "metadata": {},
   "outputs": [
    {
     "name": "stdout",
     "output_type": "stream",
     "text": [
      "Models\n",
      "\n",
      "Component 0: SkyModel\n",
      "\n",
      "  Name                      : model-simu\n",
      "  Datasets names            : None\n",
      "  Spectral model type       : PowerLawSpectralModel\n",
      "  Spatial  model type       : PointSpatialModel\n",
      "  Temporal model type       : \n",
      "  Parameters:\n",
      "    index                   :   2.495              \n",
      "    amplitude               :   2.72e-13  1 / (cm2 s TeV)\n",
      "    reference    (frozen)   :   1.000  TeV         \n",
      "    lon_0                   : 141.409  deg         \n",
      "    lat_0                   :  40.567  deg         \n",
      "\n",
      "Component 1: FoVBackgroundModel\n",
      "\n",
      "  Name                      : dataset-simu-bkg\n",
      "  Datasets names            : ['dataset-simu']\n",
      "  Spectral model type       : PowerLawNormSpectralModel\n",
      "  Parameters:\n",
      "    norm                    :   1.000              \n",
      "    tilt         (frozen)   :   0.000              \n",
      "    reference    (frozen)   :   1.000  TeV         \n",
      "\n",
      "\n"
     ]
    }
   ],
   "source": [
    "# Define sky model to used simulate the data.\n",
    "# Here we use a Gaussian spatial model and a Power Law spectral model.\n",
    "spatial_model = PointSpatialModel(\n",
    "    lon_0=\"141.409467 deg\", lat_0=\"40.566962 deg\", frame=\"galactic\"\n",
    ")\n",
    "spectral_model = PowerLawSpectralModel(\n",
    "    index=2.495, amplitude=\"2.72e-13 cm-2 s-1 TeV-1\", reference=\"1 TeV\"\n",
    ")\n",
    "model_simu = SkyModel(\n",
    "    spatial_model=spatial_model,\n",
    "    spectral_model=spectral_model,\n",
    "    name=\"model-simu\",\n",
    ")\n",
    "\n",
    "bkg_model = FoVBackgroundModel(dataset_name=\"dataset-simu\")\n",
    "\n",
    "models = Models([model_simu, bkg_model])\n",
    "print(models)"
   ]
  },
  {
   "cell_type": "code",
   "execution_count": 9,
   "id": "loaded-nightlife",
   "metadata": {},
   "outputs": [
    {
     "name": "stdout",
     "output_type": "stream",
     "text": [
      "Models\n",
      "\n",
      "Component 0: SkyModel\n",
      "\n",
      "  Name                      : model-simu\n",
      "  Datasets names            : None\n",
      "  Spectral model type       : ExpCutoffPowerLawSpectralModel\n",
      "  Spatial  model type       : PointSpatialModel\n",
      "  Temporal model type       : \n",
      "  Parameters:\n",
      "    index                   :   2.495              \n",
      "    amplitude               :   2.72e-13  1 / (cm2 s TeV)\n",
      "    reference    (frozen)   :   1.000  TeV         \n",
      "    lambda_                 :   0.050  1 / TeV     \n",
      "    alpha        (frozen)   :   1.000              \n",
      "    lon_0                   : 141.409  deg         \n",
      "    lat_0                   :  40.567  deg         \n",
      "\n",
      "Component 1: FoVBackgroundModel\n",
      "\n",
      "  Name                      : dataset-simu-bkg\n",
      "  Datasets names            : ['dataset-simu']\n",
      "  Spectral model type       : PowerLawNormSpectralModel\n",
      "  Parameters:\n",
      "    norm                    :   1.000              \n",
      "    tilt         (frozen)   :   0.000              \n",
      "    reference    (frozen)   :   1.000  TeV         \n",
      "\n",
      "\n"
     ]
    }
   ],
   "source": [
    "# Define sky model to used simulate the data.\n",
    "# Here we use a Gaussian spatial model and a Power Law spectral model.\n",
    "spatial_model = PointSpatialModel(\n",
    "    lon_0=\"141.409467 deg\", lat_0=\"40.566962 deg\", frame=\"galactic\"\n",
    ")\n",
    "spectral_model = ExpCutoffPowerLawSpectralModel(\n",
    "    index=2.495, amplitude=\"2.72e-13 cm-2 s-1 TeV-1\", reference=\"1 TeV\", lambda_=l * u.Unit(\"TeV-1\"), alpha = 1\n",
    ")\n",
    "model_simu_1 = SkyModel(\n",
    "    spatial_model=spatial_model,\n",
    "    spectral_model=spectral_model,\n",
    "    name=\"model-simu\",\n",
    ")\n",
    "\n",
    "bkg_model_1 = FoVBackgroundModel(dataset_name=\"dataset-simu\")\n",
    "\n",
    "models_1 = Models([model_simu_1, bkg_model_1])\n",
    "print(models_1)"
   ]
  },
  {
   "cell_type": "code",
   "execution_count": 10,
   "id": "surprising-lighter",
   "metadata": {},
   "outputs": [],
   "source": [
    "def de1(energy_reco, energy_true, livetime, irfs, pointing, geom, models):\n",
    "    model = models.copy()\n",
    "    obs = Observation.create(pointing=pointing, livetime=livetime, irfs=irfs)\n",
    "    maker = MapDatasetMaker(selection=[\"exposure\", \"background\", \"psf\", \"edisp\"])\n",
    "    maker_safe_mask = SafeMaskMaker(methods=[\"offset-max\"], offset_max=3.5 * u.deg)\n",
    "    dataset = maker.run(empty, obs)\n",
    "    dataset = maker_safe_mask.run(dataset, obs)\n",
    "    dataset.models = model\n",
    "    dataset.fake(random_state=42)\n",
    "    \n",
    "    dataset1 = dataset.copy()\n",
    "    dataset1.models = bkg_model\n",
    "    \n",
    "    geom_image = geom.to_image().to_cube([energy_reco.squash()])\n",
    "    regions = CircleSkyRegion(center=pointing, radius=0.2 * u.deg)\n",
    "    exclusion_mask = Map.from_geom(geom_image)\n",
    "    exclusion_mask.data = geom_image.region_mask([regions], inside=False)\n",
    "    maker_fov = FoVBackgroundMaker(method=\"fit\", exclusion_mask=exclusion_mask)\n",
    "    \n",
    "    ## original code\n",
    "    dataset1 = maker_fov.run(dataset1)\n",
    "    \n",
    "    TS0 = dataset1.stat_sum()\n",
    "    models_fit = model.copy()\n",
    "    dataset1.models = models_fit\n",
    "    fit = Fit([dataset1])\n",
    "    result = fit.run()\n",
    "    print(result)\n",
    "    TS1 = dataset1.stat_sum()\n",
    "    del_TS = TS0 - TS1\n",
    "    \n",
    "    return del_TS"
   ]
  },
  {
   "cell_type": "code",
   "execution_count": 11,
   "id": "impossible-kinase",
   "metadata": {},
   "outputs": [],
   "source": [
    "def de2(energy_reco, energy_true, livetime, irfs, pointing, geom, models):\n",
    "    model = models.copy()\n",
    "    obs = Observation.create(pointing=pointing, livetime=livetime, irfs=irfs)\n",
    "    maker = MapDatasetMaker(selection=[\"exposure\", \"background\", \"psf\", \"edisp\"])\n",
    "    maker_safe_mask = SafeMaskMaker(methods=[\"offset-max\"], offset_max=3.5 * u.deg)\n",
    "    dataset = maker.run(empty, obs)\n",
    "    dataset = maker_safe_mask.run(dataset, obs)\n",
    "    dataset.models = model\n",
    "    dataset.fake(random_state=42)\n",
    "    \n",
    "    geom_image = geom.to_image().to_cube([energy_reco.squash()])\n",
    "    regions = CircleSkyRegion(center=pointing, radius=0.2 * u.deg)\n",
    "    exclusion_mask = Map.from_geom(geom_image)\n",
    "    exclusion_mask.data = geom_image.region_mask([regions], inside=False)\n",
    "    ring_maker = RingBackgroundMaker(\n",
    "        r_in=\"0.5 deg\", width=\"0.3 deg\", exclusion_mask=exclusion_mask\n",
    "    )\n",
    "    dataset_on_off = MapDatasetOnOff.create(\n",
    "        geom=geom_image, energy_axis_true=energy_true, name=\"stacked\"\n",
    "    )\n",
    "    dataset_on_off = ring_maker.run(dataset.to_image())\n",
    "    \n",
    "    TS0 = dataset_on_off.stat_sum()\n",
    "    dataset_on_off.models = model\n",
    "    fit = Fit([dataset_on_off])\n",
    "    result = fit.run()\n",
    "    print(result)\n",
    "    TS1 = dataset_on_off.stat_sum()\n",
    "    del_TS = TS0 - TS1\n",
    "    \n",
    "    return del_TS"
   ]
  },
  {
   "cell_type": "code",
   "execution_count": 12,
   "id": "systematic-whole",
   "metadata": {},
   "outputs": [],
   "source": [
    "def de3(energy_reco, energy_true, livetime, irfs, pointing, geom, models):\n",
    "    model = models.copy()\n",
    "    obs = Observation.create(pointing=pointing, livetime=livetime, irfs=irfs)\n",
    "    maker = MapDatasetMaker(selection=[\"exposure\", \"background\", \"psf\", \"edisp\"])\n",
    "    maker_safe_mask = SafeMaskMaker(methods=[\"offset-max\"], offset_max=3.5 * u.deg)\n",
    "    dataset = maker.run(empty, obs)\n",
    "    dataset = maker_safe_mask.run(dataset, obs)\n",
    "    dataset.models = model\n",
    "    dataset.fake(random_state=42)\n",
    "    \n",
    "    geom_image = geom.to_image().to_cube([energy_reco.squash()])\n",
    "    regions = CircleSkyRegion(center=pointing, radius=0.2 * u.deg)\n",
    "    exclusion_mask = Map.from_geom(geom_image)\n",
    "    exclusion_mask.data = geom_image.region_mask([regions], inside=False)\n",
    "    ring_maker = RingBackgroundMaker(\n",
    "        r_in=\"0.5 deg\", width=\"0.3 deg\", exclusion_mask=exclusion_mask\n",
    "    )\n",
    "    dataset = ring_maker.run(dataset) ## Instead of default dataset.to_image, only dataset is taken\n",
    "    \n",
    "    TS0 = dataset.stat_sum()\n",
    "    dataset.models = model\n",
    "    fit = Fit([dataset])\n",
    "    result = fit.run()\n",
    "    print(result)\n",
    "    TS1 = dataset.stat_sum()\n",
    "    del_TS = TS0 - TS1\n",
    "    \n",
    "    return del_TS"
   ]
  },
  {
   "cell_type": "code",
   "execution_count": 13,
   "id": "strong-currency",
   "metadata": {},
   "outputs": [],
   "source": [
    "x = [1.0,5.0,10.0,25.0,50.0] * u.hr\n",
    "y1 = []\n",
    "y2 = []\n",
    "y3 = []"
   ]
  },
  {
   "cell_type": "code",
   "execution_count": 14,
   "id": "upper-naples",
   "metadata": {
    "scrolled": true
   },
   "outputs": [
    {
     "name": "stdout",
     "output_type": "stream",
     "text": [
      "OptimizeResult\n",
      "\n",
      "\tbackend    : minuit\n",
      "\tmethod     : minuit\n",
      "\tsuccess    : True\n",
      "\tmessage    : Optimization terminated successfully.\n",
      "\tnfev       : 83\n",
      "\ttotal stat : 116120.58\n",
      "\n",
      "OptimizeResult\n",
      "\n",
      "\tbackend    : minuit\n",
      "\tmethod     : minuit\n",
      "\tsuccess    : True\n",
      "\tmessage    : Optimization terminated successfully.\n",
      "\tnfev       : 165\n",
      "\ttotal stat : 25895.64\n",
      "\n",
      "OptimizeResult\n",
      "\n",
      "\tbackend    : minuit\n",
      "\tmethod     : minuit\n",
      "\tsuccess    : True\n",
      "\tmessage    : Optimization terminated successfully.\n",
      "\tnfev       : 82\n",
      "\ttotal stat : 76092.40\n",
      "\n",
      "OptimizeResult\n",
      "\n",
      "\tbackend    : minuit\n",
      "\tmethod     : minuit\n",
      "\tsuccess    : True\n",
      "\tmessage    : Optimization terminated successfully.\n",
      "\tnfev       : 102\n",
      "\ttotal stat : 145269.61\n",
      "\n",
      "OptimizeResult\n",
      "\n",
      "\tbackend    : minuit\n",
      "\tmethod     : minuit\n",
      "\tsuccess    : True\n",
      "\tmessage    : Optimization terminated successfully.\n",
      "\tnfev       : 114\n",
      "\ttotal stat : 23607.83\n",
      "\n",
      "OptimizeResult\n",
      "\n",
      "\tbackend    : minuit\n",
      "\tmethod     : minuit\n",
      "\tsuccess    : True\n",
      "\tmessage    : Optimization terminated successfully.\n",
      "\tnfev       : 100\n",
      "\ttotal stat : 132248.07\n",
      "\n",
      "OptimizeResult\n",
      "\n",
      "\tbackend    : minuit\n",
      "\tmethod     : minuit\n",
      "\tsuccess    : True\n",
      "\tmessage    : Optimization terminated successfully.\n",
      "\tnfev       : 99\n",
      "\ttotal stat : -88793.82\n",
      "\n",
      "OptimizeResult\n",
      "\n",
      "\tbackend    : minuit\n",
      "\tmethod     : minuit\n",
      "\tsuccess    : True\n",
      "\tmessage    : Optimization terminated successfully.\n",
      "\tnfev       : 102\n",
      "\ttotal stat : 22898.50\n",
      "\n",
      "OptimizeResult\n",
      "\n",
      "\tbackend    : minuit\n",
      "\tmethod     : minuit\n",
      "\tsuccess    : True\n",
      "\tmessage    : Optimization terminated successfully.\n",
      "\tnfev       : 110\n",
      "\ttotal stat : 152114.55\n",
      "\n",
      "OptimizeResult\n",
      "\n",
      "\tbackend    : minuit\n",
      "\tmethod     : minuit\n",
      "\tsuccess    : True\n",
      "\tmessage    : Optimization terminated successfully.\n",
      "\tnfev       : 110\n",
      "\ttotal stat : -1462994.32\n",
      "\n",
      "OptimizeResult\n",
      "\n",
      "\tbackend    : minuit\n",
      "\tmethod     : minuit\n",
      "\tsuccess    : True\n",
      "\tmessage    : Optimization terminated successfully.\n",
      "\tnfev       : 104\n",
      "\ttotal stat : 22539.17\n",
      "\n",
      "OptimizeResult\n",
      "\n",
      "\tbackend    : minuit\n",
      "\tmethod     : minuit\n",
      "\tsuccess    : True\n",
      "\tmessage    : Optimization terminated successfully.\n",
      "\tnfev       : 107\n",
      "\ttotal stat : 179247.66\n",
      "\n",
      "OptimizeResult\n",
      "\n",
      "\tbackend    : minuit\n",
      "\tmethod     : minuit\n",
      "\tsuccess    : True\n",
      "\tmessage    : Optimization terminated successfully.\n",
      "\tnfev       : 140\n",
      "\ttotal stat : -4811556.19\n",
      "\n",
      "OptimizeResult\n",
      "\n",
      "\tbackend    : minuit\n",
      "\tmethod     : minuit\n",
      "\tsuccess    : True\n",
      "\tmessage    : Optimization terminated successfully.\n",
      "\tnfev       : 106\n",
      "\ttotal stat : 22563.86\n",
      "\n",
      "OptimizeResult\n",
      "\n",
      "\tbackend    : minuit\n",
      "\tmethod     : minuit\n",
      "\tsuccess    : True\n",
      "\tmessage    : Optimization terminated successfully.\n",
      "\tnfev       : 111\n",
      "\ttotal stat : 195936.03\n",
      "\n"
     ]
    }
   ],
   "source": [
    "for i in range(len(x)):\n",
    "    y1.append(de1(energy_reco, energy_true, x[i], irfs, pointing, geom, models))\n",
    "    y2.append(de2(energy_reco, energy_true, x[i], irfs, pointing, geom, model_simu))\n",
    "    y3.append(de3(energy_reco, energy_true, x[i], irfs, pointing, geom, model_simu))"
   ]
  },
  {
   "cell_type": "code",
   "execution_count": 15,
   "id": "silver-ground",
   "metadata": {},
   "outputs": [
    {
     "name": "stdout",
     "output_type": "stream",
     "text": [
      "[65.94878298821277, 340.4854523335234, 508.1142427546438, 1507.6534783621319, 2680.8004509638995]\n",
      "[28.458548489310488, 173.04957275284687, 262.3565373249585, 799.7235525751021, 1444.8590310183354]\n",
      "[65.46104268955241, 350.50544087489834, 509.7862557108165, 1507.144063462125, 2671.2633523138356]\n"
     ]
    }
   ],
   "source": [
    "print(y1)\n",
    "print(y2)\n",
    "print(y3)"
   ]
  },
  {
   "cell_type": "code",
   "execution_count": 16,
   "id": "informative-bedroom",
   "metadata": {},
   "outputs": [
    {
     "data": {
      "text/plain": [
       "Text(0.5, 1.0, 'Original code')"
      ]
     },
     "execution_count": 16,
     "metadata": {},
     "output_type": "execute_result"
    },
    {
     "data": {
      "image/png": "[encoded data removed]",
      "text/plain": [
       "<Figure size 432x288 with 1 Axes>"
      ]
     },
     "metadata": {
      "needs_background": "light"
     },
     "output_type": "display_data"
    }
   ],
   "source": [
    "plt.scatter(x,y1)\n",
    "#plt.xscale(\"log\")\n",
    "plt.legend([\"FoV_Background\"])\n",
    "plt.ylabel(\"Del_TS\")\n",
    "plt.xlabel(\"LiveTime (hrs)\")\n",
    "plt.title(\"Original code\")"
   ]
  },
  {
   "cell_type": "code",
   "execution_count": 17,
   "id": "aggressive-illness",
   "metadata": {
    "scrolled": false
   },
   "outputs": [
    {
     "data": {
      "text/plain": [
       "Text(0.5, 1.0, 'Original code')"
      ]
     },
     "execution_count": 17,
     "metadata": {},
     "output_type": "execute_result"
    },
    {
     "data": {
      "image/png": "[encoded data removed]",
      "text/plain": [
       "<Figure size 432x288 with 1 Axes>"
      ]
     },
     "metadata": {
      "needs_background": "light"
     },
     "output_type": "display_data"
    }
   ],
   "source": [
    "plt.scatter(x,y2)\n",
    "#plt.xscale(\"log\")\n",
    "plt.legend([\"Ring_Background\"])\n",
    "plt.ylabel(\"Del_TS\")\n",
    "plt.xlabel(\"LiveTime (hrs)\")\n",
    "plt.title(\"Original code\")"
   ]
  },
  {
   "cell_type": "code",
   "execution_count": 18,
   "id": "identified-gallery",
   "metadata": {},
   "outputs": [
    {
     "data": {
      "text/plain": [
       "Text(0.5, 1.0, 'Instead of default dataset.to_image, only dataset is taken')"
      ]
     },
     "execution_count": 18,
     "metadata": {},
     "output_type": "execute_result"
    },
    {
     "data": {
      "image/png": "[encoded data removed]",
      "text/plain": [
       "<Figure size 432x288 with 1 Axes>"
      ]
     },
     "metadata": {
      "needs_background": "light"
     },
     "output_type": "display_data"
    }
   ],
   "source": [
    "plt.scatter(x,y3)\n",
    "plt.legend([\"Ring_Background\"])\n",
    "plt.ylabel(\"Del_TS\")\n",
    "plt.xlabel(\"LiveTime (hrs)\")\n",
    "plt.title(\"Instead of default dataset.to_image, only dataset is taken\")"
   ]
  }
 ],
 "metadata": {
  "kernelspec": {
   "display_name": "Python 3",
   "language": "python",
   "name": "python3"
  },
  "language_info": {
   "codemirror_mode": {
    "name": "ipython",
    "version": 3
   },
   "file_extension": ".py",
   "mimetype": "text/x-python",
   "name": "python",
   "nbconvert_exporter": "python",
   "pygments_lexer": "ipython3",
   "version": "3.7.0"
  }
 },
 "nbformat": 4,
 "nbformat_minor": 5
}
