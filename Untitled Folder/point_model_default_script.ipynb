{
 "cells": [
  {
   "cell_type": "code",
   "execution_count": 1,
   "metadata": {},
   "outputs": [],
   "source": [
    "%matplotlib inline\n",
    "import matplotlib.pyplot as plt"
   ]
  },
  {
   "cell_type": "code",
   "execution_count": 2,
   "metadata": {},
   "outputs": [],
   "source": [
    "import os\n",
    "import numpy as np\n",
    "import astropy.units as u\n",
    "from astropy.coordinates import SkyCoord, Angle\n",
    "from astropy.convolution import Gaussian2DKernel\n",
    "from regions import CircleSkyRegion\n",
    "from gammapy.spectrum import (\n",
    "    SpectrumDatasetOnOff,\n",
    "    SpectrumDataset,\n",
    "    SpectrumDatasetMaker,\n",
    "    FluxPointsEstimator,\n",
    "    FluxPointsDataset,\n",
    "    ReflectedRegionsBackgroundMaker,\n",
    "    plot_spectrum_datasets_off_regions,\n",
    ")\n",
    "from gammapy.modeling import Fit, Parameter, Datasets\n",
    "from gammapy.modeling.models import (\n",
    "    PowerLawSpectralModel,\n",
    "    SpectralModel,\n",
    "    SkyModel,\n",
    "    GaussianSpatialModel,\n",
    "    PointSpatialModel,\n",
    "    ExpCutoffPowerLawSpectralModel,\n",
    ")\n",
    "from gammapy.irf import load_cta_irfs\n",
    "from gammapy.data import Observation\n",
    "from gammapy.maps import MapAxis\n",
    "from itertools import combinations\n",
    "from gammapy.maps import MapAxis, WcsNDMap, WcsGeom\n",
    "from gammapy.cube import MapDatasetMaker, MapDataset, SafeMaskMaker\n",
    "from gammapy.detect import TSMapEstimator, find_peaks"
   ]
  },
  {
   "cell_type": "code",
   "execution_count": 3,
   "metadata": {},
   "outputs": [],
   "source": [
    "import scipy.stats as stats\n",
    "import math\n",
    "import statistics"
   ]
  },
  {
   "cell_type": "code",
   "execution_count": 4,
   "metadata": {},
   "outputs": [
    {
     "name": "stdout",
     "output_type": "stream",
     "text": [
      "/home/rishank/anaconda2/envs/cta/share/caldb/\n",
      "data\n"
     ]
    }
   ],
   "source": [
    "os.environ['CALDB'] = '/home/rishank/anaconda2/envs/cta/share/caldb/'\n",
    "!echo $CALDB\n",
    "!ls $CALDB"
   ]
  },
  {
   "cell_type": "code",
   "execution_count": 5,
   "metadata": {},
   "outputs": [],
   "source": [
    "irfs = load_cta_irfs(\n",
    "    \"$CALDB/data/cta/prod3b-v2/bcf/South_z20_50h/irf_file.fits\"\n",
    ")"
   ]
  },
  {
   "cell_type": "code",
   "execution_count": 6,
   "metadata": {},
   "outputs": [],
   "source": [
    "# Define the observation parameters (typically the observation duration and the pointing position):\n",
    "livetime = 10.0 * u.hr\n",
    "l = 0.5\n",
    "pointing = SkyCoord(0, 0, unit=\"deg\", frame=\"galactic\")"
   ]
  },
  {
   "cell_type": "code",
   "execution_count": 7,
   "metadata": {},
   "outputs": [],
   "source": [
    "# Define map geometry for binned simulation\n",
    "energy_reco = MapAxis.from_edges(\n",
    "    np.logspace(-1.5, 2.0, 40), unit=\"TeV\", name=\"energy\", interp=\"log\"\n",
    ")\n",
    "geom = WcsGeom.create(\n",
    "    skydir=(0, 0), binsz=0.02, width=(6, 6), coordsys=\"GAL\", axes=[energy_reco]\n",
    ")\n",
    "# It is usually useful to have a separate binning for the true energy axis\n",
    "energy_true = MapAxis.from_edges(\n",
    "    np.logspace(-1.5, 2.0, 200), unit=\"TeV\", name=\"energy\", interp=\"log\"\n",
    ")"
   ]
  },
  {
   "cell_type": "code",
   "execution_count": 8,
   "metadata": {},
   "outputs": [
    {
     "name": "stdout",
     "output_type": "stream",
     "text": [
      "SkyModel\n",
      "\n",
      "   name     value   error      unit         min        max    frozen\n",
      "--------- --------- ----- -------------- ---------- --------- ------\n",
      "    lon_0 2.000e-01   nan            deg        nan       nan  False\n",
      "    lat_0 1.000e-01   nan            deg -9.000e+01 9.000e+01  False\n",
      "    index 3.000e+00   nan                       nan       nan  False\n",
      "amplitude 1.000e-11   nan cm-2 s-1 TeV-1        nan       nan  False\n",
      "reference 1.000e+00   nan            TeV        nan       nan   True\n"
     ]
    }
   ],
   "source": [
    "# Define sky model to used simulate the data.\n",
    "# Here we use a Gaussian spatial model and a Power Law spectral model.\n",
    "spatial_model = PointSpatialModel(\n",
    "    lon_0=\"0.2 deg\", lat_0=\"0.1 deg\", frame=\"galactic\"\n",
    ")\n",
    "spectral_model = PowerLawSpectralModel(index=3, amplitude=1e-11 * u.Unit(\"cm-2 s-1 TeV-1\"), reference=1 * u.TeV)\n",
    "\n",
    "model_simu = SkyModel(\n",
    "    spatial_model=spatial_model,\n",
    "    spectral_model=spectral_model,\n",
    "    name=\"model_simu\",\n",
    ")\n",
    "print(model_simu)"
   ]
  },
  {
   "cell_type": "code",
   "execution_count": 9,
   "metadata": {},
   "outputs": [
    {
     "name": "stderr",
     "output_type": "stream",
     "text": [
      "WARNING: AstropyDeprecationWarning: The truth value of a Quantity is ambiguous. In the future this will raise a ValueError. [astropy.units.quantity]\n"
     ]
    },
    {
     "name": "stdout",
     "output_type": "stream",
     "text": [
      "Info for OBS_ID = 1\n",
      "- Pointing pos: RA 266.40 deg / Dec -28.94 deg\n",
      "- Livetime duration: 36000.0 s\n",
      "\n",
      "MapDataset\n",
      "\n",
      "    Name                            : obs_1 \n",
      "\n",
      "    Total counts                    : nan \n",
      "    Total predicted counts          : 1736545.85\n",
      "    Total background counts         : 1736545.85\n",
      "\n",
      "    Exposure min                    : 0.00e+00 m2 s\n",
      "    Exposure max                    : 1.95e+11 m2 s\n",
      "\n",
      "    Number of total bins            : 0 \n",
      "    Number of fit bins              : 3486132 \n",
      "\n",
      "    Fit statistic type              : cash\n",
      "    Fit statistic value (-2 log(L)) : nan\n",
      "\n",
      "    Number of models                : 1 \n",
      "    Number of parameters            : 3\n",
      "    Number of free parameters       : 1\n",
      "\n",
      "    Component 0: \n",
      "        Name                        : background\n",
      "        Type                        : BackgroundModel\n",
      "        Parameters:\n",
      "            norm                    : 1.000  \n",
      "            tilt         (frozen)   : 0.000  \n",
      "            reference    (frozen)   : 1.000  TeV\n",
      "\n",
      "\n"
     ]
    }
   ],
   "source": [
    "# Create an in-memory observation\n",
    "obs = Observation.create(pointing=pointing, livetime=livetime, irfs=irfs)\n",
    "print(obs)\n",
    "# Make the MapDataset\n",
    "empty = MapDataset.create(geom)\n",
    "maker = MapDatasetMaker(selection=[\"exposure\", \"background\", \"psf\", \"edisp\"])\n",
    "maker_safe_mask = SafeMaskMaker(methods=[\"offset-max\"], offset_max=4.0 * u.deg)\n",
    "dataset = maker.run(empty, obs)\n",
    "dataset = maker_safe_mask.run(dataset, obs)\n",
    "print(dataset)"
   ]
  },
  {
   "cell_type": "code",
   "execution_count": 10,
   "metadata": {},
   "outputs": [
    {
     "name": "stdout",
     "output_type": "stream",
     "text": [
      "MapDataset\n",
      "\n",
      "    Name                            : obs_1 \n",
      "\n",
      "    Total counts                    : 1850721 \n",
      "    Total predicted counts          : 1848546.43\n",
      "    Total background counts         : 1736545.85\n",
      "\n",
      "    Exposure min                    : 0.00e+00 m2 s\n",
      "    Exposure max                    : 1.95e+11 m2 s\n",
      "\n",
      "    Number of total bins            : 3510000 \n",
      "    Number of fit bins              : 3486132 \n",
      "\n",
      "    Fit statistic type              : cash\n",
      "    Fit statistic value (-2 log(L)) : 869737.77\n",
      "\n",
      "    Number of models                : 2 \n",
      "    Number of parameters            : 8\n",
      "    Number of free parameters       : 5\n",
      "\n",
      "    Component 0: \n",
      "        Name                        : model_simu\n",
      "        Type                        : SkyModel\n",
      "        Spatial  model type         : PointSpatialModel\n",
      "        Spectral model type         : PowerLawSpectralModel\n",
      "        Parameters:\n",
      "            lon_0                   : 0.200  deg\n",
      "            lat_0                   : 0.100  deg\n",
      "            index                   : 3.000  \n",
      "            amplitude               : 1.00e-11  1 / (cm2 s TeV)\n",
      "            reference    (frozen)   : 1.000  TeV\n",
      "\n",
      "    Component 1: \n",
      "        Name                        : background\n",
      "        Type                        : BackgroundModel\n",
      "        Parameters:\n",
      "            norm                    : 1.000  \n",
      "            tilt         (frozen)   : 0.000  \n",
      "            reference    (frozen)   : 1.000  TeV\n",
      "\n",
      "\n"
     ]
    }
   ],
   "source": [
    "# Add the model on the dataset and Poission fluctuate\n",
    "dataset.models = model_simu\n",
    "dataset.fake(random_state=42)\n",
    "# Do a print on the dataset - there is now a counts maps\n",
    "print(dataset)"
   ]
  },
  {
   "cell_type": "code",
   "execution_count": 11,
   "metadata": {},
   "outputs": [
    {
     "data": {
      "application/vnd.jupyter.widget-view+json": {
       "model_id": "015d78ab1f944c0fbfe6b60bc4c30ed6",
       "version_major": 2,
       "version_minor": 0
      },
      "text/plain": [
       "interactive(children=(SelectionSlider(continuous_update=False, description='Select energy:', layout=Layout(wid…"
      ]
     },
     "metadata": {},
     "output_type": "display_data"
    }
   ],
   "source": [
    "# To plot, eg, counts:\n",
    "dataset.counts.smooth(0.05 * u.deg).plot_interactive(\n",
    "    add_cbar=True, stretch=\"linear\"\n",
    ")"
   ]
  },
  {
   "cell_type": "code",
   "execution_count": 12,
   "metadata": {},
   "outputs": [
    {
     "data": {
      "application/vnd.jupyter.widget-view+json": {
       "model_id": "0915124315c940cea9d61f33ba44dfc6",
       "version_major": 2,
       "version_minor": 0
      },
      "text/plain": [
       "interactive(children=(SelectionSlider(continuous_update=False, description='Select energy:', layout=Layout(wid…"
      ]
     },
     "metadata": {},
     "output_type": "display_data"
    }
   ],
   "source": [
    "dataset.background_model.map.plot_interactive(add_cbar=True)"
   ]
  },
  {
   "cell_type": "code",
   "execution_count": 13,
   "metadata": {},
   "outputs": [
    {
     "data": {
      "image/png": "[encoded data removed]",
      "text/plain": [
       "<Figure size 432x288 with 1 Axes>"
      ]
     },
     "metadata": {
      "needs_background": "light"
     },
     "output_type": "display_data"
    }
   ],
   "source": [
    "kernel = Gaussian2DKernel(1, mode=\"oversample\").array\n",
    "plt.imshow(kernel);"
   ]
  },
  {
   "cell_type": "code",
   "execution_count": 14,
   "metadata": {},
   "outputs": [],
   "source": [
    "images = {\n",
    "    \"counts\": dataset.counts.get_image_by_idx((0,)),\n",
    "    \"exposure\": dataset.exposure.get_image_by_idx((0,)),\n",
    "    \"background\": dataset.background_model.map.get_image_by_idx((0,)),\n",
    "}\n",
    "\n",
    "images[\"excess\"] = images[\"counts\"] - images[\"background\"]"
   ]
  },
  {
   "cell_type": "code",
   "execution_count": 15,
   "metadata": {},
   "outputs": [
    {
     "name": "stdout",
     "output_type": "stream",
     "text": [
      "dict_keys(['ts', 'sqrt_ts', 'flux', 'flux_err', 'flux_ul', 'niter'])\n",
      "CPU times: user 11.5 s, sys: 319 ms, total: 11.8 s\n",
      "Wall time: 14.1 s\n"
     ]
    }
   ],
   "source": [
    "%%time\n",
    "ts_image_estimator = TSMapEstimator()\n",
    "images_ts = ts_image_estimator.run(images, kernel)\n",
    "print(images_ts.keys())"
   ]
  },
  {
   "cell_type": "code",
   "execution_count": 16,
   "metadata": {},
   "outputs": [
    {
     "data": {
      "text/html": [
       "<i>Table length=2</i>\n",
       "<table id=\"table140318938785216\" class=\"table-striped table-bordered table-condensed\">\n",
       "<thead><tr><th>value</th><th>x</th><th>y</th><th>ra</th><th>dec</th></tr></thead>\n",
       "<thead><tr><th></th><th></th><th></th><th>deg</th><th>deg</th></tr></thead>\n",
       "<thead><tr><th>float64</th><th>int64</th><th>int64</th><th>float64</th><th>float64</th></tr></thead>\n",
       "<tr><td>38.511</td><td>139</td><td>155</td><td>266.42269</td><td>-28.69962</td></tr>\n",
       "<tr><td>5.2182</td><td>157</td><td>150</td><td>266.30581</td><td>-29.05896</td></tr>\n",
       "</table>"
      ],
      "text/plain": [
       "<Table length=2>\n",
       " value    x     y       ra       dec   \n",
       "                       deg       deg   \n",
       "float64 int64 int64  float64   float64 \n",
       "------- ----- ----- --------- ---------\n",
       " 38.511   139   155 266.42269 -28.69962\n",
       " 5.2182   157   150 266.30581 -29.05896"
      ]
     },
     "execution_count": 16,
     "metadata": {},
     "output_type": "execute_result"
    }
   ],
   "source": [
    "sources = find_peaks(images_ts[\"sqrt_ts\"], threshold=5)\n",
    "sources"
   ]
  },
  {
   "cell_type": "code",
   "execution_count": 17,
   "metadata": {},
   "outputs": [
    {
     "name": "stdout",
     "output_type": "stream",
     "text": [
      "The history saving thread hit an unexpected error (OperationalError('database is locked',)).History will not be written to the database.\n"
     ]
    },
    {
     "data": {
      "text/plain": [
       "<SkyCoord (ICRS): (ra, dec) in deg\n",
       "    [(266.42268946, -28.69962033), (266.30581456, -29.05896191)]>"
      ]
     },
     "execution_count": 17,
     "metadata": {},
     "output_type": "execute_result"
    }
   ],
   "source": [
    "source_pos = SkyCoord(sources[\"ra\"], sources[\"dec\"])\n",
    "source_pos"
   ]
  },
  {
   "cell_type": "code",
   "execution_count": 18,
   "metadata": {},
   "outputs": [
    {
     "data": {
      "image/png": "[encoded data removed]",
      "text/plain": [
       "<Figure size 432x288 with 2 Axes>"
      ]
     },
     "metadata": {
      "needs_background": "light"
     },
     "output_type": "display_data"
    }
   ],
   "source": [
    "# Plot sources on top of significance sky image\n",
    "images_ts[\"sqrt_ts\"].plot(add_cbar=True)\n",
    "\n",
    "plt.gca().scatter(\n",
    "    source_pos.ra.deg,\n",
    "    source_pos.dec.deg,\n",
    "    transform=plt.gca().get_transform(\"icrs\"),\n",
    "    color=\"none\",\n",
    "    edgecolor=\"white\",\n",
    "    marker=\"o\",\n",
    "    s=200,\n",
    "    lw=1.5,\n",
    ");"
   ]
  },
  {
   "cell_type": "code",
   "execution_count": null,
   "metadata": {},
   "outputs": [],
   "source": []
  }
 ],
 "metadata": {
  "kernelspec": {
   "display_name": "Python 3",
   "language": "python",
   "name": "python3"
  },
  "language_info": {
   "codemirror_mode": {
    "name": "ipython",
    "version": 3
   },
   "file_extension": ".py",
   "mimetype": "text/x-python",
   "name": "python",
   "nbconvert_exporter": "python",
   "pygments_lexer": "ipython3",
   "version": "3.6.7"
  }
 },
 "nbformat": 4,
 "nbformat_minor": 4
}
