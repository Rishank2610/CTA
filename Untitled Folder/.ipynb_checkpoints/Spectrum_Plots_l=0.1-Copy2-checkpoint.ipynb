{
 "cells": [
  {
   "cell_type": "code",
   "execution_count": 1,
   "id": "representative-measurement",
   "metadata": {},
   "outputs": [],
   "source": [
    "%matplotlib inline\n",
    "import matplotlib.pyplot as plt"
   ]
  },
  {
   "cell_type": "code",
   "execution_count": 2,
   "id": "functional-deputy",
   "metadata": {},
   "outputs": [],
   "source": [
    "import numpy as np\n",
    "import astropy.units as u\n",
    "from astropy.coordinates import SkyCoord\n",
    "from gammapy.irf import load_cta_irfs\n",
    "from gammapy.maps import WcsGeom, MapAxis\n",
    "from regions import CircleSkyRegion\n",
    "from gammapy.modeling.models import (\n",
    "    PowerLawSpectralModel,\n",
    "    GaussianSpatialModel,\n",
    "    SkyModel,\n",
    "    Models,\n",
    "    PointSpatialModel,\n",
    "    FoVBackgroundModel,\n",
    "    ExpCutoffPowerLawSpectralModel,\n",
    ")\n",
    "from gammapy.makers import MapDatasetMaker, SafeMaskMaker, RingBackgroundMaker, FoVBackgroundMaker\n",
    "from gammapy.modeling import Fit\n",
    "from gammapy.maps import Map\n",
    "from scipy.stats import norm\n",
    "from gammapy.data import Observation\n",
    "from gammapy.datasets import MapDataset, MapDatasetOnOff\n",
    "from gammapy.estimators import ExcessMapEstimator, FluxPointsEstimator"
   ]
  },
  {
   "cell_type": "code",
   "execution_count": 3,
   "id": "willing-population",
   "metadata": {},
   "outputs": [],
   "source": [
    "import scipy.stats as stats\n",
    "import math\n",
    "import statistics\n",
    "import os"
   ]
  },
  {
   "cell_type": "code",
   "execution_count": 4,
   "id": "junior-pocket",
   "metadata": {},
   "outputs": [
    {
     "name": "stdout",
     "output_type": "stream",
     "text": [
      "/home/rishank/anaconda2/envs/cta/share/caldb/\n",
      "data\n"
     ]
    }
   ],
   "source": [
    "os.environ['CALDB'] = '/home/rishank/anaconda2/envs/cta/share/caldb/'\n",
    "!echo $CALDB\n",
    "!ls $CALDB"
   ]
  },
  {
   "cell_type": "code",
   "execution_count": 5,
   "id": "lightweight-interim",
   "metadata": {},
   "outputs": [
    {
     "name": "stderr",
     "output_type": "stream",
     "text": [
      "Invalid unit found in background table! Assuming (s-1 MeV-1 sr-1)\n"
     ]
    }
   ],
   "source": [
    "irfs = load_cta_irfs(\n",
    "    \"$CALDB/data/cta/prod3b-v2/bcf/South_z20_50h/irf_file.fits\"\n",
    ")"
   ]
  },
  {
   "cell_type": "code",
   "execution_count": 6,
   "id": "coupled-friendship",
   "metadata": {},
   "outputs": [],
   "source": [
    "# Define the observation parameters (typically the observation duration and the pointing position):\n",
    "livetime = 1.0 * u.hr\n",
    "l = 0.1\n",
    "pointing = SkyCoord(141.409467, 40.566962, unit=\"deg\", frame=\"galactic\")"
   ]
  },
  {
   "cell_type": "code",
   "execution_count": 7,
   "id": "infinite-professor",
   "metadata": {},
   "outputs": [],
   "source": [
    "# Define map geometry for binned simulation\n",
    "energy_reco = MapAxis.from_edges(\n",
    "    np.logspace(-1.0, 1.0, 10), unit=\"TeV\", name=\"energy\", interp=\"log\"\n",
    ")\n",
    "geom = WcsGeom.create(\n",
    "    skydir=(141.409467, 40.566962),\n",
    "    binsz=0.02,\n",
    "    width=(3, 3),\n",
    "    frame=\"galactic\",\n",
    "    axes=[energy_reco],\n",
    ")\n",
    "# It is usually useful to have a separate binning for the true energy axis\n",
    "energy_true = MapAxis.from_edges(\n",
    "    np.logspace(-1.5, 1.5, 30), unit=\"TeV\", name=\"energy_true\", interp=\"log\"\n",
    ")\n",
    "\n",
    "empty = MapDataset.create(geom, name=\"dataset-simu\")"
   ]
  },
  {
   "cell_type": "code",
   "execution_count": 8,
   "id": "loaded-nightlife",
   "metadata": {},
   "outputs": [
    {
     "name": "stdout",
     "output_type": "stream",
     "text": [
      "Models\n",
      "\n",
      "Component 0: SkyModel\n",
      "\n",
      "  Name                      : model-simu\n",
      "  Datasets names            : None\n",
      "  Spectral model type       : ExpCutoffPowerLawSpectralModel\n",
      "  Spatial  model type       : PointSpatialModel\n",
      "  Temporal model type       : \n",
      "  Parameters:\n",
      "    index                   :   2.220              \n",
      "    amplitude               :   1.29e-12  1 / (cm2 s TeV)\n",
      "    reference    (frozen)   :   1.000  TeV         \n",
      "    lambda_                 :   0.100  1 / TeV     \n",
      "    alpha        (frozen)   :   1.000              \n",
      "    lon_0                   : 141.409  deg         \n",
      "    lat_0                   :  40.567  deg         \n",
      "\n",
      "Component 1: FoVBackgroundModel\n",
      "\n",
      "  Name                      : dataset-simu-bkg\n",
      "  Datasets names            : ['dataset-simu']\n",
      "  Spectral model type       : PowerLawNormSpectralModel\n",
      "  Parameters:\n",
      "    norm                    :   1.000              \n",
      "    tilt         (frozen)   :   0.000              \n",
      "    reference    (frozen)   :   1.000  TeV         \n",
      "\n",
      "\n"
     ]
    }
   ],
   "source": [
    "# Define sky model to used simulate the data.\n",
    "# Here we use a Point spatial model and a Exponential Cut Power Law spectral model.\n",
    "spatial_model = PointSpatialModel(\n",
    "    lon_0=\"141.409467 deg\", lat_0=\"40.566962 deg\", frame=\"galactic\"\n",
    ")\n",
    "spectral_model = ExpCutoffPowerLawSpectralModel(\n",
    "    index=2.22, amplitude=\"1.289e-12 cm-2 s-1 TeV-1\", reference=\"1 TeV\", lambda_=l * u.Unit(\"TeV-1\"), alpha = 1\n",
    ")\n",
    "model_simu = SkyModel(\n",
    "    spatial_model=spatial_model,\n",
    "    spectral_model=spectral_model,\n",
    "    name=\"model-simu\",\n",
    ")\n",
    "\n",
    "bkg_model = FoVBackgroundModel(dataset_name=\"dataset-simu\")\n",
    "\n",
    "models = Models([model_simu, bkg_model])\n",
    "print(models)"
   ]
  },
  {
   "cell_type": "code",
   "execution_count": 9,
   "id": "sitting-sandwich",
   "metadata": {},
   "outputs": [
    {
     "name": "stdout",
     "output_type": "stream",
     "text": [
      "Models\n",
      "\n",
      "Component 0: SkyModel\n",
      "\n",
      "  Name                      : model-simu\n",
      "  Datasets names            : None\n",
      "  Spectral model type       : ExpCutoffPowerLawSpectralModel\n",
      "  Spatial  model type       : PointSpatialModel\n",
      "  Temporal model type       : \n",
      "  Parameters:\n",
      "    index                   :   3.000              \n",
      "    amplitude               :   1.00e-11  1 / (cm2 s TeV)\n",
      "    reference    (frozen)   :   1.000  TeV         \n",
      "    lambda_                 :   0.000  1 / TeV     \n",
      "    alpha        (frozen)   :   1.000              \n",
      "    lon_0                   : 141.409  deg         \n",
      "    lat_0                   :  40.567  deg         \n",
      "\n",
      "Component 1: FoVBackgroundModel\n",
      "\n",
      "  Name                      : dataset-simu-bkg\n",
      "  Datasets names            : ['dataset-simu']\n",
      "  Spectral model type       : PowerLawNormSpectralModel\n",
      "  Parameters:\n",
      "    norm                    :   1.000              \n",
      "    tilt         (frozen)   :   0.000              \n",
      "    reference    (frozen)   :   1.000  TeV         \n",
      "\n",
      "\n"
     ]
    }
   ],
   "source": [
    "spatial_model_1 = PointSpatialModel(\n",
    "    lon_0=\"141.409467 deg\", lat_0=\"40.566962 deg\", frame=\"galactic\"\n",
    ")\n",
    "spectral_model_1 = ExpCutoffPowerLawSpectralModel(\n",
    "    index=3, amplitude=\"1e-11 cm-2 s-1 TeV-1\", reference=\"1 TeV\", lambda_=0 * u.Unit(\"TeV-1\"), alpha = 1\n",
    ")\n",
    "model_simu_1 = SkyModel(\n",
    "    spatial_model=spatial_model_1,\n",
    "    spectral_model=spectral_model_1,\n",
    "    name=\"model-simu\",\n",
    ")\n",
    "\n",
    "bkg_model_1 = FoVBackgroundModel(dataset_name=\"dataset-simu\")\n",
    "\n",
    "models_1 = Models([model_simu_1, bkg_model_1])\n",
    "print(models_1)"
   ]
  },
  {
   "cell_type": "code",
   "execution_count": 10,
   "id": "surprising-lighter",
   "metadata": {},
   "outputs": [],
   "source": [
    "def FoV(energy_reco, energy_true, livetime, irfs, pointing, geom, models, models_1):\n",
    "    model = models.copy()\n",
    "    model_1 = models_1.copy()\n",
    "    obs = Observation.create(pointing=pointing, livetime=livetime, irfs=irfs)\n",
    "    maker = MapDatasetMaker(selection=[\"exposure\", \"background\", \"psf\", \"edisp\"])\n",
    "    maker_safe_mask = SafeMaskMaker(methods=[\"offset-max\"], offset_max=3.5 * u.deg)\n",
    "    dataset = maker.run(empty, obs)\n",
    "    dataset = maker_safe_mask.run(dataset, obs)\n",
    "    dataset.models = model\n",
    "    dataset.fake(random_state=42)\n",
    "    \n",
    "    dataset1 = dataset.copy()\n",
    "    dataset1.models = bkg_model\n",
    "    \n",
    "    geom_image = geom.to_image().to_cube([energy_reco.squash()])\n",
    "    regions = CircleSkyRegion(center=pointing, radius=0.2 * u.deg)\n",
    "    exclusion_mask = Map.from_geom(geom_image)\n",
    "    exclusion_mask.data = geom_image.region_mask([regions], inside=False)\n",
    "    maker_fov = FoVBackgroundMaker(method=\"fit\", exclusion_mask=exclusion_mask)\n",
    "    \n",
    "    ## original code\n",
    "    dataset1 = dataset1.to_spectrum_dataset(on_region=regions)\n",
    "    dataset1 = maker_fov.run(dataset1)\n",
    "    \n",
    "    TS0 = dataset1.stat_sum()\n",
    "    models_fit = model_1[0].copy()\n",
    "    dataset1.models = models_fit\n",
    "    \n",
    "    dataset1.models.parameters['lambda_'].frozen = True\n",
    "    fit = Fit([dataset1])\n",
    "    result = fit.run()\n",
    "    print(result)\n",
    "    TS1 = result.total_stat\n",
    "    del_TS = TS0 - TS1\n",
    "    \n",
    "    dataset1.models.parameters['lambda_'].frozen = False\n",
    "    fit = Fit([dataset1])\n",
    "    result = fit.run()\n",
    "    print(result)\n",
    "    TS2 = result.total_stat\n",
    "    del_TS_1 = TS1 - TS2\n",
    "    del_TS_2 = TS0 - TS2\n",
    "    \n",
    "    return del_TS, dataset1, models_fit, del_TS_1, del_TS_2"
   ]
  },
  {
   "cell_type": "code",
   "execution_count": 11,
   "id": "impossible-kinase",
   "metadata": {},
   "outputs": [],
   "source": [
    "def ring1(energy_reco, energy_true, livetime, irfs, pointing, geom, models):\n",
    "    model = models.copy()\n",
    "    obs = Observation.create(pointing=pointing, livetime=livetime, irfs=irfs)\n",
    "    maker = MapDatasetMaker(selection=[\"exposure\", \"background\", \"psf\", \"edisp\"])\n",
    "    maker_safe_mask = SafeMaskMaker(methods=[\"offset-max\"], offset_max=3.5 * u.deg)\n",
    "    dataset = maker.run(empty, obs)\n",
    "    dataset = maker_safe_mask.run(dataset, obs)\n",
    "    dataset.models = model\n",
    "    dataset.fake(random_state=42)\n",
    "    \n",
    "    geom_image = geom.to_image().to_cube([energy_reco.squash()])\n",
    "    regions = CircleSkyRegion(center=pointing, radius=0.2 * u.deg)\n",
    "    exclusion_mask = Map.from_geom(geom_image)\n",
    "    exclusion_mask.data = geom_image.region_mask([regions], inside=False)\n",
    "    ring_maker = RingBackgroundMaker(\n",
    "        r_in=\"0.5 deg\", width=\"0.3 deg\", exclusion_mask=exclusion_mask\n",
    "    )\n",
    "    dataset_on_off = MapDatasetOnOff.create(\n",
    "        geom=geom_image, energy_axis_true=energy_true, name=\"stacked\"\n",
    "    )\n",
    "    dataset_on_off = ring_maker.run(dataset.to_image())\n",
    "    \n",
    "    TS0 = dataset_on_off.stat_sum()\n",
    "    dataset_on_off.models = model\n",
    "    fit = Fit([dataset_on_off])\n",
    "    result = fit.run()\n",
    "    print(result)\n",
    "    TS1 = dataset_on_off.stat_sum()\n",
    "    del_TS = TS0 - TS1\n",
    "    \n",
    "    return del_TS, dataset_on_off, model, dataset"
   ]
  },
  {
   "cell_type": "code",
   "execution_count": 12,
   "id": "systematic-whole",
   "metadata": {},
   "outputs": [],
   "source": [
    "def ring2(energy_reco, energy_true, livetime, irfs, pointing, geom, models):\n",
    "    model = models.copy()\n",
    "    obs = Observation.create(pointing=pointing, livetime=livetime, irfs=irfs)\n",
    "    maker = MapDatasetMaker(selection=[\"exposure\", \"background\", \"psf\", \"edisp\"])\n",
    "    maker_safe_mask = SafeMaskMaker(methods=[\"offset-max\"], offset_max=3.5 * u.deg)\n",
    "    dataset = maker.run(empty, obs)\n",
    "    dataset = maker_safe_mask.run(dataset, obs)\n",
    "    dataset.models = model\n",
    "    dataset.fake(random_state=42)\n",
    "    \n",
    "    geom_image = geom.to_image().to_cube([energy_reco.squash()])\n",
    "    regions = CircleSkyRegion(center=pointing, radius=0.2 * u.deg)\n",
    "    exclusion_mask = Map.from_geom(geom_image)\n",
    "    exclusion_mask.data = geom_image.region_mask([regions], inside=False)\n",
    "    ring_maker = RingBackgroundMaker(\n",
    "        r_in=\"0.5 deg\", width=\"0.3 deg\", exclusion_mask=exclusion_mask\n",
    "    )\n",
    "    dataset = ring_maker.run(dataset) ## Instead of default dataset.to_image, only dataset is taken\n",
    "    \n",
    "    TS0 = dataset.stat_sum()\n",
    "    dataset.models = model\n",
    "    fit = Fit([dataset])\n",
    "    result = fit.run()\n",
    "    print(result)\n",
    "    TS1 = dataset.stat_sum()\n",
    "    del_TS = TS0 - TS1\n",
    "    \n",
    "    return del_TS, dataset, model"
   ]
  },
  {
   "cell_type": "code",
   "execution_count": 13,
   "id": "strong-currency",
   "metadata": {},
   "outputs": [],
   "source": [
    "x = [4.5,5.0,10.0,25.0,50.0] * u.hr\n",
    "y1 = []"
   ]
  },
  {
   "cell_type": "code",
   "execution_count": 14,
   "id": "upper-naples",
   "metadata": {
    "scrolled": true
   },
   "outputs": [
    {
     "name": "stdout",
     "output_type": "stream",
     "text": [
      "OptimizeResult\n",
      "\n",
      "\tbackend    : minuit\n",
      "\tmethod     : minuit\n",
      "\tsuccess    : True\n",
      "\tmessage    : Optimization terminated successfully.\n",
      "\tnfev       : 118\n",
      "\ttotal stat : -28874.45\n",
      "\n",
      "OptimizeResult\n",
      "\n",
      "\tbackend    : minuit\n",
      "\tmethod     : minuit\n",
      "\tsuccess    : False\n",
      "\tmessage    : Optimization failed.\n",
      "\tnfev       : 72\n",
      "\ttotal stat : -28874.65\n",
      "\n",
      "OptimizeResult\n",
      "\n",
      "\tbackend    : minuit\n",
      "\tmethod     : minuit\n",
      "\tsuccess    : True\n",
      "\tmessage    : Optimization terminated successfully.\n",
      "\tnfev       : 119\n",
      "\ttotal stat : -32511.69\n",
      "\n",
      "OptimizeResult\n",
      "\n",
      "\tbackend    : minuit\n",
      "\tmethod     : minuit\n",
      "\tsuccess    : False\n",
      "\tmessage    : Optimization failed.\n",
      "\tnfev       : 85\n",
      "\ttotal stat : -32514.42\n",
      "\n",
      "OptimizeResult\n",
      "\n",
      "\tbackend    : minuit\n",
      "\tmethod     : minuit\n",
      "\tsuccess    : True\n",
      "\tmessage    : Optimization terminated successfully.\n",
      "\tnfev       : 145\n",
      "\ttotal stat : -74280.47\n",
      "\n",
      "OptimizeResult\n",
      "\n",
      "\tbackend    : minuit\n",
      "\tmethod     : minuit\n",
      "\tsuccess    : True\n",
      "\tmessage    : Optimization terminated successfully.\n",
      "\tnfev       : 80\n",
      "\ttotal stat : -74294.19\n",
      "\n",
      "OptimizeResult\n",
      "\n",
      "\tbackend    : minuit\n",
      "\tmethod     : minuit\n",
      "\tsuccess    : True\n",
      "\tmessage    : Optimization terminated successfully.\n",
      "\tnfev       : 128\n",
      "\ttotal stat : -211879.37\n",
      "\n",
      "OptimizeResult\n",
      "\n",
      "\tbackend    : minuit\n",
      "\tmethod     : minuit\n",
      "\tsuccess    : False\n",
      "\tmessage    : Optimization failed.\n",
      "\tnfev       : 82\n",
      "\ttotal stat : -211883.22\n",
      "\n",
      "OptimizeResult\n",
      "\n",
      "\tbackend    : minuit\n",
      "\tmethod     : minuit\n",
      "\tsuccess    : True\n",
      "\tmessage    : Optimization terminated successfully.\n",
      "\tnfev       : 142\n",
      "\ttotal stat : -461445.04\n",
      "\n",
      "OptimizeResult\n",
      "\n",
      "\tbackend    : minuit\n",
      "\tmethod     : minuit\n",
      "\tsuccess    : True\n",
      "\tmessage    : Optimization terminated successfully.\n",
      "\tnfev       : 79\n",
      "\ttotal stat : -461489.19\n",
      "\n"
     ]
    }
   ],
   "source": [
    "for i in range(len(x)):\n",
    "    y1.append(FoV(energy_reco, energy_true, x[i], irfs, pointing, geom, models, models_1))"
   ]
  },
  {
   "cell_type": "code",
   "execution_count": 15,
   "id": "continuing-transcription",
   "metadata": {},
   "outputs": [],
   "source": [
    "del_TS_ = []\n",
    "del_TS_1 = []\n",
    "del_TS_2 = []\n",
    "dataset_ = []\n",
    "model_ = []\n",
    "for i in range(len(x)):\n",
    "    del_TS_.append(y1[i][0])\n",
    "    dataset_.append(y1[i][1])\n",
    "    model_.append(y1[i][2])\n",
    "    del_TS_1.append(y1[i][3])\n",
    "    del_TS_2.append(y1[i][4])"
   ]
  },
  {
   "cell_type": "code",
   "execution_count": 16,
   "id": "silver-ground",
   "metadata": {},
   "outputs": [
    {
     "name": "stdout",
     "output_type": "stream",
     "text": [
      "[803.033246665691, 928.0530852997035, 1883.0410226522217, 4185.40524938039, 8213.121125133825]\n",
      "[0.20028134982931078, 2.73561756161871, 13.726425959379412, 3.8474196357710753, 44.15095791040221]\n",
      "[803.2335280155203, 930.7887028613222, 1896.7674486116011, 4189.252669016161, 8257.272083044227]\n"
     ]
    }
   ],
   "source": [
    "print(del_TS_[0:5])\n",
    "print(del_TS_1[0:5])\n",
    "print(del_TS_2[0:5])"
   ]
  },
  {
   "cell_type": "code",
   "execution_count": 17,
   "id": "informative-bedroom",
   "metadata": {},
   "outputs": [
    {
     "data": {
      "text/plain": [
       "Text(0.5, 1.0, 'Original code')"
      ]
     },
     "execution_count": 17,
     "metadata": {},
     "output_type": "execute_result"
    },
    {
     "data": {
      "image/png": "[encoded data removed]",
      "text/plain": [
       "<Figure size 432x288 with 1 Axes>"
      ]
     },
     "metadata": {
      "needs_background": "light"
     },
     "output_type": "display_data"
    }
   ],
   "source": [
    "plt.scatter(x,del_TS_[0:5])\n",
    "#plt.xscale(\"log\")\n",
    "plt.legend([\"FoV_Background\"])\n",
    "plt.ylabel(\"Del_TS\")\n",
    "plt.xlabel(\"LiveTime (hrs)\")\n",
    "plt.title(\"Original code\")"
   ]
  },
  {
   "cell_type": "code",
   "execution_count": 18,
   "id": "arranged-albany",
   "metadata": {},
   "outputs": [
    {
     "data": {
      "text/plain": [
       "Text(0.5, 1.0, 'Original code')"
      ]
     },
     "execution_count": 18,
     "metadata": {},
     "output_type": "execute_result"
    },
    {
     "data": {
      "image/png": "[encoded data removed]",
      "text/plain": [
       "<Figure size 432x288 with 1 Axes>"
      ]
     },
     "metadata": {
      "needs_background": "light"
     },
     "output_type": "display_data"
    }
   ],
   "source": [
    "plt.scatter(x,del_TS_1[0:5])\n",
    "#plt.xscale(\"log\")\n",
    "plt.legend([\"FoV_Background\"])\n",
    "plt.ylabel(\"Del_TS\")\n",
    "plt.xlabel(\"LiveTime (hrs)\")\n",
    "plt.title(\"Original code\")"
   ]
  },
  {
   "cell_type": "code",
   "execution_count": 19,
   "id": "prerequisite-financing",
   "metadata": {},
   "outputs": [
    {
     "data": {
      "text/plain": [
       "Text(0.5, 1.0, 'Original code')"
      ]
     },
     "execution_count": 19,
     "metadata": {},
     "output_type": "execute_result"
    },
    {
     "data": {
      "image/png": "[encoded data removed]",
      "text/plain": [
       "<Figure size 432x288 with 1 Axes>"
      ]
     },
     "metadata": {
      "needs_background": "light"
     },
     "output_type": "display_data"
    }
   ],
   "source": [
    "plt.scatter(x,del_TS_2[0:5])\n",
    "#plt.xscale(\"log\")\n",
    "plt.legend([\"FoV_Background\"])\n",
    "plt.ylabel(\"Del_TS\")\n",
    "plt.xlabel(\"LiveTime (hrs)\")\n",
    "plt.title(\"Original code\")"
   ]
  },
  {
   "cell_type": "code",
   "execution_count": 20,
   "id": "nervous-study",
   "metadata": {},
   "outputs": [],
   "source": [
    "def flux_plt(model, dataset):\n",
    "    spec = model.spectral_model\n",
    "    energy_edges = np.logspace(-1.0, 1.0, 5) * u.TeV\n",
    "    fpe = FluxPointsEstimator(energy_edges=energy_edges)\n",
    "    flux_points = fpe.run(datasets=[dataset])\n",
    "    energy_range = [0.1, 10] * u.TeV\n",
    "    spec.plot(energy_range=energy_range, energy_power=2)\n",
    "    ax = spec.plot_error(energy_range=energy_range, energy_power=2)\n",
    "    flux_points.plot(ax=ax, energy_power=2)\n",
    "    plt.title(\"Livetime = \"+str(dataset.gti.time_delta.to(u.hr)))#, fontsize='15')\n",
    "    return"
   ]
  },
  {
   "cell_type": "code",
   "execution_count": 21,
   "id": "mysterious-poetry",
   "metadata": {},
   "outputs": [
    {
     "data": {
      "image/png": "[encoded data removed]",
      "text/plain": [
       "<Figure size 720x720 with 5 Axes>"
      ]
     },
     "metadata": {
      "needs_background": "light"
     },
     "output_type": "display_data"
    }
   ],
   "source": [
    "fig = plt.figure(figsize = [10,10], tight_layout=True)\n",
    "fig.suptitle('FoV Background', verticalalignment = 'baseline', fontsize = 15)\n",
    "plt.subplot(321)\n",
    "flux_plt(model_[0],dataset_[0])\n",
    "plt.subplot(322)\n",
    "flux_plt(model_[1],dataset_[1])\n",
    "plt.subplot(323)\n",
    "flux_plt(model_[2],dataset_[2])\n",
    "plt.subplot(324)\n",
    "flux_plt(model_[3],dataset_[3])\n",
    "plt.subplot(325)\n",
    "flux_plt(model_[4],dataset_[4])"
   ]
  }
 ],
 "metadata": {
  "kernelspec": {
   "display_name": "Python 3",
   "language": "python",
   "name": "python3"
  },
  "language_info": {
   "codemirror_mode": {
    "name": "ipython",
    "version": 3
   },
   "file_extension": ".py",
   "mimetype": "text/x-python",
   "name": "python",
   "nbconvert_exporter": "python",
   "pygments_lexer": "ipython3",
   "version": "3.7.0"
  }
 },
 "nbformat": 4,
 "nbformat_minor": 5
}
