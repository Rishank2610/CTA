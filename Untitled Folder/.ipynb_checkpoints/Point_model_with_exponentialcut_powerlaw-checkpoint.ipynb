{
 "cells": [
  {
   "cell_type": "code",
   "execution_count": 1,
   "metadata": {},
   "outputs": [],
   "source": [
    "%matplotlib inline\n",
    "import matplotlib.pyplot as plt"
   ]
  },
  {
   "cell_type": "code",
   "execution_count": 2,
   "metadata": {},
   "outputs": [],
   "source": [
    "import os\n",
    "import numpy as np\n",
    "import astropy.units as u\n",
    "from astropy.coordinates import SkyCoord, Angle\n",
    "from regions import CircleSkyRegion\n",
    "from gammapy.spectrum import (\n",
    "    SpectrumDatasetOnOff,\n",
    "    SpectrumDataset,\n",
    "    SpectrumDatasetMaker,\n",
    "    FluxPointsEstimator,\n",
    "    FluxPointsDataset,\n",
    "    ReflectedRegionsBackgroundMaker,\n",
    "    plot_spectrum_datasets_off_regions,\n",
    ")\n",
    "from gammapy.modeling import Fit, Parameter, Datasets\n",
    "from gammapy.modeling.models import (\n",
    "    PowerLawSpectralModel,\n",
    "    SpectralModel,\n",
    "    SkyModel,\n",
    "    ExpCutoffPowerLawSpectralModel,\n",
    ")\n",
    "from gammapy.irf import load_cta_irfs\n",
    "from gammapy.data import Observation\n",
    "from gammapy.maps import MapAxis\n",
    "from itertools import combinations\n",
    "from gammapy.maps import MapAxis, WcsNDMap, WcsGeom\n",
    "from gammapy.cube import MapDatasetMaker, MapDataset, SafeMaskMaker\n",
    "from gammapy.detect import TSMapEstimator, find_peaks"
   ]
  },
  {
   "cell_type": "code",
   "execution_count": 3,
   "metadata": {},
   "outputs": [],
   "source": [
    "import scipy.stats as stats\n",
    "import math\n",
    "import statistics"
   ]
  },
  {
   "cell_type": "code",
   "execution_count": 4,
   "metadata": {},
   "outputs": [
    {
     "name": "stdout",
     "output_type": "stream",
     "text": [
      "/home/rishank/anaconda2/envs/cta/share/caldb/\n",
      "data\n"
     ]
    }
   ],
   "source": [
    "os.environ['CALDB'] = '/home/rishank/anaconda2/envs/cta/share/caldb/'\n",
    "!echo $CALDB\n",
    "!ls $CALDB"
   ]
  },
  {
   "cell_type": "code",
   "execution_count": 5,
   "metadata": {},
   "outputs": [],
   "source": [
    "irfs = load_cta_irfs(\n",
    "    \"$CALDB/data/cta/prod3b-v2/bcf/South_z20_50h/irf_file.fits\"\n",
    ")"
   ]
  },
  {
   "cell_type": "code",
   "execution_count": 6,
   "metadata": {},
   "outputs": [],
   "source": [
    "livetime = 2 * u.h\n",
    "n_obs = 100\n",
    "l = 0.5\n",
    "pointing = SkyCoord(141.409467, 40.566962, unit=\"deg\", frame=\"galactic\")\n",
    "offset = 0.5 * u.deg\n",
    "# Reconstructed and true energy axis\n",
    "energy_axis = MapAxis.from_edges(\n",
    "    np.logspace(-1.5, 2.0, 40), unit=\"TeV\", name=\"energy\", interp=\"log\"\n",
    ")\n",
    "energy_axis_true = MapAxis.from_edges(\n",
    "    np.logspace(-1.5, 2.0, 200), unit=\"TeV\", name=\"energy\", interp=\"log\"\n",
    ")\n",
    "\n",
    "on_region_radius = Angle(\"0.11 deg\")\n",
    "on_region = CircleSkyRegion(center=pointing, radius=on_region_radius)"
   ]
  },
  {
   "cell_type": "code",
   "execution_count": 13,
   "metadata": {},
   "outputs": [
    {
     "name": "stdout",
     "output_type": "stream",
     "text": [
      "Info for OBS_ID = 1\n",
      "- Pointing pos: RA 148.97 deg / Dec 69.68 deg\n",
      "- Livetime duration: 7200.0 s\n",
      "\n"
     ]
    },
    {
     "name": "stderr",
     "output_type": "stream",
     "text": [
      "WARNING: AstropyDeprecationWarning: The truth value of a Quantity is ambiguous. In the future this will raise a ValueError. [astropy.units.quantity]\n"
     ]
    }
   ],
   "source": [
    "obs = Observation.create(pointing=pointing, livetime=livetime, irfs=irfs)\n",
    "print(obs)"
   ]
  },
  {
   "cell_type": "code",
   "execution_count": 9,
   "metadata": {},
   "outputs": [
    {
     "data": {
      "text/plain": [
       "WcsGeom\n",
       "\n",
       "\taxes       : ['lon', 'lat', 'energy']\n",
       "\tshape      : (500, 400, 39)\n",
       "\tndim       : 3\n",
       "\tcoordsys   : GAL\n",
       "\tprojection : CAR\n",
       "\tcenter     : 141.4 deg, 40.6 deg\n",
       "\twidth      : 10.0 deg x 8.0 deg"
      ]
     },
     "execution_count": 9,
     "metadata": {},
     "output_type": "execute_result"
    }
   ],
   "source": [
    "geom = WcsGeom.create(\n",
    "    skydir=(141.409467, 40.566962), npix=(500, 400), binsz=0.02, coordsys=\"GAL\", axes=[energy_axis]\n",
    ")\n",
    "geom"
   ]
  },
  {
   "cell_type": "markdown",
   "metadata": {},
   "source": [
    "# Compute images"
   ]
  },
  {
   "cell_type": "code",
   "execution_count": 10,
   "metadata": {},
   "outputs": [
    {
     "data": {
      "image/png": "[encoded data removed]",
      "text/plain": [
       "<Figure size 432x288 with 1 Axes>"
      ]
     },
     "metadata": {
      "needs_background": "light"
     },
     "output_type": "display_data"
    }
   ],
   "source": [
    "exclusion_mask = geom.to_image().region_mask([on_region], inside=False)\n",
    "exclusion_mask = WcsNDMap(geom.to_image(), exclusion_mask)\n",
    "exclusion_mask.plot();"
   ]
  },
  {
   "cell_type": "code",
   "execution_count": 14,
   "metadata": {},
   "outputs": [
    {
     "ename": "AttributeError",
     "evalue": "'Observation' object has no attribute 'events'",
     "output_type": "error",
     "traceback": [
      "\u001b[0;31m---------------------------------------------------------------------------\u001b[0m",
      "\u001b[0;31mAttributeError\u001b[0m                            Traceback (most recent call last)",
      "\u001b[0;32m<timed exec>\u001b[0m in \u001b[0;36m<module>\u001b[0;34m\u001b[0m\n",
      "\u001b[0;32m~/anaconda2/envs/gammapy-0.15/lib/python3.6/site-packages/gammapy/cube/make.py\u001b[0m in \u001b[0;36mrun\u001b[0;34m(self, dataset, observation)\u001b[0m\n\u001b[1;32m    223\u001b[0m \u001b[0;34m\u001b[0m\u001b[0m\n\u001b[1;32m    224\u001b[0m         \u001b[0;32mif\u001b[0m \u001b[0;34m\"counts\"\u001b[0m \u001b[0;32min\u001b[0m \u001b[0mself\u001b[0m\u001b[0;34m.\u001b[0m\u001b[0mselection\u001b[0m\u001b[0;34m:\u001b[0m\u001b[0;34m\u001b[0m\u001b[0;34m\u001b[0m\u001b[0m\n\u001b[0;32m--> 225\u001b[0;31m             \u001b[0mcounts\u001b[0m \u001b[0;34m=\u001b[0m \u001b[0mself\u001b[0m\u001b[0;34m.\u001b[0m\u001b[0mmake_counts\u001b[0m\u001b[0;34m(\u001b[0m\u001b[0mdataset\u001b[0m\u001b[0;34m.\u001b[0m\u001b[0mcounts\u001b[0m\u001b[0;34m.\u001b[0m\u001b[0mgeom\u001b[0m\u001b[0;34m,\u001b[0m \u001b[0mobservation\u001b[0m\u001b[0;34m)\u001b[0m\u001b[0;34m\u001b[0m\u001b[0;34m\u001b[0m\u001b[0m\n\u001b[0m\u001b[1;32m    226\u001b[0m             \u001b[0mkwargs\u001b[0m\u001b[0;34m[\u001b[0m\u001b[0;34m\"counts\"\u001b[0m\u001b[0;34m]\u001b[0m \u001b[0;34m=\u001b[0m \u001b[0mcounts\u001b[0m\u001b[0;34m\u001b[0m\u001b[0;34m\u001b[0m\u001b[0m\n\u001b[1;32m    227\u001b[0m \u001b[0;34m\u001b[0m\u001b[0m\n",
      "\u001b[0;32m~/anaconda2/envs/gammapy-0.15/lib/python3.6/site-packages/gammapy/cube/make.py\u001b[0m in \u001b[0;36mmake_counts\u001b[0;34m(geom, observation)\u001b[0m\n\u001b[1;32m     63\u001b[0m         \"\"\"\n\u001b[1;32m     64\u001b[0m         \u001b[0mcounts\u001b[0m \u001b[0;34m=\u001b[0m \u001b[0mMap\u001b[0m\u001b[0;34m.\u001b[0m\u001b[0mfrom_geom\u001b[0m\u001b[0;34m(\u001b[0m\u001b[0mgeom\u001b[0m\u001b[0;34m)\u001b[0m\u001b[0;34m\u001b[0m\u001b[0;34m\u001b[0m\u001b[0m\n\u001b[0;32m---> 65\u001b[0;31m         \u001b[0mcounts\u001b[0m\u001b[0;34m.\u001b[0m\u001b[0mfill_events\u001b[0m\u001b[0;34m(\u001b[0m\u001b[0mobservation\u001b[0m\u001b[0;34m.\u001b[0m\u001b[0mevents\u001b[0m\u001b[0;34m)\u001b[0m\u001b[0;34m\u001b[0m\u001b[0;34m\u001b[0m\u001b[0m\n\u001b[0m\u001b[1;32m     66\u001b[0m         \u001b[0;32mreturn\u001b[0m \u001b[0mcounts\u001b[0m\u001b[0;34m\u001b[0m\u001b[0;34m\u001b[0m\u001b[0m\n\u001b[1;32m     67\u001b[0m \u001b[0;34m\u001b[0m\u001b[0m\n",
      "\u001b[0;31mAttributeError\u001b[0m: 'Observation' object has no attribute 'events'"
     ]
    }
   ],
   "source": [
    "%%time\n",
    "stacked = MapDataset.create(geom=geom)\n",
    "maker = MapDatasetMaker(selection=[\"counts\", \"background\", \"exposure\"])\n",
    "maker_safe_mask = SafeMaskMaker(methods=[\"offset-max\"], offset_max=2.5 * u.deg)\n",
    "\n",
    "cutout = stacked.cutout(obs.pointing_radec, width=\"5 deg\")\n",
    "dataset = maker.run(cutout, obs)\n",
    "dataset = maker_safe_mask.run(dataset, obs)\n",
    "stacked.stack(dataset)"
   ]
  },
  {
   "cell_type": "code",
   "execution_count": 23,
   "metadata": {},
   "outputs": [
    {
     "name": "stdout",
     "output_type": "stream",
     "text": [
      "ExpCutoffPowerLawSpectralModel\n",
      "\n",
      "   name     value   error      unit      min max frozen\n",
      "--------- --------- ----- -------------- --- --- ------\n",
      "    index 2.220e+00   nan                nan nan  False\n",
      "amplitude 1.289e-12   nan cm-2 s-1 TeV-1 nan nan  False\n",
      "reference 1.000e+00   nan            TeV nan nan   True\n",
      "  lambda_ 5.000e-01   nan          TeV-1 nan nan  False\n",
      "    alpha 1.000e+00   nan                nan nan   True\n"
     ]
    }
   ],
   "source": [
    "# Define spectral model - a simple Power Law in this case\n",
    "model_simu = ExpCutoffPowerLawSpectralModel(index=2.22, amplitude=1.289e-12 * u.Unit(\"cm-2 s-1 TeV-1\"), reference=1 * u.TeV, lambda_=l * u.Unit(\"TeV-1\"), alpha = 1)\n",
    "#model_simu = PowerLawSpectralModel(index=2.22, amplitude=1.289e-12 * u.Unit(\"cm-2 s-1 TeV-1\"), reference=1 * u.TeV)\n",
    "\n",
    "print(model_simu)\n",
    "# we set the sky model used in the dataset\n",
    "model = SkyModel(spectral_model=model_simu)"
   ]
  },
  {
   "cell_type": "code",
   "execution_count": 24,
   "metadata": {},
   "outputs": [],
   "source": [
    "# Make the SpectrumDataset\n",
    "dataset_empty = SpectrumDataset.create(\n",
    "    e_reco=energy_axis.edges, e_true=energy_axis_true.edges, region=on_region\n",
    ")\n",
    "maker = SpectrumDatasetMaker(selection=[\"aeff\", \"edisp\", \"background\"])\n",
    "dataset = maker.run(dataset_empty, obs)"
   ]
  },
  {
   "cell_type": "code",
   "execution_count": 25,
   "metadata": {},
   "outputs": [
    {
     "name": "stdout",
     "output_type": "stream",
     "text": [
      "SpectrumDataset\n",
      "\n",
      "    Name                            : 1 \n",
      "\n",
      "    Total counts                    : 868 \n",
      "    Total predicted counts          : nan\n",
      "    Total background counts         : 883.56\n",
      "\n",
      "    Effective area min              : 2.80e+04 m2\n",
      "    Effective area max              : 5.73e+06 m2\n",
      "\n",
      "    Livetime                        : 7.20e+03 s\n",
      "\n",
      "    Number of total bins            : 39 \n",
      "    Number of fit bins              : 39 \n",
      "\n",
      "    Fit statistic type              : cash\n",
      "    Fit statistic value (-2 log(L)) : nan\n",
      "\n",
      "    Number of parameters            : 0\n",
      "    Number of free parameters       : 0\n",
      "\n",
      "\n"
     ]
    }
   ],
   "source": [
    "# Set the model on the dataset, and fake\n",
    "dataset.model = model\n",
    "dataset.fake(random_state=42)\n",
    "print(dataset)"
   ]
  },
  {
   "cell_type": "code",
   "execution_count": 26,
   "metadata": {},
   "outputs": [
    {
     "name": "stdout",
     "output_type": "stream",
     "text": [
      "SpectrumDatasetOnOff\n",
      "\n",
      "    Name                            :  \n",
      "\n",
      "    Total counts                    : 1372 \n",
      "    Total predicted counts          : 1392.80\n",
      "    Total off counts                : 4304.00\n",
      "\n",
      "    Total background counts         : 860.80\n",
      "\n",
      "    Effective area min              : 2.80e+04 m2\n",
      "    Effective area max              : 5.73e+06 m2\n",
      "\n",
      "    Livetime                        : 2.00e+00 h\n",
      "\n",
      "    Number of total bins            : 39 \n",
      "    Number of fit bins              : 39 \n",
      "\n",
      "    Fit statistic type              : wstat\n",
      "    Fit statistic value (-2 log(L)) : 31.59\n",
      "\n",
      "    Number of parameters            : 5\n",
      "    Number of free parameters       : 3\n",
      "\n",
      "    Model type                      : SkyModels\n",
      "    Acceptance mean:                : 1.0\n",
      "\n"
     ]
    }
   ],
   "source": [
    "dataset_onoff = SpectrumDatasetOnOff(\n",
    "    aeff=dataset.aeff,\n",
    "    edisp=dataset.edisp,\n",
    "    models=model,\n",
    "    livetime=livetime,\n",
    "    acceptance=1,\n",
    "    acceptance_off=5,\n",
    ")\n",
    "dataset_onoff.fake(background_model=dataset.background)\n",
    "print(dataset_onoff)"
   ]
  },
  {
   "cell_type": "code",
   "execution_count": 27,
   "metadata": {},
   "outputs": [
    {
     "name": "stdout",
     "output_type": "stream",
     "text": [
      "CPU times: user 346 ms, sys: 0 ns, total: 346 ms\n",
      "Wall time: 346 ms\n"
     ]
    }
   ],
   "source": [
    "%%time\n",
    "\n",
    "datasets = []\n",
    "\n",
    "for idx in range(n_obs):\n",
    "    dataset_onoff.fake(random_state=idx, background_model=dataset.background)\n",
    "    dataset_onoff.name = f\"obs_{idx}\"\n",
    "    datasets.append(dataset_onoff.copy())"
   ]
  },
  {
   "cell_type": "code",
   "execution_count": null,
   "metadata": {},
   "outputs": [],
   "source": []
  }
 ],
 "metadata": {
  "kernelspec": {
   "display_name": "Python 3",
   "language": "python",
   "name": "python3"
  },
  "language_info": {
   "codemirror_mode": {
    "name": "ipython",
    "version": 3
   },
   "file_extension": ".py",
   "mimetype": "text/x-python",
   "name": "python",
   "nbconvert_exporter": "python",
   "pygments_lexer": "ipython3",
   "version": "3.6.7"
  }
 },
 "nbformat": 4,
 "nbformat_minor": 4
}
