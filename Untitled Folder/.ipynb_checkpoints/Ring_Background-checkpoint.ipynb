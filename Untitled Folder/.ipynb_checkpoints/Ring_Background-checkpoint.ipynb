{
 "cells": [
  {
   "cell_type": "code",
   "execution_count": 1,
   "id": "distinguished-allen",
   "metadata": {},
   "outputs": [],
   "source": [
    "%matplotlib inline\n",
    "import matplotlib.pyplot as plt"
   ]
  },
  {
   "cell_type": "code",
   "execution_count": 2,
   "id": "duplicate-combination",
   "metadata": {},
   "outputs": [],
   "source": [
    "import numpy as np\n",
    "import astropy.units as u\n",
    "from astropy.coordinates import SkyCoord\n",
    "from gammapy.irf import load_cta_irfs\n",
    "from gammapy.maps import WcsGeom, MapAxis\n",
    "from regions import CircleSkyRegion\n",
    "from gammapy.modeling.models import (\n",
    "    PowerLawSpectralModel,\n",
    "    GaussianSpatialModel,\n",
    "    SkyModel,\n",
    "    Models,\n",
    "    PointSpatialModel,\n",
    "    FoVBackgroundModel,\n",
    "    ExpCutoffPowerLawSpectralModel,\n",
    ")\n",
    "from gammapy.makers import MapDatasetMaker, SafeMaskMaker, RingBackgroundMaker\n",
    "from gammapy.modeling import Fit\n",
    "from gammapy.maps import Map\n",
    "from scipy.stats import norm\n",
    "from gammapy.data import Observation\n",
    "from gammapy.datasets import MapDataset, MapDatasetOnOff\n",
    "from gammapy.estimators import ExcessMapEstimator"
   ]
  },
  {
   "cell_type": "code",
   "execution_count": 3,
   "id": "thousand-count",
   "metadata": {},
   "outputs": [],
   "source": [
    "import scipy.stats as stats\n",
    "import math\n",
    "import statistics\n",
    "import os"
   ]
  },
  {
   "cell_type": "code",
   "execution_count": 4,
   "id": "vietnamese-timeline",
   "metadata": {},
   "outputs": [
    {
     "name": "stdout",
     "output_type": "stream",
     "text": [
      "/home/rishank/anaconda2/envs/cta/share/caldb/\n",
      "data\n"
     ]
    }
   ],
   "source": [
    "os.environ['CALDB'] = '/home/rishank/anaconda2/envs/cta/share/caldb/'\n",
    "!echo $CALDB\n",
    "!ls $CALDB"
   ]
  },
  {
   "cell_type": "code",
   "execution_count": 5,
   "id": "bigger-mileage",
   "metadata": {},
   "outputs": [
    {
     "name": "stderr",
     "output_type": "stream",
     "text": [
      "Invalid unit found in background table! Assuming (s-1 MeV-1 sr-1)\n"
     ]
    }
   ],
   "source": [
    "irfs = load_cta_irfs(\n",
    "    \"$CALDB/data/cta/prod3b-v2/bcf/South_z20_50h/irf_file.fits\"\n",
    ")"
   ]
  },
  {
   "cell_type": "code",
   "execution_count": 6,
   "id": "extreme-theory",
   "metadata": {},
   "outputs": [],
   "source": [
    "# Define the observation parameters (typically the observation duration and the pointing position):\n",
    "livetime = 100.0 * u.hr\n",
    "l = 0.5\n",
    "pointing = SkyCoord(141.409467, 40.566962, unit=\"deg\", frame=\"galactic\")"
   ]
  },
  {
   "cell_type": "code",
   "execution_count": 7,
   "id": "based-england",
   "metadata": {},
   "outputs": [],
   "source": [
    "# Define map geometry for binned simulation\n",
    "energy_reco = MapAxis.from_edges(\n",
    "    np.logspace(-1.0, 1.0, 10), unit=\"TeV\", name=\"energy\", interp=\"log\"\n",
    ")\n",
    "geom = WcsGeom.create(\n",
    "    skydir=(141.409467, 40.566962),\n",
    "    binsz=0.02,\n",
    "    width=(3, 3),\n",
    "    frame=\"galactic\",\n",
    "    axes=[energy_reco],\n",
    ")\n",
    "# It is usually useful to have a separate binning for the true energy axis\n",
    "energy_true = MapAxis.from_edges(\n",
    "    np.logspace(-1.5, 2.0, 30), unit=\"TeV\", name=\"energy_true\", interp=\"log\"\n",
    ")"
   ]
  },
  {
   "cell_type": "code",
   "execution_count": 8,
   "id": "bizarre-strike",
   "metadata": {},
   "outputs": [],
   "source": [
    "# Define sky model to used simulate the data.\n",
    "# Here we use a Gaussian spatial model and a Power Law spectral model.\n",
    "spatial_model = PointSpatialModel(\n",
    "    lon_0=\"141.409467 deg\", lat_0=\"40.566962 deg\", frame=\"galactic\"\n",
    ")\n",
    "spectral_model = PowerLawSpectralModel(\n",
    "    index=2.22, amplitude=\"1.289e-12 cm-2 s-1 TeV-1\", reference=\"1 TeV\"\n",
    ")\n",
    "model_simu = SkyModel(\n",
    "    spatial_model=spatial_model,\n",
    "    spectral_model=spectral_model,\n",
    "    name=\"model-simu\",\n",
    ")"
   ]
  },
  {
   "cell_type": "code",
   "execution_count": 9,
   "id": "alive-poker",
   "metadata": {},
   "outputs": [
    {
     "name": "stdout",
     "output_type": "stream",
     "text": [
      "Observation\n",
      "\n",
      "\tobs id            : 0 \n",
      " \ttstart            : 51544.00\n",
      "\ttstop             : 51548.17\n",
      "\tduration          : 360000.00 s\n",
      "\tpointing (icrs)   : 149.0 deg, 69.7 deg\n",
      "\n",
      "\tdeadtime fraction : 0.0%\n",
      "\n"
     ]
    }
   ],
   "source": [
    "# Create an in-memory observation\n",
    "obs = Observation.create(pointing=pointing, livetime=livetime, irfs=irfs)\n",
    "print(obs)"
   ]
  },
  {
   "cell_type": "code",
   "execution_count": 10,
   "id": "logical-saudi",
   "metadata": {},
   "outputs": [
    {
     "name": "stdout",
     "output_type": "stream",
     "text": [
      "MapDataset\n",
      "----------\n",
      "\n",
      "  Name                            : dataset-simu \n",
      "\n",
      "  Total counts                    : nan \n",
      "  Total background counts         : 2710869.82\n",
      "  Total excess counts             : nan\n",
      "\n",
      "  Predicted counts                : 2710869.82\n",
      "  Predicted background counts     : 2710869.82\n",
      "  Predicted excess counts         : nan\n",
      "\n",
      "  Exposure min                    : 5.12e+10 m2 s\n",
      "  Exposure max                    : 1.30e+12 m2 s\n",
      "\n",
      "  Number of total bins            : 0 \n",
      "  Number of fit bins              : 202500 \n",
      "\n",
      "  Fit statistic type              : cash\n",
      "  Fit statistic value (-2 log(L)) : nan\n",
      "\n",
      "  Number of models                : 0 \n",
      "  Number of parameters            : 0\n",
      "  Number of free parameters       : 0\n",
      "\n",
      "\n"
     ]
    }
   ],
   "source": [
    "# Make the MapDataset\n",
    "empty = MapDataset.create(geom, name=\"dataset-simu\")\n",
    "maker = MapDatasetMaker(selection=[\"exposure\", \"background\", \"psf\", \"edisp\"])\n",
    "\n",
    "maker_safe_mask = SafeMaskMaker(methods=[\"offset-max\"], offset_max=3.5 * u.deg)\n",
    "\n",
    "dataset = maker.run(empty, obs)\n",
    "dataset = maker_safe_mask.run(dataset, obs)\n",
    "print(dataset)"
   ]
  },
  {
   "cell_type": "code",
   "execution_count": 11,
   "id": "abandoned-delicious",
   "metadata": {},
   "outputs": [
    {
     "name": "stdout",
     "output_type": "stream",
     "text": [
      "MapDataset\n",
      "----------\n",
      "\n",
      "  Name                            : dataset-simu \n",
      "\n",
      "  Total counts                    : 2731462 \n",
      "  Total background counts         : 2710869.82\n",
      "  Total excess counts             : 20592.18\n",
      "\n",
      "  Predicted counts                : 2734109.81\n",
      "  Predicted background counts     : 2710869.82\n",
      "  Predicted excess counts         : 23239.99\n",
      "\n",
      "  Exposure min                    : 5.12e+10 m2 s\n",
      "  Exposure max                    : 1.30e+12 m2 s\n",
      "\n",
      "  Number of total bins            : 202500 \n",
      "  Number of fit bins              : 202500 \n",
      "\n",
      "  Fit statistic type              : cash\n",
      "  Fit statistic value (-2 log(L)) : -13497844.50\n",
      "\n",
      "  Number of models                : 1 \n",
      "  Number of parameters            : 5\n",
      "  Number of free parameters       : 4\n",
      "\n",
      "  Component 0: SkyModel\n",
      "  \n",
      "    Name                      : model-simu\n",
      "    Datasets names            : None\n",
      "    Spectral model type       : PowerLawSpectralModel\n",
      "    Spatial  model type       : PointSpatialModel\n",
      "    Temporal model type       : \n",
      "    Parameters:\n",
      "      index                   :   2.220              \n",
      "      amplitude               :   1.29e-12  1 / (cm2 s TeV)\n",
      "      reference    (frozen)   :   1.000  TeV         \n",
      "      lon_0                   : 141.409  deg         \n",
      "      lat_0                   :  40.567  deg         \n",
      "  \n",
      "  \n"
     ]
    }
   ],
   "source": [
    "# Add the model on the dataset and Poission fluctuate\n",
    "dataset.models = model_simu#models\n",
    "dataset.fake(random_state=2)\n",
    "# Do a print on the dataset - there is now a counts maps\n",
    "print(dataset)"
   ]
  },
  {
   "cell_type": "code",
   "execution_count": 12,
   "id": "abandoned-ivory",
   "metadata": {},
   "outputs": [
    {
     "data": {
      "application/vnd.jupyter.widget-view+json": {
       "model_id": "9cd20bdc106d482f8e873b4b31487607",
       "version_major": 2,
       "version_minor": 0
      },
      "text/plain": [
       "interactive(children=(SelectionSlider(continuous_update=False, description='Select energy:', layout=Layout(wid…"
      ]
     },
     "metadata": {},
     "output_type": "display_data"
    }
   ],
   "source": [
    "# To plot, eg, counts:\n",
    "dataset.counts.smooth(0.05 * u.deg).plot_interactive(\n",
    "    add_cbar=True, stretch=\"linear\"\n",
    ")"
   ]
  },
  {
   "cell_type": "code",
   "execution_count": 13,
   "id": "operational-branch",
   "metadata": {},
   "outputs": [
    {
     "data": {
      "application/vnd.jupyter.widget-view+json": {
       "model_id": "4920bab3cff84a43bcc4688f39116a91",
       "version_major": 2,
       "version_minor": 0
      },
      "text/plain": [
       "interactive(children=(SelectionSlider(continuous_update=False, description='Select energy:', layout=Layout(wid…"
      ]
     },
     "metadata": {},
     "output_type": "display_data"
    }
   ],
   "source": [
    "dataset.background.smooth(0.05 * u.deg).plot_interactive(\n",
    "    add_cbar=True, stretch=\"linear\"\n",
    ")"
   ]
  },
  {
   "cell_type": "code",
   "execution_count": 14,
   "id": "herbal-extraction",
   "metadata": {},
   "outputs": [
    {
     "data": {
      "application/vnd.jupyter.widget-view+json": {
       "model_id": "107754e6781f48a68d27a4ba8208e01d",
       "version_major": 2,
       "version_minor": 0
      },
      "text/plain": [
       "interactive(children=(SelectionSlider(continuous_update=False, description='Select energy:', layout=Layout(wid…"
      ]
     },
     "metadata": {},
     "output_type": "display_data"
    }
   ],
   "source": [
    "dataset.excess.smooth(0.05 * u.deg).plot_interactive(\n",
    "    add_cbar=True, stretch=\"linear\"\n",
    ")"
   ]
  },
  {
   "cell_type": "code",
   "execution_count": 15,
   "id": "latest-hebrew",
   "metadata": {},
   "outputs": [
    {
     "data": {
      "image/png": "[encoded data removed]",
      "text/plain": [
       "<Figure size 432x288 with 2 Axes>"
      ]
     },
     "metadata": {
      "needs_background": "light"
     },
     "output_type": "display_data"
    }
   ],
   "source": [
    "excess = dataset.excess.sum_over_axes()\n",
    "excess.smooth(\"0.06 deg\").plot(stretch=\"sqrt\", add_cbar=True);"
   ]
  },
  {
   "cell_type": "code",
   "execution_count": 16,
   "id": "restricted-teach",
   "metadata": {},
   "outputs": [],
   "source": [
    "source_pos = SkyCoord(141.409467, 40.566962, unit=\"deg\", frame=\"galactic\")"
   ]
  },
  {
   "cell_type": "code",
   "execution_count": 17,
   "id": "nominated-argument",
   "metadata": {},
   "outputs": [
    {
     "data": {
      "image/png": "[encoded data removed]",
      "text/plain": [
       "<Figure size 432x288 with 1 Axes>"
      ]
     },
     "metadata": {
      "needs_background": "light"
     },
     "output_type": "display_data"
    }
   ],
   "source": [
    "geom_image = geom.to_image().to_cube([energy_reco.squash()])\n",
    "\n",
    "regions = CircleSkyRegion(center=source_pos, radius=0.2 * u.deg)\n",
    "exclusion_mask = Map.from_geom(geom_image)\n",
    "exclusion_mask.data = geom_image.region_mask([regions], inside=False)\n",
    "exclusion_mask.sum_over_axes().plot();"
   ]
  },
  {
   "cell_type": "code",
   "execution_count": 18,
   "id": "legislative-chambers",
   "metadata": {},
   "outputs": [],
   "source": [
    "ring_maker = RingBackgroundMaker(\n",
    "    r_in=\"0.5 deg\", width=\"0.3 deg\", exclusion_mask=exclusion_mask\n",
    ")"
   ]
  },
  {
   "cell_type": "code",
   "execution_count": 19,
   "id": "precious-appraisal",
   "metadata": {},
   "outputs": [],
   "source": [
    "dataset_on_off = MapDatasetOnOff.create(\n",
    "    geom=geom_image, energy_axis_true=energy_true, name=\"stacked\"\n",
    ")\n",
    "\n",
    "dataset_on_off = ring_maker.run(dataset.to_image())"
   ]
  },
  {
   "cell_type": "code",
   "execution_count": 20,
   "id": "everyday-crossing",
   "metadata": {},
   "outputs": [
    {
     "name": "stdout",
     "output_type": "stream",
     "text": [
      "MapDatasetOnOff\n",
      "---------------\n",
      "\n",
      "  Name                            : lzwKd2y2 \n",
      "\n",
      "  Total counts                    : 2731462 \n",
      "  Total background counts         : 2708788.57\n",
      "  Total excess counts             : 22673.43\n",
      "\n",
      "  Predicted counts                : 2708795.23\n",
      "  Predicted background counts     : 2708795.23\n",
      "  Predicted excess counts         : nan\n",
      "\n",
      "  Exposure min                    : 5.12e+10 m2 s\n",
      "  Exposure max                    : 1.30e+12 m2 s\n",
      "\n",
      "  Number of total bins            : 22500 \n",
      "  Number of fit bins              : 22500 \n",
      "\n",
      "  Fit statistic type              : wstat\n",
      "  Fit statistic value (-2 log(L)) : 56379.32\n",
      "\n",
      "  Number of models                : 0 \n",
      "  Number of parameters            : 0\n",
      "  Number of free parameters       : 0\n",
      "\n",
      "  Total counts_off                : 6068703232 \n",
      "  Acceptance                      : 2710870 \n",
      "  Acceptance off                  : 6073595904 \n",
      "\n"
     ]
    }
   ],
   "source": [
    "print(dataset_on_off)"
   ]
  },
  {
   "cell_type": "code",
   "execution_count": 21,
   "id": "ultimate-denver",
   "metadata": {},
   "outputs": [],
   "source": [
    "# Using a convolution radius of 0.04 degrees\n",
    "estimator = ExcessMapEstimator(0.04 * u.deg, selection_optional=[])\n",
    "lima_maps = estimator.run(dataset_on_off)"
   ]
  },
  {
   "cell_type": "code",
   "execution_count": 22,
   "id": "turned-piece",
   "metadata": {},
   "outputs": [],
   "source": [
    "significance_map = lima_maps[\"sqrt_ts\"]\n",
    "excess_map = lima_maps[\"excess\"]"
   ]
  },
  {
   "cell_type": "code",
   "execution_count": 23,
   "id": "desperate-briefs",
   "metadata": {},
   "outputs": [
    {
     "data": {
      "text/plain": [
       "(<Figure size 720x720 with 4 Axes>,\n",
       " <matplotlib.axes._subplots.WCSAxesSubplot at 0x7fb878830eb8>,\n",
       " <matplotlib.colorbar.Colorbar at 0x7fb878708f28>)"
      ]
     },
     "execution_count": 23,
     "metadata": {},
     "output_type": "execute_result"
    },
    {
     "data": {
      "image/png": "[encoded data removed]",
      "text/plain": [
       "<Figure size 720x720 with 4 Axes>"
      ]
     },
     "metadata": {
      "needs_background": "light"
     },
     "output_type": "display_data"
    }
   ],
   "source": [
    "# We can plot the excess and significance maps\n",
    "plt.figure(figsize=(10, 10))\n",
    "ax1 = plt.subplot(221, projection=significance_map.geom.wcs)\n",
    "ax2 = plt.subplot(222, projection=excess_map.geom.wcs)\n",
    "\n",
    "ax1.set_title(\"Significance map\")\n",
    "significance_map.plot(ax=ax1, add_cbar=True)\n",
    "\n",
    "ax2.set_title(\"Excess map\")\n",
    "excess_map.plot(ax=ax2, add_cbar=True)"
   ]
  },
  {
   "cell_type": "code",
   "execution_count": 24,
   "id": "numerous-viking",
   "metadata": {},
   "outputs": [
    {
     "name": "stdout",
     "output_type": "stream",
     "text": [
      "MapDatasetOnOff\n",
      "---------------\n",
      "\n",
      "  Name                            : lzwKd2y2 \n",
      "\n",
      "  Total counts                    : 2731462 \n",
      "  Total background counts         : 2708788.57\n",
      "  Total excess counts             : 22673.43\n",
      "\n",
      "  Predicted counts                : 2732027.56\n",
      "  Predicted background counts     : 2708787.58\n",
      "  Predicted excess counts         : 23239.99\n",
      "\n",
      "  Exposure min                    : 5.12e+10 m2 s\n",
      "  Exposure max                    : 1.30e+12 m2 s\n",
      "\n",
      "  Number of total bins            : 22500 \n",
      "  Number of fit bins              : 22500 \n",
      "\n",
      "  Fit statistic type              : wstat\n",
      "  Fit statistic value (-2 log(L)) : 22773.34\n",
      "\n",
      "  Number of models                : 1 \n",
      "  Number of parameters            : 5\n",
      "  Number of free parameters       : 4\n",
      "\n",
      "  Component 0: SkyModel\n",
      "  \n",
      "    Name                      : model-simu\n",
      "    Datasets names            : None\n",
      "    Spectral model type       : PowerLawSpectralModel\n",
      "    Spatial  model type       : PointSpatialModel\n",
      "    Temporal model type       : \n",
      "    Parameters:\n",
      "      index                   :   2.220              \n",
      "      amplitude               :   1.29e-12  1 / (cm2 s TeV)\n",
      "      reference    (frozen)   :   1.000  TeV         \n",
      "      lon_0                   : 141.409  deg         \n",
      "      lat_0                   :  40.567  deg         \n",
      "  \n",
      "    Total counts_off                : 6068703232 \n",
      "  Acceptance                      : 2710870 \n",
      "  Acceptance off                  : 6073595904 \n",
      "\n"
     ]
    }
   ],
   "source": [
    "dataset_on_off.models = model_simu\n",
    "print(dataset_on_off)"
   ]
  },
  {
   "cell_type": "code",
   "execution_count": 25,
   "id": "compressed-tribe",
   "metadata": {},
   "outputs": [
    {
     "name": "stdout",
     "output_type": "stream",
     "text": [
      "------------------------------------------------------------------\n",
      "| FCN = 2.277E+04               |     Ncalls=101 (101 total)     |\n",
      "| EDM = 3.05E-06 (Goal: 1E-05)  |            up = 1.0            |\n",
      "------------------------------------------------------------------\n",
      "|  Valid Min.   | Valid Param.  | Above EDM | Reached call limit |\n",
      "------------------------------------------------------------------\n",
      "|     True      |     True      |   False   |       False        |\n",
      "------------------------------------------------------------------\n",
      "| Hesse failed  |   Has cov.    | Accurate  | Pos. def. | Forced |\n",
      "------------------------------------------------------------------\n",
      "|     False     |     True      |   True    |   True    | False  |\n",
      "------------------------------------------------------------------\n",
      "CPU times: user 7.87 s, sys: 298 ms, total: 8.17 s\n",
      "Wall time: 10.3 s\n"
     ]
    }
   ],
   "source": [
    "%%time\n",
    "fit = Fit([dataset_on_off])\n",
    "result = fit.run(optimize_opts={\"print_level\": 1})"
   ]
  },
  {
   "cell_type": "code",
   "execution_count": 26,
   "id": "outdoor-requirement",
   "metadata": {},
   "outputs": [
    {
     "name": "stdout",
     "output_type": "stream",
     "text": [
      "OptimizeResult\n",
      "\n",
      "\tbackend    : minuit\n",
      "\tmethod     : minuit\n",
      "\tsuccess    : True\n",
      "\tmessage    : Optimization terminated successfully.\n",
      "\tnfev       : 101\n",
      "\ttotal stat : 22770.81\n",
      "\n"
     ]
    }
   ],
   "source": [
    "print(result)"
   ]
  },
  {
   "cell_type": "code",
   "execution_count": 27,
   "id": "funded-content",
   "metadata": {},
   "outputs": [
    {
     "name": "stdout",
     "output_type": "stream",
     "text": [
      "   name     value         unit         min        max    frozen   error  \n",
      "--------- ---------- -------------- ---------- --------- ------ ---------\n",
      "    index 2.2312e+00                       nan       nan  False 1.914e-02\n",
      "amplitude 1.2938e-12 cm-2 s-1 TeV-1        nan       nan  False 1.601e-14\n",
      "reference 1.0000e+00            TeV        nan       nan   True 0.000e+00\n",
      "    lon_0 1.4141e+02            deg        nan       nan  False 5.441e-04\n",
      "    lat_0 4.0567e+01            deg -9.000e+01 9.000e+01  False 4.140e-04\n"
     ]
    }
   ],
   "source": [
    "print(result.parameters.to_table())"
   ]
  }
 ],
 "metadata": {
  "kernelspec": {
   "display_name": "Python 3",
   "language": "python",
   "name": "python3"
  },
  "language_info": {
   "codemirror_mode": {
    "name": "ipython",
    "version": 3
   },
   "file_extension": ".py",
   "mimetype": "text/x-python",
   "name": "python",
   "nbconvert_exporter": "python",
   "pygments_lexer": "ipython3",
   "version": "3.7.0"
  }
 },
 "nbformat": 4,
 "nbformat_minor": 5
}
