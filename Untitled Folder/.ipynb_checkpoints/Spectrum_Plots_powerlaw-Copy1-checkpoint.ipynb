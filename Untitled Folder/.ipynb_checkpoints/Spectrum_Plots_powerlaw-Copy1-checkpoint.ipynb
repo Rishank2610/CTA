{
 "cells": [
  {
   "cell_type": "code",
   "execution_count": 1,
   "id": "representative-measurement",
   "metadata": {},
   "outputs": [],
   "source": [
    "%matplotlib inline\n",
    "import matplotlib.pyplot as plt"
   ]
  },
  {
   "cell_type": "code",
   "execution_count": 2,
   "id": "functional-deputy",
   "metadata": {},
   "outputs": [],
   "source": [
    "import numpy as np\n",
    "import astropy.units as u\n",
    "from astropy.coordinates import SkyCoord\n",
    "from gammapy.irf import load_cta_irfs\n",
    "from gammapy.maps import WcsGeom, MapAxis\n",
    "from regions import CircleSkyRegion\n",
    "from gammapy.modeling.models import (\n",
    "    PowerLawSpectralModel,\n",
    "    GaussianSpatialModel,\n",
    "    SkyModel,\n",
    "    Models,\n",
    "    PointSpatialModel,\n",
    "    FoVBackgroundModel,\n",
    "    ExpCutoffPowerLawSpectralModel,\n",
    ")\n",
    "from gammapy.makers import MapDatasetMaker, SafeMaskMaker, RingBackgroundMaker, FoVBackgroundMaker\n",
    "from gammapy.modeling import Fit\n",
    "from gammapy.maps import Map\n",
    "from scipy.stats import norm\n",
    "from gammapy.data import Observation\n",
    "from gammapy.datasets import MapDataset, MapDatasetOnOff\n",
    "from gammapy.estimators import ExcessMapEstimator, FluxPointsEstimator"
   ]
  },
  {
   "cell_type": "code",
   "execution_count": 3,
   "id": "willing-population",
   "metadata": {},
   "outputs": [],
   "source": [
    "import scipy.stats as stats\n",
    "import math\n",
    "import statistics\n",
    "import os"
   ]
  },
  {
   "cell_type": "code",
   "execution_count": 4,
   "id": "junior-pocket",
   "metadata": {},
   "outputs": [
    {
     "name": "stdout",
     "output_type": "stream",
     "text": [
      "/home/rishank/anaconda2/envs/cta/share/caldb/\n",
      "data\n"
     ]
    }
   ],
   "source": [
    "os.environ['CALDB'] = '/home/rishank/anaconda2/envs/cta/share/caldb/'\n",
    "!echo $CALDB\n",
    "!ls $CALDB"
   ]
  },
  {
   "cell_type": "code",
   "execution_count": 5,
   "id": "lightweight-interim",
   "metadata": {},
   "outputs": [
    {
     "name": "stderr",
     "output_type": "stream",
     "text": [
      "Invalid unit found in background table! Assuming (s-1 MeV-1 sr-1)\n"
     ]
    }
   ],
   "source": [
    "irfs = load_cta_irfs(\n",
    "    \"$CALDB/data/cta/prod3b-v2/bcf/South_z20_50h/irf_file.fits\"\n",
    ")"
   ]
  },
  {
   "cell_type": "code",
   "execution_count": 6,
   "id": "coupled-friendship",
   "metadata": {},
   "outputs": [],
   "source": [
    "# Define the observation parameters (typically the observation duration and the pointing position):\n",
    "livetime = 1.0 * u.hr\n",
    "l = 0.05\n",
    "pointing = SkyCoord(141.409467, 40.566962, unit=\"deg\", frame=\"galactic\")"
   ]
  },
  {
   "cell_type": "code",
   "execution_count": 7,
   "id": "infinite-professor",
   "metadata": {},
   "outputs": [],
   "source": [
    "# Define map geometry for binned simulation\n",
    "energy_reco = MapAxis.from_edges(\n",
    "    np.logspace(-1.0, 1.0, 10), unit=\"TeV\", name=\"energy\", interp=\"log\"\n",
    ")\n",
    "geom = WcsGeom.create(\n",
    "    skydir=(141.409467, 40.566962),\n",
    "    binsz=0.02,\n",
    "    width=(3, 3),\n",
    "    frame=\"galactic\",\n",
    "    axes=[energy_reco],\n",
    ")\n",
    "# It is usually useful to have a separate binning for the true energy axis\n",
    "energy_true = MapAxis.from_edges(\n",
    "    np.logspace(-1.5, 1.5, 30), unit=\"TeV\", name=\"energy_true\", interp=\"log\"\n",
    ")\n",
    "\n",
    "empty = MapDataset.create(geom, name=\"dataset-simu\")"
   ]
  },
  {
   "cell_type": "code",
   "execution_count": 8,
   "id": "annual-requirement",
   "metadata": {},
   "outputs": [
    {
     "name": "stdout",
     "output_type": "stream",
     "text": [
      "Models\n",
      "\n",
      "Component 0: SkyModel\n",
      "\n",
      "  Name                      : model-simu\n",
      "  Datasets names            : None\n",
      "  Spectral model type       : PowerLawSpectralModel\n",
      "  Spatial  model type       : PointSpatialModel\n",
      "  Temporal model type       : \n",
      "  Parameters:\n",
      "    index                   :   2.495              \n",
      "    amplitude               :   2.72e-13  1 / (cm2 s TeV)\n",
      "    reference    (frozen)   :   1.000  TeV         \n",
      "    lon_0                   : 141.409  deg         \n",
      "    lat_0                   :  40.567  deg         \n",
      "\n",
      "Component 1: FoVBackgroundModel\n",
      "\n",
      "  Name                      : dataset-simu-bkg\n",
      "  Datasets names            : ['dataset-simu']\n",
      "  Spectral model type       : PowerLawNormSpectralModel\n",
      "  Parameters:\n",
      "    norm                    :   1.000              \n",
      "    tilt         (frozen)   :   0.000              \n",
      "    reference    (frozen)   :   1.000  TeV         \n",
      "\n",
      "\n"
     ]
    }
   ],
   "source": [
    "# Define sky model to used simulate the data.\n",
    "# Here we use a Point spatial model and a Power Law spectral model.\n",
    "spatial_model = PointSpatialModel(\n",
    "    lon_0=\"141.409467 deg\", lat_0=\"40.566962 deg\", frame=\"galactic\"\n",
    ")\n",
    "spectral_model = PowerLawSpectralModel(\n",
    "    index=2.495, amplitude=\"2.72e-13 cm-2 s-1 TeV-1\", reference=\"1 TeV\"\n",
    ")\n",
    "model_simu = SkyModel(\n",
    "    spatial_model=spatial_model,\n",
    "    spectral_model=spectral_model,\n",
    "    name=\"model-simu\",\n",
    ")\n",
    "\n",
    "bkg_model = FoVBackgroundModel(dataset_name=\"dataset-simu\")\n",
    "\n",
    "models = Models([model_simu, bkg_model])\n",
    "print(models)"
   ]
  },
  {
   "cell_type": "code",
   "execution_count": 9,
   "id": "surprising-lighter",
   "metadata": {},
   "outputs": [],
   "source": [
    "def FoV(energy_reco, energy_true, livetime, irfs, pointing, geom, models):\n",
    "    model = models.copy()\n",
    "    obs = Observation.create(pointing=pointing, livetime=livetime, irfs=irfs)\n",
    "    maker = MapDatasetMaker(selection=[\"exposure\", \"background\", \"psf\", \"edisp\"])\n",
    "    maker_safe_mask = SafeMaskMaker(methods=[\"offset-max\"], offset_max=3.5 * u.deg)\n",
    "    dataset = maker.run(empty, obs)\n",
    "    dataset = maker_safe_mask.run(dataset, obs)\n",
    "    dataset.models = model\n",
    "    dataset.fake(random_state=42)\n",
    "    \n",
    "    dataset1 = dataset.copy()\n",
    "    dataset1.models = bkg_model\n",
    "    \n",
    "    geom_image = geom.to_image().to_cube([energy_reco.squash()])\n",
    "    regions = CircleSkyRegion(center=pointing, radius=0.2 * u.deg)\n",
    "    exclusion_mask = Map.from_geom(geom_image)\n",
    "    exclusion_mask.data = geom_image.region_mask([regions], inside=False)\n",
    "    maker_fov = FoVBackgroundMaker(method=\"fit\", exclusion_mask=exclusion_mask)\n",
    "    \n",
    "    ## original code\n",
    "    dataset1 = maker_fov.run(dataset1)\n",
    "    \n",
    "    TS0 = dataset1.stat_sum()\n",
    "    models_fit = model[0].copy()\n",
    "    dataset1.models = models_fit\n",
    "    fit = Fit([dataset1])\n",
    "    result = fit.run()\n",
    "    print(result)\n",
    "    TS1 = dataset1.stat_sum()\n",
    "    del_TS = TS0 - TS1\n",
    "    \n",
    "    return del_TS, dataset1, models_fit"
   ]
  },
  {
   "cell_type": "code",
   "execution_count": 10,
   "id": "impossible-kinase",
   "metadata": {},
   "outputs": [],
   "source": [
    "def ring1(energy_reco, energy_true, livetime, irfs, pointing, geom, models):\n",
    "    model = models.copy()\n",
    "    obs = Observation.create(pointing=pointing, livetime=livetime, irfs=irfs)\n",
    "    maker = MapDatasetMaker(selection=[\"exposure\", \"background\", \"psf\", \"edisp\"])\n",
    "    maker_safe_mask = SafeMaskMaker(methods=[\"offset-max\"], offset_max=3.5 * u.deg)\n",
    "    dataset = maker.run(empty, obs)\n",
    "    dataset = maker_safe_mask.run(dataset, obs)\n",
    "    dataset.models = model\n",
    "    dataset.fake(random_state=42)\n",
    "    \n",
    "    geom_image = geom.to_image().to_cube([energy_reco.squash()])\n",
    "    regions = CircleSkyRegion(center=pointing, radius=0.2 * u.deg)\n",
    "    exclusion_mask = Map.from_geom(geom_image)\n",
    "    exclusion_mask.data = geom_image.region_mask([regions], inside=False)\n",
    "    ring_maker = RingBackgroundMaker(\n",
    "        r_in=\"0.5 deg\", width=\"0.3 deg\", exclusion_mask=exclusion_mask\n",
    "    )\n",
    "    dataset_on_off = MapDatasetOnOff.create(\n",
    "        geom=geom_image, energy_axis_true=energy_true, name=\"stacked\"\n",
    "    )\n",
    "    dataset_on_off = ring_maker.run(dataset.to_image())\n",
    "    \n",
    "    TS0 = dataset_on_off.stat_sum()\n",
    "    dataset_on_off.models = model\n",
    "    fit = Fit([dataset_on_off])\n",
    "    result = fit.run()\n",
    "    print(result)\n",
    "    TS1 = dataset_on_off.stat_sum()\n",
    "    del_TS = TS0 - TS1\n",
    "    \n",
    "    return del_TS, dataset_on_off, model, dataset"
   ]
  },
  {
   "cell_type": "code",
   "execution_count": 11,
   "id": "systematic-whole",
   "metadata": {},
   "outputs": [],
   "source": [
    "def ring2(energy_reco, energy_true, livetime, irfs, pointing, geom, models):\n",
    "    model = models.copy()\n",
    "    obs = Observation.create(pointing=pointing, livetime=livetime, irfs=irfs)\n",
    "    maker = MapDatasetMaker(selection=[\"exposure\", \"background\", \"psf\", \"edisp\"])\n",
    "    maker_safe_mask = SafeMaskMaker(methods=[\"offset-max\"], offset_max=3.5 * u.deg)\n",
    "    dataset = maker.run(empty, obs)\n",
    "    dataset = maker_safe_mask.run(dataset, obs)\n",
    "    dataset.models = model\n",
    "    dataset.fake(random_state=2)\n",
    "    \n",
    "    geom_image = geom.to_image().to_cube([energy_reco.squash()])\n",
    "    regions = CircleSkyRegion(center=pointing, radius=0.2 * u.deg)\n",
    "    exclusion_mask = Map.from_geom(geom_image)\n",
    "    exclusion_mask.data = geom_image.region_mask([regions], inside=False)\n",
    "    ring_maker = RingBackgroundMaker(\n",
    "        r_in=\"0.5 deg\", width=\"0.3 deg\", exclusion_mask=exclusion_mask\n",
    "    )\n",
    "    dataset = ring_maker.run(dataset) ## Instead of default dataset.to_image, only dataset is taken\n",
    "    \n",
    "    TS0 = dataset.stat_sum()\n",
    "    dataset.models = model\n",
    "    fit = Fit([dataset])\n",
    "    result = fit.run()\n",
    "    print(result)\n",
    "    TS1 = dataset.stat_sum()\n",
    "    del_TS = TS0 - TS1\n",
    "    \n",
    "    return del_TS, dataset, model"
   ]
  },
  {
   "cell_type": "code",
   "execution_count": 12,
   "id": "strong-currency",
   "metadata": {},
   "outputs": [],
   "source": [
    "x = [25.0,50.0,100.0,200.0,500.0] * u.hr\n",
    "y1 = []\n",
    "y2 = []\n",
    "y3 = []"
   ]
  },
  {
   "cell_type": "code",
   "execution_count": 13,
   "id": "upper-naples",
   "metadata": {
    "scrolled": false
   },
   "outputs": [
    {
     "name": "stdout",
     "output_type": "stream",
     "text": [
      "OptimizeResult\n",
      "\n",
      "\tbackend    : minuit\n",
      "\tmethod     : minuit\n",
      "\tsuccess    : True\n",
      "\tmessage    : Optimization terminated successfully.\n",
      "\tnfev       : 110\n",
      "\ttotal stat : -1462994.32\n",
      "\n",
      "OptimizeResult\n",
      "\n",
      "\tbackend    : minuit\n",
      "\tmethod     : minuit\n",
      "\tsuccess    : True\n",
      "\tmessage    : Optimization terminated successfully.\n",
      "\tnfev       : 104\n",
      "\ttotal stat : 22539.17\n",
      "\n",
      "OptimizeResult\n",
      "\n",
      "\tbackend    : minuit\n",
      "\tmethod     : minuit\n",
      "\tsuccess    : True\n",
      "\tmessage    : Optimization terminated successfully.\n",
      "\tnfev       : 101\n",
      "\ttotal stat : 179921.73\n",
      "\n",
      "OptimizeResult\n",
      "\n",
      "\tbackend    : minuit\n",
      "\tmethod     : minuit\n",
      "\tsuccess    : True\n",
      "\tmessage    : Optimization terminated successfully.\n",
      "\tnfev       : 140\n",
      "\ttotal stat : -4811556.19\n",
      "\n",
      "OptimizeResult\n",
      "\n",
      "\tbackend    : minuit\n",
      "\tmethod     : minuit\n",
      "\tsuccess    : True\n",
      "\tmessage    : Optimization terminated successfully.\n",
      "\tnfev       : 106\n",
      "\ttotal stat : 22563.86\n",
      "\n",
      "OptimizeResult\n",
      "\n",
      "\tbackend    : minuit\n",
      "\tmethod     : minuit\n",
      "\tsuccess    : True\n",
      "\tmessage    : Optimization terminated successfully.\n",
      "\tnfev       : 102\n",
      "\ttotal stat : 196384.38\n",
      "\n",
      "OptimizeResult\n",
      "\n",
      "\tbackend    : minuit\n",
      "\tmethod     : minuit\n",
      "\tsuccess    : True\n",
      "\tmessage    : Optimization terminated successfully.\n",
      "\tnfev       : 128\n",
      "\ttotal stat : -13387435.08\n",
      "\n",
      "OptimizeResult\n",
      "\n",
      "\tbackend    : minuit\n",
      "\tmethod     : minuit\n",
      "\tsuccess    : True\n",
      "\tmessage    : Optimization terminated successfully.\n",
      "\tnfev       : 104\n",
      "\ttotal stat : 22650.51\n",
      "\n"
     ]
    },
    {
     "ename": "RuntimeError",
     "evalue": "exception was raised in user function\nUser function arguments:\n        par_000_index = +2.495000\n    par_001_amplitude = +2.720000\n        par_002_lon_0 = +1.414095\n        par_003_lat_0 = +3.831743\nOriginal python exception in user function:\nValueError: could not broadcast input array from shape (0) into shape (0,75)\n  File \"/home/rishank/anaconda2/envs/gammapy-0.18.2/lib/python3.7/site-packages/gammapy/modeling/iminuit.py\", line 18, in fcn\n    total_stat = self.function()\n  File \"/home/rishank/anaconda2/envs/gammapy-0.18.2/lib/python3.7/site-packages/gammapy/datasets/core.py\", line 191, in stat_sum\n    stat_sum += dataset.stat_sum()\n  File \"/home/rishank/anaconda2/envs/gammapy-0.18.2/lib/python3.7/site-packages/gammapy/datasets/map.py\", line 1980, in stat_sum\n    return Dataset.stat_sum(self)\n  File \"/home/rishank/anaconda2/envs/gammapy-0.18.2/lib/python3.7/site-packages/gammapy/datasets/core.py\", line 55, in stat_sum\n    stat = self.stat_array()\n  File \"/home/rishank/anaconda2/envs/gammapy-0.18.2/lib/python3.7/site-packages/gammapy/datasets/map.py\", line 1790, in stat_array\n    mu_sig = self.npred_signal().data\n  File \"/home/rishank/anaconda2/envs/gammapy-0.18.2/lib/python3.7/site-packages/gammapy/datasets/map.py\", line 407, in npred_signal\n    npred = evaluator.compute_npred()\n  File \"/home/rishank/anaconda2/envs/gammapy-0.18.2/lib/python3.7/site-packages/gammapy/datasets/map.py\", line 2682, in compute_npred\n    return self._compute_npred()\n  File \"/home/rishank/anaconda2/envs/gammapy-0.18.2/lib/python3.7/site-packages/gammapy/datasets/map.py\", line 2631, in _compute_npred\n    npred = self.compute_flux_psf_convolved()\n  File \"/home/rishank/anaconda2/envs/gammapy-0.18.2/lib/python3.7/site-packages/gammapy/datasets/map.py\", line 2564, in compute_flux_psf_convolved\n    value = value * self.compute_flux_spatial().quantity\n  File \"/home/rishank/anaconda2/envs/gammapy-0.18.2/lib/python3.7/site-packages/gammapy/datasets/map.py\", line 2582, in compute_flux_spatial\n    return self._compute_flux_spatial()\n  File \"/home/rishank/anaconda2/envs/gammapy-0.18.2/lib/python3.7/site-packages/gammapy/datasets/map.py\", line 2575, in _compute_flux_spatial\n    value = self.apply_psf(value)\n  File \"/home/rishank/anaconda2/envs/gammapy-0.18.2/lib/python3.7/site-packages/gammapy/datasets/map.py\", line 2607, in apply_psf\n    tmp = npred.convolve(self.psf)\n  File \"/home/rishank/anaconda2/envs/gammapy-0.18.2/lib/python3.7/site-packages/gammapy/maps/wcsnd.py\", line 649, in convolve\n    self.data.astype(np.float32), kernel[idx], **kwargs\n",
     "output_type": "error",
     "traceback": [
      "\u001b[0;31m---------------------------------------------------------------------------\u001b[0m",
      "\u001b[0;31mRuntimeError\u001b[0m                              Traceback (most recent call last)",
      "\u001b[0;32m<ipython-input-13-5a61834b2417>\u001b[0m in \u001b[0;36m<module>\u001b[0;34m\u001b[0m\n\u001b[1;32m      2\u001b[0m     \u001b[0my1\u001b[0m\u001b[0;34m.\u001b[0m\u001b[0mappend\u001b[0m\u001b[0;34m(\u001b[0m\u001b[0mFoV\u001b[0m\u001b[0;34m(\u001b[0m\u001b[0menergy_reco\u001b[0m\u001b[0;34m,\u001b[0m \u001b[0menergy_true\u001b[0m\u001b[0;34m,\u001b[0m \u001b[0mx\u001b[0m\u001b[0;34m[\u001b[0m\u001b[0mi\u001b[0m\u001b[0;34m]\u001b[0m\u001b[0;34m,\u001b[0m \u001b[0mirfs\u001b[0m\u001b[0;34m,\u001b[0m \u001b[0mpointing\u001b[0m\u001b[0;34m,\u001b[0m \u001b[0mgeom\u001b[0m\u001b[0;34m,\u001b[0m \u001b[0mmodels\u001b[0m\u001b[0;34m)\u001b[0m\u001b[0;34m)\u001b[0m\u001b[0;34m\u001b[0m\u001b[0m\n\u001b[1;32m      3\u001b[0m     \u001b[0my2\u001b[0m\u001b[0;34m.\u001b[0m\u001b[0mappend\u001b[0m\u001b[0;34m(\u001b[0m\u001b[0mring1\u001b[0m\u001b[0;34m(\u001b[0m\u001b[0menergy_reco\u001b[0m\u001b[0;34m,\u001b[0m \u001b[0menergy_true\u001b[0m\u001b[0;34m,\u001b[0m \u001b[0mx\u001b[0m\u001b[0;34m[\u001b[0m\u001b[0mi\u001b[0m\u001b[0;34m]\u001b[0m\u001b[0;34m,\u001b[0m \u001b[0mirfs\u001b[0m\u001b[0;34m,\u001b[0m \u001b[0mpointing\u001b[0m\u001b[0;34m,\u001b[0m \u001b[0mgeom\u001b[0m\u001b[0;34m,\u001b[0m \u001b[0mmodel_simu\u001b[0m\u001b[0;34m)\u001b[0m\u001b[0;34m)\u001b[0m\u001b[0;34m\u001b[0m\u001b[0m\n\u001b[0;32m----> 4\u001b[0;31m     \u001b[0my3\u001b[0m\u001b[0;34m.\u001b[0m\u001b[0mappend\u001b[0m\u001b[0;34m(\u001b[0m\u001b[0mring2\u001b[0m\u001b[0;34m(\u001b[0m\u001b[0menergy_reco\u001b[0m\u001b[0;34m,\u001b[0m \u001b[0menergy_true\u001b[0m\u001b[0;34m,\u001b[0m \u001b[0mx\u001b[0m\u001b[0;34m[\u001b[0m\u001b[0mi\u001b[0m\u001b[0;34m]\u001b[0m\u001b[0;34m,\u001b[0m \u001b[0mirfs\u001b[0m\u001b[0;34m,\u001b[0m \u001b[0mpointing\u001b[0m\u001b[0;34m,\u001b[0m \u001b[0mgeom\u001b[0m\u001b[0;34m,\u001b[0m \u001b[0mmodel_simu\u001b[0m\u001b[0;34m)\u001b[0m\u001b[0;34m)\u001b[0m\u001b[0;34m\u001b[0m\u001b[0m\n\u001b[0m",
      "\u001b[0;32m<ipython-input-11-f8177ac64316>\u001b[0m in \u001b[0;36mring2\u001b[0;34m(energy_reco, energy_true, livetime, irfs, pointing, geom, models)\u001b[0m\n\u001b[1;32m     21\u001b[0m     \u001b[0mdataset\u001b[0m\u001b[0;34m.\u001b[0m\u001b[0mmodels\u001b[0m \u001b[0;34m=\u001b[0m \u001b[0mmodel\u001b[0m\u001b[0;34m\u001b[0m\u001b[0m\n\u001b[1;32m     22\u001b[0m     \u001b[0mfit\u001b[0m \u001b[0;34m=\u001b[0m \u001b[0mFit\u001b[0m\u001b[0;34m(\u001b[0m\u001b[0;34m[\u001b[0m\u001b[0mdataset\u001b[0m\u001b[0;34m]\u001b[0m\u001b[0;34m)\u001b[0m\u001b[0;34m\u001b[0m\u001b[0m\n\u001b[0;32m---> 23\u001b[0;31m     \u001b[0mresult\u001b[0m \u001b[0;34m=\u001b[0m \u001b[0mfit\u001b[0m\u001b[0;34m.\u001b[0m\u001b[0mrun\u001b[0m\u001b[0;34m(\u001b[0m\u001b[0;34m)\u001b[0m\u001b[0;34m\u001b[0m\u001b[0m\n\u001b[0m\u001b[1;32m     24\u001b[0m     \u001b[0mprint\u001b[0m\u001b[0;34m(\u001b[0m\u001b[0mresult\u001b[0m\u001b[0;34m)\u001b[0m\u001b[0;34m\u001b[0m\u001b[0m\n\u001b[1;32m     25\u001b[0m     \u001b[0mTS1\u001b[0m \u001b[0;34m=\u001b[0m \u001b[0mdataset\u001b[0m\u001b[0;34m.\u001b[0m\u001b[0mstat_sum\u001b[0m\u001b[0;34m(\u001b[0m\u001b[0;34m)\u001b[0m\u001b[0;34m\u001b[0m\u001b[0m\n",
      "\u001b[0;32m~/anaconda2/envs/gammapy-0.18.2/lib/python3.7/site-packages/gammapy/modeling/fit.py\u001b[0m in \u001b[0;36mrun\u001b[0;34m(self, backend, optimize_opts, covariance_opts)\u001b[0m\n\u001b[1;32m    107\u001b[0m         \u001b[0;32mif\u001b[0m \u001b[0moptimize_opts\u001b[0m \u001b[0;32mis\u001b[0m \u001b[0;32mNone\u001b[0m\u001b[0;34m:\u001b[0m\u001b[0;34m\u001b[0m\u001b[0m\n\u001b[1;32m    108\u001b[0m             \u001b[0moptimize_opts\u001b[0m \u001b[0;34m=\u001b[0m \u001b[0;34m{\u001b[0m\u001b[0;34m}\u001b[0m\u001b[0;34m\u001b[0m\u001b[0m\n\u001b[0;32m--> 109\u001b[0;31m         \u001b[0moptimize_result\u001b[0m \u001b[0;34m=\u001b[0m \u001b[0mself\u001b[0m\u001b[0;34m.\u001b[0m\u001b[0moptimize\u001b[0m\u001b[0;34m(\u001b[0m\u001b[0mbackend\u001b[0m\u001b[0;34m,\u001b[0m \u001b[0;34m**\u001b[0m\u001b[0moptimize_opts\u001b[0m\u001b[0;34m)\u001b[0m\u001b[0;34m\u001b[0m\u001b[0m\n\u001b[0m\u001b[1;32m    110\u001b[0m \u001b[0;34m\u001b[0m\u001b[0m\n\u001b[1;32m    111\u001b[0m         \u001b[0;32mif\u001b[0m \u001b[0mcovariance_opts\u001b[0m \u001b[0;32mis\u001b[0m \u001b[0;32mNone\u001b[0m\u001b[0;34m:\u001b[0m\u001b[0;34m\u001b[0m\u001b[0m\n",
      "\u001b[0;32m~/anaconda2/envs/gammapy-0.18.2/lib/python3.7/site-packages/gammapy/modeling/fit.py\u001b[0m in \u001b[0;36moptimize\u001b[0;34m(self, backend, **kwargs)\u001b[0m\n\u001b[1;32m    170\u001b[0m             \u001b[0mfunction\u001b[0m\u001b[0;34m=\u001b[0m\u001b[0mself\u001b[0m\u001b[0;34m.\u001b[0m\u001b[0mdatasets\u001b[0m\u001b[0;34m.\u001b[0m\u001b[0mstat_sum\u001b[0m\u001b[0;34m,\u001b[0m\u001b[0;34m\u001b[0m\u001b[0m\n\u001b[1;32m    171\u001b[0m             \u001b[0mstore_trace\u001b[0m\u001b[0;34m=\u001b[0m\u001b[0mself\u001b[0m\u001b[0;34m.\u001b[0m\u001b[0mstore_trace\u001b[0m\u001b[0;34m,\u001b[0m\u001b[0;34m\u001b[0m\u001b[0m\n\u001b[0;32m--> 172\u001b[0;31m             \u001b[0;34m**\u001b[0m\u001b[0mkwargs\u001b[0m\u001b[0;34m,\u001b[0m\u001b[0;34m\u001b[0m\u001b[0m\n\u001b[0m\u001b[1;32m    173\u001b[0m         )\n\u001b[1;32m    174\u001b[0m \u001b[0;34m\u001b[0m\u001b[0m\n",
      "\u001b[0;32m~/anaconda2/envs/gammapy-0.18.2/lib/python3.7/site-packages/gammapy/modeling/iminuit.py\u001b[0m in \u001b[0;36moptimize_iminuit\u001b[0;34m(parameters, function, store_trace, **kwargs)\u001b[0m\n\u001b[1;32m     59\u001b[0m     \u001b[0mminuit\u001b[0m\u001b[0;34m.\u001b[0m\u001b[0mtol\u001b[0m \u001b[0;34m=\u001b[0m \u001b[0mtol\u001b[0m\u001b[0;34m\u001b[0m\u001b[0m\n\u001b[1;32m     60\u001b[0m     \u001b[0mminuit\u001b[0m\u001b[0;34m.\u001b[0m\u001b[0mstrategy\u001b[0m \u001b[0;34m=\u001b[0m \u001b[0mstrategy\u001b[0m\u001b[0;34m\u001b[0m\u001b[0m\n\u001b[0;32m---> 61\u001b[0;31m     \u001b[0mminuit\u001b[0m\u001b[0;34m.\u001b[0m\u001b[0mmigrad\u001b[0m\u001b[0;34m(\u001b[0m\u001b[0;34m**\u001b[0m\u001b[0mmigrad_opts\u001b[0m\u001b[0;34m)\u001b[0m\u001b[0;34m\u001b[0m\u001b[0m\n\u001b[0m\u001b[1;32m     62\u001b[0m \u001b[0;34m\u001b[0m\u001b[0m\n\u001b[1;32m     63\u001b[0m     \u001b[0mfactors\u001b[0m \u001b[0;34m=\u001b[0m \u001b[0mminuit\u001b[0m\u001b[0;34m.\u001b[0m\u001b[0margs\u001b[0m\u001b[0;34m\u001b[0m\u001b[0m\n",
      "\u001b[0;32miminuit/_libiminuit.pyx\u001b[0m in \u001b[0;36miminuit._libiminuit.Minuit.migrad\u001b[0;34m()\u001b[0m\n",
      "\u001b[0;31mRuntimeError\u001b[0m: exception was raised in user function\nUser function arguments:\n        par_000_index = +2.495000\n    par_001_amplitude = +2.720000\n        par_002_lon_0 = +1.414095\n        par_003_lat_0 = +3.831743\nOriginal python exception in user function:\nValueError: could not broadcast input array from shape (0) into shape (0,75)\n  File \"/home/rishank/anaconda2/envs/gammapy-0.18.2/lib/python3.7/site-packages/gammapy/modeling/iminuit.py\", line 18, in fcn\n    total_stat = self.function()\n  File \"/home/rishank/anaconda2/envs/gammapy-0.18.2/lib/python3.7/site-packages/gammapy/datasets/core.py\", line 191, in stat_sum\n    stat_sum += dataset.stat_sum()\n  File \"/home/rishank/anaconda2/envs/gammapy-0.18.2/lib/python3.7/site-packages/gammapy/datasets/map.py\", line 1980, in stat_sum\n    return Dataset.stat_sum(self)\n  File \"/home/rishank/anaconda2/envs/gammapy-0.18.2/lib/python3.7/site-packages/gammapy/datasets/core.py\", line 55, in stat_sum\n    stat = self.stat_array()\n  File \"/home/rishank/anaconda2/envs/gammapy-0.18.2/lib/python3.7/site-packages/gammapy/datasets/map.py\", line 1790, in stat_array\n    mu_sig = self.npred_signal().data\n  File \"/home/rishank/anaconda2/envs/gammapy-0.18.2/lib/python3.7/site-packages/gammapy/datasets/map.py\", line 407, in npred_signal\n    npred = evaluator.compute_npred()\n  File \"/home/rishank/anaconda2/envs/gammapy-0.18.2/lib/python3.7/site-packages/gammapy/datasets/map.py\", line 2682, in compute_npred\n    return self._compute_npred()\n  File \"/home/rishank/anaconda2/envs/gammapy-0.18.2/lib/python3.7/site-packages/gammapy/datasets/map.py\", line 2631, in _compute_npred\n    npred = self.compute_flux_psf_convolved()\n  File \"/home/rishank/anaconda2/envs/gammapy-0.18.2/lib/python3.7/site-packages/gammapy/datasets/map.py\", line 2564, in compute_flux_psf_convolved\n    value = value * self.compute_flux_spatial().quantity\n  File \"/home/rishank/anaconda2/envs/gammapy-0.18.2/lib/python3.7/site-packages/gammapy/datasets/map.py\", line 2582, in compute_flux_spatial\n    return self._compute_flux_spatial()\n  File \"/home/rishank/anaconda2/envs/gammapy-0.18.2/lib/python3.7/site-packages/gammapy/datasets/map.py\", line 2575, in _compute_flux_spatial\n    value = self.apply_psf(value)\n  File \"/home/rishank/anaconda2/envs/gammapy-0.18.2/lib/python3.7/site-packages/gammapy/datasets/map.py\", line 2607, in apply_psf\n    tmp = npred.convolve(self.psf)\n  File \"/home/rishank/anaconda2/envs/gammapy-0.18.2/lib/python3.7/site-packages/gammapy/maps/wcsnd.py\", line 649, in convolve\n    self.data.astype(np.float32), kernel[idx], **kwargs\n"
     ]
    }
   ],
   "source": [
    "for i in range(len(x)):\n",
    "    y1.append(FoV(energy_reco, energy_true, x[i], irfs, pointing, geom, models))\n",
    "    y2.append(ring1(energy_reco, energy_true, x[i], irfs, pointing, geom, model_simu))\n",
    "    y3.append(ring2(energy_reco, energy_true, x[i], irfs, pointing, geom, model_simu))"
   ]
  },
  {
   "cell_type": "code",
   "execution_count": null,
   "id": "continuing-transcription",
   "metadata": {},
   "outputs": [],
   "source": [
    "del_TS_ = []\n",
    "dataset_ = []\n",
    "model_ = []\n",
    "for i in range(len(x)):\n",
    "    del_TS_.append(y1[i][0])\n",
    "    dataset_.append(y1[i][1])\n",
    "    model_.append(y1[i][2])\n",
    "    \n",
    "for i in range(len(x)):\n",
    "    del_TS_.append(y2[i][0])\n",
    "    dataset_.append(y2[i][3])\n",
    "    model_.append(y2[i][2])\n",
    "    \n",
    "for i in range(len(x)):\n",
    "    del_TS_.append(y3[i][0])\n",
    "    dataset_.append(y3[i][1])\n",
    "    model_.append(y3[i][2])"
   ]
  },
  {
   "cell_type": "code",
   "execution_count": null,
   "id": "silver-ground",
   "metadata": {},
   "outputs": [],
   "source": [
    "print(del_TS_[0:5])\n",
    "print(del_TS_[5:10])\n",
    "print(del_TS_[10:15])"
   ]
  },
  {
   "cell_type": "code",
   "execution_count": null,
   "id": "informative-bedroom",
   "metadata": {},
   "outputs": [],
   "source": [
    "plt.scatter(x,del_TS_[0:5])\n",
    "#plt.xscale(\"log\")\n",
    "plt.legend([\"FoV_Background\"])\n",
    "plt.ylabel(\"Del_TS\")\n",
    "plt.xlabel(\"LiveTime (hrs)\")\n",
    "plt.title(\"Original code\")"
   ]
  },
  {
   "cell_type": "code",
   "execution_count": null,
   "id": "aggressive-illness",
   "metadata": {
    "scrolled": false
   },
   "outputs": [],
   "source": [
    "plt.scatter(x,del_TS_[5:10])\n",
    "#plt.xscale(\"log\")\n",
    "plt.legend([\"Ring_Background\"])\n",
    "plt.ylabel(\"Del_TS\")\n",
    "plt.xlabel(\"LiveTime (hrs)\")\n",
    "plt.title(\"Original code\")"
   ]
  },
  {
   "cell_type": "code",
   "execution_count": null,
   "id": "identified-gallery",
   "metadata": {},
   "outputs": [],
   "source": [
    "plt.scatter(x,del_TS_[10:15])\n",
    "plt.legend([\"Ring_Background\"])\n",
    "plt.ylabel(\"Del_TS\")\n",
    "plt.xlabel(\"LiveTime (hrs)\")\n",
    "plt.title(\"Instead of default dataset.to_image, only dataset is taken\")"
   ]
  },
  {
   "cell_type": "code",
   "execution_count": null,
   "id": "nervous-study",
   "metadata": {},
   "outputs": [],
   "source": [
    "def flux_plt(model, dataset):\n",
    "    spec = model.spectral_model\n",
    "    energy_edges = np.logspace(-1.0, 1.0, 5) * u.TeV\n",
    "    fpe = FluxPointsEstimator(energy_edges=energy_edges)\n",
    "    flux_points = fpe.run(datasets=[dataset])\n",
    "    energy_range = [0.1, 10] * u.TeV\n",
    "    spec.plot(energy_range=energy_range, energy_power=2)\n",
    "    ax = spec.plot_error(energy_range=energy_range, energy_power=2)\n",
    "    flux_points.plot(ax=ax, energy_power=2)\n",
    "    plt.title(\"Livetime = \"+str(dataset.gti.time_delta.to(u.hr)))#, fontsize='15')\n",
    "    return"
   ]
  },
  {
   "cell_type": "code",
   "execution_count": null,
   "id": "mysterious-poetry",
   "metadata": {},
   "outputs": [],
   "source": [
    "fig = plt.figure(figsize = [10,10], tight_layout=True)\n",
    "fig.suptitle('FoV Background', verticalalignment = 'baseline', fontsize = 15)\n",
    "plt.subplot(321)\n",
    "flux_plt(model_[0],dataset_[0])\n",
    "plt.subplot(322)\n",
    "flux_plt(model_[1],dataset_[1])\n",
    "plt.subplot(323)\n",
    "flux_plt(model_[2],dataset_[2])\n",
    "plt.subplot(324)\n",
    "flux_plt(model_[3],dataset_[3])\n",
    "plt.subplot(325)\n",
    "flux_plt(model_[4],dataset_[4])"
   ]
  },
  {
   "cell_type": "code",
   "execution_count": null,
   "id": "atlantic-adventure",
   "metadata": {},
   "outputs": [],
   "source": [
    "fig = plt.figure(figsize = [10,10], tight_layout=True)\n",
    "fig.suptitle('Ring Background 1', verticalalignment = 'baseline', fontsize = 15)\n",
    "plt.subplot(321)\n",
    "flux_plt(model_[5],dataset_[5])\n",
    "plt.subplot(322)\n",
    "flux_plt(model_[6],dataset_[6])\n",
    "plt.subplot(323)\n",
    "flux_plt(model_[7],dataset_[7])\n",
    "plt.subplot(324)\n",
    "flux_plt(model_[8],dataset_[8])\n",
    "plt.subplot(325)\n",
    "flux_plt(model_[9],dataset_[9])"
   ]
  },
  {
   "cell_type": "code",
   "execution_count": null,
   "id": "parliamentary-measurement",
   "metadata": {},
   "outputs": [],
   "source": [
    "fig = plt.figure(figsize = [10,10], tight_layout=True)\n",
    "fig.suptitle('Ring Background 2', verticalalignment = 'baseline', fontsize = 15)\n",
    "plt.subplot(321)\n",
    "flux_plt(model_[10],dataset_[10])\n",
    "plt.subplot(322)\n",
    "flux_plt(model_[11],dataset_[11])\n",
    "plt.subplot(323)\n",
    "flux_plt(model_[12],dataset_[12])\n",
    "plt.subplot(324)\n",
    "flux_plt(model_[13],dataset_[13])\n",
    "plt.subplot(325)\n",
    "flux_plt(model_[14],dataset_[14])"
   ]
  },
  {
   "cell_type": "code",
   "execution_count": null,
   "id": "average-civilization",
   "metadata": {},
   "outputs": [],
   "source": []
  }
 ],
 "metadata": {
  "kernelspec": {
   "display_name": "Python 3",
   "language": "python",
   "name": "python3"
  },
  "language_info": {
   "codemirror_mode": {
    "name": "ipython",
    "version": 3
   },
   "file_extension": ".py",
   "mimetype": "text/x-python",
   "name": "python",
   "nbconvert_exporter": "python",
   "pygments_lexer": "ipython3",
   "version": "3.7.0"
  }
 },
 "nbformat": 4,
 "nbformat_minor": 5
}
