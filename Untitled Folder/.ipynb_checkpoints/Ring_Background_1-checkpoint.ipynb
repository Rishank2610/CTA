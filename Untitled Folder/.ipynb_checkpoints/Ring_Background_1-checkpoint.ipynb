{
 "cells": [
  {
   "cell_type": "code",
   "execution_count": 1,
   "id": "empirical-paraguay",
   "metadata": {},
   "outputs": [],
   "source": [
    "## This corresponds to de3() function from del_TS script"
   ]
  },
  {
   "cell_type": "code",
   "execution_count": 2,
   "id": "downtown-intelligence",
   "metadata": {},
   "outputs": [
    {
     "name": "stdout",
     "output_type": "stream",
     "text": [
      "gammapy: 0.18.2\n"
     ]
    }
   ],
   "source": [
    "%matplotlib inline\n",
    "import matplotlib.pyplot as plt\n",
    "import gammapy\n",
    "print(\"gammapy:\", gammapy.__version__)"
   ]
  },
  {
   "cell_type": "code",
   "execution_count": 3,
   "id": "forbidden-pierce",
   "metadata": {},
   "outputs": [],
   "source": [
    "import numpy as np\n",
    "import astropy.units as u\n",
    "from astropy.coordinates import SkyCoord\n",
    "from gammapy.irf import load_cta_irfs\n",
    "from gammapy.maps import WcsGeom, MapAxis\n",
    "from regions import CircleSkyRegion\n",
    "from gammapy.modeling.models import (\n",
    "    PowerLawSpectralModel,\n",
    "    GaussianSpatialModel,\n",
    "    SkyModel,\n",
    "    Models,\n",
    "    PointSpatialModel,\n",
    "    FoVBackgroundModel,\n",
    "    ExpCutoffPowerLawSpectralModel,\n",
    ")\n",
    "from gammapy.makers import MapDatasetMaker, SafeMaskMaker, RingBackgroundMaker, FoVBackgroundMaker\n",
    "from gammapy.modeling import Fit\n",
    "from gammapy.maps import Map\n",
    "from scipy.stats import norm\n",
    "from gammapy.data import Observation\n",
    "from gammapy.datasets import MapDataset, MapDatasetOnOff\n",
    "from gammapy.estimators import ExcessMapEstimator, FluxPointsEstimator"
   ]
  },
  {
   "cell_type": "code",
   "execution_count": 4,
   "id": "competitive-blade",
   "metadata": {},
   "outputs": [],
   "source": [
    "import scipy.stats as stats\n",
    "import math\n",
    "import statistics\n",
    "import os"
   ]
  },
  {
   "cell_type": "code",
   "execution_count": 5,
   "id": "outside-fancy",
   "metadata": {},
   "outputs": [
    {
     "name": "stdout",
     "output_type": "stream",
     "text": [
      "/home/rishank/anaconda2/envs/cta/share/caldb/\n",
      "data\n"
     ]
    }
   ],
   "source": [
    "os.environ['CALDB'] = '/home/rishank/anaconda2/envs/cta/share/caldb/'\n",
    "!echo $CALDB\n",
    "!ls $CALDB"
   ]
  },
  {
   "cell_type": "code",
   "execution_count": 6,
   "id": "anonymous-scanner",
   "metadata": {},
   "outputs": [
    {
     "name": "stderr",
     "output_type": "stream",
     "text": [
      "Invalid unit found in background table! Assuming (s-1 MeV-1 sr-1)\n"
     ]
    }
   ],
   "source": [
    "irfs = load_cta_irfs(\n",
    "    \"$CALDB/data/cta/prod3b-v2/bcf/South_z20_50h/irf_file.fits\"\n",
    ")"
   ]
  },
  {
   "cell_type": "code",
   "execution_count": 7,
   "id": "random-sense",
   "metadata": {},
   "outputs": [],
   "source": [
    "# Define the observation parameters (typically the observation duration and the pointing position):\n",
    "livetime = 25.0 * u.hr\n",
    "l = 0.05\n",
    "pointing = SkyCoord(141.409467, 40.566962, unit=\"deg\", frame=\"galactic\")"
   ]
  },
  {
   "cell_type": "code",
   "execution_count": 8,
   "id": "narrow-disposition",
   "metadata": {},
   "outputs": [],
   "source": [
    "# Define map geometry for binned simulation\n",
    "energy_reco = MapAxis.from_edges(\n",
    "    np.logspace(-1.0, 1.0, 10), unit=\"TeV\", name=\"energy\", interp=\"log\"\n",
    ")\n",
    "geom = WcsGeom.create(\n",
    "    skydir=(141.409467, 40.566962),\n",
    "    binsz=0.02,\n",
    "    width=(3, 3),\n",
    "    frame=\"galactic\",\n",
    "    axes=[energy_reco],\n",
    ")\n",
    "# It is usually useful to have a separate binning for the true energy axis\n",
    "energy_true = MapAxis.from_edges(\n",
    "    np.logspace(-1.5, 1.5, 30), unit=\"TeV\", name=\"energy_true\", interp=\"log\"\n",
    ")\n",
    "\n",
    "empty = MapDataset.create(geom, name=\"dataset-simu\")"
   ]
  },
  {
   "cell_type": "code",
   "execution_count": 9,
   "id": "brown-passport",
   "metadata": {},
   "outputs": [
    {
     "name": "stdout",
     "output_type": "stream",
     "text": [
      "SkyModel\n",
      "\n",
      "  Name                      : model-simu\n",
      "  Datasets names            : None\n",
      "  Spectral model type       : PowerLawSpectralModel\n",
      "  Spatial  model type       : PointSpatialModel\n",
      "  Temporal model type       : \n",
      "  Parameters:\n",
      "    index                   :   2.220              \n",
      "    amplitude               :   1.29e-12  1 / (cm2 s TeV)\n",
      "    reference    (frozen)   :   1.000  TeV         \n",
      "    lon_0                   : 141.409  deg         \n",
      "    lat_0                   :  40.567  deg         \n",
      "\n",
      "\n"
     ]
    }
   ],
   "source": [
    "# Define sky model to used simulate the data.\n",
    "# Here we use a Gaussian spatial model and a Power Law spectral model.\n",
    "spatial_model = PointSpatialModel(\n",
    "    lon_0=\"141.409467 deg\", lat_0=\"40.566962 deg\", frame=\"galactic\"\n",
    ")\n",
    "spectral_model = PowerLawSpectralModel(\n",
    "    index=2.22, amplitude=\"1.289e-12 cm-2 s-1 TeV-1\", reference=\"1 TeV\"\n",
    ")\n",
    "model_simu = SkyModel(\n",
    "    spatial_model=spatial_model,\n",
    "    spectral_model=spectral_model,\n",
    "    name=\"model-simu\",\n",
    ")\n",
    "print(model_simu)"
   ]
  },
  {
   "cell_type": "code",
   "execution_count": 10,
   "id": "polyphonic-sheriff",
   "metadata": {},
   "outputs": [
    {
     "name": "stdout",
     "output_type": "stream",
     "text": [
      "Observation\n",
      "\n",
      "\tobs id            : 0 \n",
      " \ttstart            : 51544.00\n",
      "\ttstop             : 51545.04\n",
      "\tduration          : 90000.00 s\n",
      "\tpointing (icrs)   : 149.0 deg, 69.7 deg\n",
      "\n",
      "\tdeadtime fraction : 0.0%\n",
      "\n",
      "MapDataset\n",
      "----------\n",
      "\n",
      "  Name                            : dataset-simu \n",
      "\n",
      "  Total counts                    : 683811 \n",
      "  Total background counts         : 677717.46\n",
      "  Total excess counts             : 6093.54\n",
      "\n",
      "  Predicted counts                : 683527.45\n",
      "  Predicted background counts     : 677717.46\n",
      "  Predicted excess counts         : 5810.00\n",
      "\n",
      "  Exposure min                    : 1.28e+10 m2 s\n",
      "  Exposure max                    : 3.26e+11 m2 s\n",
      "\n",
      "  Number of total bins            : 202500 \n",
      "  Number of fit bins              : 202500 \n",
      "\n",
      "  Fit statistic type              : cash\n",
      "  Fit statistic value (-2 log(L)) : -1482963.34\n",
      "\n",
      "  Number of models                : 1 \n",
      "  Number of parameters            : 5\n",
      "  Number of free parameters       : 4\n",
      "\n",
      "  Component 0: SkyModel\n",
      "  \n",
      "    Name                      : model-simu\n",
      "    Datasets names            : None\n",
      "    Spectral model type       : PowerLawSpectralModel\n",
      "    Spatial  model type       : PointSpatialModel\n",
      "    Temporal model type       : \n",
      "    Parameters:\n",
      "      index                   :   2.220              \n",
      "      amplitude               :   1.29e-12  1 / (cm2 s TeV)\n",
      "      reference    (frozen)   :   1.000  TeV         \n",
      "      lon_0                   : 141.409  deg         \n",
      "      lat_0                   :  40.567  deg         \n",
      "  \n",
      "  \n"
     ]
    }
   ],
   "source": [
    "obs = Observation.create(pointing=pointing, livetime=livetime, irfs=irfs)\n",
    "print(obs)\n",
    "maker = MapDatasetMaker(selection=[\"exposure\", \"background\", \"psf\", \"edisp\"])\n",
    "maker_safe_mask = SafeMaskMaker(methods=[\"offset-max\"], offset_max=3.5 * u.deg)\n",
    "dataset = maker.run(empty, obs)\n",
    "dataset = maker_safe_mask.run(dataset, obs)\n",
    "dataset.models = model_simu\n",
    "dataset.fake(random_state=42)\n",
    "print(dataset)"
   ]
  },
  {
   "cell_type": "code",
   "execution_count": 11,
   "id": "initial-olive",
   "metadata": {},
   "outputs": [
    {
     "name": "stdout",
     "output_type": "stream",
     "text": [
      "MapDatasetOnOff\n",
      "---------------\n",
      "\n",
      "  Name                            : vOGhCuk1 \n",
      "\n",
      "  Total counts                    : 683811 \n",
      "  Total background counts         : 677648.66\n",
      "  Total excess counts             : 6162.34\n",
      "\n",
      "  Predicted counts                : 677650.84\n",
      "  Predicted background counts     : 677650.84\n",
      "  Predicted excess counts         : nan\n",
      "\n",
      "  Exposure min                    : 1.28e+10 m2 s\n",
      "  Exposure max                    : 3.26e+11 m2 s\n",
      "\n",
      "  Number of total bins            : 22500 \n",
      "  Number of fit bins              : 22500 \n",
      "\n",
      "  Fit statistic type              : wstat\n",
      "  Fit statistic value (-2 log(L)) : 31270.16\n",
      "\n",
      "  Number of models                : 0 \n",
      "  Number of parameters            : 0\n",
      "  Number of free parameters       : 0\n",
      "\n",
      "  Total counts_off                : 1518173440 \n",
      "  Acceptance                      : 677717 \n",
      "  Acceptance off                  : 1518398976 \n",
      "\n"
     ]
    }
   ],
   "source": [
    "geom_image = geom.to_image().to_cube([energy_reco.squash()])\n",
    "regions = CircleSkyRegion(center=pointing, radius=0.2 * u.deg)\n",
    "exclusion_mask = Map.from_geom(geom_image)\n",
    "exclusion_mask.data = geom_image.region_mask([regions], inside=False)\n",
    "ring_maker = RingBackgroundMaker(\n",
    "    r_in=\"0.5 deg\", width=\"0.3 deg\", exclusion_mask=exclusion_mask\n",
    ")\n",
    "dataset_on_off = MapDatasetOnOff.create(\n",
    "    geom=geom_image, energy_axis_true=energy_true, name=\"stacked\"\n",
    ")\n",
    "dataset_on_off = ring_maker.run(dataset.to_image())\n",
    "print(dataset_on_off)"
   ]
  },
  {
   "cell_type": "code",
   "execution_count": 12,
   "id": "mobile-wealth",
   "metadata": {},
   "outputs": [
    {
     "name": "stdout",
     "output_type": "stream",
     "text": [
      "31270.158133794903\n",
      "MapDatasetOnOff\n",
      "---------------\n",
      "\n",
      "  Name                            : vOGhCuk1 \n",
      "\n",
      "  Total counts                    : 683811 \n",
      "  Total background counts         : 677648.66\n",
      "  Total excess counts             : 6162.34\n",
      "\n",
      "  Predicted counts                : 683458.90\n",
      "  Predicted background counts     : 677648.91\n",
      "  Predicted excess counts         : 5810.00\n",
      "\n",
      "  Exposure min                    : 1.28e+10 m2 s\n",
      "  Exposure max                    : 3.26e+11 m2 s\n",
      "\n",
      "  Number of total bins            : 22500 \n",
      "  Number of fit bins              : 22500 \n",
      "\n",
      "  Fit statistic type              : wstat\n",
      "  Fit statistic value (-2 log(L)) : 22705.89\n",
      "\n",
      "  Number of models                : 1 \n",
      "  Number of parameters            : 5\n",
      "  Number of free parameters       : 4\n",
      "\n",
      "  Component 0: SkyModel\n",
      "  \n",
      "    Name                      : model-simu\n",
      "    Datasets names            : None\n",
      "    Spectral model type       : PowerLawSpectralModel\n",
      "    Spatial  model type       : PointSpatialModel\n",
      "    Temporal model type       : \n",
      "    Parameters:\n",
      "      index                   :   2.220              \n",
      "      amplitude               :   1.29e-12  1 / (cm2 s TeV)\n",
      "      reference    (frozen)   :   1.000  TeV         \n",
      "      lon_0                   : 141.409  deg         \n",
      "      lat_0                   :  40.567  deg         \n",
      "  \n",
      "    Total counts_off                : 1518173440 \n",
      "  Acceptance                      : 677717 \n",
      "  Acceptance off                  : 1518398976 \n",
      "\n"
     ]
    }
   ],
   "source": [
    "TS0 = dataset_on_off.stat_sum()\n",
    "print(TS0)\n",
    "dataset_on_off.models = model_simu\n",
    "print(dataset_on_off)"
   ]
  },
  {
   "cell_type": "code",
   "execution_count": 13,
   "id": "secret-federal",
   "metadata": {},
   "outputs": [
    {
     "name": "stdout",
     "output_type": "stream",
     "text": [
      "OptimizeResult\n",
      "\n",
      "\tbackend    : minuit\n",
      "\tmethod     : minuit\n",
      "\tsuccess    : True\n",
      "\tmessage    : Optimization terminated successfully.\n",
      "\tnfev       : 96\n",
      "\ttotal stat : 22699.27\n",
      "\n",
      "CPU times: user 6.1 s, sys: 277 ms, total: 6.38 s\n",
      "Wall time: 6.54 s\n"
     ]
    }
   ],
   "source": [
    "%%time\n",
    "fit = Fit([dataset_on_off])\n",
    "result = fit.run()\n",
    "print(result)"
   ]
  },
  {
   "cell_type": "code",
   "execution_count": 14,
   "id": "informal-spank",
   "metadata": {},
   "outputs": [
    {
     "name": "stdout",
     "output_type": "stream",
     "text": [
      "   name     value         unit         min        max    frozen   error  \n",
      "--------- ---------- -------------- ---------- --------- ------ ---------\n",
      "    index 2.2416e+00                       nan       nan  False 3.790e-02\n",
      "amplitude 1.3049e-12 cm-2 s-1 TeV-1        nan       nan  False 3.269e-14\n",
      "reference 1.0000e+00            TeV        nan       nan   True 0.000e+00\n",
      "    lon_0 1.4141e+02            deg        nan       nan  False 1.092e-03\n",
      "    lat_0 4.0566e+01            deg -9.000e+01 9.000e+01  False 8.164e-04\n"
     ]
    }
   ],
   "source": [
    "print(result.parameters.to_table())"
   ]
  },
  {
   "cell_type": "code",
   "execution_count": 15,
   "id": "still-compact",
   "metadata": {},
   "outputs": [
    {
     "name": "stdout",
     "output_type": "stream",
     "text": [
      "8570.88969078823\n"
     ]
    }
   ],
   "source": [
    "TS1 = dataset_on_off.stat_sum()\n",
    "del_TS = TS0 - TS1\n",
    "print(del_TS)"
   ]
  },
  {
   "cell_type": "code",
   "execution_count": 16,
   "id": "naval-produce",
   "metadata": {},
   "outputs": [],
   "source": [
    "spec = model_simu.spectral_model"
   ]
  },
  {
   "cell_type": "code",
   "execution_count": 17,
   "id": "distributed-pavilion",
   "metadata": {},
   "outputs": [
    {
     "data": {
      "image/png": "[encoded data removed]",
      "text/plain": [
       "<Figure size 432x288 with 1 Axes>"
      ]
     },
     "metadata": {
      "needs_background": "light"
     },
     "output_type": "display_data"
    }
   ],
   "source": [
    "energy_range = [0.1, 10] * u.TeV\n",
    "spec.plot(energy_range=energy_range, energy_power=2)\n",
    "ax = spec.plot_error(energy_range=energy_range, energy_power=2)"
   ]
  },
  {
   "cell_type": "code",
   "execution_count": 18,
   "id": "peripheral-edgar",
   "metadata": {},
   "outputs": [],
   "source": [
    "energy_edges = np.logspace(-1.0, 1.0, 5) * u.TeV\n",
    "fpe = FluxPointsEstimator(energy_edges=energy_edges)"
   ]
  },
  {
   "cell_type": "code",
   "execution_count": 19,
   "id": "spanish-correction",
   "metadata": {},
   "outputs": [
    {
     "name": "stdout",
     "output_type": "stream",
     "text": [
      "CPU times: user 8.2 s, sys: 172 ms, total: 8.37 s\n",
      "Wall time: 8.38 s\n"
     ]
    }
   ],
   "source": [
    "%%time\n",
    "flux_points = fpe.run(datasets=[dataset])"
   ]
  },
  {
   "cell_type": "code",
   "execution_count": 20,
   "id": "sophisticated-basics",
   "metadata": {},
   "outputs": [
    {
     "data": {
      "text/plain": [
       "<matplotlib.axes._subplots.AxesSubplot at 0x7f50d36242b0>"
      ]
     },
     "execution_count": 20,
     "metadata": {},
     "output_type": "execute_result"
    },
    {
     "data": {
      "image/png": "[encoded data removed]",
      "text/plain": [
       "<Figure size 432x288 with 1 Axes>"
      ]
     },
     "metadata": {
      "needs_background": "light"
     },
     "output_type": "display_data"
    }
   ],
   "source": [
    "ax = spec.plot_error(energy_range=energy_range, energy_power=2)\n",
    "flux_points.plot(ax=ax, energy_power=2)"
   ]
  },
  {
   "cell_type": "code",
   "execution_count": null,
   "id": "competitive-editor",
   "metadata": {},
   "outputs": [],
   "source": []
  }
 ],
 "metadata": {
  "kernelspec": {
   "display_name": "Python 3",
   "language": "python",
   "name": "python3"
  },
  "language_info": {
   "codemirror_mode": {
    "name": "ipython",
    "version": 3
   },
   "file_extension": ".py",
   "mimetype": "text/x-python",
   "name": "python",
   "nbconvert_exporter": "python",
   "pygments_lexer": "ipython3",
   "version": "3.7.0"
  }
 },
 "nbformat": 4,
 "nbformat_minor": 5
}
