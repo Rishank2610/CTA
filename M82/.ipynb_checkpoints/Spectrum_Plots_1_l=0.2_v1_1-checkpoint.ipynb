{
 "cells": [
  {
   "cell_type": "code",
   "execution_count": 1,
   "id": "representative-measurement",
   "metadata": {},
   "outputs": [],
   "source": [
    "%matplotlib inline\n",
    "import matplotlib.pyplot as plt"
   ]
  },
  {
   "cell_type": "code",
   "execution_count": 2,
   "id": "functional-deputy",
   "metadata": {},
   "outputs": [],
   "source": [
    "import numpy as np\n",
    "import astropy.units as u\n",
    "from astropy.coordinates import SkyCoord\n",
    "from gammapy.irf import load_cta_irfs\n",
    "from gammapy.maps import WcsGeom, MapAxis\n",
    "from regions import CircleSkyRegion\n",
    "from gammapy.modeling.models import (\n",
    "    PowerLawSpectralModel,\n",
    "    GaussianSpatialModel,\n",
    "    SkyModel,\n",
    "    Models,\n",
    "    PointSpatialModel,\n",
    "    FoVBackgroundModel,\n",
    "    ExpCutoffPowerLawSpectralModel,\n",
    ")\n",
    "from gammapy.makers import MapDatasetMaker, SafeMaskMaker, RingBackgroundMaker, FoVBackgroundMaker\n",
    "from gammapy.modeling import Fit\n",
    "from gammapy.maps import Map\n",
    "from scipy.stats import norm\n",
    "from gammapy.data import Observation\n",
    "from gammapy.datasets import MapDataset, MapDatasetOnOff\n",
    "from gammapy.estimators import ExcessMapEstimator, FluxPointsEstimator"
   ]
  },
  {
   "cell_type": "code",
   "execution_count": 3,
   "id": "willing-population",
   "metadata": {},
   "outputs": [],
   "source": [
    "import scipy.stats as stats\n",
    "import math\n",
    "import statistics\n",
    "import os"
   ]
  },
  {
   "cell_type": "code",
   "execution_count": 4,
   "id": "junior-pocket",
   "metadata": {},
   "outputs": [
    {
     "name": "stdout",
     "output_type": "stream",
     "text": [
      "/home/rishank/anaconda2/envs/cta/share/caldb/\n",
      "data\n"
     ]
    }
   ],
   "source": [
    "os.environ['CALDB'] = '/home/rishank/anaconda2/envs/cta/share/caldb/'\n",
    "!echo $CALDB\n",
    "!ls $CALDB"
   ]
  },
  {
   "cell_type": "code",
   "execution_count": 5,
   "id": "lightweight-interim",
   "metadata": {},
   "outputs": [
    {
     "name": "stderr",
     "output_type": "stream",
     "text": [
      "Invalid unit found in background table! Assuming (s-1 MeV-1 sr-1)\n"
     ]
    }
   ],
   "source": [
    "irfs = load_cta_irfs(\n",
    "    \"$CALDB/data/cta/prod3b-v2/bcf/South_z20_50h/irf_file.fits\"\n",
    ")"
   ]
  },
  {
   "cell_type": "code",
   "execution_count": 6,
   "id": "coupled-friendship",
   "metadata": {},
   "outputs": [],
   "source": [
    "# Define the observation parameters (typically the observation duration and the pointing position):\n",
    "livetime = 1.0 * u.hr\n",
    "l = 0.2\n",
    "pointing = SkyCoord(141.409467, 40.566962, unit=\"deg\", frame=\"galactic\")"
   ]
  },
  {
   "cell_type": "code",
   "execution_count": 7,
   "id": "infinite-professor",
   "metadata": {},
   "outputs": [],
   "source": [
    "# Define map geometry for binned simulation\n",
    "energy_reco = MapAxis.from_edges(\n",
    "    np.logspace(-1.0, 1.0, 10), unit=\"TeV\", name=\"energy\", interp=\"log\"\n",
    ")\n",
    "geom = WcsGeom.create(\n",
    "    skydir=(141.409467, 40.566962),\n",
    "    binsz=0.02,\n",
    "    width=(3, 3),\n",
    "    frame=\"galactic\",\n",
    "    axes=[energy_reco],\n",
    ")\n",
    "# It is usually useful to have a separate binning for the true energy axis\n",
    "energy_true = MapAxis.from_edges(\n",
    "    np.logspace(-1.5, 1.5, 30), unit=\"TeV\", name=\"energy_true\", interp=\"log\"\n",
    ")\n",
    "\n",
    "empty = MapDataset.create(geom, name=\"dataset-simu\")"
   ]
  },
  {
   "cell_type": "code",
   "execution_count": 8,
   "id": "loaded-nightlife",
   "metadata": {},
   "outputs": [
    {
     "name": "stdout",
     "output_type": "stream",
     "text": [
      "Models\n",
      "\n",
      "Component 0: SkyModel\n",
      "\n",
      "  Name                      : model-simu\n",
      "  Datasets names            : None\n",
      "  Spectral model type       : ExpCutoffPowerLawSpectralModel\n",
      "  Spatial  model type       : PointSpatialModel\n",
      "  Temporal model type       : \n",
      "  Parameters:\n",
      "    index                   :   2.495              \n",
      "    amplitude               :   2.72e-13  1 / (cm2 s TeV)\n",
      "    reference    (frozen)   :   1.000  TeV         \n",
      "    lambda_                 :   0.200  1 / TeV     \n",
      "    alpha        (frozen)   :   1.000              \n",
      "    lon_0                   : 141.409  deg         \n",
      "    lat_0                   :  40.567  deg         \n",
      "\n",
      "Component 1: FoVBackgroundModel\n",
      "\n",
      "  Name                      : dataset-simu-bkg\n",
      "  Datasets names            : ['dataset-simu']\n",
      "  Spectral model type       : PowerLawNormSpectralModel\n",
      "  Parameters:\n",
      "    norm                    :   1.000              \n",
      "    tilt         (frozen)   :   0.000              \n",
      "    reference    (frozen)   :   1.000  TeV         \n",
      "\n",
      "\n"
     ]
    }
   ],
   "source": [
    "# Define sky model to used simulate the data.\n",
    "# Here we use a Point spatial model and a Exponential Cut Power Law spectral model.\n",
    "spatial_model = PointSpatialModel(\n",
    "    lon_0=\"141.409467 deg\", lat_0=\"40.566962 deg\", frame=\"galactic\"\n",
    ")\n",
    "spectral_model = ExpCutoffPowerLawSpectralModel(\n",
    "    index=2.495, amplitude=\"2.72e-13 cm-2 s-1 TeV-1\", reference=\"1 TeV\", lambda_=l * u.Unit(\"TeV-1\"), alpha = 1\n",
    ")\n",
    "model_simu = SkyModel(\n",
    "    spatial_model=spatial_model,\n",
    "    spectral_model=spectral_model,\n",
    "    name=\"model-simu\",\n",
    ")\n",
    "\n",
    "bkg_model = FoVBackgroundModel(dataset_name=\"dataset-simu\")\n",
    "\n",
    "models = Models([model_simu, bkg_model])\n",
    "print(models)"
   ]
  },
  {
   "cell_type": "code",
   "execution_count": 9,
   "id": "surprising-lighter",
   "metadata": {},
   "outputs": [],
   "source": [
    "def FoV(energy_reco, energy_true, livetime, irfs, pointing, geom, models):\n",
    "    model = models.copy()\n",
    "    obs = Observation.create(pointing=pointing, livetime=livetime, irfs=irfs)\n",
    "    maker = MapDatasetMaker(selection=[\"exposure\", \"background\", \"psf\", \"edisp\"])\n",
    "    maker_safe_mask = SafeMaskMaker(methods=[\"offset-max\"], offset_max=3.5 * u.deg)\n",
    "    dataset = maker.run(empty, obs)\n",
    "    dataset = maker_safe_mask.run(dataset, obs)\n",
    "    dataset.models = model\n",
    "    dataset.fake(random_state=40)\n",
    "    \n",
    "    dataset1 = dataset.copy()\n",
    "    dataset1.models = bkg_model\n",
    "    \n",
    "    dataset2 = dataset.copy()\n",
    "    dataset2.models = bkg_model\n",
    "    \n",
    "    estimator = ExcessMapEstimator(0.04 * u.deg, selection_optional=[])\n",
    "    lima_maps = estimator.run(dataset1)\n",
    "    significance_map = lima_maps[\"sqrt_ts\"]\n",
    "    excess_map = lima_maps[\"excess\"]\n",
    "    \n",
    "    geom_image = geom.to_image().to_cube([energy_reco.squash()])\n",
    "    regions = CircleSkyRegion(center=pointing, radius=0.2 * u.deg)\n",
    "    exclusion_mask = Map.from_geom(geom_image)\n",
    "    exclusion_mask.data = geom_image.region_mask([regions], inside=False)\n",
    "    maker_fov = FoVBackgroundMaker(method=\"fit\", exclusion_mask=exclusion_mask)\n",
    "    \n",
    "    ## original code\n",
    "    dataset1 = maker_fov.run(dataset1)\n",
    "    dataset2 = maker_fov.run(dataset2)\n",
    "    \n",
    "    TS0 = dataset1.stat_sum()\n",
    "    models_fit = model[0].copy()\n",
    "    models_fit_ = model[0].copy()\n",
    "    dataset1.models = models_fit\n",
    "    dataset2.models = models_fit_\n",
    "    \n",
    "    dataset1.models.parameters['lambda_'].frozen = True\n",
    "    fit = Fit([dataset1])\n",
    "    result = fit.run()\n",
    "    print(result)\n",
    "    TS1 = result.total_stat\n",
    "    del_TS = TS0 - TS1\n",
    "    \n",
    "    dataset2.models.parameters['lambda_'].frozen = False\n",
    "    fit = Fit([dataset2])\n",
    "    result = fit.run()\n",
    "    print(result)\n",
    "    TS2 = result.total_stat\n",
    "    del_TS_1 = TS1 - TS2\n",
    "    del_TS_2 = TS0 - TS2\n",
    "    \n",
    "    return del_TS, dataset2, models_fit_, del_TS_1, del_TS_2, significance_map, excess_map, dataset1, models_fit"
   ]
  },
  {
   "cell_type": "code",
   "execution_count": 10,
   "id": "decreased-johns",
   "metadata": {},
   "outputs": [],
   "source": [
    "def excess_maps(significance_map, excess_map):\n",
    "    plt.figure(figsize=(10, 10))\n",
    "    ax1 = plt.subplot(221, projection=significance_map.geom.wcs)\n",
    "    ax2 = plt.subplot(222, projection=excess_map.geom.wcs)\n",
    "    \n",
    "    ax1.set_title(\"Significance map\")\n",
    "    significance_map.plot(ax=ax1, add_cbar=True)\n",
    "\n",
    "    ax2.set_title(\"Excess map\")\n",
    "    excess_map.plot(ax=ax2, add_cbar=True)\n",
    "    return"
   ]
  },
  {
   "cell_type": "code",
   "execution_count": 11,
   "id": "strong-currency",
   "metadata": {},
   "outputs": [],
   "source": [
    "x = [5.0,10.0,25.0,50.0,100.0] * u.hr\n",
    "y1 = []"
   ]
  },
  {
   "cell_type": "code",
   "execution_count": null,
   "id": "upper-naples",
   "metadata": {
    "scrolled": true
   },
   "outputs": [
    {
     "name": "stdout",
     "output_type": "stream",
     "text": [
      "OptimizeResult\n",
      "\n",
      "\tbackend    : minuit\n",
      "\tmethod     : minuit\n",
      "\tsuccess    : True\n",
      "\tmessage    : Optimization terminated successfully.\n",
      "\tnfev       : 108\n",
      "\ttotal stat : 144683.99\n",
      "\n",
      "OptimizeResult\n",
      "\n",
      "\tbackend    : minuit\n",
      "\tmethod     : minuit\n",
      "\tsuccess    : True\n",
      "\tmessage    : Optimization terminated successfully.\n",
      "\tnfev       : 155\n",
      "\ttotal stat : 144682.15\n",
      "\n",
      "OptimizeResult\n",
      "\n",
      "\tbackend    : minuit\n",
      "\tmethod     : minuit\n",
      "\tsuccess    : True\n",
      "\tmessage    : Optimization terminated successfully.\n",
      "\tnfev       : 106\n",
      "\ttotal stat : -87114.59\n",
      "\n",
      "OptimizeResult\n",
      "\n",
      "\tbackend    : minuit\n",
      "\tmethod     : minuit\n",
      "\tsuccess    : True\n",
      "\tmessage    : Optimization terminated successfully.\n",
      "\tnfev       : 158\n",
      "\ttotal stat : -87114.69\n",
      "\n",
      "OptimizeResult\n",
      "\n",
      "\tbackend    : minuit\n",
      "\tmethod     : minuit\n",
      "\tsuccess    : True\n",
      "\tmessage    : Optimization terminated successfully.\n",
      "\tnfev       : 98\n",
      "\ttotal stat : -1462925.69\n",
      "\n",
      "OptimizeResult\n",
      "\n",
      "\tbackend    : minuit\n",
      "\tmethod     : minuit\n",
      "\tsuccess    : False\n",
      "\tmessage    : Optimization failed. Estimated distance to minimum too large.\n",
      "\tnfev       : 198\n",
      "\ttotal stat : -1462927.25\n",
      "\n"
     ]
    }
   ],
   "source": [
    "for i in range(len(x)):\n",
    "    y1.append(FoV(energy_reco, energy_true, x[i], irfs, pointing, geom, models))"
   ]
  },
  {
   "cell_type": "code",
   "execution_count": null,
   "id": "continuing-transcription",
   "metadata": {},
   "outputs": [],
   "source": [
    "del_TS_ = []\n",
    "del_TS_1 = []\n",
    "del_TS_2 = []\n",
    "dataset_ = []\n",
    "model_ = []\n",
    "significance_ = []\n",
    "excess_ = []\n",
    "dataset_1 = []\n",
    "model_1 = []\n",
    "for i in range(len(x)):\n",
    "    del_TS_.append(y1[i][0])\n",
    "    dataset_.append(y1[i][1])\n",
    "    model_.append(y1[i][2])\n",
    "    del_TS_1.append(y1[i][3])\n",
    "    del_TS_2.append(y1[i][4])\n",
    "    significance_.append(y1[i][5])\n",
    "    excess_.append(y1[i][6])\n",
    "    dataset_1.append(y1[i][7])\n",
    "    model_1.append(y1[i][8])"
   ]
  },
  {
   "cell_type": "code",
   "execution_count": null,
   "id": "silver-ground",
   "metadata": {},
   "outputs": [],
   "source": [
    "print(del_TS_[0:5])\n",
    "print(del_TS_1[0:5])\n",
    "print(del_TS_2[0:5])"
   ]
  },
  {
   "cell_type": "code",
   "execution_count": null,
   "id": "informative-bedroom",
   "metadata": {},
   "outputs": [],
   "source": [
    "plt.scatter(x,del_TS_[0:5])\n",
    "#plt.xscale(\"log\")\n",
    "plt.legend([\"FoV_Background\"])\n",
    "plt.ylabel(\"Del_TS\")\n",
    "plt.xlabel(\"LiveTime (hrs)\")\n",
    "plt.title(\"Original code\")"
   ]
  },
  {
   "cell_type": "code",
   "execution_count": null,
   "id": "unique-wesley",
   "metadata": {},
   "outputs": [],
   "source": [
    "plt.scatter(x,del_TS_1[0:5])\n",
    "#plt.xscale(\"log\")\n",
    "plt.legend([\"FoV_Background\"])\n",
    "plt.ylabel(\"Del_TS\")\n",
    "plt.xlabel(\"LiveTime (hrs)\")\n",
    "plt.title(\"Original code\")"
   ]
  },
  {
   "cell_type": "code",
   "execution_count": null,
   "id": "specified-honor",
   "metadata": {},
   "outputs": [],
   "source": [
    "plt.scatter(x,del_TS_2[0:5])\n",
    "#plt.xscale(\"log\")\n",
    "plt.legend([\"FoV_Background\"])\n",
    "plt.ylabel(\"Del_TS\")\n",
    "plt.xlabel(\"LiveTime (hrs)\")\n",
    "plt.title(\"Original code\")"
   ]
  },
  {
   "cell_type": "code",
   "execution_count": null,
   "id": "nervous-study",
   "metadata": {},
   "outputs": [],
   "source": [
    "def flux_plt(model, dataset):\n",
    "    spec = model.spectral_model\n",
    "    energy_edges = np.logspace(-1.0, 1.0, 5) * u.TeV\n",
    "    fpe = FluxPointsEstimator(energy_edges=energy_edges)\n",
    "    flux_points = fpe.run(datasets=[dataset])\n",
    "    energy_range = [0.1, 10] * u.TeV\n",
    "    spec.plot(energy_range=energy_range, energy_power=2)\n",
    "    ax = spec.plot_error(energy_range=energy_range, energy_power=2)\n",
    "    flux_points.plot(ax=ax, energy_power=2)\n",
    "    plt.title(\"Livetime = \"+str(dataset.gti.time_delta.to(u.hr)))#, fontsize='15')\n",
    "    return"
   ]
  },
  {
   "cell_type": "code",
   "execution_count": null,
   "id": "mysterious-poetry",
   "metadata": {},
   "outputs": [],
   "source": [
    "fig = plt.figure(figsize = [10,10], tight_layout=True)\n",
    "fig.suptitle('FoV Background', verticalalignment = 'baseline', fontsize = 15)\n",
    "plt.subplot(321)\n",
    "flux_plt(model_[0],dataset_[0])\n",
    "plt.subplot(322)\n",
    "flux_plt(model_[1],dataset_[1])\n",
    "plt.subplot(323)\n",
    "flux_plt(model_[2],dataset_[2])\n",
    "plt.subplot(324)\n",
    "flux_plt(model_[3],dataset_[3])\n",
    "plt.subplot(325)\n",
    "flux_plt(model_[4],dataset_[4])"
   ]
  },
  {
   "cell_type": "code",
   "execution_count": null,
   "id": "crude-dragon",
   "metadata": {},
   "outputs": [],
   "source": [
    "print(model_[0].spectral_model.parameters.to_table())\n",
    "print(model_[1].spectral_model.parameters.to_table())\n",
    "print(model_[2].spectral_model.parameters.to_table())\n",
    "print(model_[3].spectral_model.parameters.to_table())\n",
    "print(model_[4].spectral_model.parameters.to_table())"
   ]
  },
  {
   "cell_type": "code",
   "execution_count": null,
   "id": "false-reference",
   "metadata": {},
   "outputs": [],
   "source": [
    "excess_maps(significance_[0], excess_[0])\n",
    "excess_maps(significance_[1], excess_[1])\n",
    "excess_maps(significance_[2], excess_[2])\n",
    "excess_maps(significance_[3], excess_[3])\n",
    "excess_maps(significance_[4], excess_[4])"
   ]
  },
  {
   "cell_type": "code",
   "execution_count": null,
   "id": "stable-documentary",
   "metadata": {},
   "outputs": [],
   "source": [
    "fig = plt.figure(figsize = [10,10], tight_layout=True)\n",
    "fig.suptitle('FoV Background', verticalalignment = 'baseline', fontsize = 15)\n",
    "plt.subplot(321)\n",
    "flux_plt(model_1[0],dataset_1[0])\n",
    "plt.subplot(322)\n",
    "flux_plt(model_1[1],dataset_1[1])\n",
    "plt.subplot(323)\n",
    "flux_plt(model_1[2],dataset_1[2])\n",
    "plt.subplot(324)\n",
    "flux_plt(model_1[3],dataset_1[3])\n",
    "plt.subplot(325)\n",
    "flux_plt(model_1[4],dataset_1[4])"
   ]
  },
  {
   "cell_type": "code",
   "execution_count": null,
   "id": "annoying-methodology",
   "metadata": {},
   "outputs": [],
   "source": [
    "print(model_1[0].spectral_model.parameters.to_table())\n",
    "print(model_1[1].spectral_model.parameters.to_table())\n",
    "print(model_1[2].spectral_model.parameters.to_table())\n",
    "print(model_1[3].spectral_model.parameters.to_table())\n",
    "print(model_1[4].spectral_model.parameters.to_table())"
   ]
  },
  {
   "cell_type": "code",
   "execution_count": null,
   "id": "younger-canada",
   "metadata": {},
   "outputs": [],
   "source": [
    "fig = plt.figure(figsize = [13,13], tight_layout=True)\n",
    "plt.subplot(321)\n",
    "flux_plt(model_[0],dataset_[0])\n",
    "flux_plt(model_1[0],dataset_1[0])\n",
    "plt.legend(['PowerLaw','ExponentialCut_PowerLaw','_nolegend_','_nolegend_','flux points for PowerLaw','flux points for ExponentialCut_PowerLaw'])\n",
    "plt.subplot(322)\n",
    "flux_plt(model_[1],dataset_[1])\n",
    "flux_plt(model_1[1],dataset_1[1])\n",
    "plt.legend(['PowerLaw','ExponentialCut_PowerLaw','_nolegend_','_nolegend_','flux points for PowerLaw','flux points for ExponentialCut_PowerLaw'])\n",
    "plt.subplot(323)\n",
    "flux_plt(model_[2],dataset_[2])\n",
    "flux_plt(model_1[2],dataset_1[2])\n",
    "plt.legend(['PowerLaw','ExponentialCut_PowerLaw','_nolegend_','_nolegend_','flux points for PowerLaw','flux points for ExponentialCut_PowerLaw'])\n",
    "plt.subplot(324)\n",
    "flux_plt(model_[3],dataset_[3])\n",
    "flux_plt(model_1[3],dataset_1[3])\n",
    "plt.legend(['PowerLaw','ExponentialCut_PowerLaw','_nolegend_','_nolegend_','flux points for PowerLaw','flux points for ExponentialCut_PowerLaw'])\n",
    "plt.subplot(325)\n",
    "flux_plt(model_[4],dataset_[4])\n",
    "flux_plt(model_1[4],dataset_1[4])\n",
    "plt.legend(['PowerLaw','ExponentialCut_PowerLaw','_nolegend_','_nolegend_','flux points for PowerLaw','flux points for ExponentialCut_PowerLaw'])"
   ]
  }
 ],
 "metadata": {
  "kernelspec": {
   "display_name": "Python 3",
   "language": "python",
   "name": "python3"
  },
  "language_info": {
   "codemirror_mode": {
    "name": "ipython",
    "version": 3
   },
   "file_extension": ".py",
   "mimetype": "text/x-python",
   "name": "python",
   "nbconvert_exporter": "python",
   "pygments_lexer": "ipython3",
   "version": "3.7.0"
  }
 },
 "nbformat": 4,
 "nbformat_minor": 5
}
