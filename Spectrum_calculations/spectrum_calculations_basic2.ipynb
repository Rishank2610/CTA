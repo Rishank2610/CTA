{
 "cells": [
  {
   "cell_type": "code",
   "execution_count": 1,
   "id": "perceived-massachusetts",
   "metadata": {},
   "outputs": [
    {
     "name": "stdout",
     "output_type": "stream",
     "text": [
      "gammapy: 0.18.2\n"
     ]
    }
   ],
   "source": [
    "%matplotlib inline\n",
    "import matplotlib.pyplot as plt\n",
    "import gammapy\n",
    "print(\"gammapy:\", gammapy.__version__)"
   ]
  },
  {
   "cell_type": "code",
   "execution_count": 2,
   "id": "historical-brush",
   "metadata": {},
   "outputs": [],
   "source": [
    "import numpy as np\n",
    "import astropy.units as u\n",
    "from astropy.coordinates import SkyCoord\n",
    "from gammapy.irf import load_cta_irfs\n",
    "from gammapy.maps import WcsGeom, MapAxis\n",
    "from regions import CircleSkyRegion\n",
    "from gammapy.modeling.models import (\n",
    "    PowerLawSpectralModel,\n",
    "    GaussianSpatialModel,\n",
    "    SkyModel,\n",
    "    Models,\n",
    "    PointSpatialModel,\n",
    "    FoVBackgroundModel,\n",
    "    ExpCutoffPowerLawSpectralModel,\n",
    ")\n",
    "from gammapy.makers import MapDatasetMaker, SafeMaskMaker, RingBackgroundMaker, FoVBackgroundMaker\n",
    "from gammapy.modeling import Fit\n",
    "from gammapy.maps import Map\n",
    "from scipy.stats import norm\n",
    "from gammapy.data import Observation\n",
    "from gammapy.datasets import MapDataset, MapDatasetOnOff\n",
    "from gammapy.estimators import ExcessMapEstimator, FluxPointsEstimator"
   ]
  },
  {
   "cell_type": "code",
   "execution_count": 3,
   "id": "necessary-terrorism",
   "metadata": {},
   "outputs": [],
   "source": [
    "import scipy.stats as stats\n",
    "import math\n",
    "import statistics\n",
    "import os"
   ]
  },
  {
   "cell_type": "code",
   "execution_count": 4,
   "id": "scheduled-count",
   "metadata": {},
   "outputs": [
    {
     "name": "stdout",
     "output_type": "stream",
     "text": [
      "/home/rishank/anaconda2/envs/cta/share/caldb/\n",
      "data\n"
     ]
    }
   ],
   "source": [
    "os.environ['CALDB'] = '/home/rishank/anaconda2/envs/cta/share/caldb/'\n",
    "!echo $CALDB\n",
    "!ls $CALDB"
   ]
  },
  {
   "cell_type": "code",
   "execution_count": 5,
   "id": "educated-blood",
   "metadata": {},
   "outputs": [
    {
     "name": "stderr",
     "output_type": "stream",
     "text": [
      "Invalid unit found in background table! Assuming (s-1 MeV-1 sr-1)\n"
     ]
    }
   ],
   "source": [
    "irfs = load_cta_irfs(\n",
    "    \"$CALDB/data/cta/prod3b-v2/bcf/South_z20_50h/irf_file.fits\"\n",
    ")"
   ]
  },
  {
   "cell_type": "code",
   "execution_count": 6,
   "id": "opened-quest",
   "metadata": {},
   "outputs": [],
   "source": [
    "# Define the observation parameters (typically the observation duration and the pointing position):\n",
    "livetime = 25.0 * u.hr\n",
    "l = 0.1\n",
    "pointing = SkyCoord(141.409467, 40.566962, unit=\"deg\", frame=\"galactic\")"
   ]
  },
  {
   "cell_type": "code",
   "execution_count": 7,
   "id": "frequent-alcohol",
   "metadata": {},
   "outputs": [],
   "source": [
    "# Define map geometry for binned simulation\n",
    "energy_reco = MapAxis.from_edges(\n",
    "    np.logspace(-1.0, 1.0, 10), unit=\"TeV\", name=\"energy\", interp=\"log\"\n",
    ")\n",
    "geom = WcsGeom.create(\n",
    "    skydir=(141.409467, 40.566962),\n",
    "    binsz=0.02,\n",
    "    width=(3, 3),\n",
    "    frame=\"galactic\",\n",
    "    axes=[energy_reco],\n",
    ")\n",
    "# It is usually useful to have a separate binning for the true energy axis\n",
    "energy_true = MapAxis.from_edges(\n",
    "    np.logspace(-1.5, 1.5, 30), unit=\"TeV\", name=\"energy_true\", interp=\"log\"\n",
    ")\n",
    "\n",
    "empty = MapDataset.create(geom, name=\"dataset-simu\")"
   ]
  },
  {
   "cell_type": "code",
   "execution_count": 8,
   "id": "polished-panel",
   "metadata": {},
   "outputs": [
    {
     "name": "stdout",
     "output_type": "stream",
     "text": [
      "Models\n",
      "\n",
      "Component 0: SkyModel\n",
      "\n",
      "  Name                      : model-simu\n",
      "  Datasets names            : None\n",
      "  Spectral model type       : ExpCutoffPowerLawSpectralModel\n",
      "  Spatial  model type       : PointSpatialModel\n",
      "  Temporal model type       : \n",
      "  Parameters:\n",
      "    index                   :   2.495              \n",
      "    amplitude               :   2.72e-13  1 / (cm2 s TeV)\n",
      "    reference    (frozen)   :   1.000  TeV         \n",
      "    lambda_                 :   0.100  1 / TeV     \n",
      "    alpha        (frozen)   :   1.000              \n",
      "    lon_0                   : 141.409  deg         \n",
      "    lat_0                   :  40.567  deg         \n",
      "\n",
      "Component 1: FoVBackgroundModel\n",
      "\n",
      "  Name                      : dataset-simu-bkg\n",
      "  Datasets names            : ['dataset-simu']\n",
      "  Spectral model type       : PowerLawNormSpectralModel\n",
      "  Parameters:\n",
      "    norm                    :   1.000              \n",
      "    tilt         (frozen)   :   0.000              \n",
      "    reference    (frozen)   :   1.000  TeV         \n",
      "\n",
      "\n"
     ]
    }
   ],
   "source": [
    "# Define sky model to used simulate the data.\n",
    "# Here we use a Gaussian spatial model and a Power Law spectral model.\n",
    "spatial_model = PointSpatialModel(\n",
    "    lon_0=\"141.409467 deg\", lat_0=\"40.566962 deg\", frame=\"galactic\"\n",
    ")\n",
    "#spectral_model = PowerLawSpectralModel(\n",
    "#    index=2.22, amplitude=\"1.289e-12 cm-2 s-1 TeV-1\", reference=\"1 TeV\"\n",
    "#)\n",
    "\n",
    "spectral_model = ExpCutoffPowerLawSpectralModel(\n",
    "    index=2.495, amplitude=\"2.72e-13 cm-2 s-1 TeV-1\", reference=\"1 TeV\", lambda_=l * u.Unit(\"TeV-1\"), alpha = 1\n",
    ")\n",
    "\n",
    "\n",
    "model_simu = SkyModel(\n",
    "    spatial_model=spatial_model,\n",
    "    spectral_model=spectral_model,\n",
    "    name=\"model-simu\",\n",
    ")\n",
    "\n",
    "bkg_model = FoVBackgroundModel(dataset_name=\"dataset-simu\")\n",
    "\n",
    "models = Models([model_simu, bkg_model])\n",
    "print(models)"
   ]
  },
  {
   "cell_type": "code",
   "execution_count": 9,
   "id": "anonymous-massage",
   "metadata": {},
   "outputs": [
    {
     "name": "stdout",
     "output_type": "stream",
     "text": [
      "Observation\n",
      "\n",
      "\tobs id            : 0 \n",
      " \ttstart            : 51544.00\n",
      "\ttstop             : 51545.04\n",
      "\tduration          : 90000.00 s\n",
      "\tpointing (icrs)   : 149.0 deg, 69.7 deg\n",
      "\n",
      "\tdeadtime fraction : 0.0%\n",
      "\n",
      "MapDataset\n",
      "----------\n",
      "\n",
      "  Name                            : dataset-simu \n",
      "\n",
      "  Total counts                    : 679317 \n",
      "  Total background counts         : 677717.46\n",
      "  Total excess counts             : 1599.54\n",
      "\n",
      "  Predicted counts                : 679175.21\n",
      "  Predicted background counts     : 677717.46\n",
      "  Predicted excess counts         : 1457.75\n",
      "\n",
      "  Exposure min                    : 1.28e+10 m2 s\n",
      "  Exposure max                    : 3.26e+11 m2 s\n",
      "\n",
      "  Number of total bins            : 202500 \n",
      "  Number of fit bins              : 202500 \n",
      "\n",
      "  Fit statistic type              : cash\n",
      "  Fit statistic value (-2 log(L)) : -1462699.45\n",
      "\n",
      "  Number of models                : 2 \n",
      "  Number of parameters            : 10\n",
      "  Number of free parameters       : 6\n",
      "\n",
      "  Component 0: SkyModel\n",
      "  \n",
      "    Name                      : model-simu\n",
      "    Datasets names            : None\n",
      "    Spectral model type       : ExpCutoffPowerLawSpectralModel\n",
      "    Spatial  model type       : PointSpatialModel\n",
      "    Temporal model type       : \n",
      "    Parameters:\n",
      "      index                   :   2.495              \n",
      "      amplitude               :   2.72e-13  1 / (cm2 s TeV)\n",
      "      reference    (frozen)   :   1.000  TeV         \n",
      "      lambda_                 :   0.100  1 / TeV     \n",
      "      alpha        (frozen)   :   1.000              \n",
      "      lon_0                   : 141.409  deg         \n",
      "      lat_0                   :  40.567  deg         \n",
      "  \n",
      "  Component 1: FoVBackgroundModel\n",
      "  \n",
      "    Name                      : dataset-simu-bkg\n",
      "    Datasets names            : ['dataset-simu']\n",
      "    Spectral model type       : PowerLawNormSpectralModel\n",
      "    Parameters:\n",
      "      norm                    :   1.000              \n",
      "      tilt         (frozen)   :   0.000              \n",
      "      reference    (frozen)   :   1.000  TeV         \n",
      "  \n",
      "  \n"
     ]
    }
   ],
   "source": [
    "obs = Observation.create(pointing=pointing, livetime=livetime, irfs=irfs)\n",
    "print(obs)\n",
    "maker = MapDatasetMaker(selection=[\"exposure\", \"background\", \"psf\", \"edisp\"])\n",
    "maker_safe_mask = SafeMaskMaker(methods=[\"offset-max\"], offset_max=3.5 * u.deg)\n",
    "dataset = maker.run(empty, obs)\n",
    "dataset = maker_safe_mask.run(dataset, obs)\n",
    "dataset.models = models\n",
    "dataset.fake(random_state=42)\n",
    "print(dataset)"
   ]
  },
  {
   "cell_type": "code",
   "execution_count": 10,
   "id": "twenty-associate",
   "metadata": {},
   "outputs": [
    {
     "name": "stdout",
     "output_type": "stream",
     "text": [
      "MapDataset\n",
      "----------\n",
      "\n",
      "  Name                            : enPTh0Be \n",
      "\n",
      "  Total counts                    : 679317 \n",
      "  Total background counts         : 677717.46\n",
      "  Total excess counts             : 1599.54\n",
      "\n",
      "  Predicted counts                : 677717.46\n",
      "  Predicted background counts     : 677717.46\n",
      "  Predicted excess counts         : nan\n",
      "\n",
      "  Exposure min                    : 1.28e+10 m2 s\n",
      "  Exposure max                    : 3.26e+11 m2 s\n",
      "\n",
      "  Number of total bins            : 202500 \n",
      "  Number of fit bins              : 202500 \n",
      "\n",
      "  Fit statistic type              : cash\n",
      "  Fit statistic value (-2 log(L)) : -1461707.09\n",
      "\n",
      "  Number of models                : 0 \n",
      "  Number of parameters            : 0\n",
      "  Number of free parameters       : 0\n",
      "\n",
      "  \n"
     ]
    }
   ],
   "source": [
    "dataset1 = dataset.copy()\n",
    "dataset1.models = bkg_model\n",
    "print(dataset1)"
   ]
  },
  {
   "cell_type": "code",
   "execution_count": 11,
   "id": "recorded-brother",
   "metadata": {},
   "outputs": [],
   "source": [
    "geom_image = geom.to_image().to_cube([energy_reco.squash()])\n",
    "regions = CircleSkyRegion(center=pointing, radius=0.2 * u.deg)\n",
    "exclusion_mask = Map.from_geom(geom_image)\n",
    "exclusion_mask.data = geom_image.region_mask([regions], inside=False)\n",
    "maker_fov = FoVBackgroundMaker(method=\"fit\", exclusion_mask=exclusion_mask)"
   ]
  },
  {
   "cell_type": "code",
   "execution_count": 12,
   "id": "freelance-bible",
   "metadata": {},
   "outputs": [
    {
     "name": "stdout",
     "output_type": "stream",
     "text": [
      "MapDataset\n",
      "----------\n",
      "\n",
      "  Name                            : enPTh0Be \n",
      "\n",
      "  Total counts                    : 679317 \n",
      "  Total background counts         : 677717.46\n",
      "  Total excess counts             : 1599.54\n",
      "\n",
      "  Predicted counts                : 677911.73\n",
      "  Predicted background counts     : 677911.73\n",
      "  Predicted excess counts         : 0.00\n",
      "\n",
      "  Exposure min                    : 1.28e+10 m2 s\n",
      "  Exposure max                    : 3.26e+11 m2 s\n",
      "\n",
      "  Number of total bins            : 202500 \n",
      "  Number of fit bins              : 202500 \n",
      "\n",
      "  Fit statistic type              : cash\n",
      "  Fit statistic value (-2 log(L)) : -1461707.95\n",
      "\n",
      "  Number of models                : 1 \n",
      "  Number of parameters            : 3\n",
      "  Number of free parameters       : 1\n",
      "\n",
      "  Component 0: FoVBackgroundModel\n",
      "  \n",
      "    Name                      : enPTh0Be-bkg\n",
      "    Datasets names            : ['enPTh0Be']\n",
      "    Spectral model type       : PowerLawNormSpectralModel\n",
      "    Parameters:\n",
      "      norm                    :   1.000              \n",
      "      tilt         (frozen)   :   0.000              \n",
      "      reference    (frozen)   :   1.000  TeV         \n",
      "  \n",
      "  \n"
     ]
    }
   ],
   "source": [
    "dataset1 = maker_fov.run(dataset1)\n",
    "print(dataset1)"
   ]
  },
  {
   "cell_type": "code",
   "execution_count": 13,
   "id": "critical-services",
   "metadata": {},
   "outputs": [
    {
     "name": "stdout",
     "output_type": "stream",
     "text": [
      "Models\n",
      "\n",
      "Component 0: SkyModel\n",
      "\n",
      "  Name                      : model-simu\n",
      "  Datasets names            : None\n",
      "  Spectral model type       : ExpCutoffPowerLawSpectralModel\n",
      "  Spatial  model type       : PointSpatialModel\n",
      "  Temporal model type       : \n",
      "  Parameters:\n",
      "    index                   :   3.000              \n",
      "    amplitude               :   1.00e-12  1 / (cm2 s TeV)\n",
      "    reference    (frozen)   :   1.000  TeV         \n",
      "    lambda_                 :   0.000  1 / TeV     \n",
      "    alpha        (frozen)   :   1.000              \n",
      "    lon_0                   : 141.409  deg         \n",
      "    lat_0                   :  40.567  deg         \n",
      "\n",
      "Component 1: FoVBackgroundModel\n",
      "\n",
      "  Name                      : dataset-simu-bkg\n",
      "  Datasets names            : ['dataset-simu']\n",
      "  Spectral model type       : PowerLawNormSpectralModel\n",
      "  Parameters:\n",
      "    norm                    :   1.000              \n",
      "    tilt         (frozen)   :   0.000              \n",
      "    reference    (frozen)   :   1.000  TeV         \n",
      "\n",
      "\n"
     ]
    }
   ],
   "source": [
    "spatial_model_1 = PointSpatialModel(\n",
    "    lon_0=\"141.409467 deg\", lat_0=\"40.566962 deg\", frame=\"galactic\"\n",
    ")\n",
    "spectral_model_1 = ExpCutoffPowerLawSpectralModel(\n",
    "    index=3, amplitude=\"1e-12 cm-2 s-1 TeV-1\", reference=\"1 TeV\", lambda_=0 * u.Unit(\"TeV-1\"), alpha = 1\n",
    ")\n",
    "model_simu_1 = SkyModel(\n",
    "    spatial_model=spatial_model_1,\n",
    "    spectral_model=spectral_model_1,\n",
    "    name=\"model-simu\",\n",
    ")\n",
    "\n",
    "bkg_model_1 = FoVBackgroundModel(dataset_name=\"dataset-simu\")\n",
    "\n",
    "models_1 = Models([model_simu_1, bkg_model_1])\n",
    "print(models_1)"
   ]
  },
  {
   "cell_type": "code",
   "execution_count": 14,
   "id": "outstanding-compact",
   "metadata": {},
   "outputs": [
    {
     "name": "stdout",
     "output_type": "stream",
     "text": [
      "-1461707.9510226795\n",
      "MapDataset\n",
      "----------\n",
      "\n",
      "  Name                            : enPTh0Be \n",
      "\n",
      "  Total counts                    : 679317 \n",
      "  Total background counts         : 677717.46\n",
      "  Total excess counts             : 1599.54\n",
      "\n",
      "  Predicted counts                : 679175.21\n",
      "  Predicted background counts     : 677717.46\n",
      "  Predicted excess counts         : 1457.75\n",
      "\n",
      "  Exposure min                    : 1.28e+10 m2 s\n",
      "  Exposure max                    : 3.26e+11 m2 s\n",
      "\n",
      "  Number of total bins            : 202500 \n",
      "  Number of fit bins              : 202500 \n",
      "\n",
      "  Fit statistic type              : cash\n",
      "  Fit statistic value (-2 log(L)) : -1462699.45\n",
      "\n",
      "  Number of models                : 1 \n",
      "  Number of parameters            : 7\n",
      "  Number of free parameters       : 5\n",
      "\n",
      "  Component 0: SkyModel\n",
      "  \n",
      "    Name                      : Z4mUeRIT\n",
      "    Datasets names            : None\n",
      "    Spectral model type       : ExpCutoffPowerLawSpectralModel\n",
      "    Spatial  model type       : PointSpatialModel\n",
      "    Temporal model type       : \n",
      "    Parameters:\n",
      "      index                   :   2.495              \n",
      "      amplitude               :   2.72e-13  1 / (cm2 s TeV)\n",
      "      reference    (frozen)   :   1.000  TeV         \n",
      "      lambda_                 :   0.100  1 / TeV     \n",
      "      alpha        (frozen)   :   1.000              \n",
      "      lon_0                   : 141.409  deg         \n",
      "      lat_0                   :  40.567  deg         \n",
      "  \n",
      "  \n"
     ]
    }
   ],
   "source": [
    "TS0 = dataset1.stat_sum()\n",
    "print(TS0)\n",
    "models_fit = model_simu.copy()\n",
    "dataset1.models = models_fit\n",
    "print(dataset1)"
   ]
  },
  {
   "cell_type": "code",
   "execution_count": 15,
   "id": "interstate-beaver",
   "metadata": {},
   "outputs": [
    {
     "name": "stdout",
     "output_type": "stream",
     "text": [
      "OptimizeResult\n",
      "\n",
      "\tbackend    : minuit\n",
      "\tmethod     : minuit\n",
      "\tsuccess    : True\n",
      "\tmessage    : Optimization terminated successfully.\n",
      "\tnfev       : 105\n",
      "\ttotal stat : -1462705.77\n",
      "\n",
      "CPU times: user 5.38 s, sys: 146 ms, total: 5.53 s\n",
      "Wall time: 5.54 s\n"
     ]
    }
   ],
   "source": [
    "%%time\n",
    "dataset1.models.parameters['lambda_'].frozen = True\n",
    "fit = Fit([dataset1])\n",
    "result = fit.run()\n",
    "print(result)"
   ]
  },
  {
   "cell_type": "code",
   "execution_count": 16,
   "id": "assumed-blank",
   "metadata": {},
   "outputs": [
    {
     "name": "stdout",
     "output_type": "stream",
     "text": [
      "   name     value         unit         min        max    frozen   error  \n",
      "--------- ---------- -------------- ---------- --------- ------ ---------\n",
      "    index 2.5674e+00                       nan       nan  False 4.422e-02\n",
      "amplitude 2.5262e-13 cm-2 s-1 TeV-1        nan       nan  False 1.351e-14\n",
      "reference 1.0000e+00            TeV        nan       nan   True 0.000e+00\n",
      "  lambda_ 1.0000e-01          TeV-1        nan       nan   True 0.000e+00\n",
      "    alpha 1.0000e+00                       nan       nan   True 0.000e+00\n",
      "    lon_0 1.4140e+02            deg        nan       nan  False 2.793e-03\n",
      "    lat_0 4.0566e+01            deg -9.000e+01 9.000e+01  False 2.145e-03\n"
     ]
    }
   ],
   "source": [
    "print(result.parameters.to_table())"
   ]
  },
  {
   "cell_type": "code",
   "execution_count": 17,
   "id": "valid-position",
   "metadata": {},
   "outputs": [
    {
     "name": "stdout",
     "output_type": "stream",
     "text": [
      "997.819155172212\n"
     ]
    }
   ],
   "source": [
    "TS1 = result.total_stat\n",
    "del_TS = TS0 - TS1\n",
    "print(del_TS)"
   ]
  },
  {
   "cell_type": "code",
   "execution_count": 18,
   "id": "postal-price",
   "metadata": {},
   "outputs": [
    {
     "name": "stdout",
     "output_type": "stream",
     "text": [
      "MapDataset\n",
      "----------\n",
      "\n",
      "  Name                            : enPTh0Be \n",
      "\n",
      "  Total counts                    : 679317 \n",
      "  Total background counts         : 677717.46\n",
      "  Total excess counts             : 1599.54\n",
      "\n",
      "  Predicted counts                : 679190.16\n",
      "  Predicted background counts     : 677717.46\n",
      "  Predicted excess counts         : 1472.71\n",
      "\n",
      "  Exposure min                    : 1.28e+10 m2 s\n",
      "  Exposure max                    : 3.26e+11 m2 s\n",
      "\n",
      "  Number of total bins            : 202500 \n",
      "  Number of fit bins              : 202500 \n",
      "\n",
      "  Fit statistic type              : cash\n",
      "  Fit statistic value (-2 log(L)) : -1462705.77\n",
      "\n",
      "  Number of models                : 1 \n",
      "  Number of parameters            : 7\n",
      "  Number of free parameters       : 4\n",
      "\n",
      "  Component 0: SkyModel\n",
      "  \n",
      "    Name                      : Z4mUeRIT\n",
      "    Datasets names            : None\n",
      "    Spectral model type       : ExpCutoffPowerLawSpectralModel\n",
      "    Spatial  model type       : PointSpatialModel\n",
      "    Temporal model type       : \n",
      "    Parameters:\n",
      "      index                   :   2.567              \n",
      "      amplitude               :   2.53e-13  1 / (cm2 s TeV)\n",
      "      reference    (frozen)   :   1.000  TeV         \n",
      "      lambda_      (frozen)   :   0.100  1 / TeV     \n",
      "      alpha        (frozen)   :   1.000              \n",
      "      lon_0                   : 141.405  deg         \n",
      "      lat_0                   :  40.566  deg         \n",
      "  \n",
      "  \n"
     ]
    }
   ],
   "source": [
    "print(dataset1)"
   ]
  },
  {
   "cell_type": "code",
   "execution_count": 19,
   "id": "understood-clearance",
   "metadata": {},
   "outputs": [
    {
     "name": "stdout",
     "output_type": "stream",
     "text": [
      "OptimizeResult\n",
      "\n",
      "\tbackend    : minuit\n",
      "\tmethod     : minuit\n",
      "\tsuccess    : True\n",
      "\tmessage    : Optimization terminated successfully.\n",
      "\tnfev       : 130\n",
      "\ttotal stat : -1462706.02\n",
      "\n",
      "CPU times: user 3.47 s, sys: 0 ns, total: 3.47 s\n",
      "Wall time: 3.47 s\n"
     ]
    }
   ],
   "source": [
    "%%time\n",
    "dataset1.models.parameters['lambda_'].frozen = False\n",
    "fit = Fit([dataset1])\n",
    "result = fit.run()\n",
    "print(result)"
   ]
  },
  {
   "cell_type": "code",
   "execution_count": 20,
   "id": "filled-browser",
   "metadata": {},
   "outputs": [
    {
     "name": "stdout",
     "output_type": "stream",
     "text": [
      "   name     value         unit         min        max    frozen   error  \n",
      "--------- ---------- -------------- ---------- --------- ------ ---------\n",
      "    index 2.5293e+00                       nan       nan  False 8.750e-02\n",
      "amplitude 2.6835e-13 cm-2 s-1 TeV-1        nan       nan  False 3.444e-14\n",
      "reference 1.0000e+00            TeV        nan       nan   True 0.000e+00\n",
      "  lambda_ 1.3878e-01          TeV-1        nan       nan  False 7.210e-02\n",
      "    alpha 1.0000e+00                       nan       nan   True 0.000e+00\n",
      "    lon_0 1.4140e+02            deg        nan       nan  False 2.788e-03\n",
      "    lat_0 4.0566e+01            deg -9.000e+01 9.000e+01  False 2.142e-03\n"
     ]
    }
   ],
   "source": [
    "print(result.parameters.to_table())"
   ]
  },
  {
   "cell_type": "code",
   "execution_count": 21,
   "id": "premier-fashion",
   "metadata": {},
   "outputs": [
    {
     "name": "stdout",
     "output_type": "stream",
     "text": [
      "0.2473146531265229\n",
      "998.0664698253386\n"
     ]
    }
   ],
   "source": [
    "TS2 = result.total_stat\n",
    "del_TS_1 = TS1 - TS2\n",
    "del_TS_2 = TS0 - TS2\n",
    "print(del_TS_1)\n",
    "print(del_TS_2)"
   ]
  },
  {
   "cell_type": "code",
   "execution_count": 22,
   "id": "threatened-cornwall",
   "metadata": {},
   "outputs": [],
   "source": [
    "spec = models_fit.spectral_model"
   ]
  },
  {
   "cell_type": "code",
   "execution_count": 23,
   "id": "israeli-graduate",
   "metadata": {},
   "outputs": [],
   "source": [
    "energy_edges = np.logspace(-1.0, 1.0, 5) * u.TeV\n",
    "fpe = FluxPointsEstimator(energy_edges=energy_edges)"
   ]
  },
  {
   "cell_type": "code",
   "execution_count": 24,
   "id": "amazing-potter",
   "metadata": {},
   "outputs": [
    {
     "name": "stdout",
     "output_type": "stream",
     "text": [
      "CPU times: user 5.98 s, sys: 43.7 ms, total: 6.03 s\n",
      "Wall time: 6.03 s\n"
     ]
    }
   ],
   "source": [
    "%%time\n",
    "flux_points = fpe.run(datasets=[dataset1])"
   ]
  },
  {
   "cell_type": "code",
   "execution_count": 25,
   "id": "prime-bleeding",
   "metadata": {},
   "outputs": [
    {
     "data": {
      "text/plain": [
       "<matplotlib.axes._subplots.AxesSubplot at 0x7f0ae0c337b8>"
      ]
     },
     "execution_count": 25,
     "metadata": {},
     "output_type": "execute_result"
    },
    {
     "data": {
      "image/png": "[encoded data removed]",
      "text/plain": [
       "<Figure size 432x288 with 1 Axes>"
      ]
     },
     "metadata": {
      "needs_background": "light"
     },
     "output_type": "display_data"
    }
   ],
   "source": [
    "energy_range = [0.1, 10] * u.TeV\n",
    "spec.plot(energy_range=energy_range, energy_power=2)\n",
    "ax = spec.plot_error(energy_range=energy_range, energy_power=2)\n",
    "flux_points.plot(ax=ax, energy_power=2)"
   ]
  },
  {
   "cell_type": "code",
   "execution_count": 26,
   "id": "united-fence",
   "metadata": {},
   "outputs": [],
   "source": [
    "def flux_plt(model, dataset):\n",
    "    spec = model.spectral_model\n",
    "    energy_edges = np.logspace(-1.0, 1.0, 5) * u.TeV\n",
    "    fpe = FluxPointsEstimator(energy_edges=energy_edges)\n",
    "    flux_points = fpe.run(datasets=[dataset])\n",
    "    energy_range = [0.1, 10] * u.TeV\n",
    "    spec.plot(energy_range=energy_range, energy_power=2)\n",
    "    ax = spec.plot_error(energy_range=energy_range, energy_power=2)\n",
    "    flux_points.plot(ax=ax, energy_power=2)\n",
    "    plt.title(\"Livetime = \"+str(dataset.gti.time_delta.to(u.hr)))#, fontsize='15')\n",
    "    return"
   ]
  },
  {
   "cell_type": "code",
   "execution_count": null,
   "id": "sensitive-yugoslavia",
   "metadata": {},
   "outputs": [],
   "source": []
  }
 ],
 "metadata": {
  "kernelspec": {
   "display_name": "Python 3",
   "language": "python",
   "name": "python3"
  },
  "language_info": {
   "codemirror_mode": {
    "name": "ipython",
    "version": 3
   },
   "file_extension": ".py",
   "mimetype": "text/x-python",
   "name": "python",
   "nbconvert_exporter": "python",
   "pygments_lexer": "ipython3",
   "version": "3.7.0"
  }
 },
 "nbformat": 4,
 "nbformat_minor": 5
}
