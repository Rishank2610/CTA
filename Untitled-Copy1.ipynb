{
 "cells": [
  {
   "cell_type": "code",
   "execution_count": 1,
   "metadata": {},
   "outputs": [],
   "source": [
    "%matplotlib inline\n",
    "import matplotlib.pyplot as plt"
   ]
  },
  {
   "cell_type": "code",
   "execution_count": 2,
   "metadata": {},
   "outputs": [],
   "source": [
    "import os\n",
    "import numpy as np\n",
    "import astropy.units as u\n",
    "from astropy.coordinates import SkyCoord, Angle\n",
    "from regions import CircleSkyRegion\n",
    "from gammapy.spectrum import (\n",
    "    SpectrumDatasetOnOff,\n",
    "    SpectrumDataset,\n",
    "    SpectrumDatasetMaker,\n",
    "    FluxPointsEstimator,\n",
    "    FluxPointsDataset,\n",
    "    ReflectedRegionsBackgroundMaker,\n",
    "    plot_spectrum_datasets_off_regions,\n",
    ")\n",
    "from gammapy.modeling import Fit, Parameter, Datasets\n",
    "from gammapy.modeling.models import (\n",
    "    PowerLawSpectralModel,\n",
    "    SpectralModel,\n",
    "    SkyModel,\n",
    "    ExpCutoffPowerLawSpectralModel,\n",
    ")\n",
    "from gammapy.irf import load_cta_irfs\n",
    "from gammapy.data import Observation\n",
    "from gammapy.maps import MapAxis\n",
    "from itertools import combinations"
   ]
  },
  {
   "cell_type": "code",
   "execution_count": 3,
   "metadata": {},
   "outputs": [],
   "source": [
    "import scipy.stats as stats\n",
    "import math\n",
    "import statistics"
   ]
  },
  {
   "cell_type": "code",
   "execution_count": 4,
   "metadata": {},
   "outputs": [
    {
     "name": "stdout",
     "output_type": "stream",
     "text": [
      "/home/rishank/anaconda2/envs/cta/share/caldb/\n",
      "data\n"
     ]
    }
   ],
   "source": [
    "os.environ['CALDB'] = '/home/rishank/anaconda2/envs/cta/share/caldb/'\n",
    "!echo $CALDB\n",
    "!ls $CALDB"
   ]
  },
  {
   "cell_type": "code",
   "execution_count": 5,
   "metadata": {},
   "outputs": [],
   "source": [
    "irfs = load_cta_irfs(\n",
    "    \"$CALDB/data/cta/prod3b-v2/bcf/South_z20_50h/irf_file.fits\"\n",
    ")"
   ]
  },
  {
   "cell_type": "code",
   "execution_count": 6,
   "metadata": {},
   "outputs": [],
   "source": [
    "livetime = 2 * u.h\n",
    "n_obs = 100\n",
    "l = 0.5\n",
    "pointing = SkyCoord(0, 0, unit=\"deg\", frame=\"galactic\")\n",
    "offset = 0.5 * u.deg\n",
    "# Reconstructed and true energy axis\n",
    "energy_axis = MapAxis.from_edges(\n",
    "    np.logspace(-1.5, 2.0, 40), unit=\"TeV\", name=\"energy\", interp=\"log\"\n",
    ")\n",
    "energy_axis_true = MapAxis.from_edges(\n",
    "    np.logspace(-1.5, 2.0, 200), unit=\"TeV\", name=\"energy\", interp=\"log\"\n",
    ")\n",
    "\n",
    "on_region_radius = Angle(\"0.11 deg\")\n",
    "on_region = CircleSkyRegion(center=pointing, radius=on_region_radius)"
   ]
  },
  {
   "cell_type": "code",
   "execution_count": 7,
   "metadata": {},
   "outputs": [
    {
     "name": "stdout",
     "output_type": "stream",
     "text": [
      "ExpCutoffPowerLawSpectralModel\n",
      "\n",
      "   name     value   error      unit      min max frozen\n",
      "--------- --------- ----- -------------- --- --- ------\n",
      "    index 2.220e+00   nan                nan nan  False\n",
      "amplitude 1.289e-12   nan cm-2 s-1 TeV-1 nan nan  False\n",
      "reference 1.000e+00   nan            TeV nan nan   True\n",
      "  lambda_ 5.000e-01   nan          TeV-1 nan nan  False\n",
      "    alpha 1.000e+00   nan                nan nan   True\n"
     ]
    }
   ],
   "source": [
    "# Define spectral model - a simple Power Law in this case\n",
    "model_simu = ExpCutoffPowerLawSpectralModel(index=2.22, amplitude=1.289e-12 * u.Unit(\"cm-2 s-1 TeV-1\"), reference=1 * u.TeV, lambda_=l * u.Unit(\"TeV-1\"), alpha = 1)\n",
    "#model_simu = PowerLawSpectralModel(index=2.22, amplitude=1.289e-12 * u.Unit(\"cm-2 s-1 TeV-1\"), reference=1 * u.TeV)\n",
    "\n",
    "print(model_simu)\n",
    "# we set the sky model used in the dataset\n",
    "model = SkyModel(spectral_model=model_simu)"
   ]
  },
  {
   "cell_type": "code",
   "execution_count": 8,
   "metadata": {},
   "outputs": [
    {
     "name": "stdout",
     "output_type": "stream",
     "text": [
      "Info for OBS_ID = 1\n",
      "- Pointing pos: RA 266.40 deg / Dec -28.94 deg\n",
      "- Livetime duration: 7200.0 s\n",
      "\n"
     ]
    },
    {
     "name": "stderr",
     "output_type": "stream",
     "text": [
      "WARNING: AstropyDeprecationWarning: The truth value of a Quantity is ambiguous. In the future this will raise a ValueError. [astropy.units.quantity]\n"
     ]
    }
   ],
   "source": [
    "obs = Observation.create(pointing=pointing, livetime=livetime, irfs=irfs)\n",
    "print(obs)"
   ]
  },
  {
   "cell_type": "code",
   "execution_count": 9,
   "metadata": {},
   "outputs": [],
   "source": [
    "# Make the SpectrumDataset\n",
    "dataset_empty = SpectrumDataset.create(\n",
    "    e_reco=energy_axis.edges, e_true=energy_axis_true.edges, region=on_region\n",
    ")\n",
    "maker = SpectrumDatasetMaker(selection=[\"aeff\", \"edisp\", \"background\"])\n",
    "dataset = maker.run(dataset_empty, obs)"
   ]
  },
  {
   "cell_type": "code",
   "execution_count": 10,
   "metadata": {},
   "outputs": [
    {
     "name": "stdout",
     "output_type": "stream",
     "text": [
      "SpectrumDataset\n",
      "\n",
      "    Name                            : 1 \n",
      "\n",
      "    Total counts                    : 868 \n",
      "    Total predicted counts          : nan\n",
      "    Total background counts         : 883.56\n",
      "\n",
      "    Effective area min              : 2.80e+04 m2\n",
      "    Effective area max              : 5.73e+06 m2\n",
      "\n",
      "    Livetime                        : 7.20e+03 s\n",
      "\n",
      "    Number of total bins            : 39 \n",
      "    Number of fit bins              : 39 \n",
      "\n",
      "    Fit statistic type              : cash\n",
      "    Fit statistic value (-2 log(L)) : nan\n",
      "\n",
      "    Number of parameters            : 0\n",
      "    Number of free parameters       : 0\n",
      "\n",
      "\n"
     ]
    }
   ],
   "source": [
    "# Set the model on the dataset, and fake\n",
    "dataset.model = model\n",
    "dataset.fake(random_state=42)\n",
    "print(dataset)"
   ]
  },
  {
   "cell_type": "code",
   "execution_count": 11,
   "metadata": {},
   "outputs": [
    {
     "name": "stdout",
     "output_type": "stream",
     "text": [
      "SpectrumDatasetOnOff\n",
      "\n",
      "    Name                            :  \n",
      "\n",
      "    Total counts                    : 1506 \n",
      "    Total predicted counts          : 1416.60\n",
      "    Total off counts                : 4423.00\n",
      "\n",
      "    Total background counts         : 884.60\n",
      "\n",
      "    Effective area min              : 2.80e+04 m2\n",
      "    Effective area max              : 5.73e+06 m2\n",
      "\n",
      "    Livetime                        : 2.00e+00 h\n",
      "\n",
      "    Number of total bins            : 39 \n",
      "    Number of fit bins              : 39 \n",
      "\n",
      "    Fit statistic type              : wstat\n",
      "    Fit statistic value (-2 log(L)) : 40.94\n",
      "\n",
      "    Number of parameters            : 5\n",
      "    Number of free parameters       : 3\n",
      "\n",
      "    Model type                      : SkyModels\n",
      "    Acceptance mean:                : 1.0\n",
      "\n"
     ]
    }
   ],
   "source": [
    "dataset_onoff = SpectrumDatasetOnOff(\n",
    "    aeff=dataset.aeff,\n",
    "    edisp=dataset.edisp,\n",
    "    models=model,\n",
    "    livetime=livetime,\n",
    "    acceptance=1,\n",
    "    acceptance_off=5,\n",
    ")\n",
    "dataset_onoff.fake(background_model=dataset.background)\n",
    "print(dataset_onoff)"
   ]
  },
  {
   "cell_type": "code",
   "execution_count": 12,
   "metadata": {},
   "outputs": [
    {
     "name": "stdout",
     "output_type": "stream",
     "text": [
      "CPU times: user 327 ms, sys: 7.35 ms, total: 335 ms\n",
      "Wall time: 333 ms\n"
     ]
    }
   ],
   "source": [
    "%%time\n",
    "\n",
    "datasets = []\n",
    "\n",
    "for idx in range(n_obs):\n",
    "    dataset_onoff.fake(random_state=idx, background_model=dataset.background)\n",
    "    dataset_onoff.name = f\"obs_{idx}\"\n",
    "    datasets.append(dataset_onoff.copy())"
   ]
  },
  {
   "cell_type": "code",
   "execution_count": 13,
   "metadata": {},
   "outputs": [
    {
     "data": {
      "text/plain": [
       "Text(0, 0.5, 'No. of observations')"
      ]
     },
     "execution_count": 13,
     "metadata": {},
     "output_type": "execute_result"
    },
    {
     "data": {
      "image/png": "[encoded data removed]",
      "text/plain": [
       "<Figure size 864x288 with 3 Axes>"
      ]
     },
     "metadata": {
      "needs_background": "light"
     },
     "output_type": "display_data"
    }
   ],
   "source": [
    "n_on = [dataset.counts.data.sum() for dataset in datasets]\n",
    "n_off = [dataset.counts_off.data.sum() for dataset in datasets]\n",
    "excess = [dataset.excess.data.sum() for dataset in datasets]\n",
    "\n",
    "fix, axes = plt.subplots(1, 3, figsize=(12, 4))\n",
    "axes[0].hist(n_on)\n",
    "axes[0].set_xlabel(\"no. of counts\\nn_on\")\n",
    "axes[0].set_ylabel(\"No. of observations\")\n",
    "axes[1].hist(n_off)\n",
    "axes[1].set_xlabel(\"no. of counts\\nn_off\")\n",
    "axes[1].set_ylabel(\"No. of observations\")\n",
    "axes[2].hist(excess)\n",
    "axes[2].set_xlabel(\"no. of counts\\nexcess\");\n",
    "axes[2].set_ylabel(\"No. of observations\")"
   ]
  },
  {
   "cell_type": "code",
   "execution_count": 14,
   "metadata": {
    "scrolled": true
   },
   "outputs": [],
   "source": [
    "e_edges = np.logspace(-1.5, 2.0, 10) * u.TeV\n",
    "results = []\n",
    "spectral_model = ExpCutoffPowerLawSpectralModel(index=2, amplitude=2e-11 * u.Unit(\"cm-2 s-1 TeV-1\"), reference=1 * u.TeV, lambda_=0 * u.Unit(\"TeV-1\"), alpha = 1)\n",
    "#spectral_model = PowerLawSpectralModel(index=2, amplitude=2e-11 * u.Unit(\"cm-2 s-1 TeV-1\"), reference=1 * u.TeV)\n",
    "\n",
    "model_0 = SkyModel(spectral_model=spectral_model)\n",
    "\n",
    "for dataset in datasets:\n",
    "    dataset.models = model_0\n"
   ]
  },
  {
   "cell_type": "code",
   "execution_count": 15,
   "metadata": {},
   "outputs": [],
   "source": [
    "for dataset in datasets:\n",
    "    dataset.parameters[\"lambda_\"].frozen = True\n",
    "    fit = Fit([dataset])\n",
    "    result = fit.run()\n",
    "    results.append(\n",
    "        {\n",
    "            \"index\": result.parameters[\"index\"].value,\n",
    "            \"amplitude\": result.parameters[\"amplitude\"].value,\n",
    "            \"reference\":result.parameters[\"reference\"].value,\n",
    "            \"lambda_\": result.parameters[\"lambda_\"].value,\n",
    "            \"alpha\":result.parameters[\"alpha\"].value,\n",
    "            \"TS\":result.total_stat,\n",
    "        }\n",
    "    )"
   ]
  },
  {
   "cell_type": "code",
   "execution_count": 16,
   "metadata": {},
   "outputs": [],
   "source": [
    "for dataset in datasets:\n",
    "    dataset.parameters[\"lambda_\"].frozen = False\n",
    "    fit = Fit([dataset])\n",
    "    result = fit.run()\n",
    "    results.append(\n",
    "        {\n",
    "            \"index\": result.parameters[\"index\"].value,\n",
    "            \"amplitude\": result.parameters[\"amplitude\"].value,\n",
    "            \"reference\":result.parameters[\"reference\"].value,\n",
    "            \"lambda_\": result.parameters[\"lambda_\"].value,\n",
    "            \"alpha\":result.parameters[\"alpha\"].value,\n",
    "            \"TS\":result.total_stat,\n",
    "        }\n",
    "    )"
   ]
  },
  {
   "cell_type": "code",
   "execution_count": 17,
   "metadata": {},
   "outputs": [],
   "source": [
    "del_TS = []\n",
    "for i in range(n_obs):\n",
    "    del_TS.append(results[i][\"TS\"]-results[i+n_obs][\"TS\"])"
   ]
  },
  {
   "cell_type": "code",
   "execution_count": 18,
   "metadata": {
    "scrolled": true
   },
   "outputs": [
    {
     "data": {
      "text/plain": [
       "[19.32067243132326,\n",
       " 14.360608072333047,\n",
       " 15.285524224606519,\n",
       " 28.317051459695048,\n",
       " 18.327027713428453,\n",
       " 24.754130272775768,\n",
       " 17.65151782023074,\n",
       " 20.326707585861584,\n",
       " 15.248054025914215,\n",
       " 36.52669879456306,\n",
       " 26.365040830735925,\n",
       " 7.2836297981839735,\n",
       " 8.32151252604324,\n",
       " 28.38852696835149,\n",
       " 43.12837034619726,\n",
       " 16.27744894957603,\n",
       " 15.163323551950583,\n",
       " 25.03070221183865,\n",
       " 20.70356321284658,\n",
       " 14.023563425224193,\n",
       " 28.662291860014953,\n",
       " 24.167807938866403,\n",
       " 10.96981280475666,\n",
       " 30.01904729820707,\n",
       " 30.364538045105455,\n",
       " 19.526250258163756,\n",
       " 13.585871435471315,\n",
       " 6.629726248449913,\n",
       " 25.37912420877018,\n",
       " 13.514104508224374,\n",
       " 16.855783139146787,\n",
       " 18.01471061170761,\n",
       " 25.07982977686564,\n",
       " 13.435072654529641,\n",
       " 12.55166333448242,\n",
       " 26.08327519494919,\n",
       " 16.619141855462836,\n",
       " 31.345764286821606,\n",
       " 14.283908762295798,\n",
       " 20.9573454906474,\n",
       " 13.969812413366183,\n",
       " 16.055367495151714,\n",
       " 16.20460473085736,\n",
       " 22.157541390251154,\n",
       " 16.34434496617559,\n",
       " 25.210588934955627,\n",
       " 3.6257156091607037,\n",
       " 23.082754918335336,\n",
       " 8.487381451285756,\n",
       " 17.398392942803234,\n",
       " 35.46428268162667,\n",
       " 22.328236437637525,\n",
       " 12.442006413461637,\n",
       " 14.37054059885594,\n",
       " 17.852137191678718,\n",
       " 18.44095205127131,\n",
       " 38.01496187570916,\n",
       " 11.79814014207053,\n",
       " 30.862391212175694,\n",
       " 16.352292425280538,\n",
       " 28.050923009822174,\n",
       " 11.078724209679965,\n",
       " 14.840562899411648,\n",
       " 30.542983312541665,\n",
       " 31.45944197952033,\n",
       " 19.684414186031784,\n",
       " 13.120129539619686,\n",
       " 26.549707527425397,\n",
       " 26.097928808282205,\n",
       " 17.536969716817335,\n",
       " 17.672166655716676,\n",
       " 11.466859303694868,\n",
       " 20.906529241793518,\n",
       " 18.78337317784012,\n",
       " 13.281822965928178,\n",
       " 35.24714601438809,\n",
       " 28.07008795876992,\n",
       " 7.650935076439087,\n",
       " 25.232656964142272,\n",
       " 17.940516414097928,\n",
       " 20.255265143781337,\n",
       " 3.479583619764604,\n",
       " 20.3853142897975,\n",
       " 28.449700071079707,\n",
       " 25.213602457217366,\n",
       " 13.882891363516713,\n",
       " 33.6970169767923,\n",
       " 25.762951051437685,\n",
       " 20.456983130022998,\n",
       " 33.0524410321604,\n",
       " 24.082043990031302,\n",
       " 22.708153795286275,\n",
       " 17.260253629529615,\n",
       " 29.084800949243235,\n",
       " 23.84436270854598,\n",
       " 12.530269910766648,\n",
       " 37.40363851238862,\n",
       " 27.376241546773922,\n",
       " 38.39568672587296,\n",
       " 18.276945664237672]"
      ]
     },
     "execution_count": 18,
     "metadata": {},
     "output_type": "execute_result"
    }
   ],
   "source": [
    "del_TS"
   ]
  },
  {
   "cell_type": "code",
   "execution_count": 19,
   "metadata": {},
   "outputs": [
    {
     "data": {
      "text/plain": [
       "(array([ 4.,  5., 20., 20., 13., 15., 12.,  4.,  6.,  1.]),\n",
       " array([ 3.47958362,  7.44446229, 11.40934097, 15.37421964, 19.33909831,\n",
       "        23.30397698, 27.26885566, 31.23373433, 35.198613  , 39.16349167,\n",
       "        43.12837035]),\n",
       " <a list of 10 Patch objects>)"
      ]
     },
     "execution_count": 19,
     "metadata": {},
     "output_type": "execute_result"
    },
    {
     "data": {
      "image/png": "[encoded data removed]",
      "text/plain": [
       "<Figure size 432x288 with 1 Axes>"
      ]
     },
     "metadata": {
      "needs_background": "light"
     },
     "output_type": "display_data"
    }
   ],
   "source": [
    "plt.hist(del_TS, bins=10, alpha=0.5)"
   ]
  },
  {
   "cell_type": "code",
   "execution_count": 20,
   "metadata": {},
   "outputs": [],
   "source": [
    "a = np.array([_[\"index\"] for _ in results])\n",
    "b = np.array([_[\"amplitude\"] for _ in results])\n",
    "c = np.array([_[\"reference\"] for _ in results])\n",
    "d = np.array([_[\"lambda_\"] for _ in results])\n",
    "e = np.array([_[\"alpha\"] for _ in results])"
   ]
  },
  {
   "cell_type": "code",
   "execution_count": 21,
   "metadata": {},
   "outputs": [
    {
     "data": {
      "text/plain": [
       "(array([ 1.,  9., 13., 18., 16., 25., 11.,  4.,  1.,  1.]),\n",
       " array([1.94827761, 2.01114125, 2.07400489, 2.13686853, 2.19973217,\n",
       "        2.26259581, 2.32545945, 2.38832309, 2.45118673, 2.51405038,\n",
       "        2.57691402]),\n",
       " <a list of 10 Patch objects>)"
      ]
     },
     "execution_count": 21,
     "metadata": {},
     "output_type": "execute_result"
    },
    {
     "data": {
      "image/png": "[encoded data removed]",
      "text/plain": [
       "<Figure size 432x288 with 1 Axes>"
      ]
     },
     "metadata": {
      "needs_background": "light"
     },
     "output_type": "display_data"
    }
   ],
   "source": [
    "plt.hist(a[n_obs:2*n_obs-1], bins=10, alpha=0.5)"
   ]
  },
  {
   "cell_type": "code",
   "execution_count": 22,
   "metadata": {},
   "outputs": [
    {
     "data": {
      "text/plain": [
       "(array([ 6.,  9., 12., 21., 26., 12.,  7.,  5.,  0.,  1.]),\n",
       " array([2.47547338, 2.49942041, 2.52336745, 2.54731449, 2.57126152,\n",
       "        2.59520856, 2.6191556 , 2.64310263, 2.66704967, 2.69099671,\n",
       "        2.71494374]),\n",
       " <a list of 10 Patch objects>)"
      ]
     },
     "execution_count": 22,
     "metadata": {},
     "output_type": "execute_result"
    },
    {
     "data": {
      "image/png": "[encoded data removed]",
      "text/plain": [
       "<Figure size 432x288 with 1 Axes>"
      ]
     },
     "metadata": {
      "needs_background": "light"
     },
     "output_type": "display_data"
    }
   ],
   "source": [
    "plt.hist(a[0:n_obs-1], bins=10, alpha=0.5)"
   ]
  },
  {
   "cell_type": "code",
   "execution_count": 23,
   "metadata": {},
   "outputs": [
    {
     "data": {
      "text/plain": [
       "(array([ 5.,  8., 13., 26., 12., 13., 11.,  4.,  4.,  3.]),\n",
       " array([0.14339141, 0.22906759, 0.31474377, 0.40041995, 0.48609614,\n",
       "        0.57177232, 0.6574485 , 0.74312468, 0.82880086, 0.91447704,\n",
       "        1.00015322]),\n",
       " <a list of 10 Patch objects>)"
      ]
     },
     "execution_count": 23,
     "metadata": {},
     "output_type": "execute_result"
    },
    {
     "data": {
      "image/png": "[encoded data removed]",
      "text/plain": [
       "<Figure size 432x288 with 1 Axes>"
      ]
     },
     "metadata": {
      "needs_background": "light"
     },
     "output_type": "display_data"
    }
   ],
   "source": [
    "plt.hist(d[n_obs:2*n_obs-1], bins=10, alpha=0.5)"
   ]
  },
  {
   "cell_type": "code",
   "execution_count": 24,
   "metadata": {},
   "outputs": [
    {
     "data": {
      "text/plain": [
       "(array([ 0.,  0.,  0.,  0.,  0., 99.,  0.,  0.,  0.,  0.]),\n",
       " array([-0.5, -0.4, -0.3, -0.2, -0.1,  0. ,  0.1,  0.2,  0.3,  0.4,  0.5]),\n",
       " <a list of 10 Patch objects>)"
      ]
     },
     "execution_count": 24,
     "metadata": {},
     "output_type": "execute_result"
    },
    {
     "data": {
      "image/png": "[encoded data removed]",
      "text/plain": [
       "<Figure size 432x288 with 1 Axes>"
      ]
     },
     "metadata": {
      "needs_background": "light"
     },
     "output_type": "display_data"
    }
   ],
   "source": [
    "plt.hist(d[0:n_obs-1], bins=10, alpha=0.5)"
   ]
  },
  {
   "cell_type": "code",
   "execution_count": null,
   "metadata": {},
   "outputs": [],
   "source": []
  }
 ],
 "metadata": {
  "kernelspec": {
   "display_name": "Python 3",
   "language": "python",
   "name": "python3"
  },
  "language_info": {
   "codemirror_mode": {
    "name": "ipython",
    "version": 3
   },
   "file_extension": ".py",
   "mimetype": "text/x-python",
   "name": "python",
   "nbconvert_exporter": "python",
   "pygments_lexer": "ipython3",
   "version": "3.7.0"
  }
 },
 "nbformat": 4,
 "nbformat_minor": 4
}
