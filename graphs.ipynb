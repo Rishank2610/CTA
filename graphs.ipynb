{
 "cells": [
  {
   "cell_type": "code",
   "execution_count": 1,
   "id": "independent-chambers",
   "metadata": {},
   "outputs": [],
   "source": [
    "%matplotlib inline\n",
    "import matplotlib.pyplot as plt"
   ]
  },
  {
   "cell_type": "code",
   "execution_count": 2,
   "id": "ancient-representative",
   "metadata": {},
   "outputs": [],
   "source": [
    "import numpy as np\n",
    "import scipy.stats as stats\n",
    "import math\n",
    "import statistics\n",
    "import os"
   ]
  },
  {
   "cell_type": "code",
   "execution_count": 3,
   "id": "incoming-prison",
   "metadata": {},
   "outputs": [],
   "source": [
    "def d_1(l,A,x,r):\n",
    "    return A*np.power(x/r,-l)*np.square(x)"
   ]
  },
  {
   "cell_type": "code",
   "execution_count": 4,
   "id": "facial-mouse",
   "metadata": {},
   "outputs": [],
   "source": [
    "def d_2(l,A,x,r):\n",
    "    return A*np.power(x/r,-l)*x"
   ]
  },
  {
   "cell_type": "code",
   "execution_count": 5,
   "id": "third-conjunction",
   "metadata": {},
   "outputs": [],
   "source": [
    "def d_3(l,A,x,r):\n",
    "    return A*np.power(x/r,-l)"
   ]
  },
  {
   "cell_type": "code",
   "execution_count": 6,
   "id": "departmental-raleigh",
   "metadata": {},
   "outputs": [],
   "source": [
    "x = np.logspace(-3,3,10)\n",
    "x_1 = np.logspace(-3,0,100)"
   ]
  },
  {
   "cell_type": "code",
   "execution_count": null,
   "id": "leading-saudi",
   "metadata": {},
   "outputs": [],
   "source": [
    "a_1 = 3.24e-13\n",
    "a_2 = 2.78e-13\n",
    "a_3 = 2.61e-13\n",
    "a_4 = 1.198e-12\n",
    "a_5 = 0.218e-11\n",
    "l_1 = 2.52\n",
    "l_2 = 2.446\n",
    "l_3 = 2.153\n",
    "l_4 = 2.35\n",
    "l_5 = 2.48"
   ]
  },
  {
   "cell_type": "code",
   "execution_count": null,
   "id": "billion-circle",
   "metadata": {},
   "outputs": [],
   "source": [
    "dnde_1 = d_1(l_1,a_1,x)\n",
    "dnde_2 = d_2(l_2,a_2,x)\n",
    "dnde_3 = d_1(l_3,a_3,x)\n",
    "dnde_4 = d_1(l_4,a_4,x_1)\n",
    "dnde_5 = d_2(l_5,a_5,x_1)"
   ]
  },
  {
   "cell_type": "code",
   "execution_count": null,
   "id": "mineral-comfort",
   "metadata": {},
   "outputs": [],
   "source": [
    "plt.figure(figsize=[8,8])\n",
    "plt.plot(x,dnde_1, label = \"a_1\")\n",
    "#plt.plot(x,dnde_2, label = \"a_2\")\n",
    "plt.plot(x,dnde_3, label = \"a_3\")\n",
    "plt.plot(x_1,dnde_4, label = \"a_4\")\n",
    "plt.plot(x_1,dnde_5, label = \"a_5\")\n",
    "plt.xscale(\"log\")\n",
    "plt.yscale(\"log\")\n",
    "plt.legend()"
   ]
  },
  {
   "cell_type": "code",
   "execution_count": null,
   "id": "preceding-mexico",
   "metadata": {},
   "outputs": [],
   "source": [
    "a_1 = 1.289e-12\n",
    "a_2 = 3.7e-13\n",
    "a_3 = 1.21e-12\n",
    "a_4 = 1.01e-12\n",
    "a_5 = 0.705e-11\n",
    "l_1 = 2.22\n",
    "l_2 = 2.5\n",
    "l_3 = 2.21\n",
    "l_4 = 2.325\n",
    "l_5 = 2.14"
   ]
  },
  {
   "cell_type": "code",
   "execution_count": null,
   "id": "emerging-walnut",
   "metadata": {},
   "outputs": [],
   "source": [
    "dnde_1 = d_1(l_1,a_1,x)\n",
    "dnde_2 = d_3(l_2,a_2,x)\n",
    "dnde_3 = d_1(l_3,a_3,x)\n",
    "dnde_4 = d_1(l_4,a_4,x)\n",
    "dnde_5 = d_2(l_5,a_5,x)"
   ]
  },
  {
   "cell_type": "code",
   "execution_count": null,
   "id": "informal-zimbabwe",
   "metadata": {},
   "outputs": [],
   "source": [
    "plt.figure(figsize=[8,8])\n",
    "plt.plot(x,dnde_1, label = \"a_1\")\n",
    "plt.plot(x,dnde_2, label = \"a_2\")\n",
    "plt.plot(x,dnde_3, label = \"a_3\")\n",
    "plt.plot(x,dnde_4, label = \"a_4\")\n",
    "plt.plot(x,dnde_5, label = \"a_5\")\n",
    "plt.xscale(\"log\")\n",
    "plt.yscale(\"log\")\n",
    "plt.legend()"
   ]
  },
  {
   "cell_type": "code",
   "execution_count": null,
   "id": "lesser-infrared",
   "metadata": {},
   "outputs": [],
   "source": [
    "a_1 = 2.54e-12\n",
    "a_2 = 1.34e-13\n",
    "a_3 = 1.56e-8\n",
    "a_4 = 1.03e-12\n",
    "a_5 = 8.84e-13\n",
    "a_6 = 0.555e-11\n",
    "l_1 = 2.39\n",
    "l_2 = 2.39\n",
    "l_3 = 2.22\n",
    "l_4 = 2.279\n",
    "l_5 = 2.195\n",
    "l_6 = 2.10"
   ]
  },
  {
   "cell_type": "code",
   "execution_count": null,
   "id": "rapid-banks",
   "metadata": {},
   "outputs": [],
   "source": [
    "dnde_1 = d_1(l_1,a_1,x)\n",
    "dnde_2 = d_1(l_2,a_2,x)\n",
    "dnde_3 = d_3(l_3,a_3,x)\n",
    "dnde_4 = d_1(l_4,a_4,x)\n",
    "dnde_5 = d_1(l_5,a_5,x)\n",
    "dnde_6 = d_2(l_6,a_6,x)"
   ]
  },
  {
   "cell_type": "code",
   "execution_count": null,
   "id": "adopted-exclusion",
   "metadata": {},
   "outputs": [],
   "source": [
    "plt.figure(figsize=[8,8])\n",
    "plt.plot(x,dnde_1, label = \"a_1\")\n",
    "plt.plot(x,dnde_2, label = \"a_2\")\n",
    "#plt.plot(x,dnde_3, label = \"a_3\")\n",
    "plt.plot(x,dnde_4, label = \"a_4\")\n",
    "plt.plot(x,dnde_5, label = \"a_5\")\n",
    "#plt.plot(x,dnde_6, label = \"a_6\")\n",
    "plt.xscale(\"log\")\n",
    "plt.yscale(\"log\")\n",
    "plt.legend()"
   ]
  },
  {
   "cell_type": "code",
   "execution_count": null,
   "id": "serious-meditation",
   "metadata": {},
   "outputs": [],
   "source": [
    "x = np.logspace(-2,5,100)\n",
    "a_1=2.18e-9\n",
    "a_2=7.05e-9\n",
    "a_3=5.55e-9\n",
    "l_1=2.48\n",
    "l_2=2.14\n",
    "l_3=2.10"
   ]
  },
  {
   "cell_type": "code",
   "execution_count": null,
   "id": "documented-absolute",
   "metadata": {},
   "outputs": [],
   "source": [
    "dnde_1 = d_2(l_1,a_1,x)\n",
    "dnde_2 = d_2(l_2,a_2,x)\n",
    "dnde_3 = d_2(l_3,a_3,x)"
   ]
  },
  {
   "cell_type": "code",
   "execution_count": null,
   "id": "moderate-impact",
   "metadata": {},
   "outputs": [],
   "source": [
    "plt.figure(figsize=[8,8])\n",
    "plt.plot(x,dnde_1, label = \"a_1\")\n",
    "plt.plot(x,dnde_2, label = \"a_2\")\n",
    "plt.plot(x,dnde_3, label = \"a_3\")\n",
    "plt.xscale(\"log\")\n",
    "plt.yscale(\"log\")\n",
    "plt.legend()"
   ]
  },
  {
   "cell_type": "code",
   "execution_count": 7,
   "id": "funded-secretariat",
   "metadata": {},
   "outputs": [
    {
     "name": "stdout",
     "output_type": "stream",
     "text": [
      "[1.e-03 1.e-02 1.e-01 1.e+00 1.e+01 1.e+02 1.e+03]\n"
     ]
    }
   ],
   "source": [
    "r = np.logspace(-3,3,7)\n",
    "print(r)"
   ]
  },
  {
   "cell_type": "code",
   "execution_count": null,
   "id": "sonic-register",
   "metadata": {},
   "outputs": [],
   "source": [
    "def d_4(l,A,x,r):\n",
    "    return A*np.power(x/r,-l)"
   ]
  },
  {
   "cell_type": "code",
   "execution_count": 8,
   "id": "satellite-european",
   "metadata": {},
   "outputs": [],
   "source": [
    "a = 1.92e-12\n",
    "l = 2.35"
   ]
  },
  {
   "cell_type": "code",
   "execution_count": 9,
   "id": "common-conversion",
   "metadata": {
    "scrolled": true
   },
   "outputs": [
    {
     "name": "stdout",
     "output_type": "stream",
     "text": [
      "[1.52511021e-20 3.41429647e-18 7.64365767e-16 1.71120180e-13\n",
      " 3.83090364e-11 8.57632497e-09 1.92000000e-06]\n",
      "[1.52511021e-23 3.41429647e-21 7.64365767e-19 1.71120180e-16\n",
      " 3.83090364e-14 8.57632497e-12 1.92000000e-09]\n",
      "[1.52511021e-26 3.41429647e-24 7.64365767e-22 1.71120180e-19\n",
      " 3.83090364e-17 8.57632497e-15 1.92000000e-12]\n"
     ]
    }
   ],
   "source": [
    "print(d_1(l,a,1e3,r))\n",
    "print(d_2(l,a,1e3,r))\n",
    "print(d_3(l,a,1e3,r))"
   ]
  },
  {
   "cell_type": "code",
   "execution_count": 10,
   "id": "nuclear-focus",
   "metadata": {},
   "outputs": [
    {
     "name": "stdout",
     "output_type": "stream",
     "text": [
      "[3.41429647e-20 7.64365767e-18 1.71120180e-15 3.83090364e-13\n",
      " 8.57632497e-11 1.92000000e-08 4.29834459e-06]\n",
      "[3.41429647e-22 7.64365767e-20 1.71120180e-17 3.83090364e-15\n",
      " 8.57632497e-13 1.92000000e-10 4.29834459e-08]\n",
      "[3.41429647e-24 7.64365767e-22 1.71120180e-19 3.83090364e-17\n",
      " 8.57632497e-15 1.92000000e-12 4.29834459e-10]\n"
     ]
    }
   ],
   "source": [
    "print(d_1(l,a,1e2,r))\n",
    "print(d_2(l,a,1e2,r))\n",
    "print(d_3(l,a,1e2,r))"
   ]
  },
  {
   "cell_type": "code",
   "execution_count": 11,
   "id": "underlying-intake",
   "metadata": {},
   "outputs": [
    {
     "name": "stdout",
     "output_type": "stream",
     "text": [
      "[7.64365767e-20 1.71120180e-17 3.83090364e-15 8.57632497e-13\n",
      " 1.92000000e-10 4.29834459e-08 9.62279489e-06]\n",
      "[7.64365767e-21 1.71120180e-18 3.83090364e-16 8.57632497e-14\n",
      " 1.92000000e-11 4.29834459e-09 9.62279489e-07]\n",
      "[7.64365767e-22 1.71120180e-19 3.83090364e-17 8.57632497e-15\n",
      " 1.92000000e-12 4.29834459e-10 9.62279489e-08]\n"
     ]
    }
   ],
   "source": [
    "print(d_1(l,a,10,r))\n",
    "print(d_2(l,a,10,r))\n",
    "print(d_3(l,a,10,r))"
   ]
  },
  {
   "cell_type": "code",
   "execution_count": 12,
   "id": "reverse-accounting",
   "metadata": {},
   "outputs": [
    {
     "name": "stdout",
     "output_type": "stream",
     "text": [
      "[1.71120180e-19 3.83090364e-17 8.57632497e-15 1.92000000e-12\n",
      " 4.29834459e-10 9.62279489e-08 2.15427543e-05]\n",
      "[1.71120180e-19 3.83090364e-17 8.57632497e-15 1.92000000e-12\n",
      " 4.29834459e-10 9.62279489e-08 2.15427543e-05]\n",
      "[1.71120180e-19 3.83090364e-17 8.57632497e-15 1.92000000e-12\n",
      " 4.29834459e-10 9.62279489e-08 2.15427543e-05]\n"
     ]
    }
   ],
   "source": [
    "print(d_1(l,a,1,r))\n",
    "print(d_2(l,a,1,r))\n",
    "print(d_3(l,a,1,r))"
   ]
  },
  {
   "cell_type": "code",
   "execution_count": 13,
   "id": "handmade-impossible",
   "metadata": {},
   "outputs": [
    {
     "name": "stdout",
     "output_type": "stream",
     "text": [
      "[1.92000000e-18 4.29834459e-16 9.62279489e-14 2.15427543e-11\n",
      " 4.82282195e-09 1.07969534e-06 2.41713679e-04]\n",
      "[1.92000000e-15 4.29834459e-13 9.62279489e-11 2.15427543e-08\n",
      " 4.82282195e-06 1.07969534e-03 2.41713679e-01]\n",
      "[1.92000000e-12 4.29834459e-10 9.62279489e-08 2.15427543e-05\n",
      " 4.82282195e-03 1.07969534e+00 2.41713679e+02]\n"
     ]
    }
   ],
   "source": [
    "print(d_1(l,a,1e-3,r))\n",
    "print(d_2(l,a,1e-3,r))\n",
    "print(d_3(l,a,1e-3,r))"
   ]
  },
  {
   "cell_type": "code",
   "execution_count": 14,
   "id": "brutal-guyana",
   "metadata": {},
   "outputs": [
    {
     "name": "stdout",
     "output_type": "stream",
     "text": [
      "[8.57632497e-19 1.92000000e-16 4.29834459e-14 9.62279489e-12\n",
      " 2.15427543e-09 4.82282195e-07 1.07969534e-04]\n",
      "[8.57632497e-17 1.92000000e-14 4.29834459e-12 9.62279489e-10\n",
      " 2.15427543e-07 4.82282195e-05 1.07969534e-02]\n",
      "[8.57632497e-15 1.92000000e-12 4.29834459e-10 9.62279489e-08\n",
      " 2.15427543e-05 4.82282195e-03 1.07969534e+00]\n"
     ]
    }
   ],
   "source": [
    "print(d_1(l,a,1e-2,r))\n",
    "print(d_2(l,a,1e-2,r))\n",
    "print(d_3(l,a,1e-2,r))"
   ]
  },
  {
   "cell_type": "code",
   "execution_count": 15,
   "id": "parliamentary-frederick",
   "metadata": {},
   "outputs": [
    {
     "name": "stdout",
     "output_type": "stream",
     "text": [
      "[3.83090364e-19 8.57632497e-17 1.92000000e-14 4.29834459e-12\n",
      " 9.62279489e-10 2.15427543e-07 4.82282195e-05]\n",
      "[3.83090364e-18 8.57632497e-16 1.92000000e-13 4.29834459e-11\n",
      " 9.62279489e-09 2.15427543e-06 4.82282195e-04]\n",
      "[3.83090364e-17 8.57632497e-15 1.92000000e-12 4.29834459e-10\n",
      " 9.62279489e-08 2.15427543e-05 4.82282195e-03]\n"
     ]
    }
   ],
   "source": [
    "print(d_1(l,a,1e-1,r))\n",
    "print(d_2(l,a,1e-1,r))\n",
    "print(d_3(l,a,1e-1,r))"
   ]
  },
  {
   "cell_type": "code",
   "execution_count": null,
   "id": "positive-directive",
   "metadata": {},
   "outputs": [],
   "source": [
    "dnde = d_2(l,a,x,1)"
   ]
  },
  {
   "cell_type": "code",
   "execution_count": null,
   "id": "proud-separation",
   "metadata": {},
   "outputs": [],
   "source": [
    "x"
   ]
  },
  {
   "cell_type": "code",
   "execution_count": null,
   "id": "controlling-weapon",
   "metadata": {},
   "outputs": [],
   "source": [
    "dnde"
   ]
  },
  {
   "cell_type": "code",
   "execution_count": null,
   "id": "alternative-england",
   "metadata": {},
   "outputs": [],
   "source": [
    "plt.plot(x,dnde)\n",
    "plt.xscale(\"log\")\n",
    "plt.yscale(\"log\")"
   ]
  },
  {
   "cell_type": "code",
   "execution_count": null,
   "id": "prescribed-blake",
   "metadata": {},
   "outputs": [],
   "source": []
  }
 ],
 "metadata": {
  "kernelspec": {
   "display_name": "Python 3",
   "language": "python",
   "name": "python3"
  },
  "language_info": {
   "codemirror_mode": {
    "name": "ipython",
    "version": 3
   },
   "file_extension": ".py",
   "mimetype": "text/x-python",
   "name": "python",
   "nbconvert_exporter": "python",
   "pygments_lexer": "ipython3",
   "version": "3.7.0"
  }
 },
 "nbformat": 4,
 "nbformat_minor": 5
}
