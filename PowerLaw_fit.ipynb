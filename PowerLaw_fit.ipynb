{
 "cells": [
  {
   "cell_type": "code",
   "execution_count": 1,
   "metadata": {},
   "outputs": [],
   "source": [
    "%matplotlib inline\n",
    "import matplotlib.pyplot as plt"
   ]
  },
  {
   "cell_type": "code",
   "execution_count": 2,
   "metadata": {},
   "outputs": [],
   "source": [
    "import os\n",
    "import numpy as np\n",
    "import astropy.units as u\n",
    "from astropy.coordinates import SkyCoord, Angle\n",
    "from regions import CircleSkyRegion\n",
    "from gammapy.spectrum import (\n",
    "    SpectrumDatasetOnOff,\n",
    "    SpectrumDataset,\n",
    "    SpectrumDatasetMaker,\n",
    ")\n",
    "from gammapy.modeling import Fit, Parameter, Datasets\n",
    "from gammapy.modeling.models import (\n",
    "    PowerLawSpectralModel,\n",
    "    LogParabolaSpectralModel,\n",
    "    SpectralModel,\n",
    "    SkyModel,\n",
    "    ExpCutoffPowerLawSpectralModel,\n",
    ")\n",
    "from gammapy.irf import load_cta_irfs\n",
    "from gammapy.data import Observation\n",
    "from gammapy.maps import MapAxis\n",
    "from itertools import combinations"
   ]
  },
  {
   "cell_type": "code",
   "execution_count": 3,
   "metadata": {},
   "outputs": [
    {
     "name": "stdout",
     "output_type": "stream",
     "text": [
      "/home/rishank/gammapy-datasets/\n",
      "catalogs\t     ebl\t    figures\t  images\n",
      "cta-1dc\t\t     fermi_3fhl     gamma-cat\t  joint-crab\n",
      "dark_matter_spectra  fermi-3fhl-gc  hess-dl3-dr1  tests\n"
     ]
    }
   ],
   "source": [
    "os.environ['GAMMAPY_DATA'] = '/home/rishank/gammapy-datasets/'\n",
    "!echo $GAMMAPY_DATA\n",
    "!ls $GAMMAPY_DATA"
   ]
  },
  {
   "cell_type": "code",
   "execution_count": 4,
   "metadata": {},
   "outputs": [
    {
     "name": "stdout",
     "output_type": "stream",
     "text": [
      "SkyModel\n",
      "\n",
      "   name     value   error      unit      min max frozen\n",
      "--------- --------- ----- -------------- --- --- ------\n",
      "    index 2.220e+00   nan                nan nan  False\n",
      "amplitude 1.289e-12   nan cm-2 s-1 TeV-1 nan nan  False\n",
      "reference 1.000e+00   nan            TeV nan nan   True\n"
     ]
    }
   ],
   "source": [
    "model_simu = PowerLawSpectralModel(\n",
    "    amplitude=1.289e-12 / u.cm ** 2 / u.s / u.TeV,\n",
    "    reference=1 * u.TeV,\n",
    "    index=2.22,\n",
    ")\n",
    "\n",
    "model = SkyModel(spectral_model=model_simu)\n",
    "print(model)"
   ]
  },
  {
   "cell_type": "code",
   "execution_count": 5,
   "metadata": {},
   "outputs": [],
   "source": [
    "livetime = 48 * u.h\n",
    "pointing = SkyCoord(0, 0, unit=\"deg\", frame=\"galactic\")\n",
    "offset = 0.5 * u.deg\n",
    "# Reconstructed and true energy axis\n",
    "energy_axis = MapAxis.from_edges(\n",
    "    np.logspace(-1.5, 2.0, 10), unit=\"TeV\", name=\"energy\", interp=\"log\"\n",
    ")\n",
    "energy_axis_true = MapAxis.from_edges(\n",
    "    np.logspace(-1.5, 2.0, 31), unit=\"TeV\", name=\"energy\", interp=\"log\"\n",
    ")\n",
    "\n",
    "on_region_radius = Angle(\"0.11 deg\")\n",
    "on_region = CircleSkyRegion(center=pointing, radius=on_region_radius)"
   ]
  },
  {
   "cell_type": "code",
   "execution_count": 6,
   "metadata": {},
   "outputs": [
    {
     "name": "stdout",
     "output_type": "stream",
     "text": [
      "/home/rishank/anaconda2/envs/cta/share/caldb/\n",
      "data\n"
     ]
    }
   ],
   "source": [
    "os.environ['CALDB'] = '/home/rishank/anaconda2/envs/cta/share/caldb/'\n",
    "!echo $CALDB\n",
    "!ls $CALDB"
   ]
  },
  {
   "cell_type": "code",
   "execution_count": 7,
   "metadata": {},
   "outputs": [],
   "source": [
    "irfs = load_cta_irfs(\n",
    "    \"$CALDB/data/cta/prod3b-v2/bcf/South_z20_50h/irf_file.fits\"\n",
    ")"
   ]
  },
  {
   "cell_type": "code",
   "execution_count": 8,
   "metadata": {},
   "outputs": [
    {
     "name": "stdout",
     "output_type": "stream",
     "text": [
      "Info for OBS_ID = 1\n",
      "- Pointing pos: RA 266.40 deg / Dec -28.94 deg\n",
      "- Livetime duration: 172800.0 s\n",
      "\n"
     ]
    },
    {
     "name": "stderr",
     "output_type": "stream",
     "text": [
      "WARNING: AstropyDeprecationWarning: The truth value of a Quantity is ambiguous. In the future this will raise a ValueError. [astropy.units.quantity]\n"
     ]
    }
   ],
   "source": [
    "obs = Observation.create(pointing=pointing, livetime=livetime, irfs=irfs)\n",
    "print(obs)"
   ]
  },
  {
   "cell_type": "code",
   "execution_count": 9,
   "metadata": {},
   "outputs": [],
   "source": [
    "dataset_empty = SpectrumDataset.create(\n",
    "    e_reco=energy_axis.edges, e_true=energy_axis_true.edges, region=on_region\n",
    ")\n",
    "maker = SpectrumDatasetMaker(selection=[\"aeff\", \"edisp\", \"background\"])\n",
    "dataset = maker.run(dataset_empty, obs)"
   ]
  },
  {
   "cell_type": "code",
   "execution_count": 10,
   "metadata": {},
   "outputs": [
    {
     "name": "stdout",
     "output_type": "stream",
     "text": [
      "SpectrumDatasetOnOff\n",
      "\n",
      "    Name                            :  \n",
      "\n",
      "    Total counts                    : 37086 \n",
      "    Total predicted counts          : 37100.14\n",
      "    Total off counts                : 100871.00\n",
      "\n",
      "    Total background counts         : 20174.20\n",
      "\n",
      "    Effective area min              : 3.44e+04 m2\n",
      "    Effective area max              : 5.41e+06 m2\n",
      "\n",
      "    Livetime                        : 4.80e+01 h\n",
      "\n",
      "    Number of total bins            : 9 \n",
      "    Number of fit bins              : 9 \n",
      "\n",
      "    Fit statistic type              : wstat\n",
      "    Fit statistic value (-2 log(L)) : 9.95\n",
      "\n",
      "    Number of parameters            : 3\n",
      "    Number of free parameters       : 2\n",
      "\n",
      "    Model type                      : SkyModels\n",
      "    Acceptance mean:                : 1.0\n",
      "\n"
     ]
    }
   ],
   "source": [
    "dataset_onoff = SpectrumDatasetOnOff(\n",
    "    aeff=dataset.aeff,\n",
    "    edisp=dataset.edisp,\n",
    "    models=model,\n",
    "    livetime=livetime,\n",
    "    acceptance=1,\n",
    "    acceptance_off=5,\n",
    ")\n",
    "dataset_onoff.fake(background_model=dataset.background)\n",
    "print(dataset_onoff)"
   ]
  },
  {
   "cell_type": "code",
   "execution_count": 11,
   "metadata": {},
   "outputs": [],
   "source": [
    "dataset_onoff.models = model\n",
    "fit = Fit([dataset_onoff])"
   ]
  },
  {
   "cell_type": "code",
   "execution_count": 12,
   "metadata": {
    "scrolled": true
   },
   "outputs": [
    {
     "name": "stdout",
     "output_type": "stream",
     "text": [
      "OptimizeResult\n",
      "\n",
      "\tbackend    : minuit\n",
      "\tmethod     : minuit\n",
      "\tsuccess    : True\n",
      "\tmessage    : Optimization terminated successfully.\n",
      "\tnfev       : 35\n",
      "\ttotal stat : 8.89\n",
      "\n"
     ]
    },
    {
     "data": {
      "text/html": [
       "<i>Table length=3</i>\n",
       "<table id=\"table140298603444544\" class=\"table-striped table-bordered table-condensed\">\n",
       "<thead><tr><th>name</th><th>value</th><th>error</th><th>unit</th><th>min</th><th>max</th><th>frozen</th></tr></thead>\n",
       "<thead><tr><th>str9</th><th>float64</th><th>float64</th><th>str14</th><th>float64</th><th>float64</th><th>bool</th></tr></thead>\n",
       "<tr><td>index</td><td>2.214e+00</td><td>6.646e-03</td><td></td><td>nan</td><td>nan</td><td>False</td></tr>\n",
       "<tr><td>amplitude</td><td>1.286e-12</td><td>1.406e-14</td><td>cm-2 s-1 TeV-1</td><td>nan</td><td>nan</td><td>False</td></tr>\n",
       "<tr><td>reference</td><td>1.000e+00</td><td>0.000e+00</td><td>TeV</td><td>nan</td><td>nan</td><td>True</td></tr>\n",
       "</table>"
      ],
      "text/plain": [
       "<Table length=3>\n",
       "   name     value     error        unit        min     max   frozen\n",
       "   str9    float64   float64      str14      float64 float64  bool \n",
       "--------- --------- --------- -------------- ------- ------- ------\n",
       "    index 2.214e+00 6.646e-03                    nan     nan  False\n",
       "amplitude 1.286e-12 1.406e-14 cm-2 s-1 TeV-1     nan     nan  False\n",
       "reference 1.000e+00 0.000e+00            TeV     nan     nan   True"
      ]
     },
     "execution_count": 12,
     "metadata": {},
     "output_type": "execute_result"
    }
   ],
   "source": [
    "minuit_opts = {\"tol\": 0.001, \"strategy\": 1}\n",
    "result_minuit = fit.run(optimize_opts=minuit_opts)\n",
    "print(result_minuit)\n",
    "result_minuit.parameters.to_table()"
   ]
  },
  {
   "cell_type": "code",
   "execution_count": 13,
   "metadata": {},
   "outputs": [],
   "source": [
    "def evaluate_err(self, minu, energy, epsilon=1e-4):\n",
    "\n",
    "        p_cov = minu.parameters.covariance\n",
    "        eps = np.sqrt(np.diag(minu.parameters.covariance)) * epsilon\n",
    "\n",
    "        df_dp = self._evaluate_gradient(energy, eps)\n",
    "        f_cov = df_dp.T @ p_cov @ df_dp\n",
    "        f_err = np.sqrt(np.diagonal(f_cov))\n",
    "\n",
    "        q = self(energy)\n",
    "        return u.Quantity([q.value, f_err], unit=q.unit)"
   ]
  },
  {
   "cell_type": "code",
   "execution_count": 14,
   "metadata": {},
   "outputs": [],
   "source": [
    "def plot_error(\n",
    "        self,\n",
    "        energy_range,\n",
    "        ax=None,\n",
    "        energy_unit=\"TeV\",\n",
    "        flux_unit=\"cm-2 s-1 TeV-1\",\n",
    "        energy_power=0,\n",
    "        n_points=100,\n",
    "        **kwargs,\n",
    "    ):\n",
    "        \n",
    "        ax = plt.gca() if ax is None else ax\n",
    "\n",
    "        kwargs.setdefault(\"facecolor\", \"black\")\n",
    "        kwargs.setdefault(\"alpha\", 0.2)\n",
    "        kwargs.setdefault(\"linewidth\", 0)\n",
    "\n",
    "        emin, emax = energy_range\n",
    "        energy = MapAxis.from_energy_bounds(emin, emax, n_points, energy_unit).edges\n",
    "\n",
    "        flux, flux_err = evaluate_err(self,result_minuit,energy).to(flux_unit)\n",
    "\n",
    "        y_lo = self._plot_scale_flux(energy, flux - flux_err, energy_power)\n",
    "        y_hi = self._plot_scale_flux(energy, flux + flux_err, energy_power)\n",
    "\n",
    "        where = (energy >= energy_range[0]) & (energy <= energy_range[1])\n",
    "        ax.fill_between(energy.value, y_lo.value, y_hi.value, where=where, **kwargs)\n",
    "\n",
    "        self._plot_format_ax(ax, energy, y_lo, energy_power)\n",
    "        return ax"
   ]
  },
  {
   "cell_type": "code",
   "execution_count": 15,
   "metadata": {},
   "outputs": [
    {
     "data": {
      "image/png": "[encoded data removed]",
      "text/plain": [
       "<Figure size 1152x576 with 1 Axes>"
      ]
     },
     "metadata": {
      "needs_background": "light"
     },
     "output_type": "display_data"
    }
   ],
   "source": [
    "energy_range = [0.03, 100] * u.TeV\n",
    "plt.figure(figsize=[16,8])\n",
    "model_simu.plot(energy_range=energy_range, energy_power=2)\n",
    "ax = plot_error(self=model_simu,energy_range=energy_range, energy_power=2)"
   ]
  },
  {
   "cell_type": "code",
   "execution_count": 16,
   "metadata": {},
   "outputs": [],
   "source": [
    "profile = fit.stat_profile(parameter=\"index\")"
   ]
  },
  {
   "cell_type": "code",
   "execution_count": 17,
   "metadata": {},
   "outputs": [
    {
     "data": {
      "image/png": "[encoded data removed]",
      "text/plain": [
       "<Figure size 432x288 with 1 Axes>"
      ]
     },
     "metadata": {
      "needs_background": "light"
     },
     "output_type": "display_data"
    }
   ],
   "source": [
    "total_stat = result_minuit.total_stat\n",
    "plt.plot(profile[\"values\"], profile[\"stat\"] - total_stat)\n",
    "plt.xlabel(r\"$\\Gamma$\")\n",
    "plt.ylabel(\"Delta TS\");"
   ]
  },
  {
   "cell_type": "code",
   "execution_count": 18,
   "metadata": {},
   "outputs": [],
   "source": [
    "def make_contours(fit, result, npoints, sigmas):\n",
    "    cts_sigma = []\n",
    "    for sigma in sigmas:\n",
    "        contours = dict()\n",
    "        for par_1, par_2 in combinations([\"index\", \"amplitude\"], r=2):\n",
    "            contour = fit.minos_contour(\n",
    "                result.parameters[par_1],\n",
    "                result.parameters[par_2],\n",
    "                numpoints=npoints,\n",
    "                sigma=sigma,\n",
    "            )\n",
    "            contours[f\"contour_{par_1}_{par_2}\"] = {\n",
    "                par_1: contour[\"x\"].tolist(),\n",
    "                par_2: contour[\"y\"].tolist(),\n",
    "            }\n",
    "        cts_sigma.append(contours)\n",
    "    return cts_sigma"
   ]
  },
  {
   "cell_type": "code",
   "execution_count": 19,
   "metadata": {},
   "outputs": [],
   "source": [
    "sigma = [1, 2]\n",
    "cts_sigma = make_contours(fit, result_minuit, 10, sigma)"
   ]
  },
  {
   "cell_type": "code",
   "execution_count": 20,
   "metadata": {},
   "outputs": [],
   "source": [
    "pars = {\n",
    "    \"phi\": r\"$phi_0 / (10^{-11} {TeV}^{-1} {cm}^{-2} {s}^{-1})$\",\n",
    "    #\"phi\": r\"$\\phi_0 \\,/\\,(10^{-11}\\,{\\rm TeV}^{-1} \\, {\\rm cm}^{-2} {\\rm s}^{-1})$\",\n",
    "    \"index\": r\"$index$\",\n",
    "}\n",
    "\n",
    "panels = [\n",
    "    {\n",
    "        \"x\": \"index\",\n",
    "        \"y\": \"phi\",\n",
    "        \"cx\": (lambda ct: ct[\"contour_index_amplitude\"][\"index\"]),\n",
    "        \"cy\": (\n",
    "            lambda ct: np.array(1e12)\n",
    "            * ct[\"contour_index_amplitude\"][\"amplitude\"]\n",
    "        ),\n",
    "    }\n",
    "]"
   ]
  },
  {
   "cell_type": "code",
   "execution_count": 21,
   "metadata": {},
   "outputs": [],
   "source": [
    "def plot_contour_line(ax, x, y, **kwargs):\n",
    "    \"\"\"Plot smooth curve from contour points\"\"\"\n",
    "    from scipy.interpolate import CubicSpline\n",
    "\n",
    "    # close countour\n",
    "    xf = np.append(x, x[0])\n",
    "    yf = np.append(y, y[0])\n",
    "\n",
    "    # curve parametrization must be strictly increasing\n",
    "    # so we use the cumulative distance of each point from the first one\n",
    "    dist = np.sqrt(np.diff(xf) ** 2.0 + np.diff(yf) ** 2.0)\n",
    "    dist = [0] + list(dist)\n",
    "    t = np.cumsum(dist)\n",
    "    ts = np.linspace(0, t[-1], 50)\n",
    "\n",
    "    # 1D cubic spline interpolation\n",
    "    cs = CubicSpline(t, np.c_[xf, yf], bc_type=\"periodic\")\n",
    "    out = cs(ts)\n",
    "\n",
    "    # plot\n",
    "    ax.plot(out[:, 0], out[:, 1], \"-\", **kwargs)\n",
    "    ax.plot(xf, yf, \"+\", color=kwargs[\"color\"])"
   ]
  },
  {
   "cell_type": "code",
   "execution_count": 22,
   "metadata": {},
   "outputs": [
    {
     "data": {
      "text/plain": [
       "<matplotlib.legend.Legend at 0x7f99cff38550>"
      ]
     },
     "execution_count": 22,
     "metadata": {},
     "output_type": "execute_result"
    },
    {
     "data": {
      "image/png": "[encoded data removed]",
      "text/plain": [
       "<Figure size 432x288 with 1 Axes>"
      ]
     },
     "metadata": {
      "needs_background": "light"
     },
     "output_type": "display_data"
    }
   ],
   "source": [
    "axes = plt.axes()\n",
    "colors = [\"m\",\"b\"]\n",
    "xlabel = pars[panels[0][\"x\"]]\n",
    "ylabel = pars[panels[0][\"y\"]]\n",
    "for ks in range(len(cts_sigma)):\n",
    "    plot_contour_line(\n",
    "        axes,\n",
    "        panels[0][\"cx\"](cts_sigma[ks]),\n",
    "        panels[0][\"cy\"](cts_sigma[ks]),\n",
    "        lw=2.5,\n",
    "        color=colors[ks],\n",
    "        label=f\"{sigma[ks]}\" + r\"$\\sigma$\",\n",
    "    )\n",
    "axes.set_xlabel(xlabel)\n",
    "axes.set_ylabel(ylabel)\n",
    "plt.legend()\n"
   ]
  },
  {
   "cell_type": "code",
   "execution_count": null,
   "metadata": {},
   "outputs": [],
   "source": []
  }
 ],
 "metadata": {
  "kernelspec": {
   "display_name": "Python 3",
   "language": "python",
   "name": "python3"
  },
  "language_info": {
   "codemirror_mode": {
    "name": "ipython",
    "version": 3
   },
   "file_extension": ".py",
   "mimetype": "text/x-python",
   "name": "python",
   "nbconvert_exporter": "python",
   "pygments_lexer": "ipython3",
   "version": "3.6.7"
  }
 },
 "nbformat": 4,
 "nbformat_minor": 4
}
