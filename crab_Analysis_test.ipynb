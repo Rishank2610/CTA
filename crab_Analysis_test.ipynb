{
 "cells": [
  {
   "cell_type": "code",
   "execution_count": 14,
   "metadata": {},
   "outputs": [
    {
     "name": "stdout",
     "output_type": "stream",
     "text": [
      "\n",
      "Gammapy package:\n",
      "\n",
      "\tpath                   : /photon1/users/labsaha/miniconda/envs/gammapy-0.12/lib/python3.6/site-packages/gammapy \n",
      "\tversion                : 0.12       \n",
      "\n",
      "\n",
      "Other packages:\n",
      "\n",
      "\tnumpy                  : 1.16.4     \n",
      "\tscipy                  : 1.2.1      \n",
      "\tmatplotlib             : 2.2.3      \n",
      "\tcython                 : not installed \n",
      "\tastropy                : 3.0.4      \n",
      "\tastropy_healpix        : 0.4        \n",
      "\treproject              : 0.4        \n",
      "\tsherpa                 : 4.11.0     \n",
      "\tpytest                 : 4.6.3      \n",
      "\tsphinx                 : not installed \n",
      "\thealpy                 : 1.11.0     \n",
      "\tregions                : 0.3        \n",
      "\timinuit                : 1.3.7      \n",
      "\tnaima                  : 0.8.3      \n",
      "\tuncertainties          : 3.0.3      \n",
      "\n"
     ]
    }
   ],
   "source": [
    "%matplotlib inline\n",
    "\n",
    "!gammapy info --no-envvar --no-system\n",
    "import matplotlib.pyplot as plt\n",
    "import numpy as np\n",
    "import astropy.units as u\n",
    "from astropy.coordinates import SkyCoord\n",
    "from astropy.convolution import Gaussian2DKernel\n",
    "from regions import CircleSkyRegion\n",
    "from gammapy.utils.energy import EnergyBounds\n",
    "from gammapy.utils.fitting import Fit\n",
    "from gammapy.data import DataStore\n",
    "from gammapy.data.data_store import CalDBIRF\n",
    "from gammapy.spectrum import (\n",
    "    SpectrumExtraction,\n",
    "    models,\n",
    "    FluxPointsEstimator,\n",
    "    FluxPointsDataset,\n",
    ")\n",
    "from gammapy.maps import MapAxis, WcsNDMap, WcsGeom\n",
    "from gammapy.cube import MapMaker\n",
    "from gammapy.background import ReflectedRegionsBackgroundEstimator\n",
    "from gammapy.detect import TSMapEstimator, find_peaks\n"
   ]
  },
  {
   "cell_type": "code",
   "execution_count": 2,
   "metadata": {},
   "outputs": [],
   "source": [
    "# Configure the logger, so that the spectral analysis\n",
    "# isn't so chatty about what it's doing.\n",
    "import logging\n",
    "\n",
    "logging.basicConfig()\n",
    "log = logging.getLogger(\"gammapy.spectrum\")\n",
    "log.setLevel(logging.ERROR)"
   ]
  },
  {
   "cell_type": "code",
   "execution_count": 105,
   "metadata": {},
   "outputs": [],
   "source": [
    "#import os\n",
    "#os.environ['CTADATA'] = ''\n",
    "#!echo $CTADATA\n",
    "#!ls $CTADATA"
   ]
  },
  {
   "cell_type": "code",
   "execution_count": null,
   "metadata": {},
   "outputs": [],
   "source": [
    "data_store = DataStore.from_dir(\"$CTADATA/index/gps\")\n",
    "#data_store1 = DataStore.from_dir(\"$CTADATA/data/gps\")"
   ]
  },
  {
   "cell_type": "code",
   "execution_count": null,
   "metadata": {},
   "outputs": [],
   "source": [
    "data_store.info()"
   ]
  },
  {
   "cell_type": "code",
   "execution_count": null,
   "metadata": {},
   "outputs": [],
   "source": [
    "obs_id = [110380, 111140, 111159]"
   ]
  },
  {
   "cell_type": "code",
   "execution_count": null,
   "metadata": {},
   "outputs": [],
   "source": [
    "obs_list = data_store?"
   ]
  },
  {
   "cell_type": "code",
   "execution_count": null,
   "metadata": {},
   "outputs": [],
   "source": [
    "obs_list = data_store"
   ]
  },
  {
   "cell_type": "code",
   "execution_count": null,
   "metadata": {},
   "outputs": [],
   "source": [
    "obs_id = [110380, 111140, 111159]\n",
    "\n",
    "#data_store.obs_table.rename_column('TSTART', 'START')\n",
    "observations = data_store.get_observations()"
   ]
  },
  {
   "cell_type": "code",
   "execution_count": 73,
   "metadata": {},
   "outputs": [],
   "source": [
    "from gammapy.data import DataStore\n",
    "#path = \"/photon1/users/labsaha/gammapy_analysis/data/1dc/data/baseline/gps/gps_baseline_110380.fits\"\n",
    "path = \"/photon1/users/labsaha/gammapy_analysis/gammapy_analysis/crab/crab.fits\"\n",
    "data_store = DataStore.from_events_files([path])\n",
    "observations = data_store.get_observations()\n"
   ]
  },
  {
   "cell_type": "code",
   "execution_count": 74,
   "metadata": {},
   "outputs": [
    {
     "name": "stdout",
     "output_type": "stream",
     "text": [
      "Observations\n",
      "Number of observations: 1\n",
      "Info for OBS_ID = 1\n",
      "- Start time: 58849.00\n",
      "- Pointing pos: RA 83.63 deg / Dec 22.51 deg\n",
      "- Observation duration: 259200.0 s\n",
      "- Dead-time fraction: 2.000 %\n",
      "\n"
     ]
    }
   ],
   "source": [
    "print(observations)"
   ]
  },
  {
   "cell_type": "code",
   "execution_count": 75,
   "metadata": {},
   "outputs": [],
   "source": [
    "#obs_cols = [\"OBS_ID\", \"GLON_PNT\", \"GLAT_PNT\", \"LIVETIME\"]\n",
    "#data_store.obs_table.select_obs_id(obs_id)[obs_cols]"
   ]
  },
  {
   "cell_type": "code",
   "execution_count": 76,
   "metadata": {},
   "outputs": [
    {
     "data": {
      "text/plain": [
       "WcsGeom\n",
       "\n",
       "\taxes       : lon, lat, energy\n",
       "\tshape      : (500, 400, 9)\n",
       "\tndim       : 3\n",
       "\tcoordsys   : GAL\n",
       "\tprojection : CAR\n",
       "\tcenter     : 184.6 deg, -5.8 deg\n",
       "\twidth      : 10.0 deg x 8.0 deg"
      ]
     },
     "execution_count": 76,
     "metadata": {},
     "output_type": "execute_result"
    }
   ],
   "source": [
    "axis = MapAxis.from_edges(\n",
    "    np.logspace(-1.0, 1.0, 10), unit=\"TeV\", name=\"energy\", interp=\"log\"\n",
    ")\n",
    "geom = WcsGeom.create(\n",
    "    skydir=(184.55745, -05.78436), npix=(500, 400), binsz=0.02, coordsys=\"GAL\", axes=[axis]\n",
    ")\n",
    "geom"
   ]
  },
  {
   "cell_type": "code",
   "execution_count": 77,
   "metadata": {},
   "outputs": [],
   "source": [
    "target_position = SkyCoord(184.55745, -05.78436, unit=\"deg\", frame=\"galactic\")\n",
    "on_radius = 0.2 * u.deg\n",
    "on_region = CircleSkyRegion(center=target_position, radius=on_radius)"
   ]
  },
  {
   "cell_type": "code",
   "execution_count": 78,
   "metadata": {},
   "outputs": [
    {
     "data": {
      "image/png": "[encoded data removed]",
      "text/plain": [
       "<Figure size 432x288 with 1 Axes>"
      ]
     },
     "metadata": {
      "needs_background": "light"
     },
     "output_type": "display_data"
    }
   ],
   "source": [
    "exclusion_mask = geom.to_image().region_mask([on_region], inside=False)\n",
    "exclusion_mask = WcsNDMap(geom.to_image(), exclusion_mask)\n",
    "exclusion_mask.plot();"
   ]
  },
  {
   "cell_type": "code",
   "execution_count": 79,
   "metadata": {},
   "outputs": [
    {
     "name": "stdout",
     "output_type": "stream",
     "text": [
      "CPU times: user 297 µs, sys: 99 µs, total: 396 µs\n",
      "Wall time: 407 µs\n"
     ]
    }
   ],
   "source": [
    "%%time\n",
    "maker = MapMaker(geom, offset_max=\"3 deg\")"
   ]
  },
  {
   "cell_type": "code",
   "execution_count": 80,
   "metadata": {},
   "outputs": [
    {
     "name": "stdout",
     "output_type": "stream",
     "text": [
      "dict_keys(['counts', 'exposure', 'background'])\n"
     ]
    }
   ],
   "source": [
    "import os\n",
    "os.environ['CALDB'] = '/photon1/users/labsaha/gammapy_analysis/data/1dc/'\n",
    "maps=maker.run(observations)\n",
    "print(maps.keys())"
   ]
  },
  {
   "cell_type": "code",
   "execution_count": 81,
   "metadata": {},
   "outputs": [],
   "source": [
    "images = maker.run_images()\n",
    "\n",
    "excess = images[\"counts\"].copy()\n",
    "excess.data -= images[\"background\"].data\n",
    "images[\"excess\"] = excess"
   ]
  },
  {
   "cell_type": "code",
   "execution_count": 82,
   "metadata": {},
   "outputs": [
    {
     "data": {
      "image/png": "[encoded data removed]",
      "text/plain": [
       "<Figure size 432x288 with 1 Axes>"
      ]
     },
     "metadata": {
      "needs_background": "light"
     },
     "output_type": "display_data"
    }
   ],
   "source": [
    "images[\"counts\"].plot();"
   ]
  },
  {
   "cell_type": "code",
   "execution_count": 83,
   "metadata": {},
   "outputs": [
    {
     "data": {
      "image/png": "[encoded data removed]",
      "text/plain": [
       "<Figure size 432x288 with 1 Axes>"
      ]
     },
     "metadata": {
      "needs_background": "light"
     },
     "output_type": "display_data"
    }
   ],
   "source": [
    "kernel = Gaussian2DKernel(1, mode=\"oversample\").array\n",
    "plt.imshow(kernel);"
   ]
  },
  {
   "cell_type": "code",
   "execution_count": 84,
   "metadata": {},
   "outputs": [
    {
     "name": "stdout",
     "output_type": "stream",
     "text": [
      "dict_keys(['ts', 'sqrt_ts', 'flux', 'flux_err', 'flux_ul', 'niter'])\n",
      "CPU times: user 478 ms, sys: 57.7 ms, total: 536 ms\n",
      "Wall time: 5.96 s\n"
     ]
    }
   ],
   "source": [
    "%%time\n",
    "ts_image_estimator = TSMapEstimator()\n",
    "images_ts = ts_image_estimator.run(images, kernel)\n",
    "print(images_ts.keys())"
   ]
  },
  {
   "cell_type": "code",
   "execution_count": 85,
   "metadata": {},
   "outputs": [
    {
     "name": "stdout",
     "output_type": "stream",
     "text": [
      "CPU times: user 39.7 s, sys: 12.9 s, total: 52.6 s\n",
      "Wall time: 52.6 s\n"
     ]
    },
    {
     "data": {
      "image/png": "[encoded data removed]",
      "text/plain": [
       "<Figure size 432x288 with 1 Axes>"
      ]
     },
     "metadata": {
      "needs_background": "light"
     },
     "output_type": "display_data"
    }
   ],
   "source": [
    "%%time\n",
    "bkg_estimator = ReflectedRegionsBackgroundEstimator(\n",
    "    observations=observations,\n",
    "    on_region=on_region,\n",
    "    exclusion_mask=exclusion_mask,\n",
    ")\n",
    "bkg_estimator.run()\n",
    "bkg_estimate = bkg_estimator.result\n",
    "bkg_estimator.plot();"
   ]
  },
  {
   "cell_type": "code",
   "execution_count": 86,
   "metadata": {},
   "outputs": [
    {
     "name": "stderr",
     "output_type": "stream",
     "text": [
      "No thresholds defined for obs Info for OBS_ID = 1\n",
      "- Start time: 58849.00\n",
      "- Pointing pos: RA 83.63 deg / Dec 22.51 deg\n",
      "- Observation duration: 259200.0 s\n",
      "- Dead-time fraction: 2.000 %\n",
      "\n"
     ]
    },
    {
     "name": "stdout",
     "output_type": "stream",
     "text": [
      "CPU times: user 328 ms, sys: 1.74 ms, total: 329 ms\n",
      "Wall time: 328 ms\n"
     ]
    }
   ],
   "source": [
    "%%time\n",
    "extract = SpectrumExtraction(\n",
    "    observations=observations, bkg_estimate=bkg_estimate\n",
    ")\n",
    "extract.run()\n"
   ]
  },
  {
   "cell_type": "code",
   "execution_count": 87,
   "metadata": {},
   "outputs": [
    {
     "name": "stdout",
     "output_type": "stream",
     "text": [
      "OptimizeResult\n",
      "\n",
      "\tbackend    : minuit\n",
      "\tmethod     : minuit\n",
      "\tsuccess    : True\n",
      "\tmessage    : Optimization terminated successfully.\n",
      "\tnfev       : 81\n",
      "\ttotal stat : 122242.38\n",
      "\n"
     ]
    }
   ],
   "source": [
    "model = models.PowerLaw(\n",
    "    index=2, amplitude=1e-11 * u.Unit(\"cm-2 s-1 TeV-1\"), reference=1 * u.TeV\n",
    ")\n",
    "\n",
    "for dataset in extract.spectrum_observations:\n",
    "    dataset.model = model\n",
    "\n",
    "fit = Fit(extract.spectrum_observations)\n",
    "result = fit.run()\n",
    "print(result)"
   ]
  },
  {
   "cell_type": "code",
   "execution_count": 88,
   "metadata": {},
   "outputs": [
    {
     "name": "stdout",
     "output_type": "stream",
     "text": [
      "<gammapy.spectrum.dataset.SpectrumDatasetOnOff object at 0x7f73b48fdd30>\n"
     ]
    }
   ],
   "source": [
    "# Flux points are computed on stacked observation\n",
    "from gammapy.spectrum import SpectrumDatasetOnOffStacker\n",
    "\n",
    "stacker = SpectrumDatasetOnOffStacker(extract.spectrum_observations)\n",
    "stacked_obs = stacker.run()\n",
    "\n",
    "print(stacked_obs)"
   ]
  },
  {
   "cell_type": "code",
   "execution_count": 96,
   "metadata": {},
   "outputs": [
    {
     "data": {
      "text/html": [
       "<i>Table length=3</i>\n",
       "<table id=\"table140135209610936\" class=\"table-striped table-bordered table-condensed\">\n",
       "<thead><tr><th>e_ref</th><th>e_min</th><th>e_max</th><th>ref_dnde</th><th>ref_flux</th><th>ref_eflux</th><th>ref_e2dnde</th><th>norm</th><th>loglike</th><th>norm_err</th><th>counts [1]</th><th>norm_errp</th><th>norm_errn</th><th>norm_ul</th><th>sqrt_ts</th><th>ts</th><th>norm_scan [11]</th><th>dloglike_scan [11]</th><th>dnde</th><th>dnde_ul</th><th>dnde_err</th><th>dnde_errp</th><th>dnde_errn</th></tr></thead>\n",
       "<thead><tr><th>TeV</th><th>TeV</th><th>TeV</th><th>1 / (cm2 s TeV)</th><th>1 / (cm2 s)</th><th>TeV / (cm2 s)</th><th>TeV / (cm2 s)</th><th></th><th></th><th></th><th></th><th></th><th></th><th></th><th></th><th></th><th></th><th></th><th>1 / (cm2 s TeV)</th><th>1 / (cm2 s TeV)</th><th>1 / (cm2 s TeV)</th><th>1 / (cm2 s TeV)</th><th>1 / (cm2 s TeV)</th></tr></thead>\n",
       "<thead><tr><th>float64</th><th>float64</th><th>float64</th><th>float64</th><th>float64</th><th>float64</th><th>float64</th><th>float64</th><th>float64</th><th>float64</th><th>int64</th><th>float64</th><th>float64</th><th>float64</th><th>float64</th><th>float64</th><th>float64</th><th>float64</th><th>float64</th><th>float64</th><th>float64</th><th>float64</th><th>float64</th></tr></thead>\n",
       "<tr><td>0.278</td><td>0.100</td><td>0.774</td><td>6.836e-10</td><td>5.201e-10</td><td>1.103e-10</td><td>5.293e-11</td><td>1.135</td><td>602.233</td><td>0.002</td><td>419049</td><td>0.002</td><td>0.002</td><td>1.138</td><td>987.589</td><td>975332.905</td><td>0.200 .. 5.000</td><td>520233.82905505795 .. 1452980.8577390364</td><td>7.756e-10</td><td>7.782e-10</td><td>1.298e-12</td><td>1.298e-12</td><td>1.297e-12</td></tr>\n",
       "<tr><td>2.021</td><td>0.774</td><td>5.275</td><td>6.800e-12</td><td>3.407e-11</td><td>5.416e-11</td><td>2.777e-11</td><td>0.923</td><td>3790.778</td><td>0.003</td><td>110197</td><td>0.003</td><td>0.003</td><td>0.929</td><td>585.558</td><td>342877.868</td><td>0.200 .. 5.000</td><td>148118.5969670458 .. 586715.9612439191</td><td>6.277e-12</td><td>6.316e-12</td><td>1.939e-14</td><td>1.925e-14</td><td>1.952e-14</td></tr>\n",
       "<tr><td>14.678</td><td>5.275</td><td>40.842</td><td>6.765e-14</td><td>2.715e-12</td><td>3.038e-11</td><td>1.457e-11</td><td>0.592</td><td>177.596</td><td>0.005</td><td>15026</td><td>0.005</td><td>0.005</td><td>0.602</td><td>223.525</td><td>49963.407</td><td>0.200 .. 5.000</td><td>12151.104011555792 .. 156921.89652202468</td><td>4.004e-14</td><td>4.071e-14</td><td>3.320e-16</td><td>3.336e-16</td><td>3.304e-16</td></tr>\n",
       "</table>"
      ],
      "text/plain": [
       "<Table length=3>\n",
       " e_ref   e_min   e_max  ...     dnde_err       dnde_errp       dnde_errn   \n",
       "  TeV     TeV     TeV   ... 1 / (cm2 s TeV) 1 / (cm2 s TeV) 1 / (cm2 s TeV)\n",
       "float64 float64 float64 ...     float64         float64         float64    \n",
       "------- ------- ------- ... --------------- --------------- ---------------\n",
       "  0.278   0.100   0.774 ...       1.298e-12       1.298e-12       1.297e-12\n",
       "  2.021   0.774   5.275 ...       1.939e-14       1.925e-14       1.952e-14\n",
       " 14.678   5.275  40.842 ...       3.320e-16       3.336e-16       3.304e-16"
      ]
     },
     "execution_count": 96,
     "metadata": {},
     "output_type": "execute_result"
    }
   ],
   "source": [
    "ebounds = EnergyBounds.equal_log_spacing(.1, 40, 3, unit=u.TeV)\n",
    "\n",
    "stacked_obs.model = model\n",
    "\n",
    "fpe = FluxPointsEstimator(datasets=[dataset], e_edges=ebounds)\n",
    "flux_points = fpe.run()\n",
    "flux_points.table_formatted"
   ]
  },
  {
   "cell_type": "code",
   "execution_count": 97,
   "metadata": {},
   "outputs": [],
   "source": [
    "model.parameters.covariance = result.parameters.covariance\n",
    "flux_points_dataset = FluxPointsDataset(data=flux_points, model=model)"
   ]
  },
  {
   "cell_type": "code",
   "execution_count": 98,
   "metadata": {},
   "outputs": [
    {
     "data": {
      "image/png": "[encoded data removed]",
      "text/plain": [
       "<Figure size 576x432 with 2 Axes>"
      ]
     },
     "metadata": {
      "needs_background": "light"
     },
     "output_type": "display_data"
    }
   ],
   "source": [
    "plt.figure(figsize=(8, 6))\n",
    "flux_points_dataset.peek();"
   ]
  },
  {
   "cell_type": "code",
   "execution_count": 104,
   "metadata": {},
   "outputs": [
    {
     "name": "stdout",
     "output_type": "stream",
     "text": [
      "5.200000000000001e-18 1 / (cm2 MeV s)\n"
     ]
    },
    {
     "data": {
      "image/png": "[encoded data removed]",
      "text/plain": [
       "<Figure size 720x576 with 1 Axes>"
      ]
     },
     "metadata": {
      "needs_background": "light"
     },
     "output_type": "display_data"
    }
   ],
   "source": [
    "plt.figure(figsize=(10,8))\n",
    "flux_points.plot(marker='o',label='Flux points',energy_power=2,flux_unit='erg-1 cm-2 s-1')\n",
    "#fpe.flux_points.ploterror()\n",
    "#model = fit.result[0].model\n",
    "\n",
    "import matplotlib as mpl\n",
    "mpl.rcParams['lines.linewidth']=2\n",
    "mpl.rcParams['axes.linewidth']=1.0\n",
    "mpl.rcParams['font.size']=16\n",
    "\n",
    "model_org = models.PowerLaw(\n",
    "    index=2.4 * u.Unit(''),\n",
    "    amplitude=5.2*1e-18 * u.Unit('cm-2 s-1 MeV-1'),\n",
    "    reference=1.0e6 * u.MeV\n",
    ")\n",
    "energy_range = [0.1, 60] * u.TeV\n",
    "#model_org.plot(energy_range, energy_power=2,label='True model before correction',flux_unit='erg-1 cm-2 s-1')\n",
    "model.plot(energy_range, energy_power=2,label='Best-fit model',flux_unit='erg-1 cm-2 s-1')\n",
    "model.plot_error(energy_range, energy_power=2,flux_unit='erg-1 cm-2 s-1')\n",
    "#plt.ylim(5e-14,1e-11)\n",
    "plt.legend(fontsize=16)\n",
    "plt.tick_params(labelsize=16)\n",
    "plt.tick_params(size=5,width=2)\n",
    "print(model_org(1.0e6*u.MeV))"
   ]
  },
  {
   "cell_type": "code",
   "execution_count": null,
   "metadata": {},
   "outputs": [],
   "source": []
  }
 ],
 "metadata": {
  "kernelspec": {
   "display_name": "Python 3",
   "language": "python",
   "name": "python3"
  },
  "language_info": {
   "codemirror_mode": {
    "name": "ipython",
    "version": 3
   },
   "file_extension": ".py",
   "mimetype": "text/x-python",
   "name": "python",
   "nbconvert_exporter": "python",
   "pygments_lexer": "ipython3",
   "version": "3.6.7"
  }
 },
 "nbformat": 4,
 "nbformat_minor": 2
}
