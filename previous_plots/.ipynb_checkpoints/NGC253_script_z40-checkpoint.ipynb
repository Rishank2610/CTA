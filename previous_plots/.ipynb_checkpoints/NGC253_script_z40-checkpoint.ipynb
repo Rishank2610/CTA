{
 "cells": [
  {
   "cell_type": "code",
   "execution_count": 1,
   "metadata": {},
   "outputs": [],
   "source": [
    "%matplotlib inline\n",
    "import matplotlib.pyplot as plt"
   ]
  },
  {
   "cell_type": "code",
   "execution_count": 2,
   "metadata": {},
   "outputs": [
    {
     "name": "stdout",
     "output_type": "stream",
     "text": [
      "numpy: 1.16.5\n",
      "astropy: 3.1.2\n",
      "gammapy: 0.13\n"
     ]
    }
   ],
   "source": [
    "import numpy as np\n",
    "import astropy\n",
    "import gammapy\n",
    "import logging\n",
    "import os\n",
    "import numpy as np\n",
    "import astropy.units as u\n",
    "from matplotlib.colors import LogNorm\n",
    "from gammapy.extern import xmltodict\n",
    "from astropy.coordinates import SkyCoord\n",
    "from astropy.convolution import Gaussian2DKernel\n",
    "from regions import CircleSkyRegion, PixCoord\n",
    "from gammapy.utils.fitting import Fit\n",
    "from gammapy.data import DataStore\n",
    "from gammapy.spectrum import (\n",
    "    SpectrumExtraction,\n",
    "    models,\n",
    "    FluxPointsEstimator,\n",
    "    FluxPointsDataset,\n",
    ")\n",
    "from gammapy.maps import MapAxis, WcsNDMap, WcsGeom\n",
    "from gammapy.cube import MapMaker\n",
    "from gammapy.background import ReflectedRegionsBackgroundEstimator, RingBackgroundEstimator\n",
    "from gammapy.detect import TSMapEstimator, find_peaks\n",
    "from gammapy.data import DataStore\n",
    "from gammapy.spectrum.models import PowerLaw\n",
    "print(\"numpy:\", np.__version__)\n",
    "print(\"astropy:\", astropy.__version__)\n",
    "print(\"gammapy:\", gammapy.__version__)"
   ]
  },
  {
   "cell_type": "code",
   "execution_count": 3,
   "metadata": {},
   "outputs": [
    {
     "data": {
      "text/plain": [
       "<SkyCoord (ICRS): (ra, dec) in deg\n",
       "    (11.88805833, -25.2888)>"
      ]
     },
     "execution_count": 3,
     "metadata": {},
     "output_type": "execute_result"
    }
   ],
   "source": [
    "SkyCoord.from_name(\"NGC253\")"
   ]
  },
  {
   "cell_type": "code",
   "execution_count": 4,
   "metadata": {},
   "outputs": [
    {
     "data": {
      "text/plain": [
       "<SkyCoord (ICRS): (ra, dec) in deg\n",
       "    (83.63308333, 22.0145)>"
      ]
     },
     "execution_count": 4,
     "metadata": {},
     "output_type": "execute_result"
    }
   ],
   "source": [
    "SkyCoord.from_name(\"Crab\")"
   ]
  },
  {
   "cell_type": "code",
   "execution_count": 5,
   "metadata": {},
   "outputs": [],
   "source": [
    "from gammapy.data import EventList\n",
    "path = \"/home/rishank/Downloads/NGC253_events_01_z40.fits\"\n",
    "events = EventList.read(path)"
   ]
  },
  {
   "cell_type": "code",
   "execution_count": 6,
   "metadata": {},
   "outputs": [
    {
     "data": {
      "text/html": [
       "<i>Table length=15920698</i>\n",
       "<table id=\"table140499081108112\" class=\"table-striped table-bordered table-condensed\">\n",
       "<thead><tr><th>EVENT_ID</th><th>TIME</th><th>RA</th><th>DEC</th><th>ENERGY</th><th>DETX</th><th>DETY</th><th>MC_ID</th></tr></thead>\n",
       "<thead><tr><th></th><th>s</th><th>deg</th><th>deg</th><th>TeV</th><th>deg</th><th>deg</th><th></th></tr></thead>\n",
       "<thead><tr><th>uint32</th><th>float64</th><th>float32</th><th>float32</th><th>float32</th><th>float32</th><th>float32</th><th>int32</th></tr></thead>\n",
       "<tr><td>1</td><td>631108930.4975154</td><td>12.066393</td><td>-25.380548</td><td>0.03904987</td><td>0.319357</td><td>0.15033324</td><td>1</td></tr>\n",
       "<tr><td>2</td><td>631108951.5883914</td><td>11.894351</td><td>-25.204693</td><td>0.056252208</td><td>0.49530733</td><td>-0.005111561</td><td>1</td></tr>\n",
       "<tr><td>3</td><td>631108960.7684729</td><td>11.849915</td><td>-25.242474</td><td>0.034230985</td><td>0.45751747</td><td>-0.04530325</td><td>1</td></tr>\n",
       "<tr><td>4</td><td>631108971.3520035</td><td>11.762887</td><td>-25.123432</td><td>0.05640358</td><td>0.57650316</td><td>-0.124143556</td><td>1</td></tr>\n",
       "<tr><td>5</td><td>631108981.7248751</td><td>11.914638</td><td>-25.404928</td><td>0.043282595</td><td>0.29507118</td><td>0.013221836</td><td>1</td></tr>\n",
       "<tr><td>6</td><td>631108988.4409661</td><td>11.896743</td><td>-25.368443</td><td>0.056725096</td><td>0.33155727</td><td>-0.0029430732</td><td>1</td></tr>\n",
       "<tr><td>7</td><td>631108998.5723817</td><td>11.796694</td><td>-25.30695</td><td>0.043373674</td><td>0.39301404</td><td>-0.09339251</td><td>1</td></tr>\n",
       "<tr><td>8</td><td>631109017.8825266</td><td>11.973768</td><td>-25.405376</td><td>0.052362356</td><td>0.29460594</td><td>0.06663462</td><td>1</td></tr>\n",
       "<tr><td>9</td><td>631109022.167201</td><td>11.957015</td><td>-25.306747</td><td>0.036351327</td><td>0.39324126</td><td>0.051543955</td><td>1</td></tr>\n",
       "<tr><td>...</td><td>...</td><td>...</td><td>...</td><td>...</td><td>...</td><td>...</td><td>...</td></tr>\n",
       "<tr><td>15920689</td><td>631368069.016515</td><td>16.051708</td><td>-23.81334</td><td>0.40772516</td><td>1.828318</td><td>3.7983587</td><td>2</td></tr>\n",
       "<tr><td>15920690</td><td>631368069.0250249</td><td>12.031081</td><td>-28.25731</td><td>0.1565318</td><td>-2.557371</td><td>0.11549871</td><td>2</td></tr>\n",
       "<tr><td>15920691</td><td>631368069.0489964</td><td>10.088805</td><td>-24.347324</td><td>0.1678702</td><td>1.3415477</td><td>-1.6502166</td><td>2</td></tr>\n",
       "<tr><td>15920692</td><td>631368069.1035657</td><td>12.03631</td><td>-26.015446</td><td>0.06702369</td><td>-0.31550953</td><td>0.12249886</td><td>2</td></tr>\n",
       "<tr><td>15920693</td><td>631368069.1244321</td><td>10.973423</td><td>-25.717903</td><td>0.05267273</td><td>-0.020830676</td><td>-0.83478475</td><td>2</td></tr>\n",
       "<tr><td>15920694</td><td>631368069.126318</td><td>10.911995</td><td>-24.922735</td><td>0.33324757</td><td>0.7739462</td><td>-0.8960179</td><td>2</td></tr>\n",
       "<tr><td>15920695</td><td>631368069.1349399</td><td>12.176688</td><td>-25.44928</td><td>0.052835815</td><td>0.25045893</td><td>0.24984041</td><td>2</td></tr>\n",
       "<tr><td>15920696</td><td>631368069.1452966</td><td>11.636251</td><td>-27.464954</td><td>0.035636898</td><td>-1.7651926</td><td>-0.23405918</td><td>2</td></tr>\n",
       "<tr><td>15920697</td><td>631368069.1600945</td><td>12.352232</td><td>-23.522533</td><td>0.07540427</td><td>2.1767747</td><td>0.41475204</td><td>2</td></tr>\n",
       "<tr><td>15920698</td><td>631368069.1770004</td><td>11.430538</td><td>-22.281973</td><td>0.062185153</td><td>3.4172862</td><td>-0.43466341</td><td>2</td></tr>\n",
       "</table>"
      ],
      "text/plain": [
       "<Table length=15920698>\n",
       "EVENT_ID        TIME           RA    ...     DETX          DETY     MC_ID\n",
       "                 s            deg    ...     deg           deg           \n",
       " uint32       float64       float32  ...   float32       float32    int32\n",
       "-------- ----------------- --------- ... ------------ ------------- -----\n",
       "       1 631108930.4975154 12.066393 ...     0.319357    0.15033324     1\n",
       "       2 631108951.5883914 11.894351 ...   0.49530733  -0.005111561     1\n",
       "       3 631108960.7684729 11.849915 ...   0.45751747   -0.04530325     1\n",
       "       4 631108971.3520035 11.762887 ...   0.57650316  -0.124143556     1\n",
       "       5 631108981.7248751 11.914638 ...   0.29507118   0.013221836     1\n",
       "       6 631108988.4409661 11.896743 ...   0.33155727 -0.0029430732     1\n",
       "       7 631108998.5723817 11.796694 ...   0.39301404   -0.09339251     1\n",
       "       8 631109017.8825266 11.973768 ...   0.29460594    0.06663462     1\n",
       "       9  631109022.167201 11.957015 ...   0.39324126   0.051543955     1\n",
       "     ...               ...       ... ...          ...           ...   ...\n",
       "15920689  631368069.016515 16.051708 ...     1.828318     3.7983587     2\n",
       "15920690 631368069.0250249 12.031081 ...    -2.557371    0.11549871     2\n",
       "15920691 631368069.0489964 10.088805 ...    1.3415477    -1.6502166     2\n",
       "15920692 631368069.1035657  12.03631 ...  -0.31550953    0.12249886     2\n",
       "15920693 631368069.1244321 10.973423 ... -0.020830676   -0.83478475     2\n",
       "15920694  631368069.126318 10.911995 ...    0.7739462    -0.8960179     2\n",
       "15920695 631368069.1349399 12.176688 ...   0.25045893    0.24984041     2\n",
       "15920696 631368069.1452966 11.636251 ...   -1.7651926   -0.23405918     2\n",
       "15920697 631368069.1600945 12.352232 ...    2.1767747    0.41475204     2\n",
       "15920698 631368069.1770004 11.430538 ...    3.4172862   -0.43466341     2"
      ]
     },
     "execution_count": 6,
     "metadata": {},
     "output_type": "execute_result"
    }
   ],
   "source": [
    "events.table"
   ]
  },
  {
   "cell_type": "code",
   "execution_count": 7,
   "metadata": {},
   "outputs": [],
   "source": [
    "# Configure the logger, so that the spectral analysis\n",
    "# isn't so chatty about what it's doing.\n",
    "\n",
    "logging.basicConfig()\n",
    "log = logging.getLogger(\"gammapy.spectrum\")\n",
    "log.setLevel(logging.ERROR)\n"
   ]
  },
  {
   "cell_type": "code",
   "execution_count": 8,
   "metadata": {},
   "outputs": [
    {
     "name": "stdout",
     "output_type": "stream",
     "text": [
      "/home/rishank/anaconda2/envs/cta/share/caldb/\n",
      "data\n"
     ]
    }
   ],
   "source": [
    "os.environ['CALDB'] = '/home/rishank/anaconda2/envs/cta/share/caldb/'\n",
    "!echo $CALDB\n",
    "!ls $CALDB"
   ]
  },
  {
   "cell_type": "code",
   "execution_count": 9,
   "metadata": {},
   "outputs": [],
   "source": [
    "from pathlib import Path\n",
    "path = Path(\"/home/rishank/Downloads/\")\n",
    "paths = list(path.rglob(\"NGC253*.fits\"))\n",
    "data_store = DataStore.from_events_files(paths)\n",
    "observations = data_store.get_observations()\n",
    "#from gammapy.data import DataStore\n",
    "#path = \"/home/rishank/M82_events.fits\"\n",
    "#data_store = DataStore.from_events_files([path])\n",
    "#observations = data_store.get_observations()"
   ]
  },
  {
   "cell_type": "code",
   "execution_count": 10,
   "metadata": {},
   "outputs": [
    {
     "data": {
      "text/html": [
       "<i>ObservationTable length=1</i>\n",
       "<table id=\"table140499098481488\" class=\"table-striped table-bordered table-condensed\">\n",
       "<thead><tr><th>OBS_ID</th><th>RA_PNT</th><th>DEC_PNT</th><th>GLON_PNT</th><th>GLAT_PNT</th><th>ZEN_PNT</th><th>ALT_PNT</th><th>AZ_PNT</th><th>ONTIME</th><th>LIVETIME</th><th>DEADC</th><th>TSTART</th><th>TSTOP</th><th>DATE-OBS</th><th>TIME-OBS</th><th>DATE-END</th><th>TIME-END</th><th>N_TELS</th><th>OBJECT</th><th>TELESCOP</th><th>CALDB</th><th>IRF</th><th>EVENTS_FILENAME</th><th>EVENT_COUNT</th></tr></thead>\n",
       "<thead><tr><th></th><th>deg</th><th>deg</th><th>deg</th><th>deg</th><th>deg</th><th>deg</th><th>deg</th><th>s</th><th>s</th><th></th><th>s</th><th>s</th><th></th><th></th><th></th><th></th><th></th><th></th><th></th><th></th><th></th><th></th><th></th></tr></thead>\n",
       "<thead><tr><th>int64</th><th>float64</th><th>float64</th><th>float64</th><th>float64</th><th>float64</th><th>float64</th><th>float64</th><th>float64</th><th>float64</th><th>float64</th><th>float64</th><th>float64</th><th>str13</th><th>str13</th><th>str13</th><th>str13</th><th>int64</th><th>str1</th><th>str3</th><th>str9</th><th>str13</th><th>str49</th><th>int64</th></tr></thead>\n",
       "<tr><td>1</td><td>11.9</td><td>-25.7</td><td>91.68395438950571</td><td>-88.33319184881798</td><td>0.0</td><td>90.0</td><td>0.0</td><td>259200.0</td><td>254016.0</td><td>0.98</td><td>631108869.18</td><td>631368069.18</td><td>NOT AVAILABLE</td><td>NOT AVAILABLE</td><td>NOT AVAILABLE</td><td>NOT AVAILABLE</td><td>0</td><td></td><td>CTA</td><td>prod3b-v2</td><td>North_z40_50h</td><td>/home/rishank/Downloads/NGC253_events_01_z40.fits</td><td>15920698</td></tr>\n",
       "</table>"
      ],
      "text/plain": [
       "<ObservationTable length=1>\n",
       "OBS_ID  RA_PNT ...                  EVENTS_FILENAME                  EVENT_COUNT\n",
       "         deg   ...                                                              \n",
       "int64  float64 ...                       str49                          int64   \n",
       "------ ------- ... ------------------------------------------------- -----------\n",
       "     1    11.9 ... /home/rishank/Downloads/NGC253_events_01_z40.fits    15920698"
      ]
     },
     "execution_count": 10,
     "metadata": {},
     "output_type": "execute_result"
    }
   ],
   "source": [
    "data_store.obs_table"
   ]
  },
  {
   "cell_type": "code",
   "execution_count": 11,
   "metadata": {},
   "outputs": [
    {
     "name": "stdout",
     "output_type": "stream",
     "text": [
      "Number of events:  15920698\n",
      "Number of gammas:  50857\n",
      "Number of hadrons:  15869841\n"
     ]
    }
   ],
   "source": [
    "is_gamma = events.table[\"MC_ID\"] == 1\n",
    "print(\"Number of events: \", len(events.table))\n",
    "print(\"Number of gammas: \", is_gamma.sum())\n",
    "print(\"Number of hadrons: \", len(events.table) - is_gamma.sum())"
   ]
  },
  {
   "cell_type": "code",
   "execution_count": 12,
   "metadata": {},
   "outputs": [
    {
     "name": "stdout",
     "output_type": "stream",
     "text": [
      "11.899304\n",
      "-25.687872\n",
      "11.8799305\n",
      "-25.28969\n"
     ]
    },
    {
     "data": {
      "text/plain": [
       "<SkyCoord (Galactic): (l, b) in deg\n",
       "    (97.16612111, -87.9622188)>"
      ]
     },
     "execution_count": 12,
     "metadata": {},
     "output_type": "execute_result"
    }
   ],
   "source": [
    "ra = events.table[\"RA\"].data\n",
    "dec = events.table[\"DEC\"].data\n",
    "print(ra.mean())\n",
    "print(dec.mean())\n",
    "gamma_ra = ra[is_gamma].mean()\n",
    "print(gamma_ra)\n",
    "gamma_dec = dec[is_gamma].mean()\n",
    "print(gamma_dec)\n",
    "d = SkyCoord(ra=gamma_ra*u.degree, dec=gamma_dec*u.degree, frame='icrs')\n",
    "d.galactic"
   ]
  },
  {
   "cell_type": "code",
   "execution_count": 13,
   "metadata": {},
   "outputs": [
    {
     "data": {
      "text/plain": [
       "<SkyCoord (Galactic): (l, b) in deg\n",
       "    [(91.68395439, -88.33319185)]>"
      ]
     },
     "execution_count": 13,
     "metadata": {},
     "output_type": "execute_result"
    }
   ],
   "source": [
    "table = data_store.obs_table\n",
    "c = SkyCoord(ra=table['RA_PNT'], dec=table['DEC_PNT'], frame='icrs')\n",
    "c.galactic"
   ]
  },
  {
   "cell_type": "code",
   "execution_count": null,
   "metadata": {},
   "outputs": [],
   "source": [
    "# Event positions\n",
    "pos = events.galactic[::1000]  # sub-sample every 100th event\n",
    "plt.scatter(pos.l.wrap_at(\"0 deg\").deg, pos.b.deg, s=10)\n",
    "# Pointing position\n",
    "pos_pnt = events.pointing_radec.galactic\n",
    "plt.scatter(\n",
    "    pos_pnt.l.wrap_at(\"0 deg\").deg, pos_pnt.b.deg, marker=\"*\", s=400, c=\"red\"\n",
    ")\n",
    "plt.xlabel(\"Galactic longitude (deg)\")\n",
    "plt.ylabel(\"Galactic latitude (deg)\")\n",
    "pos_pnt"
   ]
  },
  {
   "cell_type": "code",
   "execution_count": null,
   "metadata": {},
   "outputs": [],
   "source": [
    "# Event positions\n",
    "pos = events.galactic[~is_gamma][::1000]  # sub-sample every 100th event\n",
    "plt.scatter(pos.l.wrap_at(\"360 deg\").deg, pos.b.deg, s=10)\n",
    "# Pointing position\n",
    "pos_pnt = events.pointing_radec.galactic\n",
    "plt.scatter(\n",
    "    pos_pnt.l.wrap_at(\"360 deg\").deg, pos_pnt.b.deg, marker=\"*\", s=400, c=\"red\"\n",
    ")\n",
    "plt.xlabel(\"Galactic longitude (deg)\")\n",
    "plt.ylabel(\"Galactic latitude (deg)\")\n",
    "pos_pnt\n",
    "\n",
    "\n",
    "#Event positions\n",
    "pos = events.galactic[is_gamma][::1]  # sub-sample every 100th event\n",
    "plt.scatter(pos.l.wrap_at(\"360 deg\").deg, pos.b.deg, s=10)\n",
    "# Pointing position\n",
    "pos_pnt = events.pointing_radec.galactic\n",
    "plt.scatter(\n",
    "    pos_pnt.l.wrap_at(\"360 deg\").deg, pos_pnt.b.deg, marker=\"*\", s=400, c=\"red\"\n",
    ")\n",
    "plt.xlabel(\"Galactic longitude (deg)\")\n",
    "plt.ylabel(\"Galactic latitude (deg)\")\n",
    "pos_pnt"
   ]
  },
  {
   "cell_type": "code",
   "execution_count": null,
   "metadata": {},
   "outputs": [],
   "source": [
    "energy = events.table[\"ENERGY\"].data\n",
    "energy_bins = np.logspace(-2, 2, num=100)\n",
    "plt.hist(energy, bins=energy_bins)\n",
    "plt.semilogx()\n",
    "plt.xlabel(\"Event energy (TeV)\")\n",
    "plt.ylabel(\"Number of events\");"
   ]
  },
  {
   "cell_type": "code",
   "execution_count": null,
   "metadata": {},
   "outputs": [],
   "source": [
    "energy = events.table[\"ENERGY\"].data\n",
    "energy_bins = np.logspace(-2, 2, num=100)\n",
    "opts = dict(bins=energy_bins, density=True, histtype=\"step\")\n",
    "plt.hist(energy[~is_gamma], label=\"hadron\", **opts)\n",
    "plt.hist(energy[is_gamma], label=\"gamma\", **opts)\n",
    "plt.loglog()\n",
    "plt.xlabel(\"Event energy (TeV)\")\n",
    "plt.ylabel(\"Number of events\")\n",
    "plt.legend();"
   ]
  },
  {
   "cell_type": "code",
   "execution_count": null,
   "metadata": {},
   "outputs": [],
   "source": [
    "\n",
    "energy_bins = 10 ** np.linspace(-2, 2, 100)\n",
    "offset_bins = np.arange(0, 0.6, 0.1)\n",
    "\n",
    "t = events.table\n",
    "offset = np.sqrt(t[\"DETX\"] ** 2 + t[\"DETY\"] ** 2)\n",
    "hist = np.histogram2d(\n",
    "    x=t[\"ENERGY\"], y=offset, bins=(energy_bins, offset_bins)\n",
    ")[0].T\n",
    "\n",
    "plt.pcolormesh(energy_bins, offset_bins, hist, norm=LogNorm())\n",
    "plt.semilogx()\n",
    "plt.colorbar()\n",
    "plt.xlabel(\"Energy (TeV)\")\n",
    "plt.ylabel(\"Offset (deg)\")"
   ]
  },
  {
   "cell_type": "code",
   "execution_count": null,
   "metadata": {},
   "outputs": [],
   "source": [
    "events.peek()"
   ]
  },
  {
   "cell_type": "code",
   "execution_count": null,
   "metadata": {},
   "outputs": [],
   "source": [
    "axis = MapAxis.from_edges(\n",
    "    np.logspace(-1.0, 1.0, 10), unit=\"TeV\", name=\"energy\", interp=\"log\"\n",
    ")\n",
    "geom = WcsGeom.create(\n",
    "    skydir=(d.galactic.l.deg, d.galactic.b.deg), npix=(250, 200), binsz=0.02, coordsys=\"GAL\", axes=[axis]\n",
    ")\n",
    "geom"
   ]
  },
  {
   "cell_type": "code",
   "execution_count": null,
   "metadata": {},
   "outputs": [],
   "source": [
    "target_position = SkyCoord(d.galactic.l.deg, d.galactic.b.deg, unit=\"deg\", frame=\"galactic\")\n",
    "on_radius = 0.1 * u.deg\n",
    "on_region = CircleSkyRegion(center=target_position, radius=on_radius)"
   ]
  },
  {
   "cell_type": "code",
   "execution_count": null,
   "metadata": {},
   "outputs": [],
   "source": [
    "exclusion_mask = geom.to_image().region_mask([on_region], inside=False)\n",
    "exclusion_mask = WcsNDMap(geom.to_image(), exclusion_mask)\n",
    "print(exclusion_mask)\n",
    "exclusion_mask.plot();"
   ]
  },
  {
   "cell_type": "code",
   "execution_count": null,
   "metadata": {},
   "outputs": [],
   "source": [
    "%%time\n",
    "bkg_estimator = ReflectedRegionsBackgroundEstimator(\n",
    "    observations=observations,\n",
    "    on_region=on_region,\n",
    "    exclusion_mask=exclusion_mask,\n",
    ")\n",
    "bkg_estimator.run()\n",
    "bkg_estimate = bkg_estimator.result\n",
    "bkg_estimator.plot();"
   ]
  },
  {
   "cell_type": "code",
   "execution_count": 24,
   "metadata": {},
   "outputs": [
    {
     "name": "stdout",
     "output_type": "stream",
     "text": [
      "dict_keys(['counts', 'exposure', 'background'])\n",
      "CPU times: user 15.1 s, sys: 3.87 s, total: 19 s\n",
      "Wall time: 39.5 s\n"
     ]
    }
   ],
   "source": [
    "%%time\n",
    "maker = MapMaker(geom, offset_max=\"2 deg\")\n",
    "maps = maker.run(observations)\n",
    "print(maps.keys())"
   ]
  },
  {
   "cell_type": "code",
   "execution_count": 25,
   "metadata": {},
   "outputs": [],
   "source": [
    "# The maps are cubes, with an energy axis.\n",
    "# Let's also make some images:\n",
    "images = maker.run_images()\n",
    "\n",
    "excess = images[\"counts\"].copy()\n",
    "excess.data -= images[\"background\"].data\n",
    "images[\"excess\"] = excess"
   ]
  },
  {
   "cell_type": "code",
   "execution_count": 26,
   "metadata": {},
   "outputs": [
    {
     "name": "stdout",
     "output_type": "stream",
     "text": [
      "897.0\n"
     ]
    }
   ],
   "source": [
    "print(np.max(images[\"counts\"].data))"
   ]
  },
  {
   "cell_type": "code",
   "execution_count": 27,
   "metadata": {},
   "outputs": [
    {
     "data": {
      "image/png": "[encoded data removed]",
      "text/plain": [
       "<Figure size 432x288 with 1 Axes>"
      ]
     },
     "metadata": {
      "needs_background": "light"
     },
     "output_type": "display_data"
    }
   ],
   "source": [
    "images[\"counts\"].plot();"
   ]
  },
  {
   "cell_type": "code",
   "execution_count": 28,
   "metadata": {},
   "outputs": [
    {
     "data": {
      "image/png": "[encoded data removed]",
      "text/plain": [
       "<Figure size 432x288 with 1 Axes>"
      ]
     },
     "metadata": {
      "needs_background": "light"
     },
     "output_type": "display_data"
    }
   ],
   "source": [
    "images[\"background\"].plot();"
   ]
  },
  {
   "cell_type": "code",
   "execution_count": 29,
   "metadata": {},
   "outputs": [
    {
     "data": {
      "image/png": "[encoded data removed]",
      "text/plain": [
       "<Figure size 432x288 with 1 Axes>"
      ]
     },
     "metadata": {
      "needs_background": "light"
     },
     "output_type": "display_data"
    }
   ],
   "source": [
    "images[\"excess\"].plot();"
   ]
  },
  {
   "cell_type": "code",
   "execution_count": 30,
   "metadata": {},
   "outputs": [
    {
     "data": {
      "image/png": "[encoded data removed]",
      "text/plain": [
       "<Figure size 432x288 with 1 Axes>"
      ]
     },
     "metadata": {
      "needs_background": "light"
     },
     "output_type": "display_data"
    }
   ],
   "source": [
    "kernel = Gaussian2DKernel(1, mode=\"oversample\").array\n",
    "plt.imshow(kernel);"
   ]
  },
  {
   "cell_type": "code",
   "execution_count": 31,
   "metadata": {},
   "outputs": [
    {
     "name": "stdout",
     "output_type": "stream",
     "text": [
      "dict_keys(['ts', 'sqrt_ts', 'flux', 'flux_err', 'flux_ul', 'niter'])\n",
      "CPU times: user 443 ms, sys: 54.5 ms, total: 497 ms\n",
      "Wall time: 4.74 s\n"
     ]
    }
   ],
   "source": [
    "%%time\n",
    "ts_image_estimator = TSMapEstimator()\n",
    "images_ts = ts_image_estimator.run(images, kernel)\n",
    "print(images_ts.keys())"
   ]
  },
  {
   "cell_type": "code",
   "execution_count": 32,
   "metadata": {},
   "outputs": [
    {
     "data": {
      "text/html": [
       "<i>Table length=1</i>\n",
       "<table id=\"table139742024357032\" class=\"table-striped table-bordered table-condensed\">\n",
       "<thead><tr><th>value</th><th>x</th><th>y</th><th>ra</th><th>dec</th></tr></thead>\n",
       "<thead><tr><th></th><th></th><th></th><th>deg</th><th>deg</th></tr></thead>\n",
       "<thead><tr><th>float32</th><th>int64</th><th>int64</th><th>float64</th><th>float64</th></tr></thead>\n",
       "<tr><td>171.85</td><td>125</td><td>99</td><td>11.87467</td><td>-25.30301</td></tr>\n",
       "</table>"
      ],
      "text/plain": [
       "<Table length=1>\n",
       " value    x     y      ra       dec   \n",
       "                      deg       deg   \n",
       "float32 int64 int64 float64   float64 \n",
       "------- ----- ----- -------- ---------\n",
       " 171.85   125    99 11.87467 -25.30301"
      ]
     },
     "execution_count": 32,
     "metadata": {},
     "output_type": "execute_result"
    }
   ],
   "source": [
    "sources = find_peaks(images_ts[\"sqrt_ts\"], threshold=8)\n",
    "sources"
   ]
  },
  {
   "cell_type": "code",
   "execution_count": 33,
   "metadata": {},
   "outputs": [
    {
     "data": {
      "text/plain": [
       "<SkyCoord (ICRS): (ra, dec) in deg\n",
       "    [(11.87466586, -25.30300708)]>"
      ]
     },
     "execution_count": 33,
     "metadata": {},
     "output_type": "execute_result"
    }
   ],
   "source": [
    "source_pos = SkyCoord(sources[\"ra\"], sources[\"dec\"])\n",
    "source_pos"
   ]
  },
  {
   "cell_type": "code",
   "execution_count": 34,
   "metadata": {},
   "outputs": [
    {
     "data": {
      "image/png": "[encoded data removed]",
      "text/plain": [
       "<Figure size 432x288 with 2 Axes>"
      ]
     },
     "metadata": {
      "needs_background": "light"
     },
     "output_type": "display_data"
    }
   ],
   "source": [
    "# Plot sources on top of significance sky image\n",
    "images_ts[\"sqrt_ts\"].plot(add_cbar=True)\n",
    "\n",
    "plt.gca().scatter(\n",
    "    source_pos.ra.deg,\n",
    "    source_pos.dec.deg,\n",
    "    transform=plt.gca().get_transform(\"icrs\"),\n",
    "    color=\"none\",\n",
    "    edgecolor=\"white\",\n",
    "    marker=\"o\",\n",
    "    s=200,\n",
    "    lw=1.5,\n",
    ");"
   ]
  },
  {
   "cell_type": "code",
   "execution_count": null,
   "metadata": {},
   "outputs": [],
   "source": [
    "%%time\n",
    "extract = SpectrumExtraction(\n",
    "    observations=observations, bkg_estimate=bkg_estimate\n",
    ")\n",
    "extract.run()\n",
    "extract.compute_energy_threshold()"
   ]
  },
  {
   "cell_type": "code",
   "execution_count": null,
   "metadata": {},
   "outputs": [],
   "source": [
    "%%time\n",
    "model = models.PowerLaw(\n",
    "    index=2, amplitude=1e-11 * u.Unit(\"cm-2 s-1 TeV-1\"), reference=1 * u.TeV\n",
    ")\n",
    "\n",
    "for dataset in extract.spectrum_observations:\n",
    "    dataset.model = model\n",
    "\n",
    "fit = Fit(extract.spectrum_observations)\n",
    "result = fit.run()\n",
    "print(result)"
   ]
  },
  {
   "cell_type": "code",
   "execution_count": null,
   "metadata": {},
   "outputs": [],
   "source": [
    "result.parameters.to_table()"
   ]
  },
  {
   "cell_type": "code",
   "execution_count": null,
   "metadata": {},
   "outputs": [],
   "source": [
    "# Flux points are computed on stacked observation\n",
    "from gammapy.spectrum import SpectrumDatasetOnOffStacker\n",
    "\n",
    "stacker = SpectrumDatasetOnOffStacker(extract.spectrum_observations)\n",
    "stacked_obs = stacker.run()\n",
    "\n",
    "print(stacked_obs)"
   ]
  },
  {
   "cell_type": "code",
   "execution_count": null,
   "metadata": {},
   "outputs": [],
   "source": [
    "e_edges = np.logspace(0, 1.5, 5) * u.TeV\n",
    "\n",
    "stacked_obs.model = model\n",
    "\n",
    "fpe = FluxPointsEstimator(datasets=[dataset], e_edges=e_edges)\n",
    "flux_points = fpe.run()\n",
    "flux_points.table_formatted\n"
   ]
  },
  {
   "cell_type": "code",
   "execution_count": null,
   "metadata": {},
   "outputs": [],
   "source": [
    "model.parameters.covariance = result.parameters.covariance\n",
    "flux_points_dataset = FluxPointsDataset(data=flux_points, model=model)"
   ]
  },
  {
   "cell_type": "code",
   "execution_count": null,
   "metadata": {},
   "outputs": [],
   "source": [
    "plt.figure(figsize=(8, 6))\n",
    "flux_points_dataset.peek();"
   ]
  },
  {
   "cell_type": "code",
   "execution_count": null,
   "metadata": {},
   "outputs": [],
   "source": []
  }
 ],
 "metadata": {
  "kernelspec": {
   "display_name": "Python 3",
   "language": "python",
   "name": "python3"
  },
  "language_info": {
   "codemirror_mode": {
    "name": "ipython",
    "version": 3
   },
   "file_extension": ".py",
   "mimetype": "text/x-python",
   "name": "python",
   "nbconvert_exporter": "python",
   "pygments_lexer": "ipython3",
   "version": "3.7.6"
  }
 },
 "nbformat": 4,
 "nbformat_minor": 2
}
