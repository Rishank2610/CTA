{
 "cells": [
  {
   "cell_type": "code",
   "execution_count": null,
   "metadata": {},
   "outputs": [],
   "source": [
    "%matplotlib inline\n",
    "import matplotlib.pyplot as plt"
   ]
  },
  {
   "cell_type": "code",
   "execution_count": null,
   "metadata": {},
   "outputs": [],
   "source": [
    "import os\n",
    "import numpy as np\n",
    "import astropy.units as u\n",
    "from astropy.coordinates import SkyCoord, Angle\n",
    "from regions import CircleSkyRegion\n",
    "from gammapy.spectrum import (\n",
    "    SpectrumDatasetOnOff,\n",
    "    SpectrumDataset,\n",
    "    SpectrumDatasetMaker,\n",
    ")\n",
    "from gammapy.modeling import Fit, Parameter\n",
    "from gammapy.modeling.models import (\n",
    "    PowerLawSpectralModel,\n",
    "    SpectralModel,\n",
    "    SkyModel,\n",
    "    ExpCutoffPowerLawSpectralModel,\n",
    ")\n",
    "from gammapy.irf import load_cta_irfs\n",
    "from gammapy.data import Observation\n",
    "from gammapy.maps import MapAxis"
   ]
  },
  {
   "cell_type": "code",
   "execution_count": null,
   "metadata": {},
   "outputs": [],
   "source": [
    "livetime = 1 * u.h\n",
    "pointing = SkyCoord(0, 0, unit=\"deg\", frame=\"galactic\")\n",
    "offset = 0.5 * u.deg\n",
    "# Reconstructed and true energy axis\n",
    "energy_axis = MapAxis.from_edges(\n",
    "    np.logspace(-0.5, 1.0, 10), unit=\"TeV\", name=\"energy\", interp=\"log\"\n",
    ")\n",
    "energy_axis_true = MapAxis.from_edges(\n",
    "    np.logspace(-1.2, 2.0, 31), unit=\"TeV\", name=\"energy\", interp=\"log\"\n",
    ")\n",
    "\n",
    "on_region_radius = Angle(\"0.11 deg\")\n",
    "on_region = CircleSkyRegion(center=pointing, radius=on_region_radius)"
   ]
  },
  {
   "cell_type": "code",
   "execution_count": null,
   "metadata": {},
   "outputs": [],
   "source": [
    "# Define spectral model - a simple Power Law in this case\n",
    "model_simu = ExpCutoffPowerLawSpectralModel(\n",
    "    index=2.22,\n",
    "    amplitude=1.289e-12 * u.Unit(\"cm-2 s-1 TeV-1\"),\n",
    "    reference=1 * u.TeV,\n",
    ")\n",
    "print(model_simu)\n",
    "# we set the sky model used in the dataset\n",
    "model = SkyModel(spectral_model=model_simu)"
   ]
  },
  {
   "cell_type": "code",
   "execution_count": null,
   "metadata": {},
   "outputs": [],
   "source": [
    "os.environ['CALDB'] = '/home/rishank/anaconda2/envs/cta/share/caldb/'\n",
    "!echo $CALDB\n",
    "!ls $CALDB"
   ]
  },
  {
   "cell_type": "code",
   "execution_count": null,
   "metadata": {},
   "outputs": [],
   "source": [
    "# Load the IRFs\n",
    "# In this simulation, we use the CTA-1DC irfs shipped with gammapy.\n",
    "irfs = load_cta_irfs(\n",
    "    \"$CALDB/data/cta/prod3b-v2/bcf/South_z20_50h/irf_file.fits\"\n",
    ")"
   ]
  },
  {
   "cell_type": "code",
   "execution_count": null,
   "metadata": {},
   "outputs": [],
   "source": [
    "obs = Observation.create(pointing=pointing, livetime=livetime, irfs=irfs)\n",
    "print(obs)"
   ]
  },
  {
   "cell_type": "code",
   "execution_count": null,
   "metadata": {},
   "outputs": [],
   "source": [
    "# Make the SpectrumDataset\n",
    "dataset_empty = SpectrumDataset.create(\n",
    "    e_reco=energy_axis.edges, e_true=energy_axis_true.edges, region=on_region\n",
    ")\n",
    "maker = SpectrumDatasetMaker(selection=[\"aeff\", \"edisp\", \"background\"])\n",
    "dataset = maker.run(dataset_empty, obs)"
   ]
  },
  {
   "cell_type": "code",
   "execution_count": null,
   "metadata": {},
   "outputs": [],
   "source": [
    "# Set the model on the dataset, and fake\n",
    "dataset.model = model\n",
    "dataset.fake(random_state=42)\n",
    "print(dataset)"
   ]
  },
  {
   "cell_type": "code",
   "execution_count": null,
   "metadata": {},
   "outputs": [],
   "source": [
    "dataset_onoff = SpectrumDatasetOnOff(\n",
    "    aeff=dataset.aeff,\n",
    "    edisp=dataset.edisp,\n",
    "    models=model,\n",
    "    livetime=livetime,\n",
    "    acceptance=1,\n",
    "    acceptance_off=5,\n",
    ")\n",
    "dataset_onoff.fake(background_model=dataset.background)\n",
    "print(dataset_onoff)"
   ]
  },
  {
   "cell_type": "code",
   "execution_count": null,
   "metadata": {},
   "outputs": [],
   "source": [
    "\n",
    "%%time\n",
    "\n",
    "n_obs = 100\n",
    "datasets = []\n",
    "\n",
    "for idx in range(n_obs):\n",
    "    dataset_onoff.fake(random_state=idx, background_model=dataset.background)\n",
    "    dataset_onoff.name = f\"obs_{idx}\"\n",
    "    datasets.append(dataset_onoff.copy())"
   ]
  },
  {
   "cell_type": "code",
   "execution_count": null,
   "metadata": {},
   "outputs": [],
   "source": [
    "\n",
    "n_on = [dataset.counts.data.sum() for dataset in datasets]\n",
    "n_off = [dataset.counts_off.data.sum() for dataset in datasets]\n",
    "excess = [dataset.excess.data.sum() for dataset in datasets]\n",
    "\n",
    "fix, axes = plt.subplots(1, 3, figsize=(12, 4))\n",
    "axes[0].hist(n_on)\n",
    "axes[0].set_xlabel(\"n_on\")\n",
    "axes[1].hist(n_off)\n",
    "axes[1].set_xlabel(\"n_off\")\n",
    "axes[2].hist(excess)\n",
    "axes[2].set_xlabel(\"excess\");"
   ]
  },
  {
   "cell_type": "code",
   "execution_count": null,
   "metadata": {},
   "outputs": [],
   "source": [
    "\n",
    "%%time\n",
    "results = []\n",
    "for dataset in datasets:\n",
    "    dataset.models = model.copy()\n",
    "    fit = Fit([dataset])\n",
    "    result = fit.optimize()\n",
    "    results.append(\n",
    "        {\n",
    "            \"index\": result.parameters[\"index\"].value,\n",
    "            \"amplitude\": result.parameters[\"amplitude\"].value,\n",
    "        }\n",
    "    )"
   ]
  },
  {
   "cell_type": "code",
   "execution_count": null,
   "metadata": {},
   "outputs": [],
   "source": [
    "results"
   ]
  },
  {
   "cell_type": "code",
   "execution_count": null,
   "metadata": {},
   "outputs": [],
   "source": [
    "index = np.array([_[\"index\"] for _ in results])\n",
    "plt.hist(index, bins=10, alpha=0.5)\n",
    "plt.axvline(x=model_simu.parameters[\"index\"].value, color=\"red\")\n",
    "plt.xlabel(\"Index\")\n",
    "plt.ylabel(\"Number of bins\")\n",
    "print(f\"index: {index.mean()} += {index.std()}\")"
   ]
  },
  {
   "cell_type": "code",
   "execution_count": null,
   "metadata": {},
   "outputs": [],
   "source": [
    "amplitude = np.array([_[\"amplitude\"] for _ in results])\n",
    "plt.hist(amplitude, bins=10, alpha=0.5)\n",
    "plt.axvline(x=model_simu.parameters[\"amplitude\"].value, color=\"red\")\n",
    "plt.xlabel(\"Flux\")\n",
    "plt.ylabel(\"Number of bins\")\n",
    "print(f\"amplitude: {amplitude.mean()} += {amplitude.std()}\")"
   ]
  },
  {
   "cell_type": "code",
   "execution_count": null,
   "metadata": {},
   "outputs": [],
   "source": []
  }
 ],
 "metadata": {
  "kernelspec": {
   "display_name": "Python 3",
   "language": "python",
   "name": "python3"
  },
  "language_info": {
   "codemirror_mode": {
    "name": "ipython",
    "version": 3
   },
   "file_extension": ".py",
   "mimetype": "text/x-python",
   "name": "python",
   "nbconvert_exporter": "python",
   "pygments_lexer": "ipython3",
   "version": "3.6.7"
  }
 },
 "nbformat": 4,
 "nbformat_minor": 2
}
