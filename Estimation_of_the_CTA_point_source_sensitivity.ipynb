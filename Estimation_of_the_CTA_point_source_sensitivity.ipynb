{
 "cells": [
  {
   "cell_type": "code",
   "execution_count": 1,
   "metadata": {},
   "outputs": [],
   "source": [
    "%matplotlib inline\n",
    "import matplotlib.pyplot as plt"
   ]
  },
  {
   "cell_type": "code",
   "execution_count": 2,
   "metadata": {},
   "outputs": [],
   "source": [
    "import os\n",
    "import numpy as np\n",
    "import astropy.units as u\n",
    "from astropy.coordinates import Angle\n",
    "from gammapy.irf import load_cta_irfs\n",
    "from gammapy.spectrum import SensitivityEstimator, CountsSpectrum"
   ]
  },
  {
   "cell_type": "code",
   "execution_count": 3,
   "metadata": {},
   "outputs": [],
   "source": [
    "offset = Angle(\"0.5 deg\")\n",
    "\n",
    "energy_reco = np.logspace(-1.5, 2.0, 40) * u.TeV\n",
    "energy_true = np.logspace(-1.5, 2.0, 200) * u.TeV"
   ]
  },
  {
   "cell_type": "code",
   "execution_count": 4,
   "metadata": {},
   "outputs": [
    {
     "name": "stdout",
     "output_type": "stream",
     "text": [
      "/home/rishank/anaconda2/envs/cta/share/caldb/\n",
      "data\n"
     ]
    }
   ],
   "source": [
    "os.environ['CALDB'] = '/home/rishank/anaconda2/envs/cta/share/caldb/'\n",
    "!echo $CALDB\n",
    "!ls $CALDB"
   ]
  },
  {
   "cell_type": "code",
   "execution_count": 5,
   "metadata": {},
   "outputs": [],
   "source": [
    "irfs = load_cta_irfs(\n",
    "    \"$CALDB/data/cta/prod3b-v2/bcf/South_z20_50h/irf_file.fits\"\n",
    ")"
   ]
  },
  {
   "cell_type": "code",
   "execution_count": 6,
   "metadata": {},
   "outputs": [],
   "source": [
    "arf = irfs[\"aeff\"].to_effective_area_table(offset, energy=energy_true)\n",
    "rmf = irfs[\"edisp\"].to_energy_dispersion(\n",
    "    offset, e_true=energy_true, e_reco=energy_reco\n",
    ")\n",
    "psf = irfs[\"psf\"].to_energy_dependent_table_psf(theta=offset)"
   ]
  },
  {
   "cell_type": "code",
   "execution_count": 7,
   "metadata": {},
   "outputs": [],
   "source": [
    "containment = 0.68\n",
    "energy = np.sqrt(energy_reco[1:] * energy_reco[:-1])\n",
    "on_radii = psf.containment_radius(energy=energy, fraction=containment)\n",
    "solid_angles = 2 * np.pi * (1 - np.cos(on_radii)) * u.sr"
   ]
  },
  {
   "cell_type": "code",
   "execution_count": 8,
   "metadata": {},
   "outputs": [],
   "source": [
    "arf.data.data *= containment"
   ]
  },
  {
   "cell_type": "code",
   "execution_count": 9,
   "metadata": {},
   "outputs": [],
   "source": [
    "bkg_data = irfs[\"bkg\"].evaluate_integrate(\n",
    "    fov_lon=0 * u.deg, fov_lat=offset, energy_reco=energy_reco\n",
    ")\n",
    "bkg = CountsSpectrum(\n",
    "    energy_reco[:-1],\n",
    "    energy_reco[1:],\n",
    "    data=(bkg_data * solid_angles).to_value(\"s-1\"),\n",
    "    unit=\"s-1\",\n",
    ")"
   ]
  },
  {
   "cell_type": "code",
   "execution_count": 66,
   "metadata": {},
   "outputs": [],
   "source": [
    "sensitivity_estimator = SensitivityEstimator(\n",
    "    arf=arf, rmf=rmf, bkg=bkg, livetime=\"200h\", gamma_min=5, sigma=3, alpha=0.2\n",
    ")\n",
    "sensitivity_table = sensitivity_estimator.run()"
   ]
  },
  {
   "cell_type": "code",
   "execution_count": 67,
   "metadata": {},
   "outputs": [
    {
     "data": {
      "text/html": [
       "<i>Table length=39</i>\n",
       "<table id=\"table140716843693560\" class=\"table-striped table-bordered table-condensed\">\n",
       "<thead><tr><th>energy</th><th>e2dnde</th><th>excess</th><th>background</th><th>criterion</th></tr></thead>\n",
       "<thead><tr><th>TeV</th><th>erg / (cm2 s)</th><th></th><th></th><th></th></tr></thead>\n",
       "<thead><tr><th>float64</th><th>float64</th><th>float64</th><th>float64</th><th>str12</th></tr></thead>\n",
       "<tr><td>0.0350648</td><td>2.89079e-12</td><td>960.06</td><td>84971.2</td><td>significance</td></tr>\n",
       "<tr><td>0.0431137</td><td>1.81543e-12</td><td>800.535</td><td>59027.8</td><td>significance</td></tr>\n",
       "<tr><td>0.0530101</td><td>1.3947e-12</td><td>610.686</td><td>34294.3</td><td>significance</td></tr>\n",
       "<tr><td>0.0651782</td><td>8.77937e-13</td><td>470.446</td><td>20310.1</td><td>significance</td></tr>\n",
       "<tr><td>0.0801394</td><td>4.79598e-13</td><td>399.219</td><td>14602.2</td><td>significance</td></tr>\n",
       "<tr><td>0.0985348</td><td>3.63667e-13</td><td>324.948</td><td>9651.09</td><td>significance</td></tr>\n",
       "<tr><td>0.121153</td><td>3.11315e-13</td><td>261.829</td><td>6246.34</td><td>significance</td></tr>\n",
       "<tr><td>0.148962</td><td>2.25215e-13</td><td>200.727</td><td>3653.14</td><td>significance</td></tr>\n",
       "<tr><td>0.183156</td><td>1.87445e-13</td><td>157.298</td><td>2230.33</td><td>significance</td></tr>\n",
       "<tr><td>...</td><td>...</td><td>...</td><td>...</td><td>...</td></tr>\n",
       "<tr><td>14.0422</td><td>2.95902e-14</td><td>5</td><td>0.568513</td><td>gamma</td></tr>\n",
       "<tr><td>17.2655</td><td>3.20729e-14</td><td>5</td><td>0.338521</td><td>gamma</td></tr>\n",
       "<tr><td>21.2287</td><td>3.4108e-14</td><td>5</td><td>0.166813</td><td>gamma</td></tr>\n",
       "<tr><td>26.1016</td><td>4.92038e-14</td><td>5</td><td>0.0679017</td><td>gamma</td></tr>\n",
       "<tr><td>32.093</td><td>6.615e-14</td><td>5</td><td>0.0225233</td><td>gamma</td></tr>\n",
       "<tr><td>39.4597</td><td>6.60372e-14</td><td>5</td><td>0.00723664</td><td>gamma</td></tr>\n",
       "<tr><td>48.5174</td><td>7.02425e-14</td><td>5</td><td>0.00326744</td><td>gamma</td></tr>\n",
       "<tr><td>59.6542</td><td>1.20923e-13</td><td>5</td><td>0.00186519</td><td>gamma</td></tr>\n",
       "<tr><td>73.3474</td><td>1.27057e-13</td><td>5</td><td>0.0012626</td><td>gamma</td></tr>\n",
       "<tr><td>90.1837</td><td>1.90008e-13</td><td>5</td><td>0.00107272</td><td>gamma</td></tr>\n",
       "</table>"
      ],
      "text/plain": [
       "<Table length=39>\n",
       "  energy      e2dnde     excess background  criterion  \n",
       "   TeV    erg / (cm2 s)                                \n",
       " float64     float64    float64  float64      str12    \n",
       "--------- ------------- ------- ---------- ------------\n",
       "0.0350648   2.89079e-12  960.06    84971.2 significance\n",
       "0.0431137   1.81543e-12 800.535    59027.8 significance\n",
       "0.0530101    1.3947e-12 610.686    34294.3 significance\n",
       "0.0651782   8.77937e-13 470.446    20310.1 significance\n",
       "0.0801394   4.79598e-13 399.219    14602.2 significance\n",
       "0.0985348   3.63667e-13 324.948    9651.09 significance\n",
       " 0.121153   3.11315e-13 261.829    6246.34 significance\n",
       " 0.148962   2.25215e-13 200.727    3653.14 significance\n",
       " 0.183156   1.87445e-13 157.298    2230.33 significance\n",
       "      ...           ...     ...        ...          ...\n",
       "  14.0422   2.95902e-14       5   0.568513        gamma\n",
       "  17.2655   3.20729e-14       5   0.338521        gamma\n",
       "  21.2287    3.4108e-14       5   0.166813        gamma\n",
       "  26.1016   4.92038e-14       5  0.0679017        gamma\n",
       "   32.093     6.615e-14       5  0.0225233        gamma\n",
       "  39.4597   6.60372e-14       5 0.00723664        gamma\n",
       "  48.5174   7.02425e-14       5 0.00326744        gamma\n",
       "  59.6542   1.20923e-13       5 0.00186519        gamma\n",
       "  73.3474   1.27057e-13       5  0.0012626        gamma\n",
       "  90.1837   1.90008e-13       5 0.00107272        gamma"
      ]
     },
     "execution_count": 67,
     "metadata": {},
     "output_type": "execute_result"
    }
   ],
   "source": [
    "sensitivity_table"
   ]
  },
  {
   "cell_type": "code",
   "execution_count": 68,
   "metadata": {},
   "outputs": [
    {
     "data": {
      "image/png": "[encoded data removed]",
      "text/plain": [
       "<Figure size 432x288 with 1 Axes>"
      ]
     },
     "metadata": {
      "needs_background": "light"
     },
     "output_type": "display_data"
    }
   ],
   "source": [
    "t = sensitivity_estimator.results_table\n",
    "\n",
    "is_s = t[\"criterion\"] == \"significance\"\n",
    "plt.plot(\n",
    "    t[\"energy\"][is_s],\n",
    "    t[\"e2dnde\"][is_s],\n",
    "    \"s-\",\n",
    "    color=\"red\",\n",
    "    label=\"significance\",\n",
    ")\n",
    "\n",
    "is_g = t[\"criterion\"] == \"gamma\"\n",
    "plt.plot(\n",
    "    t[\"energy\"][is_g], t[\"e2dnde\"][is_g], \"*-\", color=\"blue\", label=\"gamma\"\n",
    ")\n",
    "\n",
    "plt.loglog()\n",
    "plt.xlabel(f\"Energy ({t['energy'].unit})\")\n",
    "plt.ylabel(f\"Sensitivity ({t['e2dnde'].unit})\")\n",
    "plt.legend();"
   ]
  },
  {
   "cell_type": "code",
   "execution_count": 69,
   "metadata": {},
   "outputs": [
    {
     "data": {
      "text/plain": [
       "(0.01, 0.5)"
      ]
     },
     "execution_count": 69,
     "metadata": {},
     "output_type": "execute_result"
    },
    {
     "data": {
      "image/png": "[encoded data removed]",
      "text/plain": [
       "<Figure size 432x288 with 2 Axes>"
      ]
     },
     "metadata": {
      "needs_background": "light"
     },
     "output_type": "display_data"
    }
   ],
   "source": [
    "fig, ax1 = plt.subplots()\n",
    "# ax1.plot( t[\"energy\"], t[\"excess\"],\"o-\", color=\"red\", label=\"signal\")\n",
    "ax1.plot(\n",
    "    t[\"energy\"], t[\"background\"], \"o-\", color=\"black\", label=\"blackground\"\n",
    ")\n",
    "\n",
    "ax1.loglog()\n",
    "ax1.set_xlabel(f\"Energy ({t['energy'].unit})\")\n",
    "ax1.set_ylabel(\"Expected number of bkg counts\")\n",
    "\n",
    "ax2 = ax1.twinx()\n",
    "ax2.set_ylabel(f\"ON region radius ({on_radii.unit})\", color=\"red\")\n",
    "ax2.semilogy(t[\"energy\"], on_radii, color=\"red\", label=\"PSF68\")\n",
    "ax2.tick_params(axis=\"y\", labelcolor=\"red\")\n",
    "ax2.set_ylim(0.01, 0.5)"
   ]
  },
  {
   "cell_type": "code",
   "execution_count": null,
   "metadata": {},
   "outputs": [],
   "source": []
  }
 ],
 "metadata": {
  "kernelspec": {
   "display_name": "Python 3",
   "language": "python",
   "name": "python3"
  },
  "language_info": {
   "codemirror_mode": {
    "name": "ipython",
    "version": 3
   },
   "file_extension": ".py",
   "mimetype": "text/x-python",
   "name": "python",
   "nbconvert_exporter": "python",
   "pygments_lexer": "ipython3",
   "version": "3.6.7"
  }
 },
 "nbformat": 4,
 "nbformat_minor": 4
}
